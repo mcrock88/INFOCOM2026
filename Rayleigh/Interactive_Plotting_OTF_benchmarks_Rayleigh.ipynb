{
  "nbformat": 4,
  "nbformat_minor": 0,
  "metadata": {
    "colab": {
      "provenance": [],
      "gpuType": "T4",
      "collapsed_sections": [
        "OBZ65HW9CLdc",
        "KFLD2L3RvotX"
      ]
    },
    "kernelspec": {
      "name": "python3",
      "display_name": "Python 3"
    },
    "language_info": {
      "name": "python"
    },
    "accelerator": "GPU"
  },
  "cells": [
    {
      "cell_type": "markdown",
      "source": [
        "# Importing the libraries"
      ],
      "metadata": {
        "id": "OEAfQA05D6ua"
      }
    },
    {
      "cell_type": "code",
      "source": [
        "import numpy as np\n",
        "import random\n",
        "import tensorflow as tf\n",
        "import os\n",
        "import plotly.graph_objs as go"
      ],
      "metadata": {
        "id": "w4Wg7t_T4J21"
      },
      "execution_count": 1,
      "outputs": []
    },
    {
      "cell_type": "markdown",
      "source": [
        "# Set experiment parameters and seeds for random operations."
      ],
      "metadata": {
        "id": "AujxZNQWMBuP"
      }
    },
    {
      "cell_type": "code",
      "source": [
        "# --- 1. Parametri di Simulazione di Base ---\n",
        "BETA = 50  # Fattore di spreading (lunghezza della sequenza caotica per simbolo)\n",
        "M = 4      # Numero di sottoportanti\n",
        "X0_INITIAL = 0.9 # Stato iniziale per le mappe caotiche\n",
        "SNR_TEST_RANGE_DB = np.arange(0, 21, 1)\n",
        "SNR_TRAIN_RANGE_DB = [0, 20] # SNR range for training\n",
        "\n",
        "# Dataset sizes (adjust as needed for computational resources)\n",
        "NUM_SYMBOLS_TRAIN = 60000\n",
        "NUM_SYMBOLS_VALIDATION = 20000\n",
        "NUM_SYMBOLS_TEST_PER_SNR = 500000\n",
        "\n",
        "\n",
        "CHANNEL_TYPE = 'awgn'\n",
        "L_FADING = 1 # Parametro per Rayleigh fading\n",
        "\n",
        "# --- 1. Impostazione del Seed Globale all'inizio dello script ---\n",
        "# Questo è il punto chiave per la riproducibilità di TUTTO ciò che segue.\n",
        "MASTER_RANDOM_SEED = 42\n",
        "np.random.seed(MASTER_RANDOM_SEED)\n",
        "random.seed(MASTER_RANDOM_SEED) # Imposta anche il seed per la libreria 'random' di Python se la usi\n",
        "tf.random.set_seed(MASTER_RANDOM_SEED)\n",
        "os.environ['PYTHONHASHSEED'] = str(MASTER_RANDOM_SEED) # Per operazioni basate su hash (es. ordine dei dizionari)\n",
        "os.environ['TF_DETERMINISTIC_OPS'] = '1' # Forza operazioni deterministiche in TensorFlow 2.x"
      ],
      "metadata": {
        "id": "uXGzTxrOME1z"
      },
      "execution_count": 2,
      "outputs": []
    },
    {
      "cell_type": "markdown",
      "source": [
        "# Print the HW Specs."
      ],
      "metadata": {
        "id": "OBZ65HW9CLdc"
      }
    },
    {
      "cell_type": "code",
      "source": [
        "print(\"--- Dettagli dell'Architettura Hardware della Sessione Colab ---\\n\")\n",
        "\n",
        "# --- 1. Dettagli CPU ---\n",
        "print(\"--- Dettagli CPU ---\")\n",
        "!lscpu\n",
        "print(\"\\n\")\n",
        "\n",
        "# --- 2. Dettagli RAM (Memoria) ---\n",
        "print(\"--- Dettagli RAM (Memoria) ---\")\n",
        "!cat /proc/meminfo | grep MemTotal\n",
        "print(\"\\n\")\n",
        "\n",
        "# --- 3. Dettagli Spazio su Disco ---\n",
        "print(\"--- Dettagli Spazio su Disco ---\")\n",
        "!df -h /\n",
        "print(\"\\n\")\n",
        "\n",
        "# --- 4. Dettagli Acceleratore Hardware (GPU/TPU) ---\n",
        "print(\"--- Dettagli Acceleratore Hardware (GPU/TPU) ---\")\n",
        "try:\n",
        "    tpu_address = os.environ.get('COLAB_TPU_ADDR')\n",
        "    if tpu_address:\n",
        "        resolver = tf.distribute.cluster_resolver.TPUClusterResolver(tpu=tpu_address)\n",
        "        tf.config.experimental_connect_to_cluster(resolver)\n",
        "        tf.tpu.experimental.initialize_tpu_system(resolver)\n",
        "        print(f\"Tipo Acceleratore: TPU (indirizzo: {tpu_address})\")\n",
        "        print(\"Dispositivi TPU disponibili:\")\n",
        "        for device in tf.config.list_logical_devices('TPU'):\n",
        "            print(f\"  - {device.name}\")\n",
        "    else:\n",
        "        gpus = tf.config.list_physical_devices('GPU')\n",
        "        if gpus:\n",
        "            print(f\"Tipo Acceleratore: GPU\")\n",
        "            for gpu in gpus:\n",
        "                print(f\"  - Dispositivo GPU rilevato: {gpu.name}\")\n",
        "            print(\"\\nDettagli GPU specifici (da `!nvidia-smi`):\")\n",
        "            !nvidia-smi\n",
        "        else:\n",
        "            print(\"Tipo Acceleratore: Nessuna GPU o TPU rilevata (in uso CPU)\")\n",
        "\n",
        "except Exception as e:\n",
        "    print(f\"Si è verificato un errore durante la rilevazione dell'acceleratore: {e}\")\n",
        "    print(\"Tentativo di rilevare i dispositivi TensorFlow standard:\")\n",
        "    devices = tf.config.list_logical_devices()\n",
        "    if devices:\n",
        "        for device in devices:\n",
        "            print(f\"  - Dispositivo rilevato: {device.name}, Tipo: {device.device_type}\")\n",
        "    else:\n",
        "        print(\"Nessun dispositivo TensorFlow rilevato.\")\n",
        "\n",
        "print(\"\\n--- Analisi Dettagli Hardware Completata ---\")"
      ],
      "metadata": {
        "id": "BBhq145cCO9I",
        "colab": {
          "base_uri": "https://localhost:8080/"
        },
        "outputId": "f4c02467-31d7-4724-a1c7-69741cad19c2"
      },
      "execution_count": 3,
      "outputs": [
        {
          "output_type": "stream",
          "name": "stdout",
          "text": [
            "--- Dettagli dell'Architettura Hardware della Sessione Colab ---\n",
            "\n",
            "--- Dettagli CPU ---\n",
            "Architecture:             x86_64\n",
            "  CPU op-mode(s):         32-bit, 64-bit\n",
            "  Address sizes:          46 bits physical, 48 bits virtual\n",
            "  Byte Order:             Little Endian\n",
            "CPU(s):                   2\n",
            "  On-line CPU(s) list:    0,1\n",
            "Vendor ID:                GenuineIntel\n",
            "  Model name:             Intel(R) Xeon(R) CPU @ 2.20GHz\n",
            "    CPU family:           6\n",
            "    Model:                79\n",
            "    Thread(s) per core:   2\n",
            "    Core(s) per socket:   1\n",
            "    Socket(s):            1\n",
            "    Stepping:             0\n",
            "    BogoMIPS:             4399.99\n",
            "    Flags:                fpu vme de pse tsc msr pae mce cx8 apic sep mtrr pge m\n",
            "                          ca cmov pat pse36 clflush mmx fxsr sse sse2 ss ht sysc\n",
            "                          all nx pdpe1gb rdtscp lm constant_tsc rep_good nopl xt\n",
            "                          opology nonstop_tsc cpuid tsc_known_freq pni pclmulqdq\n",
            "                           ssse3 fma cx16 pcid sse4_1 sse4_2 x2apic movbe popcnt\n",
            "                           aes xsave avx f16c rdrand hypervisor lahf_lm abm 3dno\n",
            "                          wprefetch invpcid_single ssbd ibrs ibpb stibp fsgsbase\n",
            "                           tsc_adjust bmi1 hle avx2 smep bmi2 erms invpcid rtm r\n",
            "                          dseed adx smap xsaveopt arat md_clear arch_capabilitie\n",
            "                          s\n",
            "Virtualization features:  \n",
            "  Hypervisor vendor:      KVM\n",
            "  Virtualization type:    full\n",
            "Caches (sum of all):      \n",
            "  L1d:                    32 KiB (1 instance)\n",
            "  L1i:                    32 KiB (1 instance)\n",
            "  L2:                     256 KiB (1 instance)\n",
            "  L3:                     55 MiB (1 instance)\n",
            "NUMA:                     \n",
            "  NUMA node(s):           1\n",
            "  NUMA node0 CPU(s):      0,1\n",
            "Vulnerabilities:          \n",
            "  Gather data sampling:   Not affected\n",
            "  Itlb multihit:          Not affected\n",
            "  L1tf:                   Mitigation; PTE Inversion\n",
            "  Mds:                    Vulnerable; SMT Host state unknown\n",
            "  Meltdown:               Vulnerable\n",
            "  Mmio stale data:        Vulnerable\n",
            "  Reg file data sampling: Not affected\n",
            "  Retbleed:               Vulnerable\n",
            "  Spec rstack overflow:   Not affected\n",
            "  Spec store bypass:      Vulnerable\n",
            "  Spectre v1:             Vulnerable: __user pointer sanitization and usercopy b\n",
            "                          arriers only; no swapgs barriers\n",
            "  Spectre v2:             Vulnerable; IBPB: disabled; STIBP: disabled; PBRSB-eIB\n",
            "                          RS: Not affected; BHI: Vulnerable\n",
            "  Srbds:                  Not affected\n",
            "  Tsx async abort:        Vulnerable\n",
            "\n",
            "\n",
            "--- Dettagli RAM (Memoria) ---\n",
            "MemTotal:       13289424 kB\n",
            "\n",
            "\n",
            "--- Dettagli Spazio su Disco ---\n",
            "Filesystem      Size  Used Avail Use% Mounted on\n",
            "overlay         108G   38G   70G  36% /\n",
            "\n",
            "\n",
            "--- Dettagli Acceleratore Hardware (GPU/TPU) ---\n",
            "Tipo Acceleratore: Nessuna GPU o TPU rilevata (in uso CPU)\n",
            "\n",
            "--- Analisi Dettagli Hardware Completata ---\n"
          ]
        }
      ]
    },
    {
      "cell_type": "markdown",
      "source": [
        "# Connect To Gdrive to store the datasets created."
      ],
      "metadata": {
        "id": "X46EKvDxpZ-a"
      }
    },
    {
      "cell_type": "code",
      "source": [
        "from google.colab import drive\n",
        "drive.mount('/content/drive')"
      ],
      "metadata": {
        "colab": {
          "base_uri": "https://localhost:8080/"
        },
        "id": "O7J7tQfWpjXc",
        "outputId": "2b8aefee-239f-4a0b-8a98-60a35066d975"
      },
      "execution_count": 5,
      "outputs": [
        {
          "output_type": "stream",
          "name": "stdout",
          "text": [
            "Mounted at /content/drive\n"
          ]
        }
      ]
    },
    {
      "cell_type": "markdown",
      "source": [
        "# Plot the results."
      ],
      "metadata": {
        "id": "BGvFbz7jrN0C"
      }
    },
    {
      "cell_type": "code",
      "source": [
        "def moving_average(x, w=5):\n",
        "    \"\"\"Calcola la media mobile semplice con finestra w\"\"\"\n",
        "    return np.convolve(x, np.ones(w)/w, mode='valid')"
      ],
      "metadata": {
        "id": "WvTTQyG5A-2Z"
      },
      "execution_count": 12,
      "outputs": []
    },
    {
      "cell_type": "code",
      "source": [
        "results_dir = \"/content/drive/MyDrive/Academic/2025/Conferences/INFOCOM2026/GitHub/Rayleigh/results_otf_test\"\n",
        "ber_files = [f for f in os.listdir(results_dir) if f.endswith(\"_ber.npy\")]\n",
        "\n",
        "# Da qui in poi seleziona solo i migliori.\n",
        "# Dunque la mia CNN_9 e 128\n",
        "filtered_files = [\n",
        "    f for f in ber_files\n",
        "    if not f.startswith(\"CNN_\") or \"CNN_9-ksize_128-filters\" in f\n",
        "]\n",
        "\n",
        "# Esempio: SNR reali usati (modifica se necessario)\n",
        "snr_points = np.array([0, 1, 2, 3, 4, 5, 6, 7, 8, 9, 10, 11, 12, 13, 14, 15, 16, 17, 18, 19, 20])\n",
        "\n",
        "ber_data = {}\n",
        "for f in ber_files:\n",
        "    model_name = f.replace(\"_ber.npy\", \"\")\n",
        "    path = os.path.join(results_dir, f)\n",
        "    ber = np.load(path)\n",
        "    valid_ber = ber[~np.isnan(ber)]\n",
        "    if len(valid_ber) > 0:\n",
        "        ber_data[model_name] = {\n",
        "            \"ber\": ber,\n",
        "            \"mean\": np.mean(valid_ber)\n",
        "        }\n",
        "\n",
        "# Trova miglior modello globale\n",
        "best_model = min(ber_data.items(), key=lambda x: x[1][\"mean\"])\n",
        "best_model_name = best_model[0]\n",
        "\n",
        "# Crea grafico interattivo\n",
        "fig = go.Figure()\n",
        "\n",
        "for model_name, info in ber_data.items():\n",
        "    visibility = True if model_name == best_model_name else 'legendonly'\n",
        "    x_vals = snr_points\n",
        "    y_vals = info['ber'] #moving_average(info['ber'])\n",
        "    fig.add_trace(go.Scatter(\n",
        "        x=x_vals,\n",
        "        y=y_vals,\n",
        "        mode='lines+markers',\n",
        "        name=model_name,\n",
        "        visible=visibility,\n",
        "        line=dict(width=3 if model_name == best_model_name else 1.5)\n",
        "    ))\n",
        "\n",
        "fig.update_layout(\n",
        "    title=\"📉 Curve BER Interattive per Modelli CNN\",\n",
        "    xaxis_title=\"SNR (dB)\",\n",
        "    yaxis_title=\"Bit Error Rate (BER)\",\n",
        "    yaxis_type=\"log\",\n",
        "    yaxis=dict(\n",
        "        range=[-1, 1],  # scala log da 1e-5 a 1e0\n",
        "        tickvals=[1e0, 1e-1, 1e-2, 1e-3, 1e-4, 1e-5, 1e-6, 1e-7, 1e-8],\n",
        "        ticktext=[\"$10^0$\", \"$10^{-1}$\", \"$10^{-2}$\", \"$10^{-3}$\", \"$10^{-4}$\", \"$10^{-5}$\",\"$10^{-6}$\",\"$10^{-7}$\",\"$10^{-8}$\"],\n",
        "        showgrid=True,\n",
        "        gridcolor='lightgray',\n",
        "        gridwidth=1,\n",
        "        dtick=\"D1\",                 # ticks a ogni potenza e anche intermedi (2,3…9)\n",
        "        tickformat=\"power\",         # visualizza come 10⁻¹, 10⁻², ecc.\n",
        "        minor=dict(                 # attiva griglia per i minori\n",
        "            showgrid=True,\n",
        "            gridcolor='lightgray',\n",
        "            gridwidth=1\n",
        "        ),\n",
        "    ),\n",
        "    xaxis=dict(\n",
        "        showgrid=True,\n",
        "        gridcolor='lightgray',\n",
        "        gridwidth=1,\n",
        "        tickvals=snr_points\n",
        "    ),\n",
        "    hovermode=\"x unified\",\n",
        "    legend_title=\"Modelli\",\n",
        "    template=\"plotly_white\"\n",
        ")\n",
        "\n"
      ],
      "metadata": {
        "colab": {
          "base_uri": "https://localhost:8080/",
          "height": 542
        },
        "id": "E8ehdJf2sIq1",
        "outputId": "1480e321-539c-4ee9-8c8d-a7b91224e148"
      },
      "execution_count": 14,
      "outputs": [
        {
          "output_type": "display_data",
          "data": {
            "text/html": [
              "<html>\n",
              "<head><meta charset=\"utf-8\" /></head>\n",
              "<body>\n",
              "    <div>            <script src=\"https://cdnjs.cloudflare.com/ajax/libs/mathjax/2.7.5/MathJax.js?config=TeX-AMS-MML_SVG\"></script><script type=\"text/javascript\">if (window.MathJax && window.MathJax.Hub && window.MathJax.Hub.Config) {window.MathJax.Hub.Config({SVG: {font: \"STIX-Web\"}});}</script>                <script type=\"text/javascript\">window.PlotlyConfig = {MathJaxConfig: 'local'};</script>\n",
              "        <script charset=\"utf-8\" src=\"https://cdn.plot.ly/plotly-2.35.2.min.js\"></script>                <div id=\"6ea3ad7a-6365-43ef-a534-bf9d0adee366\" class=\"plotly-graph-div\" style=\"height:525px; width:100%;\"></div>            <script type=\"text/javascript\">                                    window.PLOTLYENV=window.PLOTLYENV || {};                                    if (document.getElementById(\"6ea3ad7a-6365-43ef-a534-bf9d0adee366\")) {                    Plotly.newPlot(                        \"6ea3ad7a-6365-43ef-a534-bf9d0adee366\",                        [{\"line\":{\"width\":1.5},\"mode\":\"lines+markers\",\"name\":\"MC-DLCSK_rayleigh_snr_11-15\",\"visible\":\"legendonly\",\"x\":[0,1,2,3,4,5,6,7,8,9,10,11,12,13,14,15,16,17,18,19,20],\"y\":[0.3748,0.3403975,0.300255,0.2531075,0.20066,0.1512425,0.110725,0.0782975,0.0558125,0.03838,0.02742,0.0192175,0.01433,0.0119475,0.0109225,0.010495,0.0107925,0.01051,0.0105075,0.01045,0.010345],\"type\":\"scatter\"},{\"line\":{\"width\":3},\"mode\":\"lines+markers\",\"name\":\"LSTM_DNN_OFDM_DCSK_rayleigh_snr_0-20\",\"visible\":true,\"x\":[0,1,2,3,4,5,6,7,8,9,10,11,12,13,14,15,16,17,18,19,20],\"y\":[0.2291775,0.1991425,0.1695325,0.14225,0.11794,0.09682,0.07898,0.06183,0.0492825,0.0394175,0.03101,0.024435,0.01975,0.0158725,0.013145,0.01104,0.00969,0.0085875,0.00773,0.006995,0.0067425],\"type\":\"scatter\"},{\"line\":{\"width\":1.5},\"mode\":\"lines+markers\",\"name\":\"CNN_9-ksize_512-filters_rayleigh_snr_11-15\",\"visible\":\"legendonly\",\"x\":[0,1,2,3,4,5,6,7,8,9,10,11,12,13,14,15,16,17,18,19,20],\"y\":[0.260585,0.221305,0.18514,0.150675,0.1223825,0.0992075,0.0804825,0.06394,0.0504,0.0400275,0.0312,0.0241575,0.018925,0.015835,0.014155,0.01366,0.01363,0.01393,0.01477,0.0155675,0.0162775],\"type\":\"scatter\"},{\"line\":{\"width\":1.5},\"mode\":\"lines+markers\",\"name\":\"LSTM_DNN_OFDM_DCSK_rayleigh_snr_11-15\",\"visible\":\"legendonly\",\"x\":[0,1,2,3,4,5,6,7,8,9,10,11,12,13,14,15,16,17,18,19,20],\"y\":[0.23379,0.2013225,0.1716975,0.1430125,0.1186675,0.09577,0.0777675,0.061955,0.04878,0.0384475,0.03069,0.02407,0.01922,0.01601,0.0131925,0.0119,0.010415,0.009425,0.009065,0.00847,0.00843],\"type\":\"scatter\"},{\"line\":{\"width\":1.5},\"mode\":\"lines+markers\",\"name\":\"CNN_9-ksize_512-filters_rayleigh_snr_0-20\",\"visible\":\"legendonly\",\"x\":[0,1,2,3,4,5,6,7,8,9,10,11,12,13,14,15,16,17,18,19,20],\"y\":[0.3000925,0.25835,0.2148175,0.17295,0.13959,0.11138,0.087365,0.068555,0.0553375,0.0424075,0.0331975,0.024995,0.0189,0.014475,0.01237,0.0116525,0.01143,0.0121875,0.0131375,0.0144625,0.01533],\"type\":\"scatter\"},{\"line\":{\"width\":1.5},\"mode\":\"lines+markers\",\"name\":\"MC-DLCSK_rayleigh_snr_0-20\",\"visible\":\"legendonly\",\"x\":[0,1,2,3,4,5,6,7,8,9,10,11,12,13,14,15,16,17,18,19,20],\"y\":[0.4995775,0.4990825,0.5002175,0.50009,0.50022,0.49845,0.5003475,0.5002775,0.4985075,0.5004175,0.5004,0.500655,0.4998375,0.4984775,0.50014,0.50112,0.4995775,0.4999375,0.4993775,0.500475,0.4996725],\"type\":\"scatter\"},{\"line\":{\"width\":1.5},\"mode\":\"lines+markers\",\"name\":\"CNN_9-ksize_128-filters_rayleigh_snr_11-15\",\"visible\":\"legendonly\",\"x\":[0,1,2,3,4,5,6,7,8,9,10,11,12,13,14,15,16,17,18,19,20],\"y\":[0.3156475,0.26525,0.2199275,0.1759625,0.1369725,0.10697,0.0843975,0.0664175,0.05322,0.0413425,0.0331125,0.024885,0.018705,0.0148025,0.01242,0.01142,0.01186,0.0125175,0.0136225,0.0146625,0.0154025],\"type\":\"scatter\"},{\"line\":{\"width\":1.5},\"mode\":\"lines+markers\",\"name\":\"CNN_5-ksize_512-filters_rayleigh_snr_0-20\",\"visible\":\"legendonly\",\"x\":[0,1,2,3,4,5,6,7,8,9,10,11,12,13,14,15,16,17,18,19,20],\"y\":[0.35442,0.3130025,0.26784,0.220495,0.1797875,0.143605,0.11253,0.087085,0.069155,0.0527975,0.040075,0.0294125,0.0212175,0.016385,0.0142975,0.0142475,0.0145825,0.015725,0.01718,0.018645,0.0202325],\"type\":\"scatter\"},{\"line\":{\"width\":1.5},\"mode\":\"lines+markers\",\"name\":\"CNN_3-ksize_256-filters_rayleigh_snr_0-20\",\"visible\":\"legendonly\",\"x\":[0,1,2,3,4,5,6,7,8,9,10,11,12,13,14,15,16,17,18,19,20],\"y\":[0.3686925,0.3323375,0.29465,0.2553475,0.218385,0.18328,0.14997,0.1208475,0.09735,0.0757225,0.0565075,0.04031,0.0278425,0.02144,0.0216175,0.02491,0.02748,0.030185,0.0328725,0.035025,0.037015],\"type\":\"scatter\"},{\"line\":{\"width\":1.5},\"mode\":\"lines+markers\",\"name\":\"TDNN_OFDM-DCSK_rayleigh_snr_11-15\",\"visible\":\"legendonly\",\"x\":[0,1,2,3,4,5,6,7,8,9,10,11,12,13,14,15,16,17,18,19,20],\"y\":[0.30771,0.2768725,0.2468325,0.21362,0.18383,0.15523,0.12717,0.1026625,0.08195,0.0615975,0.0451125,0.031755,0.022325,0.0170675,0.014835,0.0146425,0.0145675,0.01479,0.01521,0.015765,0.0160225],\"type\":\"scatter\"},{\"line\":{\"width\":1.5},\"mode\":\"lines+markers\",\"name\":\"CNN_3-ksize_512-filters_rayleigh_snr_0-20\",\"visible\":\"legendonly\",\"x\":[0,1,2,3,4,5,6,7,8,9,10,11,12,13,14,15,16,17,18,19,20],\"y\":[0.3557725,0.3212425,0.2836675,0.2463,0.20858,0.1746925,0.1419875,0.1161575,0.091705,0.0719525,0.0528675,0.03861,0.027995,0.0222875,0.0207575,0.021755,0.0237125,0.02524,0.027005,0.0292925,0.031725],\"type\":\"scatter\"},{\"line\":{\"width\":1.5},\"mode\":\"lines+markers\",\"name\":\"CNN_9-ksize_128-filters_rayleigh_snr_0-20\",\"visible\":\"legendonly\",\"x\":[0,1,2,3,4,5,6,7,8,9,10,11,12,13,14,15,16,17,18,19,20],\"y\":[0.312315,0.2660525,0.2238475,0.181865,0.1438125,0.1128025,0.0885425,0.06903,0.0551025,0.042265,0.0339,0.025005,0.01871,0.0152325,0.0129475,0.0122375,0.012885,0.0133225,0.0141925,0.0150275,0.015485],\"type\":\"scatter\"},{\"line\":{\"width\":1.5},\"mode\":\"lines+markers\",\"name\":\"CNN_7-ksize_128-filters_rayleigh_snr_11-15\",\"visible\":\"legendonly\",\"x\":[0,1,2,3,4,5,6,7,8,9,10,11,12,13,14,15,16,17,18,19,20],\"y\":[0.3294525,0.2836475,0.2354925,0.18906,0.1509275,0.1189425,0.0914125,0.0705975,0.0561775,0.0426525,0.032505,0.024785,0.0193825,0.01556,0.01442,0.0154,0.0160025,0.0175475,0.0191725,0.0208725,0.0225],\"type\":\"scatter\"},{\"line\":{\"width\":1.5},\"mode\":\"lines+markers\",\"name\":\"CNN_5-ksize_128-filters_rayleigh_snr_0-20\",\"visible\":\"legendonly\",\"x\":[0,1,2,3,4,5,6,7,8,9,10,11,12,13,14,15,16,17,18,19,20],\"y\":[0.3652575,0.321965,0.275085,0.2275625,0.182845,0.14399,0.11277,0.087,0.068095,0.051945,0.0399475,0.028565,0.020655,0.01649,0.0149975,0.01501,0.0164825,0.01738,0.0188875,0.0203825,0.021275],\"type\":\"scatter\"},{\"line\":{\"width\":1.5},\"mode\":\"lines+markers\",\"name\":\"CNN_7-ksize_512-filters_rayleigh_snr_11-15\",\"visible\":\"legendonly\",\"x\":[0,1,2,3,4,5,6,7,8,9,10,11,12,13,14,15,16,17,18,19,20],\"y\":[0.3246975,0.2799175,0.23551,0.1915075,0.1534175,0.121825,0.09805,0.07683,0.060865,0.0479075,0.037245,0.027875,0.0210425,0.0169875,0.0142625,0.01384,0.014135,0.0148925,0.0161775,0.0173325,0.0185575],\"type\":\"scatter\"},{\"line\":{\"width\":1.5},\"mode\":\"lines+markers\",\"name\":\"CNN_3-ksize_512-filters_rayleigh_snr_11-15\",\"visible\":\"legendonly\",\"x\":[0,1,2,3,4,5,6,7,8,9,10,11,12,13,14,15,16,17,18,19,20],\"y\":[0.3700025,0.33894,0.3016025,0.26071,0.22203,0.1841975,0.1490925,0.1177575,0.09187,0.0707025,0.054335,0.0404575,0.0298225,0.0223225,0.01796,0.01683,0.0176325,0.019815,0.022995,0.0253825,0.028025],\"type\":\"scatter\"},{\"line\":{\"width\":1.5},\"mode\":\"lines+markers\",\"name\":\"CNN_7-ksize_512-filters_rayleigh_snr_0-20\",\"visible\":\"legendonly\",\"x\":[0,1,2,3,4,5,6,7,8,9,10,11,12,13,14,15,16,17,18,19,20],\"y\":[0.3236175,0.2771025,0.2342725,0.1919175,0.1530975,0.121235,0.0957475,0.0746575,0.05931,0.0453625,0.0357925,0.0261875,0.0196775,0.0166475,0.015745,0.0163125,0.01842,0.0198775,0.0219225,0.0236275,0.024795],\"type\":\"scatter\"},{\"line\":{\"width\":1.5},\"mode\":\"lines+markers\",\"name\":\"CNN_5-ksize_256-filters_rayleigh_snr_11-15\",\"visible\":\"legendonly\",\"x\":[0,1,2,3,4,5,6,7,8,9,10,11,12,13,14,15,16,17,18,19,20],\"y\":[0.3700275,0.32714,0.2807275,0.2334075,0.185795,0.145515,0.1134725,0.0877825,0.068885,0.05315,0.042305,0.031375,0.02266,0.017495,0.0145075,0.0132775,0.0142625,0.0153875,0.017145,0.0188275,0.0200875],\"type\":\"scatter\"},{\"line\":{\"width\":1.5},\"mode\":\"lines+markers\",\"name\":\"CNN_7-ksize_256-filters_rayleigh_snr_11-15\",\"visible\":\"legendonly\",\"x\":[0,1,2,3,4,5,6,7,8,9,10,11,12,13,14,15,16,17,18,19,20],\"y\":[0.2984075,0.2553875,0.2117925,0.1716175,0.1395125,0.1122275,0.09011,0.0713025,0.0586075,0.0456575,0.0352325,0.02734,0.020685,0.0161175,0.01377,0.0137275,0.013915,0.0151975,0.0168375,0.0186125,0.0199525],\"type\":\"scatter\"},{\"line\":{\"width\":1.5},\"mode\":\"lines+markers\",\"name\":\"CNN_7-ksize_128-filters_rayleigh_snr_0-20\",\"visible\":\"legendonly\",\"x\":[0,1,2,3,4,5,6,7,8,9,10,11,12,13,14,15,16,17,18,19,20],\"y\":[0.3334525,0.2856325,0.2388825,0.1954825,0.1541,0.12168,0.0951925,0.076295,0.0607375,0.0495725,0.0383475,0.0294,0.021615,0.01603,0.0125,0.011435,0.012245,0.01325,0.014605,0.015775,0.0175975],\"type\":\"scatter\"},{\"line\":{\"width\":1.5},\"mode\":\"lines+markers\",\"name\":\"CNN_3-ksize_256-filters_rayleigh_snr_11-15\",\"visible\":\"legendonly\",\"x\":[0,1,2,3,4,5,6,7,8,9,10,11,12,13,14,15,16,17,18,19,20],\"y\":[0.370855,0.3384725,0.3045525,0.264735,0.2262525,0.1880625,0.1523275,0.1206,0.095405,0.0736975,0.05551,0.040815,0.0287375,0.0215025,0.0183675,0.0185775,0.0195075,0.0215975,0.0241475,0.026805,0.0294375],\"type\":\"scatter\"},{\"line\":{\"width\":1.5},\"mode\":\"lines+markers\",\"name\":\"CNN_3-ksize_128-filters_rayleigh_snr_0-20\",\"visible\":\"legendonly\",\"x\":[0,1,2,3,4,5,6,7,8,9,10,11,12,13,14,15,16,17,18,19,20],\"y\":[0.35645,0.325835,0.2905225,0.2527675,0.2171075,0.1832225,0.150845,0.121245,0.0952775,0.0732175,0.0552625,0.03912,0.0276425,0.021515,0.020375,0.022355,0.0252125,0.0275975,0.0306275,0.0327225,0.034955],\"type\":\"scatter\"},{\"line\":{\"width\":1.5},\"mode\":\"lines+markers\",\"name\":\"CNN_9-ksize_256-filters_rayleigh_snr_11-15\",\"visible\":\"legendonly\",\"x\":[0,1,2,3,4,5,6,7,8,9,10,11,12,13,14,15,16,17,18,19,20],\"y\":[0.3135175,0.26532,0.2221875,0.17961,0.141895,0.1110775,0.0878675,0.0687,0.055065,0.04219,0.034105,0.02525,0.0187125,0.0155375,0.01363,0.0131825,0.01436,0.0152075,0.0166075,0.01786,0.0186375],\"type\":\"scatter\"},{\"line\":{\"width\":1.5},\"mode\":\"lines+markers\",\"name\":\"CNN_7-ksize_256-filters_rayleigh_snr_0-20\",\"visible\":\"legendonly\",\"x\":[0,1,2,3,4,5,6,7,8,9,10,11,12,13,14,15,16,17,18,19,20],\"y\":[0.34385,0.2975025,0.2505125,0.203995,0.1619175,0.1261125,0.098365,0.075985,0.0602225,0.04644,0.036905,0.0272075,0.019745,0.015725,0.01339,0.012795,0.013885,0.01479,0.01632,0.017675,0.0185625],\"type\":\"scatter\"},{\"line\":{\"width\":1.5},\"mode\":\"lines+markers\",\"name\":\"CNN_3-ksize_128-filters_rayleigh_snr_11-15\",\"visible\":\"legendonly\",\"x\":[0,1,2,3,4,5,6,7,8,9,10,11,12,13,14,15,16,17,18,19,20],\"y\":[0.3587375,0.3288775,0.2946775,0.25808,0.2210325,0.184675,0.1493675,0.1195075,0.09222,0.07007,0.050235,0.035775,0.0262825,0.0217275,0.02107,0.0222325,0.0238375,0.0254675,0.0270775,0.0293475,0.031975],\"type\":\"scatter\"},{\"line\":{\"width\":1.5},\"mode\":\"lines+markers\",\"name\":\"TDNN_OFDM-DCSK_rayleigh_snr_0-20\",\"visible\":\"legendonly\",\"x\":[0,1,2,3,4,5,6,7,8,9,10,11,12,13,14,15,16,17,18,19,20],\"y\":[0.2900275,0.2597875,0.228605,0.19558,0.1662075,0.1397475,0.11694,0.0954575,0.0772175,0.06207,0.05006,0.038575,0.0293275,0.022125,0.0165175,0.01254,0.0102425,0.0088725,0.008945,0.008835,0.009015],\"type\":\"scatter\"},{\"line\":{\"width\":1.5},\"mode\":\"lines+markers\",\"name\":\"CNN_5-ksize_512-filters_rayleigh_snr_11-15\",\"visible\":\"legendonly\",\"x\":[0,1,2,3,4,5,6,7,8,9,10,11,12,13,14,15,16,17,18,19,20],\"y\":[0.3359925,0.2923375,0.246645,0.2008025,0.1621125,0.1291925,0.1027775,0.0794575,0.0616125,0.04842,0.0378875,0.0276375,0.0209975,0.0168975,0.015315,0.015465,0.0165175,0.0178,0.0196975,0.0210925,0.0225825],\"type\":\"scatter\"},{\"line\":{\"width\":1.5},\"mode\":\"lines+markers\",\"name\":\"CNN_5-ksize_128-filters_rayleigh_snr_11-15\",\"visible\":\"legendonly\",\"x\":[0,1,2,3,4,5,6,7,8,9,10,11,12,13,14,15,16,17,18,19,20],\"y\":[0.363625,0.324485,0.2799425,0.2350725,0.19047,0.151135,0.1184875,0.0900125,0.0691575,0.051675,0.0388925,0.0284325,0.02125,0.01686,0.0153575,0.0157925,0.016815,0.01841,0.0199925,0.0214975,0.02311],\"type\":\"scatter\"},{\"line\":{\"width\":1.5},\"mode\":\"lines+markers\",\"name\":\"CNN_5-ksize_256-filters_rayleigh_snr_0-20\",\"visible\":\"legendonly\",\"x\":[0,1,2,3,4,5,6,7,8,9,10,11,12,13,14,15,16,17,18,19,20],\"y\":[0.3530575,0.3085275,0.26296,0.2152825,0.17488,0.1396225,0.111415,0.0866825,0.068355,0.0540825,0.0427625,0.031485,0.022645,0.016605,0.012985,0.0130225,0.01414,0.0158125,0.0178225,0.01953,0.021065],\"type\":\"scatter\"},{\"line\":{\"width\":1.5},\"mode\":\"lines+markers\",\"name\":\"CNN_9-ksize_256-filters_rayleigh_snr_0-20\",\"visible\":\"legendonly\",\"x\":[0,1,2,3,4,5,6,7,8,9,10,11,12,13,14,15,16,17,18,19,20],\"y\":[0.2988575,0.25796,0.2149575,0.1736625,0.1399025,0.1110825,0.0866925,0.0672275,0.0543525,0.0409825,0.032225,0.0247,0.0190525,0.0146825,0.0126775,0.0117875,0.01139,0.0120825,0.0129925,0.01412,0.0150375],\"type\":\"scatter\"}],                        {\"template\":{\"data\":{\"barpolar\":[{\"marker\":{\"line\":{\"color\":\"white\",\"width\":0.5},\"pattern\":{\"fillmode\":\"overlay\",\"size\":10,\"solidity\":0.2}},\"type\":\"barpolar\"}],\"bar\":[{\"error_x\":{\"color\":\"#2a3f5f\"},\"error_y\":{\"color\":\"#2a3f5f\"},\"marker\":{\"line\":{\"color\":\"white\",\"width\":0.5},\"pattern\":{\"fillmode\":\"overlay\",\"size\":10,\"solidity\":0.2}},\"type\":\"bar\"}],\"carpet\":[{\"aaxis\":{\"endlinecolor\":\"#2a3f5f\",\"gridcolor\":\"#C8D4E3\",\"linecolor\":\"#C8D4E3\",\"minorgridcolor\":\"#C8D4E3\",\"startlinecolor\":\"#2a3f5f\"},\"baxis\":{\"endlinecolor\":\"#2a3f5f\",\"gridcolor\":\"#C8D4E3\",\"linecolor\":\"#C8D4E3\",\"minorgridcolor\":\"#C8D4E3\",\"startlinecolor\":\"#2a3f5f\"},\"type\":\"carpet\"}],\"choropleth\":[{\"colorbar\":{\"outlinewidth\":0,\"ticks\":\"\"},\"type\":\"choropleth\"}],\"contourcarpet\":[{\"colorbar\":{\"outlinewidth\":0,\"ticks\":\"\"},\"type\":\"contourcarpet\"}],\"contour\":[{\"colorbar\":{\"outlinewidth\":0,\"ticks\":\"\"},\"colorscale\":[[0.0,\"#0d0887\"],[0.1111111111111111,\"#46039f\"],[0.2222222222222222,\"#7201a8\"],[0.3333333333333333,\"#9c179e\"],[0.4444444444444444,\"#bd3786\"],[0.5555555555555556,\"#d8576b\"],[0.6666666666666666,\"#ed7953\"],[0.7777777777777778,\"#fb9f3a\"],[0.8888888888888888,\"#fdca26\"],[1.0,\"#f0f921\"]],\"type\":\"contour\"}],\"heatmapgl\":[{\"colorbar\":{\"outlinewidth\":0,\"ticks\":\"\"},\"colorscale\":[[0.0,\"#0d0887\"],[0.1111111111111111,\"#46039f\"],[0.2222222222222222,\"#7201a8\"],[0.3333333333333333,\"#9c179e\"],[0.4444444444444444,\"#bd3786\"],[0.5555555555555556,\"#d8576b\"],[0.6666666666666666,\"#ed7953\"],[0.7777777777777778,\"#fb9f3a\"],[0.8888888888888888,\"#fdca26\"],[1.0,\"#f0f921\"]],\"type\":\"heatmapgl\"}],\"heatmap\":[{\"colorbar\":{\"outlinewidth\":0,\"ticks\":\"\"},\"colorscale\":[[0.0,\"#0d0887\"],[0.1111111111111111,\"#46039f\"],[0.2222222222222222,\"#7201a8\"],[0.3333333333333333,\"#9c179e\"],[0.4444444444444444,\"#bd3786\"],[0.5555555555555556,\"#d8576b\"],[0.6666666666666666,\"#ed7953\"],[0.7777777777777778,\"#fb9f3a\"],[0.8888888888888888,\"#fdca26\"],[1.0,\"#f0f921\"]],\"type\":\"heatmap\"}],\"histogram2dcontour\":[{\"colorbar\":{\"outlinewidth\":0,\"ticks\":\"\"},\"colorscale\":[[0.0,\"#0d0887\"],[0.1111111111111111,\"#46039f\"],[0.2222222222222222,\"#7201a8\"],[0.3333333333333333,\"#9c179e\"],[0.4444444444444444,\"#bd3786\"],[0.5555555555555556,\"#d8576b\"],[0.6666666666666666,\"#ed7953\"],[0.7777777777777778,\"#fb9f3a\"],[0.8888888888888888,\"#fdca26\"],[1.0,\"#f0f921\"]],\"type\":\"histogram2dcontour\"}],\"histogram2d\":[{\"colorbar\":{\"outlinewidth\":0,\"ticks\":\"\"},\"colorscale\":[[0.0,\"#0d0887\"],[0.1111111111111111,\"#46039f\"],[0.2222222222222222,\"#7201a8\"],[0.3333333333333333,\"#9c179e\"],[0.4444444444444444,\"#bd3786\"],[0.5555555555555556,\"#d8576b\"],[0.6666666666666666,\"#ed7953\"],[0.7777777777777778,\"#fb9f3a\"],[0.8888888888888888,\"#fdca26\"],[1.0,\"#f0f921\"]],\"type\":\"histogram2d\"}],\"histogram\":[{\"marker\":{\"pattern\":{\"fillmode\":\"overlay\",\"size\":10,\"solidity\":0.2}},\"type\":\"histogram\"}],\"mesh3d\":[{\"colorbar\":{\"outlinewidth\":0,\"ticks\":\"\"},\"type\":\"mesh3d\"}],\"parcoords\":[{\"line\":{\"colorbar\":{\"outlinewidth\":0,\"ticks\":\"\"}},\"type\":\"parcoords\"}],\"pie\":[{\"automargin\":true,\"type\":\"pie\"}],\"scatter3d\":[{\"line\":{\"colorbar\":{\"outlinewidth\":0,\"ticks\":\"\"}},\"marker\":{\"colorbar\":{\"outlinewidth\":0,\"ticks\":\"\"}},\"type\":\"scatter3d\"}],\"scattercarpet\":[{\"marker\":{\"colorbar\":{\"outlinewidth\":0,\"ticks\":\"\"}},\"type\":\"scattercarpet\"}],\"scattergeo\":[{\"marker\":{\"colorbar\":{\"outlinewidth\":0,\"ticks\":\"\"}},\"type\":\"scattergeo\"}],\"scattergl\":[{\"marker\":{\"colorbar\":{\"outlinewidth\":0,\"ticks\":\"\"}},\"type\":\"scattergl\"}],\"scattermapbox\":[{\"marker\":{\"colorbar\":{\"outlinewidth\":0,\"ticks\":\"\"}},\"type\":\"scattermapbox\"}],\"scatterpolargl\":[{\"marker\":{\"colorbar\":{\"outlinewidth\":0,\"ticks\":\"\"}},\"type\":\"scatterpolargl\"}],\"scatterpolar\":[{\"marker\":{\"colorbar\":{\"outlinewidth\":0,\"ticks\":\"\"}},\"type\":\"scatterpolar\"}],\"scatter\":[{\"fillpattern\":{\"fillmode\":\"overlay\",\"size\":10,\"solidity\":0.2},\"type\":\"scatter\"}],\"scatterternary\":[{\"marker\":{\"colorbar\":{\"outlinewidth\":0,\"ticks\":\"\"}},\"type\":\"scatterternary\"}],\"surface\":[{\"colorbar\":{\"outlinewidth\":0,\"ticks\":\"\"},\"colorscale\":[[0.0,\"#0d0887\"],[0.1111111111111111,\"#46039f\"],[0.2222222222222222,\"#7201a8\"],[0.3333333333333333,\"#9c179e\"],[0.4444444444444444,\"#bd3786\"],[0.5555555555555556,\"#d8576b\"],[0.6666666666666666,\"#ed7953\"],[0.7777777777777778,\"#fb9f3a\"],[0.8888888888888888,\"#fdca26\"],[1.0,\"#f0f921\"]],\"type\":\"surface\"}],\"table\":[{\"cells\":{\"fill\":{\"color\":\"#EBF0F8\"},\"line\":{\"color\":\"white\"}},\"header\":{\"fill\":{\"color\":\"#C8D4E3\"},\"line\":{\"color\":\"white\"}},\"type\":\"table\"}]},\"layout\":{\"annotationdefaults\":{\"arrowcolor\":\"#2a3f5f\",\"arrowhead\":0,\"arrowwidth\":1},\"autotypenumbers\":\"strict\",\"coloraxis\":{\"colorbar\":{\"outlinewidth\":0,\"ticks\":\"\"}},\"colorscale\":{\"diverging\":[[0,\"#8e0152\"],[0.1,\"#c51b7d\"],[0.2,\"#de77ae\"],[0.3,\"#f1b6da\"],[0.4,\"#fde0ef\"],[0.5,\"#f7f7f7\"],[0.6,\"#e6f5d0\"],[0.7,\"#b8e186\"],[0.8,\"#7fbc41\"],[0.9,\"#4d9221\"],[1,\"#276419\"]],\"sequential\":[[0.0,\"#0d0887\"],[0.1111111111111111,\"#46039f\"],[0.2222222222222222,\"#7201a8\"],[0.3333333333333333,\"#9c179e\"],[0.4444444444444444,\"#bd3786\"],[0.5555555555555556,\"#d8576b\"],[0.6666666666666666,\"#ed7953\"],[0.7777777777777778,\"#fb9f3a\"],[0.8888888888888888,\"#fdca26\"],[1.0,\"#f0f921\"]],\"sequentialminus\":[[0.0,\"#0d0887\"],[0.1111111111111111,\"#46039f\"],[0.2222222222222222,\"#7201a8\"],[0.3333333333333333,\"#9c179e\"],[0.4444444444444444,\"#bd3786\"],[0.5555555555555556,\"#d8576b\"],[0.6666666666666666,\"#ed7953\"],[0.7777777777777778,\"#fb9f3a\"],[0.8888888888888888,\"#fdca26\"],[1.0,\"#f0f921\"]]},\"colorway\":[\"#636efa\",\"#EF553B\",\"#00cc96\",\"#ab63fa\",\"#FFA15A\",\"#19d3f3\",\"#FF6692\",\"#B6E880\",\"#FF97FF\",\"#FECB52\"],\"font\":{\"color\":\"#2a3f5f\"},\"geo\":{\"bgcolor\":\"white\",\"lakecolor\":\"white\",\"landcolor\":\"white\",\"showlakes\":true,\"showland\":true,\"subunitcolor\":\"#C8D4E3\"},\"hoverlabel\":{\"align\":\"left\"},\"hovermode\":\"closest\",\"mapbox\":{\"style\":\"light\"},\"paper_bgcolor\":\"white\",\"plot_bgcolor\":\"white\",\"polar\":{\"angularaxis\":{\"gridcolor\":\"#EBF0F8\",\"linecolor\":\"#EBF0F8\",\"ticks\":\"\"},\"bgcolor\":\"white\",\"radialaxis\":{\"gridcolor\":\"#EBF0F8\",\"linecolor\":\"#EBF0F8\",\"ticks\":\"\"}},\"scene\":{\"xaxis\":{\"backgroundcolor\":\"white\",\"gridcolor\":\"#DFE8F3\",\"gridwidth\":2,\"linecolor\":\"#EBF0F8\",\"showbackground\":true,\"ticks\":\"\",\"zerolinecolor\":\"#EBF0F8\"},\"yaxis\":{\"backgroundcolor\":\"white\",\"gridcolor\":\"#DFE8F3\",\"gridwidth\":2,\"linecolor\":\"#EBF0F8\",\"showbackground\":true,\"ticks\":\"\",\"zerolinecolor\":\"#EBF0F8\"},\"zaxis\":{\"backgroundcolor\":\"white\",\"gridcolor\":\"#DFE8F3\",\"gridwidth\":2,\"linecolor\":\"#EBF0F8\",\"showbackground\":true,\"ticks\":\"\",\"zerolinecolor\":\"#EBF0F8\"}},\"shapedefaults\":{\"line\":{\"color\":\"#2a3f5f\"}},\"ternary\":{\"aaxis\":{\"gridcolor\":\"#DFE8F3\",\"linecolor\":\"#A2B1C6\",\"ticks\":\"\"},\"baxis\":{\"gridcolor\":\"#DFE8F3\",\"linecolor\":\"#A2B1C6\",\"ticks\":\"\"},\"bgcolor\":\"white\",\"caxis\":{\"gridcolor\":\"#DFE8F3\",\"linecolor\":\"#A2B1C6\",\"ticks\":\"\"}},\"title\":{\"x\":0.05},\"xaxis\":{\"automargin\":true,\"gridcolor\":\"#EBF0F8\",\"linecolor\":\"#EBF0F8\",\"ticks\":\"\",\"title\":{\"standoff\":15},\"zerolinecolor\":\"#EBF0F8\",\"zerolinewidth\":2},\"yaxis\":{\"automargin\":true,\"gridcolor\":\"#EBF0F8\",\"linecolor\":\"#EBF0F8\",\"ticks\":\"\",\"title\":{\"standoff\":15},\"zerolinecolor\":\"#EBF0F8\",\"zerolinewidth\":2}}},\"yaxis\":{\"minor\":{\"showgrid\":true,\"gridcolor\":\"lightgray\",\"gridwidth\":1},\"title\":{\"text\":\"Bit Error Rate (BER)\"},\"type\":\"log\",\"range\":[-1,1],\"tickvals\":[1.0,0.1,0.01,0.001,0.0001,0.00001,1e-6,1e-7,1e-8],\"ticktext\":[\"$10^0$\",\"$10^{-1}$\",\"$10^{-2}$\",\"$10^{-3}$\",\"$10^{-4}$\",\"$10^{-5}$\",\"$10^{-6}$\",\"$10^{-7}$\",\"$10^{-8}$\"],\"showgrid\":true,\"gridcolor\":\"lightgray\",\"gridwidth\":1,\"dtick\":\"D1\",\"tickformat\":\"power\"},\"xaxis\":{\"title\":{\"text\":\"SNR (dB)\"},\"showgrid\":true,\"gridcolor\":\"lightgray\",\"gridwidth\":1,\"tickvals\":[0,1,2,3,4,5,6,7,8,9,10,11,12,13,14,15,16,17,18,19,20]},\"title\":{\"text\":\"📉 Curve BER Interattive per Modelli CNN\"},\"hovermode\":\"x unified\",\"legend\":{\"title\":{\"text\":\"Modelli\"}}},                        {\"responsive\": true}                    ).then(function(){\n",
              "                            \n",
              "var gd = document.getElementById('6ea3ad7a-6365-43ef-a534-bf9d0adee366');\n",
              "var x = new MutationObserver(function (mutations, observer) {{\n",
              "        var display = window.getComputedStyle(gd).display;\n",
              "        if (!display || display === 'none') {{\n",
              "            console.log([gd, 'removed!']);\n",
              "            Plotly.purge(gd);\n",
              "            observer.disconnect();\n",
              "        }}\n",
              "}});\n",
              "\n",
              "// Listen for the removal of the full notebook cells\n",
              "var notebookContainer = gd.closest('#notebook-container');\n",
              "if (notebookContainer) {{\n",
              "    x.observe(notebookContainer, {childList: true});\n",
              "}}\n",
              "\n",
              "// Listen for the clearing of the current output cell\n",
              "var outputEl = gd.closest('.output');\n",
              "if (outputEl) {{\n",
              "    x.observe(outputEl, {childList: true});\n",
              "}}\n",
              "\n",
              "                        })                };                            </script>        </div>\n",
              "</body>\n",
              "</html>"
            ]
          },
          "metadata": {}
        }
      ]
    }
  ]
}