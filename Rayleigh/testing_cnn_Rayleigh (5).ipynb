{
  "nbformat": 4,
  "nbformat_minor": 0,
  "metadata": {
    "colab": {
      "provenance": [],
      "gpuType": "T4"
    },
    "kernelspec": {
      "name": "python3",
      "display_name": "Python 3"
    },
    "language_info": {
      "name": "python"
    },
    "accelerator": "GPU"
  },
  "cells": [
    {
      "cell_type": "markdown",
      "source": [
        "# Importing the libraries"
      ],
      "metadata": {
        "id": "OEAfQA05D6ua"
      }
    },
    {
      "cell_type": "code",
      "source": [
        "import numpy as np\n",
        "import random\n",
        "import os\n",
        "import tensorflow as tf\n",
        "from tensorflow import keras\n",
        "import platform\n",
        "from tensorflow.keras import layers, optimizers, losses, models, Input, Model\n",
        "import time # Per misurare il tempo di training\n",
        "from tensorflow.keras.callbacks import EarlyStopping # Per l'early stopping\n",
        "import matplotlib.pyplot as plt\n",
        "from tqdm import tqdm # Per mostrare una barra di progresso\n",
        "from tensorflow.keras.models import load_model"
      ],
      "metadata": {
        "id": "cAkyZrEzu97V"
      },
      "execution_count": 1,
      "outputs": []
    },
    {
      "cell_type": "markdown",
      "source": [
        "# Set seeds for random operations."
      ],
      "metadata": {
        "id": "AujxZNQWMBuP"
      }
    },
    {
      "cell_type": "code",
      "source": [
        "# --- 1. Impostazione del Seed Globale all'inizio del tuo script ---\n",
        "# Questo è il punto chiave per la riproducibilità di TUTTO ciò che segue.\n",
        "MASTER_RANDOM_SEED = 42\n",
        "np.random.seed(MASTER_RANDOM_SEED)\n",
        "random.seed(MASTER_RANDOM_SEED) # Imposta anche il seed per la libreria 'random' di Python se la usi\n",
        "tf.random.set_seed(MASTER_RANDOM_SEED)\n",
        "os.environ['PYTHONHASHSEED'] = str(MASTER_RANDOM_SEED) # Per operazioni basate su hash (es. ordine dei dizionari)\n",
        "os.environ['TF_DETERMINISTIC_OPS'] = '1' # Forza operazioni deterministiche in TensorFlow 2.x"
      ],
      "metadata": {
        "id": "uXGzTxrOME1z"
      },
      "execution_count": 2,
      "outputs": []
    },
    {
      "cell_type": "markdown",
      "source": [
        "# Print the HW Specs."
      ],
      "metadata": {
        "id": "OBZ65HW9CLdc"
      }
    },
    {
      "cell_type": "code",
      "source": [
        "print(\"--- Dettagli dell'Architettura Hardware della Sessione Colab ---\\n\")\n",
        "\n",
        "# --- 1. Dettagli CPU ---\n",
        "print(\"--- Dettagli CPU ---\")\n",
        "!lscpu\n",
        "print(\"\\n\")\n",
        "\n",
        "# --- 2. Dettagli RAM (Memoria) ---\n",
        "print(\"--- Dettagli RAM (Memoria) ---\")\n",
        "!cat /proc/meminfo | grep MemTotal\n",
        "print(\"\\n\")\n",
        "\n",
        "# --- 3. Dettagli Spazio su Disco ---\n",
        "print(\"--- Dettagli Spazio su Disco ---\")\n",
        "!df -h /\n",
        "print(\"\\n\")\n",
        "\n",
        "# --- 4. Dettagli Acceleratore Hardware (GPU/TPU) ---\n",
        "print(\"--- Dettagli Acceleratore Hardware (GPU/TPU) ---\")\n",
        "try:\n",
        "    tpu_address = os.environ.get('COLAB_TPU_ADDR')\n",
        "    if tpu_address:\n",
        "        resolver = tf.distribute.cluster_resolver.TPUClusterResolver(tpu=tpu_address)\n",
        "        tf.config.experimental_connect_to_cluster(resolver)\n",
        "        tf.tpu.experimental.initialize_tpu_system(resolver)\n",
        "        print(f\"Tipo Acceleratore: TPU (indirizzo: {tpu_address})\")\n",
        "        print(\"Dispositivi TPU disponibili:\")\n",
        "        for device in tf.config.list_logical_devices('TPU'):\n",
        "            print(f\"  - {device.name}\")\n",
        "    else:\n",
        "        gpus = tf.config.list_physical_devices('GPU')\n",
        "        if gpus:\n",
        "            print(f\"Tipo Acceleratore: GPU\")\n",
        "            for gpu in gpus:\n",
        "                print(f\"  - Dispositivo GPU rilevato: {gpu.name}\")\n",
        "            print(\"\\nDettagli GPU specifici (da `!nvidia-smi`):\")\n",
        "            !nvidia-smi\n",
        "        else:\n",
        "            print(\"Tipo Acceleratore: Nessuna GPU o TPU rilevata (in uso CPU)\")\n",
        "\n",
        "except Exception as e:\n",
        "    print(f\"Si è verificato un errore durante la rilevazione dell'acceleratore: {e}\")\n",
        "    print(\"Tentativo di rilevare i dispositivi TensorFlow standard:\")\n",
        "    devices = tf.config.list_logical_devices()\n",
        "    if devices:\n",
        "        for device in devices:\n",
        "            print(f\"  - Dispositivo rilevato: {device.name}, Tipo: {device.device_type}\")\n",
        "    else:\n",
        "        print(\"Nessun dispositivo TensorFlow rilevato.\")\n",
        "\n",
        "print(\"\\n--- Analisi Dettagli Hardware Completata ---\")"
      ],
      "metadata": {
        "id": "BBhq145cCO9I",
        "colab": {
          "base_uri": "https://localhost:8080/"
        },
        "outputId": "01ce34cc-96dd-44b8-9a7b-e48b7a93e2d5"
      },
      "execution_count": 3,
      "outputs": [
        {
          "output_type": "stream",
          "name": "stdout",
          "text": [
            "--- Dettagli dell'Architettura Hardware della Sessione Colab ---\n",
            "\n",
            "--- Dettagli CPU ---\n",
            "Architecture:             x86_64\n",
            "  CPU op-mode(s):         32-bit, 64-bit\n",
            "  Address sizes:          46 bits physical, 48 bits virtual\n",
            "  Byte Order:             Little Endian\n",
            "CPU(s):                   2\n",
            "  On-line CPU(s) list:    0,1\n",
            "Vendor ID:                GenuineIntel\n",
            "  Model name:             Intel(R) Xeon(R) CPU @ 2.20GHz\n",
            "    CPU family:           6\n",
            "    Model:                79\n",
            "    Thread(s) per core:   2\n",
            "    Core(s) per socket:   1\n",
            "    Socket(s):            1\n",
            "    Stepping:             0\n",
            "    BogoMIPS:             4400.32\n",
            "    Flags:                fpu vme de pse tsc msr pae mce cx8 apic sep mtrr pge m\n",
            "                          ca cmov pat pse36 clflush mmx fxsr sse sse2 ss ht sysc\n",
            "                          all nx pdpe1gb rdtscp lm constant_tsc rep_good nopl xt\n",
            "                          opology nonstop_tsc cpuid tsc_known_freq pni pclmulqdq\n",
            "                           ssse3 fma cx16 pcid sse4_1 sse4_2 x2apic movbe popcnt\n",
            "                           aes xsave avx f16c rdrand hypervisor lahf_lm abm 3dno\n",
            "                          wprefetch invpcid_single ssbd ibrs ibpb stibp fsgsbase\n",
            "                           tsc_adjust bmi1 hle avx2 smep bmi2 erms invpcid rtm r\n",
            "                          dseed adx smap xsaveopt arat md_clear arch_capabilitie\n",
            "                          s\n",
            "Virtualization features:  \n",
            "  Hypervisor vendor:      KVM\n",
            "  Virtualization type:    full\n",
            "Caches (sum of all):      \n",
            "  L1d:                    32 KiB (1 instance)\n",
            "  L1i:                    32 KiB (1 instance)\n",
            "  L2:                     256 KiB (1 instance)\n",
            "  L3:                     55 MiB (1 instance)\n",
            "NUMA:                     \n",
            "  NUMA node(s):           1\n",
            "  NUMA node0 CPU(s):      0,1\n",
            "Vulnerabilities:          \n",
            "  Gather data sampling:   Not affected\n",
            "  Itlb multihit:          Not affected\n",
            "  L1tf:                   Mitigation; PTE Inversion\n",
            "  Mds:                    Vulnerable; SMT Host state unknown\n",
            "  Meltdown:               Vulnerable\n",
            "  Mmio stale data:        Vulnerable\n",
            "  Reg file data sampling: Not affected\n",
            "  Retbleed:               Vulnerable\n",
            "  Spec rstack overflow:   Not affected\n",
            "  Spec store bypass:      Vulnerable\n",
            "  Spectre v1:             Vulnerable: __user pointer sanitization and usercopy b\n",
            "                          arriers only; no swapgs barriers\n",
            "  Spectre v2:             Vulnerable; IBPB: disabled; STIBP: disabled; PBRSB-eIB\n",
            "                          RS: Not affected; BHI: Vulnerable\n",
            "  Srbds:                  Not affected\n",
            "  Tsx async abort:        Vulnerable\n",
            "\n",
            "\n",
            "--- Dettagli RAM (Memoria) ---\n",
            "MemTotal:       13289416 kB\n",
            "\n",
            "\n",
            "--- Dettagli Spazio su Disco ---\n",
            "Filesystem      Size  Used Avail Use% Mounted on\n",
            "overlay         108G   38G   71G  35% /\n",
            "\n",
            "\n",
            "--- Dettagli Acceleratore Hardware (GPU/TPU) ---\n",
            "Tipo Acceleratore: Nessuna GPU o TPU rilevata (in uso CPU)\n",
            "\n",
            "--- Analisi Dettagli Hardware Completata ---\n"
          ]
        }
      ]
    },
    {
      "cell_type": "markdown",
      "source": [
        "# Connect To Gdrive to store the datasets created."
      ],
      "metadata": {
        "id": "X46EKvDxpZ-a"
      }
    },
    {
      "cell_type": "code",
      "source": [
        "from google.colab import drive\n",
        "drive.mount('/content/drive')"
      ],
      "metadata": {
        "colab": {
          "base_uri": "https://localhost:8080/"
        },
        "id": "O7J7tQfWpjXc",
        "outputId": "3030dadd-53e2-4887-d37a-df5992134bc8"
      },
      "execution_count": 4,
      "outputs": [
        {
          "output_type": "stream",
          "name": "stdout",
          "text": [
            "Mounted at /content/drive\n"
          ]
        }
      ]
    },
    {
      "cell_type": "markdown",
      "source": [
        "# Function for calculating BER"
      ],
      "metadata": {
        "id": "xlX0DwUgcqFH"
      }
    },
    {
      "cell_type": "code",
      "source": [
        "# Funzione per calcolare il BER\n",
        "def calculate_ber(model, snr_test_data_path, max_samples=500000):\n",
        "    ber_values = []\n",
        "    snr_points = list(range(0, 21))\n",
        "\n",
        "    for snr_db in tqdm(snr_points, desc=\"Calculating BER\"):\n",
        "        test_file = os.path.join(snr_test_data_path, f\"test_{snr_db}_SNR.npz\")\n",
        "        if not os.path.exists(test_file):\n",
        "            print(f\"File non trovato: {test_file}. Salto questo SNR.\")\n",
        "            ber_values.append(np.nan)\n",
        "            continue\n",
        "\n",
        "        data = np.load(test_file)\n",
        "        X_batch, y_true_batch = data['X_test'], data['y_test']\n",
        "        symbols_in_batch = X_batch.shape[0]\n",
        "\n",
        "        if symbols_in_batch == 0:\n",
        "            ber_values.append(np.nan)\n",
        "            continue\n",
        "\n",
        "         # --- Estrazione casuale di un sottoinsieme ---\n",
        "        if len(X_batch) > max_samples:\n",
        "            print(\"entrato nell'if di riduzione campioni per ridurre tempi.\")\n",
        "            idx = np.random.choice(len(X_batch), max_samples, replace=False)\n",
        "            X_batch = X_batch[idx]\n",
        "            y_true_batch = y_true_batch[idx]\n",
        "\n",
        "        predictions = model.predict(X_batch, batch_size=10000, verbose=0)\n",
        "        predicted_labels = np.argmax(predictions, axis=1)\n",
        "        errors = np.sum(predicted_labels != y_true_batch)\n",
        "        ber = errors / symbols_in_batch\n",
        "        ber_values.append(ber)\n",
        "        print(f\"SNR: {snr_db} dB, BER: {ber:.6f}\")\n",
        "\n",
        "    return np.array(ber_values), snr_points"
      ],
      "metadata": {
        "id": "EemBT1iBX3b5"
      },
      "execution_count": 5,
      "outputs": []
    },
    {
      "cell_type": "markdown",
      "source": [
        "# Funzione di plotting statica (non più usata)"
      ],
      "metadata": {
        "id": "Y-Jg4WYohnLl"
      }
    },
    {
      "cell_type": "code",
      "source": [
        "# Funzione di plotting\n",
        "\n",
        "def plot_ber(snr_points, ber_curves_dict, channel_type, title_suffix=\"\", filename=\"ber_plot.png\", snr_x_lims=(0, 20)):\n",
        "    \"\"\"\n",
        "    Plotta BER vs SNR per una serie di modelli. Ogni modello ha una curva nel dizionario.\n",
        "\n",
        "    Args:\n",
        "        snr_points (list or np.array): Valori di SNR (in dB).\n",
        "        ber_curves_dict (dict): {nome_modello: lista_ber}\n",
        "        channel_type (str): 'AWGN', 'Rayleigh', ecc.\n",
        "        title_suffix (str): Testo da aggiungere al titolo del grafico.\n",
        "        filename (str): Nome del file immagine da salvare.\n",
        "        snr_x_lims (tuple): Range dell'asse X (min, max).\n",
        "    \"\"\"\n",
        "    plt.figure(figsize=(10, 6))\n",
        "\n",
        "    for label, ber_data_orig in ber_curves_dict.items():\n",
        "        ber_data = np.array(ber_data_orig)\n",
        "\n",
        "        # Adatta la lunghezza dei dati\n",
        "        if len(ber_data) < len(snr_points):\n",
        "            temp_ber_data = np.full(len(snr_points), np.nan)\n",
        "            temp_ber_data[:len(ber_data)] = ber_data\n",
        "            ber_data = temp_ber_data\n",
        "        elif len(ber_data) > len(snr_points):\n",
        "            ber_data = ber_data[:len(snr_points)]\n",
        "\n",
        "        # Applica la logica \"tocca l'asse X\"\n",
        "        ber_to_plot = ber_data.copy()\n",
        "        for i, ber_val in enumerate(ber_data):\n",
        "            if not np.isnan(ber_val) and ber_val <= 1e-15:\n",
        "                ber_to_plot[i] = 1e-5\n",
        "                ber_to_plot[i+1:] = np.nan\n",
        "                break\n",
        "\n",
        "        # Marker diverso in base al range di addestramento\n",
        "        marker = 'x' if \"11-15\" in label else 'o'\n",
        "\n",
        "        # Plot della curva BER\n",
        "        plt.semilogy(snr_points, ber_to_plot, marker=marker, linestyle='-', label=label)\n",
        "\n",
        "    plt.title(f'Bit Error Rate (BER) vs. SNR for {channel_type} Channel {title_suffix}')\n",
        "    plt.xlabel('SNR (dB)')\n",
        "    plt.ylabel('Bit Error Rate (BER)')\n",
        "    plt.grid(True, which=\"both\", linestyle='--', linewidth=0.5)\n",
        "    plt.legend()\n",
        "    plt.ylim(1e-5, 1)\n",
        "\n",
        "    # Limiti e ticks asse X\n",
        "    min_snr, max_snr = snr_x_lims\n",
        "    plt.xticks(np.arange(int(min_snr), int(max_snr) + 1, 2))\n",
        "    plt.xlim(min_snr, max_snr)\n",
        "\n",
        "    plt.savefig(filename)\n",
        "    plt.show()\n",
        "    print(f\"Grafico salvato come {filename}\")"
      ],
      "metadata": {
        "id": "2O7xPHjhhpKB"
      },
      "execution_count": 6,
      "outputs": []
    },
    {
      "cell_type": "markdown",
      "source": [
        "# Calculate the BER"
      ],
      "metadata": {
        "id": "3Pj-ruwCcnqD"
      }
    },
    {
      "cell_type": "code",
      "source": [
        "# === Impostazioni di base ===\n",
        "cnn_model_folder = \"/content/drive/MyDrive/GitHub/Rayleigh/trained_models/cnn\"\n",
        "snr_test_data_path = \"/content/drive/MyDrive/GitHub/Rayleigh/dataset/test\"\n",
        "results_folder = \"/content/drive/MyDrive/GitHub/Rayleigh/results\"\n",
        "\n",
        "os.makedirs(results_folder, exist_ok=True)  # Crea la cartella dei risultati se non esiste\n",
        "\n",
        "ber_results = {}\n",
        "snr_points = None  # Verrà popolato durante il primo calcolo\n",
        "\n",
        "for model_file in os.listdir(cnn_model_folder):\n",
        "    if model_file.endswith(\".h5\"):\n",
        "        model_name = model_file.replace(\".h5\", \"\")\n",
        "        model_path = os.path.join(cnn_model_folder, model_file)\n",
        "        result_file = os.path.join(results_folder, f\"{model_name}_ber.npy\")\n",
        "\n",
        "        # Se esistono già i risultati, caricali\n",
        "        if os.path.exists(result_file):\n",
        "            print(f\"Risultati già presenti per {model_name}, caricamento da file...\")\n",
        "            ber_values = np.load(result_file)\n",
        "        else:\n",
        "            print(f\"\\nCaricamento modello: {model_name}\")\n",
        "            model = load_model(model_path)\n",
        "            ber_values, snr_points = calculate_ber(model, snr_test_data_path)\n",
        "            np.save(result_file, ber_values)  # Salva risultati\n",
        "            print(f\"BER salvato in: {result_file}\")\n",
        "\n",
        "        ber_results[model_name] = ber_values\n",
        "        print(f\"BER per {model_name}: {ber_values}\")\n",
        "\n",
        "# # === Plot finale ===\n",
        "# plot_ber(\n",
        "#     snr_points,\n",
        "#     ber_results,\n",
        "#     channel_type=\"Rayleigh\",\n",
        "#     title_suffix=\"CNN Evaluation\",\n",
        "#     filename=os.path.join(results_folder, \"ber_cnn_all_models.png\")\n",
        "# )\n"
      ],
      "metadata": {
        "colab": {
          "base_uri": "https://localhost:8080/",
          "height": 1000
        },
        "id": "W794Th97cnAm",
        "outputId": "02d4aca3-e02a-4573-c081-912038db6e3e"
      },
      "execution_count": 7,
      "outputs": [
        {
          "output_type": "stream",
          "name": "stdout",
          "text": [
            "Risultati già presenti per CNN_3-ksize_128-filters_rayleigh_snr_0-20, caricamento da file...\n",
            "BER per CNN_3-ksize_128-filters_rayleigh_snr_0-20: [0.356308 0.325672 0.289784 0.255246 0.21824  0.182904 0.151352 0.121442\n",
            " 0.095864 0.074302 0.055674 0.039272 0.027676 0.021296 0.020298 0.022638\n",
            " 0.025286 0.027734 0.030458 0.033038 0.035516]\n",
            "Risultati già presenti per CNN_5-ksize_128-filters_rayleigh_snr_0-20, caricamento da file...\n",
            "BER per CNN_5-ksize_128-filters_rayleigh_snr_0-20: [0.36621  0.322428 0.2753   0.228492 0.1827   0.144118 0.112938 0.087338\n",
            " 0.067338 0.05184  0.03938  0.028686 0.021156 0.016606 0.014832 0.015324\n",
            " 0.01631  0.017206 0.01874  0.020018 0.021658]\n",
            "Risultati già presenti per CNN_7-ksize_128-filters_rayleigh_snr_0-20, caricamento da file...\n",
            "BER per CNN_7-ksize_128-filters_rayleigh_snr_0-20: [0.334202 0.28589  0.238884 0.194576 0.153802 0.121746 0.09593  0.075804\n",
            " 0.060314 0.048546 0.03897  0.029732 0.021906 0.016058 0.012478 0.01168\n",
            " 0.012078 0.0132   0.014728 0.016006 0.017568]\n",
            "Risultati già presenti per CNN_9-ksize_128-filters_rayleigh_snr_0-20, caricamento da file...\n",
            "BER per CNN_9-ksize_128-filters_rayleigh_snr_0-20: [0.31319  0.26703  0.223016 0.18209  0.144208 0.113516 0.088848 0.069506\n",
            " 0.053878 0.04253  0.032874 0.025378 0.019298 0.015106 0.012992 0.01253\n",
            " 0.012776 0.013252 0.014212 0.014792 0.016024]\n",
            "Risultati già presenti per CNN_3-ksize_256-filters_rayleigh_snr_0-20, caricamento da file...\n",
            "BER per CNN_3-ksize_256-filters_rayleigh_snr_0-20: [0.367628 0.33275  0.293878 0.25745  0.218462 0.182646 0.150964 0.12204\n",
            " 0.09664  0.076042 0.057176 0.040244 0.028348 0.022038 0.021532 0.024594\n",
            " 0.027922 0.03031  0.032792 0.035106 0.037234]\n",
            "Risultati già presenti per CNN_5-ksize_256-filters_rayleigh_snr_0-20, caricamento da file...\n",
            "BER per CNN_5-ksize_256-filters_rayleigh_snr_0-20: [0.353466 0.309482 0.26235  0.218664 0.175638 0.13946  0.110788 0.08734\n",
            " 0.068842 0.054626 0.042878 0.031956 0.023078 0.016646 0.013096 0.013154\n",
            " 0.014322 0.015886 0.017866 0.019554 0.02137 ]\n",
            "Risultati già presenti per CNN_7-ksize_256-filters_rayleigh_snr_0-20, caricamento da file...\n",
            "BER per CNN_7-ksize_256-filters_rayleigh_snr_0-20: [0.343962 0.29753  0.25054  0.204556 0.16175  0.12682  0.09887  0.076312\n",
            " 0.059048 0.04612  0.036    0.026966 0.020372 0.01568  0.013412 0.012998\n",
            " 0.013728 0.01469  0.016222 0.017514 0.019016]\n",
            "Risultati già presenti per CNN_9-ksize_256-filters_rayleigh_snr_0-20, caricamento da file...\n",
            "BER per CNN_9-ksize_256-filters_rayleigh_snr_0-20: [0.299162 0.255048 0.213744 0.17561  0.14004  0.11082  0.086994 0.068266\n",
            " 0.052778 0.041404 0.032112 0.024906 0.019022 0.014744 0.012464 0.01167\n",
            " 0.011684 0.01216  0.013156 0.013812 0.015056]\n",
            "Risultati già presenti per CNN_3-ksize_512-filters_rayleigh_snr_0-20, caricamento da file...\n",
            "BER per CNN_3-ksize_512-filters_rayleigh_snr_0-20: [0.355438 0.32135  0.28229  0.24734  0.208616 0.174104 0.143464 0.11544\n",
            " 0.09101  0.071002 0.05351  0.03861  0.028102 0.022208 0.02104  0.022012\n",
            " 0.02358  0.025092 0.02714  0.029366 0.031454]\n",
            "Risultati già presenti per CNN_5-ksize_512-filters_rayleigh_snr_0-20, caricamento da file...\n",
            "BER per CNN_5-ksize_512-filters_rayleigh_snr_0-20: [0.355384 0.312636 0.266782 0.223238 0.17944  0.143276 0.112994 0.08776\n",
            " 0.068206 0.052758 0.040402 0.029438 0.021672 0.016594 0.014262 0.014344\n",
            " 0.014976 0.015838 0.01728  0.018552 0.019994]\n",
            "Risultati già presenti per CNN_7-ksize_512-filters_rayleigh_snr_0-20, caricamento da file...\n",
            "BER per CNN_7-ksize_512-filters_rayleigh_snr_0-20: [0.32331  0.27788  0.233476 0.192212 0.153534 0.121474 0.09613  0.075016\n",
            " 0.058664 0.045702 0.035028 0.026424 0.020226 0.016476 0.015704 0.016674\n",
            " 0.018248 0.019762 0.021786 0.0233   0.025216]\n",
            "Risultati già presenti per CNN_9-ksize_512-filters_rayleigh_snr_0-20, caricamento da file...\n",
            "BER per CNN_9-ksize_512-filters_rayleigh_snr_0-20: [0.300716 0.255786 0.213778 0.175762 0.139664 0.111066 0.087976 0.069436\n",
            " 0.054246 0.042818 0.03322  0.02519  0.019102 0.014534 0.012136 0.011556\n",
            " 0.011602 0.012222 0.013302 0.014116 0.015288]\n",
            "Risultati già presenti per CNN_3-ksize_1024-filters_rayleigh_snr_0-20, caricamento da file...\n",
            "BER per CNN_3-ksize_1024-filters_rayleigh_snr_0-20: [0.381338 0.344904 0.303976 0.264998 0.222972 0.186034 0.152616 0.123278\n",
            " 0.098634 0.077866 0.059358 0.043226 0.030664 0.02383  0.021832 0.023356\n",
            " 0.025954 0.028036 0.030322 0.03207  0.033818]\n",
            "Risultati già presenti per CNN_5-ksize_1024-filters_rayleigh_snr_0-20, caricamento da file...\n",
            "BER per CNN_5-ksize_1024-filters_rayleigh_snr_0-20: [0.33535  0.292596 0.24998  0.209874 0.170774 0.137768 0.111432 0.087624\n",
            " 0.068882 0.054036 0.041396 0.030406 0.022302 0.017016 0.015056 0.01554\n",
            " 0.016454 0.017376 0.018718 0.019666 0.02107 ]\n",
            "Risultati già presenti per CNN_7-ksize_1024-filters_rayleigh_snr_0-20, caricamento da file...\n",
            "BER per CNN_7-ksize_1024-filters_rayleigh_snr_0-20: [0.298132 0.253232 0.213636 0.176348 0.142834 0.115084 0.092918 0.074092\n",
            " 0.058512 0.045938 0.035674 0.026428 0.019956 0.015664 0.013784 0.013994\n",
            " 0.014828 0.01566  0.0171   0.018212 0.019704]\n",
            "Risultati già presenti per CNN_9-ksize_1024-filters_rayleigh_snr_0-20, caricamento da file...\n",
            "BER per CNN_9-ksize_1024-filters_rayleigh_snr_0-20: [0.276392 0.234256 0.196874 0.163016 0.130938 0.105412 0.084214 0.067318\n",
            " 0.052708 0.041764 0.032366 0.024882 0.019116 0.014842 0.012372 0.011572\n",
            " 0.011328 0.011598 0.012402 0.01293  0.01401 ]\n",
            "Risultati già presenti per CNN_3-ksize_128-filters_rayleigh_snr_11-15, caricamento da file...\n",
            "BER per CNN_3-ksize_128-filters_rayleigh_snr_11-15: [0.359672 0.329286 0.293676 0.259418 0.220578 0.184116 0.150518 0.118844\n",
            " 0.091658 0.069592 0.051134 0.03584  0.026536 0.021718 0.021144 0.022456\n",
            " 0.02388  0.02517  0.027388 0.029492 0.031636]\n",
            "Risultati già presenti per CNN_5-ksize_128-filters_rayleigh_snr_11-15, caricamento da file...\n",
            "BER per CNN_5-ksize_128-filters_rayleigh_snr_11-15: [0.363896 0.323558 0.27994  0.235242 0.19061  0.151088 0.118088 0.09026\n",
            " 0.068174 0.05182  0.038536 0.02845  0.02137  0.017038 0.015632 0.015838\n",
            " 0.016724 0.017956 0.019906 0.021574 0.02359 ]\n",
            "Risultati già presenti per CNN_7-ksize_128-filters_rayleigh_snr_11-15, caricamento da file...\n",
            "BER per CNN_7-ksize_128-filters_rayleigh_snr_11-15: [0.329656 0.282002 0.235086 0.1912   0.150504 0.118078 0.092514 0.071278\n",
            " 0.05491  0.042748 0.032858 0.024746 0.019242 0.015664 0.014784 0.015126\n",
            " 0.016342 0.017498 0.019356 0.02065  0.02228 ]\n",
            "Risultati già presenti per CNN_9-ksize_128-filters_rayleigh_snr_11-15, caricamento da file...\n",
            "BER per CNN_9-ksize_128-filters_rayleigh_snr_11-15: [0.316364 0.26668  0.21916  0.176054 0.137124 0.107466 0.084566 0.066064\n",
            " 0.052244 0.041498 0.032578 0.025022 0.01902  0.01482  0.012364 0.011744\n",
            " 0.011796 0.012476 0.013638 0.014534 0.015752]\n",
            "Risultati già presenti per CNN_3-ksize_256-filters_rayleigh_snr_11-15, caricamento da file...\n",
            "BER per CNN_3-ksize_256-filters_rayleigh_snr_11-15: [0.370274 0.339508 0.302196 0.266998 0.22679  0.187968 0.153434 0.121576\n",
            " 0.094778 0.073892 0.056082 0.04033  0.029156 0.021834 0.018318 0.018472\n",
            " 0.019702 0.02139  0.02416  0.026868 0.029428]\n",
            "Risultati già presenti per CNN_5-ksize_256-filters_rayleigh_snr_11-15, caricamento da file...\n",
            "BER per CNN_5-ksize_256-filters_rayleigh_snr_11-15: [0.37087  0.327582 0.279784 0.23352  0.185832 0.14665  0.113888 0.087784\n",
            " 0.068006 0.053126 0.041544 0.031378 0.02338  0.017588 0.014264 0.013508\n",
            " 0.014178 0.015178 0.01697  0.01862  0.02048 ]\n",
            "Risultati già presenti per CNN_7-ksize_256-filters_rayleigh_snr_11-15, caricamento da file...\n",
            "BER per CNN_7-ksize_256-filters_rayleigh_snr_11-15: [0.298806 0.253932 0.211386 0.173698 0.139328 0.112082 0.090684 0.071974\n",
            " 0.057304 0.04576  0.035824 0.027452 0.020932 0.016078 0.013864 0.013626\n",
            " 0.01424  0.015188 0.016974 0.018312 0.01998 ]\n",
            "Risultati già presenti per CNN_9-ksize_256-filters_rayleigh_snr_11-15, caricamento da file...\n",
            "BER per CNN_9-ksize_256-filters_rayleigh_snr_11-15: [0.313998 0.266698 0.220992 0.179764 0.141966 0.11196  0.088088 0.06884\n",
            " 0.05395  0.042352 0.032906 0.025184 0.0195   0.015436 0.013704 0.013656\n",
            " 0.014202 0.01502  0.016642 0.017592 0.019048]\n",
            "Risultati già presenti per CNN_3-ksize_512-filters_rayleigh_snr_11-15, caricamento da file...\n",
            "BER per CNN_3-ksize_512-filters_rayleigh_snr_11-15: [0.371288 0.338736 0.301222 0.26365  0.222526 0.184136 0.150088 0.117706\n",
            " 0.09154  0.071006 0.05448  0.040236 0.029834 0.021972 0.017564 0.016844\n",
            " 0.01792  0.019836 0.022826 0.025508 0.028256]\n",
            "Risultati già presenti per CNN_5-ksize_512-filters_rayleigh_snr_11-15, caricamento da file...\n",
            "BER per CNN_5-ksize_512-filters_rayleigh_snr_11-15: [0.33674  0.291798 0.245954 0.20264  0.162288 0.128672 0.101712 0.079878\n",
            " 0.061806 0.048576 0.03747  0.02774  0.021136 0.016932 0.015472 0.015636\n",
            " 0.016646 0.017818 0.019748 0.021208 0.023116]\n",
            "Risultati già presenti per CNN_7-ksize_512-filters_rayleigh_snr_11-15, caricamento da file...\n",
            "BER per CNN_7-ksize_512-filters_rayleigh_snr_11-15: [0.325738 0.279706 0.23476  0.192992 0.153856 0.122562 0.09799  0.076756\n",
            " 0.061074 0.047952 0.037296 0.028362 0.021326 0.016396 0.014404 0.013896\n",
            " 0.014352 0.014938 0.01635  0.017596 0.018952]\n",
            "Risultati già presenti per CNN_9-ksize_512-filters_rayleigh_snr_11-15, caricamento da file...\n",
            "BER per CNN_9-ksize_512-filters_rayleigh_snr_11-15: [0.262742 0.221282 0.18449  0.152628 0.122702 0.099638 0.080614 0.064136\n",
            " 0.050388 0.03989  0.030974 0.024104 0.019196 0.015846 0.014294 0.013808\n",
            " 0.013812 0.014002 0.014998 0.015518 0.016494]\n",
            "Risultati già presenti per CNN_3-ksize_1024-filters_rayleigh_snr_11-15, caricamento da file...\n",
            "BER per CNN_3-ksize_1024-filters_rayleigh_snr_11-15: [0.433418 0.402498 0.363968 0.318612 0.267274 0.216428 0.17031  0.130108\n",
            " 0.099246 0.07553  0.05846  0.045212 0.035222 0.026232 0.018506 0.015174\n",
            " 0.01506  0.016956 0.020368 0.023748 0.0269  ]\n",
            "Risultati già presenti per CNN_5-ksize_1024-filters_rayleigh_snr_11-15, caricamento da file...\n",
            "BER per CNN_5-ksize_1024-filters_rayleigh_snr_11-15: [0.36591  0.31965  0.271434 0.223968 0.178228 0.139736 0.10888  0.084026\n",
            " 0.064886 0.050496 0.039124 0.03016  0.023514 0.01852  0.016118 0.015528\n",
            " 0.01602  0.017026 0.018978 0.020616 0.022718]\n",
            "Risultati già presenti per CNN_7-ksize_1024-filters_rayleigh_snr_11-15, caricamento da file...\n",
            "BER per CNN_7-ksize_1024-filters_rayleigh_snr_11-15: [0.317692 0.270396 0.225008 0.183538 0.146162 0.116106 0.092888 0.07336\n",
            " 0.058588 0.047574 0.038096 0.030194 0.02333  0.017674 0.013924 0.012444\n",
            " 0.011912 0.0126   0.014016 0.015306 0.017076]\n",
            "Risultati già presenti per CNN_9-ksize_1024-filters_rayleigh_snr_11-15, caricamento da file...\n",
            "BER per CNN_9-ksize_1024-filters_rayleigh_snr_11-15: [0.303806 0.261592 0.220584 0.182616 0.146312 0.116376 0.092942 0.072686\n",
            " 0.057198 0.045088 0.03525  0.026946 0.020764 0.015986 0.013814 0.013588\n",
            " 0.014038 0.014966 0.016628 0.017754 0.019332]\n"
          ]
        },
        {
          "output_type": "error",
          "ename": "TypeError",
          "evalue": "object of type 'NoneType' has no len()",
          "traceback": [
            "\u001b[0;31m---------------------------------------------------------------------------\u001b[0m",
            "\u001b[0;31mTypeError\u001b[0m                                 Traceback (most recent call last)",
            "\u001b[0;32m/tmp/ipython-input-7-4161377514.py\u001b[0m in \u001b[0;36m<cell line: 0>\u001b[0;34m()\u001b[0m\n\u001b[1;32m     30\u001b[0m \u001b[0;34m\u001b[0m\u001b[0m\n\u001b[1;32m     31\u001b[0m \u001b[0;31m# === Plot finale ===\u001b[0m\u001b[0;34m\u001b[0m\u001b[0;34m\u001b[0m\u001b[0m\n\u001b[0;32m---> 32\u001b[0;31m plot_ber(\n\u001b[0m\u001b[1;32m     33\u001b[0m     \u001b[0msnr_points\u001b[0m\u001b[0;34m,\u001b[0m\u001b[0;34m\u001b[0m\u001b[0;34m\u001b[0m\u001b[0m\n\u001b[1;32m     34\u001b[0m     \u001b[0mber_results\u001b[0m\u001b[0;34m,\u001b[0m\u001b[0;34m\u001b[0m\u001b[0;34m\u001b[0m\u001b[0m\n",
            "\u001b[0;32m/tmp/ipython-input-6-2868753847.py\u001b[0m in \u001b[0;36mplot_ber\u001b[0;34m(snr_points, ber_curves_dict, channel_type, title_suffix, filename, snr_x_lims)\u001b[0m\n\u001b[1;32m     19\u001b[0m \u001b[0;34m\u001b[0m\u001b[0m\n\u001b[1;32m     20\u001b[0m         \u001b[0;31m# Adatta la lunghezza dei dati\u001b[0m\u001b[0;34m\u001b[0m\u001b[0;34m\u001b[0m\u001b[0m\n\u001b[0;32m---> 21\u001b[0;31m         \u001b[0;32mif\u001b[0m \u001b[0mlen\u001b[0m\u001b[0;34m(\u001b[0m\u001b[0mber_data\u001b[0m\u001b[0;34m)\u001b[0m \u001b[0;34m<\u001b[0m \u001b[0mlen\u001b[0m\u001b[0;34m(\u001b[0m\u001b[0msnr_points\u001b[0m\u001b[0;34m)\u001b[0m\u001b[0;34m:\u001b[0m\u001b[0;34m\u001b[0m\u001b[0;34m\u001b[0m\u001b[0m\n\u001b[0m\u001b[1;32m     22\u001b[0m             \u001b[0mtemp_ber_data\u001b[0m \u001b[0;34m=\u001b[0m \u001b[0mnp\u001b[0m\u001b[0;34m.\u001b[0m\u001b[0mfull\u001b[0m\u001b[0;34m(\u001b[0m\u001b[0mlen\u001b[0m\u001b[0;34m(\u001b[0m\u001b[0msnr_points\u001b[0m\u001b[0;34m)\u001b[0m\u001b[0;34m,\u001b[0m \u001b[0mnp\u001b[0m\u001b[0;34m.\u001b[0m\u001b[0mnan\u001b[0m\u001b[0;34m)\u001b[0m\u001b[0;34m\u001b[0m\u001b[0;34m\u001b[0m\u001b[0m\n\u001b[1;32m     23\u001b[0m             \u001b[0mtemp_ber_data\u001b[0m\u001b[0;34m[\u001b[0m\u001b[0;34m:\u001b[0m\u001b[0mlen\u001b[0m\u001b[0;34m(\u001b[0m\u001b[0mber_data\u001b[0m\u001b[0;34m)\u001b[0m\u001b[0;34m]\u001b[0m \u001b[0;34m=\u001b[0m \u001b[0mber_data\u001b[0m\u001b[0;34m\u001b[0m\u001b[0;34m\u001b[0m\u001b[0m\n",
            "\u001b[0;31mTypeError\u001b[0m: object of type 'NoneType' has no len()"
          ]
        },
        {
          "output_type": "display_data",
          "data": {
            "text/plain": [
              "<Figure size 1000x600 with 0 Axes>"
            ]
          },
          "metadata": {}
        }
      ]
    },
    {
      "cell_type": "markdown",
      "source": [
        "# Print the single interactive CNN setup."
      ],
      "metadata": {
        "id": "BGvFbz7jrN0C"
      }
    },
    {
      "cell_type": "code",
      "source": [
        "import os\n",
        "import numpy as np\n",
        "import plotly.graph_objs as go\n",
        "\n",
        "results_dir = \"/content/drive/MyDrive/GitHub/Rayleigh/results\"\n",
        "ber_files = [f for f in os.listdir(results_dir) if f.endswith(\"_ber.npy\")]\n",
        "\n",
        "# Esempio: SNR reali usati (modifica se necessario)\n",
        "snr_points = np.array([0, 2, 4, 6, 8, 10, 12, 14, 16, 18, 20])\n",
        "\n",
        "ber_data = {}\n",
        "for f in ber_files:\n",
        "    model_name = f.replace(\"_ber.npy\", \"\")\n",
        "    path = os.path.join(results_dir, f)\n",
        "    ber = np.load(path)\n",
        "    valid_ber = ber[~np.isnan(ber)]\n",
        "    if len(valid_ber) > 0:\n",
        "        ber_data[model_name] = {\n",
        "            \"ber\": ber,\n",
        "            \"mean\": np.mean(valid_ber)\n",
        "        }\n",
        "\n",
        "# Trova miglior modello globale\n",
        "best_model = min(ber_data.items(), key=lambda x: x[1][\"mean\"])\n",
        "best_model_name = best_model[0]\n",
        "\n",
        "# Crea grafico interattivo\n",
        "fig = go.Figure()\n",
        "\n",
        "for model_name, info in ber_data.items():\n",
        "    visibility = True if model_name == best_model_name else 'legendonly'\n",
        "    fig.add_trace(go.Scatter(\n",
        "        x=snr_points,\n",
        "        y=info[\"ber\"],\n",
        "        mode='lines+markers',\n",
        "        name=model_name,\n",
        "        visible=visibility,\n",
        "        line=dict(width=3 if model_name == best_model_name else 1.5)\n",
        "    ))\n",
        "\n",
        "fig.update_layout(\n",
        "    title=\"📉 Curve BER Interattive per Modelli CNN\",\n",
        "    xaxis_title=\"SNR (dB)\",\n",
        "    yaxis_title=\"Bit Error Rate (BER)\",\n",
        "    yaxis_type=\"log\",\n",
        "    hovermode=\"x unified\",\n",
        "    legend_title=\"Modelli\",\n",
        "    template=\"plotly_white\"\n",
        ")\n",
        "\n",
        "fig.show()\n"
      ],
      "metadata": {
        "colab": {
          "base_uri": "https://localhost:8080/",
          "height": 542
        },
        "id": "E8ehdJf2sIq1",
        "outputId": "1ca22e1b-7d28-4aa2-9f18-1b91cc0d95b2"
      },
      "execution_count": 8,
      "outputs": [
        {
          "output_type": "display_data",
          "data": {
            "text/html": [
              "<html>\n",
              "<head><meta charset=\"utf-8\" /></head>\n",
              "<body>\n",
              "    <div>            <script src=\"https://cdnjs.cloudflare.com/ajax/libs/mathjax/2.7.5/MathJax.js?config=TeX-AMS-MML_SVG\"></script><script type=\"text/javascript\">if (window.MathJax && window.MathJax.Hub && window.MathJax.Hub.Config) {window.MathJax.Hub.Config({SVG: {font: \"STIX-Web\"}});}</script>                <script type=\"text/javascript\">window.PlotlyConfig = {MathJaxConfig: 'local'};</script>\n",
              "        <script charset=\"utf-8\" src=\"https://cdn.plot.ly/plotly-2.35.2.min.js\"></script>                <div id=\"3703bff0-83a3-4003-8f11-0d7d5f97d1c0\" class=\"plotly-graph-div\" style=\"height:525px; width:100%;\"></div>            <script type=\"text/javascript\">                                    window.PLOTLYENV=window.PLOTLYENV || {};                                    if (document.getElementById(\"3703bff0-83a3-4003-8f11-0d7d5f97d1c0\")) {                    Plotly.newPlot(                        \"3703bff0-83a3-4003-8f11-0d7d5f97d1c0\",                        [{\"line\":{\"width\":1.5},\"mode\":\"lines+markers\",\"name\":\"CNN_3-ksize_128-filters_rayleigh_snr_0-20\",\"visible\":\"legendonly\",\"x\":[0,2,4,6,8,10,12,14,16,18,20],\"y\":[0.356308,0.325672,0.289784,0.255246,0.21824,0.182904,0.151352,0.121442,0.095864,0.074302,0.055674,0.039272,0.027676,0.021296,0.020298,0.022638,0.025286,0.027734,0.030458,0.033038,0.035516],\"type\":\"scatter\"},{\"line\":{\"width\":1.5},\"mode\":\"lines+markers\",\"name\":\"CNN_5-ksize_128-filters_rayleigh_snr_0-20\",\"visible\":\"legendonly\",\"x\":[0,2,4,6,8,10,12,14,16,18,20],\"y\":[0.36621,0.322428,0.2753,0.228492,0.1827,0.144118,0.112938,0.087338,0.067338,0.05184,0.03938,0.028686,0.021156,0.016606,0.014832,0.015324,0.01631,0.017206,0.01874,0.020018,0.021658],\"type\":\"scatter\"},{\"line\":{\"width\":1.5},\"mode\":\"lines+markers\",\"name\":\"CNN_7-ksize_128-filters_rayleigh_snr_0-20\",\"visible\":\"legendonly\",\"x\":[0,2,4,6,8,10,12,14,16,18,20],\"y\":[0.334202,0.28589,0.238884,0.194576,0.153802,0.121746,0.09593,0.075804,0.060314,0.048546,0.03897,0.029732,0.021906,0.016058,0.012478,0.01168,0.012078,0.0132,0.014728,0.016006,0.017568],\"type\":\"scatter\"},{\"line\":{\"width\":1.5},\"mode\":\"lines+markers\",\"name\":\"CNN_9-ksize_128-filters_rayleigh_snr_0-20\",\"visible\":\"legendonly\",\"x\":[0,2,4,6,8,10,12,14,16,18,20],\"y\":[0.31319,0.26703,0.223016,0.18209,0.144208,0.113516,0.088848,0.069506,0.053878,0.04253,0.032874,0.025378,0.019298,0.015106,0.012992,0.01253,0.012776,0.013252,0.014212,0.014792,0.016024],\"type\":\"scatter\"},{\"line\":{\"width\":1.5},\"mode\":\"lines+markers\",\"name\":\"CNN_3-ksize_256-filters_rayleigh_snr_0-20\",\"visible\":\"legendonly\",\"x\":[0,2,4,6,8,10,12,14,16,18,20],\"y\":[0.367628,0.33275,0.293878,0.25745,0.218462,0.182646,0.150964,0.12204,0.09664,0.076042,0.057176,0.040244,0.028348,0.022038,0.021532,0.024594,0.027922,0.03031,0.032792,0.035106,0.037234],\"type\":\"scatter\"},{\"line\":{\"width\":1.5},\"mode\":\"lines+markers\",\"name\":\"CNN_5-ksize_256-filters_rayleigh_snr_0-20\",\"visible\":\"legendonly\",\"x\":[0,2,4,6,8,10,12,14,16,18,20],\"y\":[0.353466,0.309482,0.26235,0.218664,0.175638,0.13946,0.110788,0.08734,0.068842,0.054626,0.042878,0.031956,0.023078,0.016646,0.013096,0.013154,0.014322,0.015886,0.017866,0.019554,0.02137],\"type\":\"scatter\"},{\"line\":{\"width\":1.5},\"mode\":\"lines+markers\",\"name\":\"CNN_7-ksize_256-filters_rayleigh_snr_0-20\",\"visible\":\"legendonly\",\"x\":[0,2,4,6,8,10,12,14,16,18,20],\"y\":[0.343962,0.29753,0.25054,0.204556,0.16175,0.12682,0.09887,0.076312,0.059048,0.04612,0.036,0.026966,0.020372,0.01568,0.013412,0.012998,0.013728,0.01469,0.016222,0.017514,0.019016],\"type\":\"scatter\"},{\"line\":{\"width\":1.5},\"mode\":\"lines+markers\",\"name\":\"CNN_9-ksize_256-filters_rayleigh_snr_0-20\",\"visible\":\"legendonly\",\"x\":[0,2,4,6,8,10,12,14,16,18,20],\"y\":[0.299162,0.255048,0.213744,0.17561,0.14004,0.11082,0.086994,0.068266,0.052778,0.041404,0.032112,0.024906,0.019022,0.014744,0.012464,0.01167,0.011684,0.01216,0.013156,0.013812,0.015056],\"type\":\"scatter\"},{\"line\":{\"width\":1.5},\"mode\":\"lines+markers\",\"name\":\"CNN_3-ksize_512-filters_rayleigh_snr_0-20\",\"visible\":\"legendonly\",\"x\":[0,2,4,6,8,10,12,14,16,18,20],\"y\":[0.355438,0.32135,0.28229,0.24734,0.208616,0.174104,0.143464,0.11544,0.09101,0.071002,0.05351,0.03861,0.028102,0.022208,0.02104,0.022012,0.02358,0.025092,0.02714,0.029366,0.031454],\"type\":\"scatter\"},{\"line\":{\"width\":1.5},\"mode\":\"lines+markers\",\"name\":\"CNN_5-ksize_512-filters_rayleigh_snr_0-20\",\"visible\":\"legendonly\",\"x\":[0,2,4,6,8,10,12,14,16,18,20],\"y\":[0.355384,0.312636,0.266782,0.223238,0.17944,0.143276,0.112994,0.08776,0.068206,0.052758,0.040402,0.029438,0.021672,0.016594,0.014262,0.014344,0.014976,0.015838,0.01728,0.018552,0.019994],\"type\":\"scatter\"},{\"line\":{\"width\":1.5},\"mode\":\"lines+markers\",\"name\":\"CNN_7-ksize_512-filters_rayleigh_snr_0-20\",\"visible\":\"legendonly\",\"x\":[0,2,4,6,8,10,12,14,16,18,20],\"y\":[0.32331,0.27788,0.233476,0.192212,0.153534,0.121474,0.09613,0.075016,0.058664,0.045702,0.035028,0.026424,0.020226,0.016476,0.015704,0.016674,0.018248,0.019762,0.021786,0.0233,0.025216],\"type\":\"scatter\"},{\"line\":{\"width\":1.5},\"mode\":\"lines+markers\",\"name\":\"CNN_9-ksize_512-filters_rayleigh_snr_0-20\",\"visible\":\"legendonly\",\"x\":[0,2,4,6,8,10,12,14,16,18,20],\"y\":[0.300716,0.255786,0.213778,0.175762,0.139664,0.111066,0.087976,0.069436,0.054246,0.042818,0.03322,0.02519,0.019102,0.014534,0.012136,0.011556,0.011602,0.012222,0.013302,0.014116,0.015288],\"type\":\"scatter\"},{\"line\":{\"width\":1.5},\"mode\":\"lines+markers\",\"name\":\"CNN_3-ksize_1024-filters_rayleigh_snr_0-20\",\"visible\":\"legendonly\",\"x\":[0,2,4,6,8,10,12,14,16,18,20],\"y\":[0.381338,0.344904,0.303976,0.264998,0.222972,0.186034,0.152616,0.123278,0.098634,0.077866,0.059358,0.043226,0.030664,0.02383,0.021832,0.023356,0.025954,0.028036,0.030322,0.03207,0.033818],\"type\":\"scatter\"},{\"line\":{\"width\":1.5},\"mode\":\"lines+markers\",\"name\":\"CNN_5-ksize_1024-filters_rayleigh_snr_0-20\",\"visible\":\"legendonly\",\"x\":[0,2,4,6,8,10,12,14,16,18,20],\"y\":[0.33535,0.292596,0.24998,0.209874,0.170774,0.137768,0.111432,0.087624,0.068882,0.054036,0.041396,0.030406,0.022302,0.017016,0.015056,0.01554,0.016454,0.017376,0.018718,0.019666,0.02107],\"type\":\"scatter\"},{\"line\":{\"width\":1.5},\"mode\":\"lines+markers\",\"name\":\"CNN_7-ksize_1024-filters_rayleigh_snr_0-20\",\"visible\":\"legendonly\",\"x\":[0,2,4,6,8,10,12,14,16,18,20],\"y\":[0.298132,0.253232,0.213636,0.176348,0.142834,0.115084,0.092918,0.074092,0.058512,0.045938,0.035674,0.026428,0.019956,0.015664,0.013784,0.013994,0.014828,0.01566,0.0171,0.018212,0.019704],\"type\":\"scatter\"},{\"line\":{\"width\":1.5},\"mode\":\"lines+markers\",\"name\":\"CNN_9-ksize_1024-filters_rayleigh_snr_0-20\",\"visible\":\"legendonly\",\"x\":[0,2,4,6,8,10,12,14,16,18,20],\"y\":[0.276392,0.234256,0.196874,0.163016,0.130938,0.105412,0.084214,0.067318,0.052708,0.041764,0.032366,0.024882,0.019116,0.014842,0.012372,0.011572,0.011328,0.011598,0.012402,0.01293,0.01401],\"type\":\"scatter\"},{\"line\":{\"width\":1.5},\"mode\":\"lines+markers\",\"name\":\"CNN_3-ksize_128-filters_rayleigh_snr_11-15\",\"visible\":\"legendonly\",\"x\":[0,2,4,6,8,10,12,14,16,18,20],\"y\":[0.359672,0.329286,0.293676,0.259418,0.220578,0.184116,0.150518,0.118844,0.091658,0.069592,0.051134,0.03584,0.026536,0.021718,0.021144,0.022456,0.02388,0.02517,0.027388,0.029492,0.031636],\"type\":\"scatter\"},{\"line\":{\"width\":1.5},\"mode\":\"lines+markers\",\"name\":\"CNN_5-ksize_128-filters_rayleigh_snr_11-15\",\"visible\":\"legendonly\",\"x\":[0,2,4,6,8,10,12,14,16,18,20],\"y\":[0.363896,0.323558,0.27994,0.235242,0.19061,0.151088,0.118088,0.09026,0.068174,0.05182,0.038536,0.02845,0.02137,0.017038,0.015632,0.015838,0.016724,0.017956,0.019906,0.021574,0.02359],\"type\":\"scatter\"},{\"line\":{\"width\":1.5},\"mode\":\"lines+markers\",\"name\":\"CNN_7-ksize_128-filters_rayleigh_snr_11-15\",\"visible\":\"legendonly\",\"x\":[0,2,4,6,8,10,12,14,16,18,20],\"y\":[0.329656,0.282002,0.235086,0.1912,0.150504,0.118078,0.092514,0.071278,0.05491,0.042748,0.032858,0.024746,0.019242,0.015664,0.014784,0.015126,0.016342,0.017498,0.019356,0.02065,0.02228],\"type\":\"scatter\"},{\"line\":{\"width\":1.5},\"mode\":\"lines+markers\",\"name\":\"CNN_9-ksize_128-filters_rayleigh_snr_11-15\",\"visible\":\"legendonly\",\"x\":[0,2,4,6,8,10,12,14,16,18,20],\"y\":[0.316364,0.26668,0.21916,0.176054,0.137124,0.107466,0.084566,0.066064,0.052244,0.041498,0.032578,0.025022,0.01902,0.01482,0.012364,0.011744,0.011796,0.012476,0.013638,0.014534,0.015752],\"type\":\"scatter\"},{\"line\":{\"width\":1.5},\"mode\":\"lines+markers\",\"name\":\"CNN_3-ksize_256-filters_rayleigh_snr_11-15\",\"visible\":\"legendonly\",\"x\":[0,2,4,6,8,10,12,14,16,18,20],\"y\":[0.370274,0.339508,0.302196,0.266998,0.22679,0.187968,0.153434,0.121576,0.094778,0.073892,0.056082,0.04033,0.029156,0.021834,0.018318,0.018472,0.019702,0.02139,0.02416,0.026868,0.029428],\"type\":\"scatter\"},{\"line\":{\"width\":1.5},\"mode\":\"lines+markers\",\"name\":\"CNN_5-ksize_256-filters_rayleigh_snr_11-15\",\"visible\":\"legendonly\",\"x\":[0,2,4,6,8,10,12,14,16,18,20],\"y\":[0.37087,0.327582,0.279784,0.23352,0.185832,0.14665,0.113888,0.087784,0.068006,0.053126,0.041544,0.031378,0.02338,0.017588,0.014264,0.013508,0.014178,0.015178,0.01697,0.01862,0.02048],\"type\":\"scatter\"},{\"line\":{\"width\":1.5},\"mode\":\"lines+markers\",\"name\":\"CNN_7-ksize_256-filters_rayleigh_snr_11-15\",\"visible\":\"legendonly\",\"x\":[0,2,4,6,8,10,12,14,16,18,20],\"y\":[0.298806,0.253932,0.211386,0.173698,0.139328,0.112082,0.090684,0.071974,0.057304,0.04576,0.035824,0.027452,0.020932,0.016078,0.013864,0.013626,0.01424,0.015188,0.016974,0.018312,0.01998],\"type\":\"scatter\"},{\"line\":{\"width\":1.5},\"mode\":\"lines+markers\",\"name\":\"CNN_9-ksize_256-filters_rayleigh_snr_11-15\",\"visible\":\"legendonly\",\"x\":[0,2,4,6,8,10,12,14,16,18,20],\"y\":[0.313998,0.266698,0.220992,0.179764,0.141966,0.11196,0.088088,0.06884,0.05395,0.042352,0.032906,0.025184,0.0195,0.015436,0.013704,0.013656,0.014202,0.01502,0.016642,0.017592,0.019048],\"type\":\"scatter\"},{\"line\":{\"width\":1.5},\"mode\":\"lines+markers\",\"name\":\"CNN_3-ksize_512-filters_rayleigh_snr_11-15\",\"visible\":\"legendonly\",\"x\":[0,2,4,6,8,10,12,14,16,18,20],\"y\":[0.371288,0.338736,0.301222,0.26365,0.222526,0.184136,0.150088,0.117706,0.09154,0.071006,0.05448,0.040236,0.029834,0.021972,0.017564,0.016844,0.01792,0.019836,0.022826,0.025508,0.028256],\"type\":\"scatter\"},{\"line\":{\"width\":1.5},\"mode\":\"lines+markers\",\"name\":\"CNN_5-ksize_512-filters_rayleigh_snr_11-15\",\"visible\":\"legendonly\",\"x\":[0,2,4,6,8,10,12,14,16,18,20],\"y\":[0.33674,0.291798,0.245954,0.20264,0.162288,0.128672,0.101712,0.079878,0.061806,0.048576,0.03747,0.02774,0.021136,0.016932,0.015472,0.015636,0.016646,0.017818,0.019748,0.021208,0.023116],\"type\":\"scatter\"},{\"line\":{\"width\":1.5},\"mode\":\"lines+markers\",\"name\":\"CNN_7-ksize_512-filters_rayleigh_snr_11-15\",\"visible\":\"legendonly\",\"x\":[0,2,4,6,8,10,12,14,16,18,20],\"y\":[0.325738,0.279706,0.23476,0.192992,0.153856,0.122562,0.09799,0.076756,0.061074,0.047952,0.037296,0.028362,0.021326,0.016396,0.014404,0.013896,0.014352,0.014938,0.01635,0.017596,0.018952],\"type\":\"scatter\"},{\"line\":{\"width\":3},\"mode\":\"lines+markers\",\"name\":\"CNN_9-ksize_512-filters_rayleigh_snr_11-15\",\"visible\":true,\"x\":[0,2,4,6,8,10,12,14,16,18,20],\"y\":[0.262742,0.221282,0.18449,0.152628,0.122702,0.099638,0.080614,0.064136,0.050388,0.03989,0.030974,0.024104,0.019196,0.015846,0.014294,0.013808,0.013812,0.014002,0.014998,0.015518,0.016494],\"type\":\"scatter\"},{\"line\":{\"width\":1.5},\"mode\":\"lines+markers\",\"name\":\"CNN_3-ksize_1024-filters_rayleigh_snr_11-15\",\"visible\":\"legendonly\",\"x\":[0,2,4,6,8,10,12,14,16,18,20],\"y\":[0.433418,0.402498,0.363968,0.318612,0.267274,0.216428,0.17031,0.130108,0.099246,0.07553,0.05846,0.045212,0.035222,0.026232,0.018506,0.015174,0.01506,0.016956,0.020368,0.023748,0.0269],\"type\":\"scatter\"},{\"line\":{\"width\":1.5},\"mode\":\"lines+markers\",\"name\":\"CNN_5-ksize_1024-filters_rayleigh_snr_11-15\",\"visible\":\"legendonly\",\"x\":[0,2,4,6,8,10,12,14,16,18,20],\"y\":[0.36591,0.31965,0.271434,0.223968,0.178228,0.139736,0.10888,0.084026,0.064886,0.050496,0.039124,0.03016,0.023514,0.01852,0.016118,0.015528,0.01602,0.017026,0.018978,0.020616,0.022718],\"type\":\"scatter\"},{\"line\":{\"width\":1.5},\"mode\":\"lines+markers\",\"name\":\"CNN_7-ksize_1024-filters_rayleigh_snr_11-15\",\"visible\":\"legendonly\",\"x\":[0,2,4,6,8,10,12,14,16,18,20],\"y\":[0.317692,0.270396,0.225008,0.183538,0.146162,0.116106,0.092888,0.07336,0.058588,0.047574,0.038096,0.030194,0.02333,0.017674,0.013924,0.012444,0.011912,0.0126,0.014016,0.015306,0.017076],\"type\":\"scatter\"},{\"line\":{\"width\":1.5},\"mode\":\"lines+markers\",\"name\":\"CNN_9-ksize_1024-filters_rayleigh_snr_11-15\",\"visible\":\"legendonly\",\"x\":[0,2,4,6,8,10,12,14,16,18,20],\"y\":[0.303806,0.261592,0.220584,0.182616,0.146312,0.116376,0.092942,0.072686,0.057198,0.045088,0.03525,0.026946,0.020764,0.015986,0.013814,0.013588,0.014038,0.014966,0.016628,0.017754,0.019332],\"type\":\"scatter\"}],                        {\"template\":{\"data\":{\"barpolar\":[{\"marker\":{\"line\":{\"color\":\"white\",\"width\":0.5},\"pattern\":{\"fillmode\":\"overlay\",\"size\":10,\"solidity\":0.2}},\"type\":\"barpolar\"}],\"bar\":[{\"error_x\":{\"color\":\"#2a3f5f\"},\"error_y\":{\"color\":\"#2a3f5f\"},\"marker\":{\"line\":{\"color\":\"white\",\"width\":0.5},\"pattern\":{\"fillmode\":\"overlay\",\"size\":10,\"solidity\":0.2}},\"type\":\"bar\"}],\"carpet\":[{\"aaxis\":{\"endlinecolor\":\"#2a3f5f\",\"gridcolor\":\"#C8D4E3\",\"linecolor\":\"#C8D4E3\",\"minorgridcolor\":\"#C8D4E3\",\"startlinecolor\":\"#2a3f5f\"},\"baxis\":{\"endlinecolor\":\"#2a3f5f\",\"gridcolor\":\"#C8D4E3\",\"linecolor\":\"#C8D4E3\",\"minorgridcolor\":\"#C8D4E3\",\"startlinecolor\":\"#2a3f5f\"},\"type\":\"carpet\"}],\"choropleth\":[{\"colorbar\":{\"outlinewidth\":0,\"ticks\":\"\"},\"type\":\"choropleth\"}],\"contourcarpet\":[{\"colorbar\":{\"outlinewidth\":0,\"ticks\":\"\"},\"type\":\"contourcarpet\"}],\"contour\":[{\"colorbar\":{\"outlinewidth\":0,\"ticks\":\"\"},\"colorscale\":[[0.0,\"#0d0887\"],[0.1111111111111111,\"#46039f\"],[0.2222222222222222,\"#7201a8\"],[0.3333333333333333,\"#9c179e\"],[0.4444444444444444,\"#bd3786\"],[0.5555555555555556,\"#d8576b\"],[0.6666666666666666,\"#ed7953\"],[0.7777777777777778,\"#fb9f3a\"],[0.8888888888888888,\"#fdca26\"],[1.0,\"#f0f921\"]],\"type\":\"contour\"}],\"heatmapgl\":[{\"colorbar\":{\"outlinewidth\":0,\"ticks\":\"\"},\"colorscale\":[[0.0,\"#0d0887\"],[0.1111111111111111,\"#46039f\"],[0.2222222222222222,\"#7201a8\"],[0.3333333333333333,\"#9c179e\"],[0.4444444444444444,\"#bd3786\"],[0.5555555555555556,\"#d8576b\"],[0.6666666666666666,\"#ed7953\"],[0.7777777777777778,\"#fb9f3a\"],[0.8888888888888888,\"#fdca26\"],[1.0,\"#f0f921\"]],\"type\":\"heatmapgl\"}],\"heatmap\":[{\"colorbar\":{\"outlinewidth\":0,\"ticks\":\"\"},\"colorscale\":[[0.0,\"#0d0887\"],[0.1111111111111111,\"#46039f\"],[0.2222222222222222,\"#7201a8\"],[0.3333333333333333,\"#9c179e\"],[0.4444444444444444,\"#bd3786\"],[0.5555555555555556,\"#d8576b\"],[0.6666666666666666,\"#ed7953\"],[0.7777777777777778,\"#fb9f3a\"],[0.8888888888888888,\"#fdca26\"],[1.0,\"#f0f921\"]],\"type\":\"heatmap\"}],\"histogram2dcontour\":[{\"colorbar\":{\"outlinewidth\":0,\"ticks\":\"\"},\"colorscale\":[[0.0,\"#0d0887\"],[0.1111111111111111,\"#46039f\"],[0.2222222222222222,\"#7201a8\"],[0.3333333333333333,\"#9c179e\"],[0.4444444444444444,\"#bd3786\"],[0.5555555555555556,\"#d8576b\"],[0.6666666666666666,\"#ed7953\"],[0.7777777777777778,\"#fb9f3a\"],[0.8888888888888888,\"#fdca26\"],[1.0,\"#f0f921\"]],\"type\":\"histogram2dcontour\"}],\"histogram2d\":[{\"colorbar\":{\"outlinewidth\":0,\"ticks\":\"\"},\"colorscale\":[[0.0,\"#0d0887\"],[0.1111111111111111,\"#46039f\"],[0.2222222222222222,\"#7201a8\"],[0.3333333333333333,\"#9c179e\"],[0.4444444444444444,\"#bd3786\"],[0.5555555555555556,\"#d8576b\"],[0.6666666666666666,\"#ed7953\"],[0.7777777777777778,\"#fb9f3a\"],[0.8888888888888888,\"#fdca26\"],[1.0,\"#f0f921\"]],\"type\":\"histogram2d\"}],\"histogram\":[{\"marker\":{\"pattern\":{\"fillmode\":\"overlay\",\"size\":10,\"solidity\":0.2}},\"type\":\"histogram\"}],\"mesh3d\":[{\"colorbar\":{\"outlinewidth\":0,\"ticks\":\"\"},\"type\":\"mesh3d\"}],\"parcoords\":[{\"line\":{\"colorbar\":{\"outlinewidth\":0,\"ticks\":\"\"}},\"type\":\"parcoords\"}],\"pie\":[{\"automargin\":true,\"type\":\"pie\"}],\"scatter3d\":[{\"line\":{\"colorbar\":{\"outlinewidth\":0,\"ticks\":\"\"}},\"marker\":{\"colorbar\":{\"outlinewidth\":0,\"ticks\":\"\"}},\"type\":\"scatter3d\"}],\"scattercarpet\":[{\"marker\":{\"colorbar\":{\"outlinewidth\":0,\"ticks\":\"\"}},\"type\":\"scattercarpet\"}],\"scattergeo\":[{\"marker\":{\"colorbar\":{\"outlinewidth\":0,\"ticks\":\"\"}},\"type\":\"scattergeo\"}],\"scattergl\":[{\"marker\":{\"colorbar\":{\"outlinewidth\":0,\"ticks\":\"\"}},\"type\":\"scattergl\"}],\"scattermapbox\":[{\"marker\":{\"colorbar\":{\"outlinewidth\":0,\"ticks\":\"\"}},\"type\":\"scattermapbox\"}],\"scatterpolargl\":[{\"marker\":{\"colorbar\":{\"outlinewidth\":0,\"ticks\":\"\"}},\"type\":\"scatterpolargl\"}],\"scatterpolar\":[{\"marker\":{\"colorbar\":{\"outlinewidth\":0,\"ticks\":\"\"}},\"type\":\"scatterpolar\"}],\"scatter\":[{\"fillpattern\":{\"fillmode\":\"overlay\",\"size\":10,\"solidity\":0.2},\"type\":\"scatter\"}],\"scatterternary\":[{\"marker\":{\"colorbar\":{\"outlinewidth\":0,\"ticks\":\"\"}},\"type\":\"scatterternary\"}],\"surface\":[{\"colorbar\":{\"outlinewidth\":0,\"ticks\":\"\"},\"colorscale\":[[0.0,\"#0d0887\"],[0.1111111111111111,\"#46039f\"],[0.2222222222222222,\"#7201a8\"],[0.3333333333333333,\"#9c179e\"],[0.4444444444444444,\"#bd3786\"],[0.5555555555555556,\"#d8576b\"],[0.6666666666666666,\"#ed7953\"],[0.7777777777777778,\"#fb9f3a\"],[0.8888888888888888,\"#fdca26\"],[1.0,\"#f0f921\"]],\"type\":\"surface\"}],\"table\":[{\"cells\":{\"fill\":{\"color\":\"#EBF0F8\"},\"line\":{\"color\":\"white\"}},\"header\":{\"fill\":{\"color\":\"#C8D4E3\"},\"line\":{\"color\":\"white\"}},\"type\":\"table\"}]},\"layout\":{\"annotationdefaults\":{\"arrowcolor\":\"#2a3f5f\",\"arrowhead\":0,\"arrowwidth\":1},\"autotypenumbers\":\"strict\",\"coloraxis\":{\"colorbar\":{\"outlinewidth\":0,\"ticks\":\"\"}},\"colorscale\":{\"diverging\":[[0,\"#8e0152\"],[0.1,\"#c51b7d\"],[0.2,\"#de77ae\"],[0.3,\"#f1b6da\"],[0.4,\"#fde0ef\"],[0.5,\"#f7f7f7\"],[0.6,\"#e6f5d0\"],[0.7,\"#b8e186\"],[0.8,\"#7fbc41\"],[0.9,\"#4d9221\"],[1,\"#276419\"]],\"sequential\":[[0.0,\"#0d0887\"],[0.1111111111111111,\"#46039f\"],[0.2222222222222222,\"#7201a8\"],[0.3333333333333333,\"#9c179e\"],[0.4444444444444444,\"#bd3786\"],[0.5555555555555556,\"#d8576b\"],[0.6666666666666666,\"#ed7953\"],[0.7777777777777778,\"#fb9f3a\"],[0.8888888888888888,\"#fdca26\"],[1.0,\"#f0f921\"]],\"sequentialminus\":[[0.0,\"#0d0887\"],[0.1111111111111111,\"#46039f\"],[0.2222222222222222,\"#7201a8\"],[0.3333333333333333,\"#9c179e\"],[0.4444444444444444,\"#bd3786\"],[0.5555555555555556,\"#d8576b\"],[0.6666666666666666,\"#ed7953\"],[0.7777777777777778,\"#fb9f3a\"],[0.8888888888888888,\"#fdca26\"],[1.0,\"#f0f921\"]]},\"colorway\":[\"#636efa\",\"#EF553B\",\"#00cc96\",\"#ab63fa\",\"#FFA15A\",\"#19d3f3\",\"#FF6692\",\"#B6E880\",\"#FF97FF\",\"#FECB52\"],\"font\":{\"color\":\"#2a3f5f\"},\"geo\":{\"bgcolor\":\"white\",\"lakecolor\":\"white\",\"landcolor\":\"white\",\"showlakes\":true,\"showland\":true,\"subunitcolor\":\"#C8D4E3\"},\"hoverlabel\":{\"align\":\"left\"},\"hovermode\":\"closest\",\"mapbox\":{\"style\":\"light\"},\"paper_bgcolor\":\"white\",\"plot_bgcolor\":\"white\",\"polar\":{\"angularaxis\":{\"gridcolor\":\"#EBF0F8\",\"linecolor\":\"#EBF0F8\",\"ticks\":\"\"},\"bgcolor\":\"white\",\"radialaxis\":{\"gridcolor\":\"#EBF0F8\",\"linecolor\":\"#EBF0F8\",\"ticks\":\"\"}},\"scene\":{\"xaxis\":{\"backgroundcolor\":\"white\",\"gridcolor\":\"#DFE8F3\",\"gridwidth\":2,\"linecolor\":\"#EBF0F8\",\"showbackground\":true,\"ticks\":\"\",\"zerolinecolor\":\"#EBF0F8\"},\"yaxis\":{\"backgroundcolor\":\"white\",\"gridcolor\":\"#DFE8F3\",\"gridwidth\":2,\"linecolor\":\"#EBF0F8\",\"showbackground\":true,\"ticks\":\"\",\"zerolinecolor\":\"#EBF0F8\"},\"zaxis\":{\"backgroundcolor\":\"white\",\"gridcolor\":\"#DFE8F3\",\"gridwidth\":2,\"linecolor\":\"#EBF0F8\",\"showbackground\":true,\"ticks\":\"\",\"zerolinecolor\":\"#EBF0F8\"}},\"shapedefaults\":{\"line\":{\"color\":\"#2a3f5f\"}},\"ternary\":{\"aaxis\":{\"gridcolor\":\"#DFE8F3\",\"linecolor\":\"#A2B1C6\",\"ticks\":\"\"},\"baxis\":{\"gridcolor\":\"#DFE8F3\",\"linecolor\":\"#A2B1C6\",\"ticks\":\"\"},\"bgcolor\":\"white\",\"caxis\":{\"gridcolor\":\"#DFE8F3\",\"linecolor\":\"#A2B1C6\",\"ticks\":\"\"}},\"title\":{\"x\":0.05},\"xaxis\":{\"automargin\":true,\"gridcolor\":\"#EBF0F8\",\"linecolor\":\"#EBF0F8\",\"ticks\":\"\",\"title\":{\"standoff\":15},\"zerolinecolor\":\"#EBF0F8\",\"zerolinewidth\":2},\"yaxis\":{\"automargin\":true,\"gridcolor\":\"#EBF0F8\",\"linecolor\":\"#EBF0F8\",\"ticks\":\"\",\"title\":{\"standoff\":15},\"zerolinecolor\":\"#EBF0F8\",\"zerolinewidth\":2}}},\"yaxis\":{\"title\":{\"text\":\"Bit Error Rate (BER)\"},\"type\":\"log\"},\"title\":{\"text\":\"📉 Curve BER Interattive per Modelli CNN\"},\"xaxis\":{\"title\":{\"text\":\"SNR (dB)\"}},\"hovermode\":\"x unified\",\"legend\":{\"title\":{\"text\":\"Modelli\"}}},                        {\"responsive\": true}                    ).then(function(){\n",
              "                            \n",
              "var gd = document.getElementById('3703bff0-83a3-4003-8f11-0d7d5f97d1c0');\n",
              "var x = new MutationObserver(function (mutations, observer) {{\n",
              "        var display = window.getComputedStyle(gd).display;\n",
              "        if (!display || display === 'none') {{\n",
              "            console.log([gd, 'removed!']);\n",
              "            Plotly.purge(gd);\n",
              "            observer.disconnect();\n",
              "        }}\n",
              "}});\n",
              "\n",
              "// Listen for the removal of the full notebook cells\n",
              "var notebookContainer = gd.closest('#notebook-container');\n",
              "if (notebookContainer) {{\n",
              "    x.observe(notebookContainer, {childList: true});\n",
              "}}\n",
              "\n",
              "// Listen for the clearing of the current output cell\n",
              "var outputEl = gd.closest('.output');\n",
              "if (outputEl) {{\n",
              "    x.observe(outputEl, {childList: true});\n",
              "}}\n",
              "\n",
              "                        })                };                            </script>        </div>\n",
              "</body>\n",
              "</html>"
            ]
          },
          "metadata": {}
        }
      ]
    }
  ]
}