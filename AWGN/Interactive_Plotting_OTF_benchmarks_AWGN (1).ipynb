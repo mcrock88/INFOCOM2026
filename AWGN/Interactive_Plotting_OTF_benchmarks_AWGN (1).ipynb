{
  "nbformat": 4,
  "nbformat_minor": 0,
  "metadata": {
    "colab": {
      "provenance": [],
      "gpuType": "T4",
      "collapsed_sections": [
        "OBZ65HW9CLdc",
        "KFLD2L3RvotX"
      ]
    },
    "kernelspec": {
      "name": "python3",
      "display_name": "Python 3"
    },
    "language_info": {
      "name": "python"
    },
    "accelerator": "GPU"
  },
  "cells": [
    {
      "cell_type": "markdown",
      "source": [
        "# Importing the libraries"
      ],
      "metadata": {
        "id": "OEAfQA05D6ua"
      }
    },
    {
      "cell_type": "code",
      "source": [
        "import numpy as np\n",
        "import random\n",
        "import tensorflow as tf\n",
        "import os\n",
        "import plotly.graph_objs as go"
      ],
      "metadata": {
        "id": "w4Wg7t_T4J21"
      },
      "execution_count": 2,
      "outputs": []
    },
    {
      "cell_type": "markdown",
      "source": [
        "# Set experiment parameters and seeds for random operations."
      ],
      "metadata": {
        "id": "AujxZNQWMBuP"
      }
    },
    {
      "cell_type": "code",
      "source": [
        "# --- 1. Parametri di Simulazione di Base ---\n",
        "BETA = 50  # Fattore di spreading (lunghezza della sequenza caotica per simbolo)\n",
        "M = 4      # Numero di sottoportanti\n",
        "X0_INITIAL = 0.9 # Stato iniziale per le mappe caotiche\n",
        "SNR_TEST_RANGE_DB = np.arange(0, 21, 1)\n",
        "SNR_TRAIN_RANGE_DB = [0, 20] # SNR range for training\n",
        "\n",
        "# Dataset sizes (adjust as needed for computational resources)\n",
        "NUM_SYMBOLS_TRAIN = 60000\n",
        "NUM_SYMBOLS_VALIDATION = 20000\n",
        "NUM_SYMBOLS_TEST_PER_SNR = 500000\n",
        "\n",
        "\n",
        "CHANNEL_TYPE = 'awgn'\n",
        "L_FADING = 1 # Parametro per Rayleigh fading\n",
        "\n",
        "# --- 1. Impostazione del Seed Globale all'inizio dello script ---\n",
        "# Questo è il punto chiave per la riproducibilità di TUTTO ciò che segue.\n",
        "MASTER_RANDOM_SEED = 42\n",
        "np.random.seed(MASTER_RANDOM_SEED)\n",
        "random.seed(MASTER_RANDOM_SEED) # Imposta anche il seed per la libreria 'random' di Python se la usi\n",
        "tf.random.set_seed(MASTER_RANDOM_SEED)\n",
        "os.environ['PYTHONHASHSEED'] = str(MASTER_RANDOM_SEED) # Per operazioni basate su hash (es. ordine dei dizionari)\n",
        "os.environ['TF_DETERMINISTIC_OPS'] = '1' # Forza operazioni deterministiche in TensorFlow 2.x"
      ],
      "metadata": {
        "id": "uXGzTxrOME1z"
      },
      "execution_count": 3,
      "outputs": []
    },
    {
      "cell_type": "markdown",
      "source": [
        "# Print the HW Specs."
      ],
      "metadata": {
        "id": "OBZ65HW9CLdc"
      }
    },
    {
      "cell_type": "code",
      "source": [
        "print(\"--- Dettagli dell'Architettura Hardware della Sessione Colab ---\\n\")\n",
        "\n",
        "# --- 1. Dettagli CPU ---\n",
        "print(\"--- Dettagli CPU ---\")\n",
        "!lscpu\n",
        "print(\"\\n\")\n",
        "\n",
        "# --- 2. Dettagli RAM (Memoria) ---\n",
        "print(\"--- Dettagli RAM (Memoria) ---\")\n",
        "!cat /proc/meminfo | grep MemTotal\n",
        "print(\"\\n\")\n",
        "\n",
        "# --- 3. Dettagli Spazio su Disco ---\n",
        "print(\"--- Dettagli Spazio su Disco ---\")\n",
        "!df -h /\n",
        "print(\"\\n\")\n",
        "\n",
        "# --- 4. Dettagli Acceleratore Hardware (GPU/TPU) ---\n",
        "print(\"--- Dettagli Acceleratore Hardware (GPU/TPU) ---\")\n",
        "try:\n",
        "    tpu_address = os.environ.get('COLAB_TPU_ADDR')\n",
        "    if tpu_address:\n",
        "        resolver = tf.distribute.cluster_resolver.TPUClusterResolver(tpu=tpu_address)\n",
        "        tf.config.experimental_connect_to_cluster(resolver)\n",
        "        tf.tpu.experimental.initialize_tpu_system(resolver)\n",
        "        print(f\"Tipo Acceleratore: TPU (indirizzo: {tpu_address})\")\n",
        "        print(\"Dispositivi TPU disponibili:\")\n",
        "        for device in tf.config.list_logical_devices('TPU'):\n",
        "            print(f\"  - {device.name}\")\n",
        "    else:\n",
        "        gpus = tf.config.list_physical_devices('GPU')\n",
        "        if gpus:\n",
        "            print(f\"Tipo Acceleratore: GPU\")\n",
        "            for gpu in gpus:\n",
        "                print(f\"  - Dispositivo GPU rilevato: {gpu.name}\")\n",
        "            print(\"\\nDettagli GPU specifici (da `!nvidia-smi`):\")\n",
        "            !nvidia-smi\n",
        "        else:\n",
        "            print(\"Tipo Acceleratore: Nessuna GPU o TPU rilevata (in uso CPU)\")\n",
        "\n",
        "except Exception as e:\n",
        "    print(f\"Si è verificato un errore durante la rilevazione dell'acceleratore: {e}\")\n",
        "    print(\"Tentativo di rilevare i dispositivi TensorFlow standard:\")\n",
        "    devices = tf.config.list_logical_devices()\n",
        "    if devices:\n",
        "        for device in devices:\n",
        "            print(f\"  - Dispositivo rilevato: {device.name}, Tipo: {device.device_type}\")\n",
        "    else:\n",
        "        print(\"Nessun dispositivo TensorFlow rilevato.\")\n",
        "\n",
        "print(\"\\n--- Analisi Dettagli Hardware Completata ---\")"
      ],
      "metadata": {
        "id": "BBhq145cCO9I",
        "colab": {
          "base_uri": "https://localhost:8080/"
        },
        "outputId": "f4b12b11-5a93-4427-96b2-c4f0ba55928a"
      },
      "execution_count": 4,
      "outputs": [
        {
          "output_type": "stream",
          "name": "stdout",
          "text": [
            "--- Dettagli dell'Architettura Hardware della Sessione Colab ---\n",
            "\n",
            "--- Dettagli CPU ---\n",
            "Architecture:             x86_64\n",
            "  CPU op-mode(s):         32-bit, 64-bit\n",
            "  Address sizes:          46 bits physical, 48 bits virtual\n",
            "  Byte Order:             Little Endian\n",
            "CPU(s):                   2\n",
            "  On-line CPU(s) list:    0,1\n",
            "Vendor ID:                GenuineIntel\n",
            "  Model name:             Intel(R) Xeon(R) CPU @ 2.20GHz\n",
            "    CPU family:           6\n",
            "    Model:                79\n",
            "    Thread(s) per core:   2\n",
            "    Core(s) per socket:   1\n",
            "    Socket(s):            1\n",
            "    Stepping:             0\n",
            "    BogoMIPS:             4399.99\n",
            "    Flags:                fpu vme de pse tsc msr pae mce cx8 apic sep mtrr pge m\n",
            "                          ca cmov pat pse36 clflush mmx fxsr sse sse2 ss ht sysc\n",
            "                          all nx pdpe1gb rdtscp lm constant_tsc rep_good nopl xt\n",
            "                          opology nonstop_tsc cpuid tsc_known_freq pni pclmulqdq\n",
            "                           ssse3 fma cx16 pcid sse4_1 sse4_2 x2apic movbe popcnt\n",
            "                           aes xsave avx f16c rdrand hypervisor lahf_lm abm 3dno\n",
            "                          wprefetch invpcid_single ssbd ibrs ibpb stibp fsgsbase\n",
            "                           tsc_adjust bmi1 hle avx2 smep bmi2 erms invpcid rtm r\n",
            "                          dseed adx smap xsaveopt arat md_clear arch_capabilitie\n",
            "                          s\n",
            "Virtualization features:  \n",
            "  Hypervisor vendor:      KVM\n",
            "  Virtualization type:    full\n",
            "Caches (sum of all):      \n",
            "  L1d:                    32 KiB (1 instance)\n",
            "  L1i:                    32 KiB (1 instance)\n",
            "  L2:                     256 KiB (1 instance)\n",
            "  L3:                     55 MiB (1 instance)\n",
            "NUMA:                     \n",
            "  NUMA node(s):           1\n",
            "  NUMA node0 CPU(s):      0,1\n",
            "Vulnerabilities:          \n",
            "  Gather data sampling:   Not affected\n",
            "  Itlb multihit:          Not affected\n",
            "  L1tf:                   Mitigation; PTE Inversion\n",
            "  Mds:                    Vulnerable; SMT Host state unknown\n",
            "  Meltdown:               Vulnerable\n",
            "  Mmio stale data:        Vulnerable\n",
            "  Reg file data sampling: Not affected\n",
            "  Retbleed:               Vulnerable\n",
            "  Spec rstack overflow:   Not affected\n",
            "  Spec store bypass:      Vulnerable\n",
            "  Spectre v1:             Vulnerable: __user pointer sanitization and usercopy b\n",
            "                          arriers only; no swapgs barriers\n",
            "  Spectre v2:             Vulnerable; IBPB: disabled; STIBP: disabled; PBRSB-eIB\n",
            "                          RS: Not affected; BHI: Vulnerable\n",
            "  Srbds:                  Not affected\n",
            "  Tsx async abort:        Vulnerable\n",
            "\n",
            "\n",
            "--- Dettagli RAM (Memoria) ---\n",
            "MemTotal:       13289424 kB\n",
            "\n",
            "\n",
            "--- Dettagli Spazio su Disco ---\n",
            "Filesystem      Size  Used Avail Use% Mounted on\n",
            "overlay         108G   38G   70G  36% /\n",
            "\n",
            "\n",
            "--- Dettagli Acceleratore Hardware (GPU/TPU) ---\n",
            "Tipo Acceleratore: Nessuna GPU o TPU rilevata (in uso CPU)\n",
            "\n",
            "--- Analisi Dettagli Hardware Completata ---\n"
          ]
        }
      ]
    },
    {
      "cell_type": "markdown",
      "source": [
        "# Connect To Gdrive to store the datasets created."
      ],
      "metadata": {
        "id": "X46EKvDxpZ-a"
      }
    },
    {
      "cell_type": "code",
      "source": [
        "from google.colab import drive\n",
        "drive.mount('/content/drive')"
      ],
      "metadata": {
        "colab": {
          "base_uri": "https://localhost:8080/"
        },
        "id": "O7J7tQfWpjXc",
        "outputId": "24834ff1-4cde-45a9-8fb4-394f5d8c10cd"
      },
      "execution_count": 5,
      "outputs": [
        {
          "output_type": "stream",
          "name": "stdout",
          "text": [
            "Mounted at /content/drive\n"
          ]
        }
      ]
    },
    {
      "cell_type": "markdown",
      "source": [
        "# Plot the results."
      ],
      "metadata": {
        "id": "BGvFbz7jrN0C"
      }
    },
    {
      "cell_type": "code",
      "source": [
        "def moving_average(x, w=8):\n",
        "    \"\"\"Calcola la media mobile semplice con finestra w\"\"\"\n",
        "    return np.convolve(x, np.ones(w)/w, mode='valid')"
      ],
      "metadata": {
        "id": "WvTTQyG5A-2Z"
      },
      "execution_count": 6,
      "outputs": []
    },
    {
      "cell_type": "code",
      "source": [
        "results_dir = \"/content/drive/MyDrive/GitHub/AWGN/results_otf_test\"\n",
        "ber_files = [f for f in os.listdir(results_dir) if f.endswith(\"_ber.npy\")]\n",
        "\n",
        "# Da qui in poi seleziona solo i migliori.\n",
        "# Dunque la mia CNN_9 e 128\n",
        "filtered_files = [\n",
        "    f for f in ber_files\n",
        "    if not f.startswith(\"CNN_\") or \"CNN_9-ksize_128-filters\" in f\n",
        "]\n",
        "\n",
        "# Esempio: SNR reali usati (modifica se necessario)\n",
        "snr_points = np.array([0, 1, 2, 3, 4, 5, 6, 7, 8, 9, 10, 11, 12, 13, 14, 15, 16, 17, 18, 19, 20])\n",
        "\n",
        "ber_data = {}\n",
        "for f in ber_files:\n",
        "    model_name = f.replace(\"_ber.npy\", \"\")\n",
        "    path = os.path.join(results_dir, f)\n",
        "    ber = np.load(path)\n",
        "    valid_ber = ber[~np.isnan(ber)]\n",
        "    if len(valid_ber) > 0:\n",
        "        ber_data[model_name] = {\n",
        "            \"ber\": ber,\n",
        "            \"mean\": np.mean(valid_ber)\n",
        "        }\n",
        "\n",
        "# Trova miglior modello globale\n",
        "best_model = min(ber_data.items(), key=lambda x: x[1][\"mean\"])\n",
        "best_model_name = best_model[0]\n",
        "\n",
        "# Crea grafico interattivo\n",
        "fig = go.Figure()\n",
        "\n",
        "for model_name, info in ber_data.items():\n",
        "    visibility = True if model_name == best_model_name else 'legendonly'\n",
        "    x_vals = snr_points\n",
        "    y_vals = moving_average(info['ber']) #smooth_with_spline(snr_points, info[\"ber\"])\n",
        "    fig.add_trace(go.Scatter(\n",
        "        x=x_vals,\n",
        "        y=y_vals,\n",
        "        mode='lines+markers',\n",
        "        name=model_name,\n",
        "        visible=visibility,\n",
        "        line=dict(width=3 if model_name == best_model_name else 1.5)\n",
        "    ))\n",
        "\n",
        "fig.update_layout(\n",
        "    title=\"📉 Curve BER Interattive per Modelli CNN\",\n",
        "    xaxis_title=\"SNR (dB)\",\n",
        "    yaxis_title=\"Bit Error Rate (BER)\",\n",
        "    yaxis_type=\"log\",\n",
        "    yaxis=dict(\n",
        "        range=[-5, 0],  # scala log da 1e-5 a 1e0\n",
        "        tickvals=[1e0, 1e-1, 1e-2, 1e-3, 1e-4, 1e-5, 1e-6, 1e-7, 1e-8],\n",
        "        ticktext=[\"$10^0$\", \"$10^{-1}$\", \"$10^{-2}$\", \"$10^{-3}$\", \"$10^{-4}$\", \"$10^{-5}$\",\"$10^{-6}$\",\"$10^{-7}$\",\"$10^{-8}$\"],\n",
        "        showgrid=True,\n",
        "        gridcolor='lightgray',\n",
        "        gridwidth=1,\n",
        "        dtick=\"D1\",                 # ticks a ogni potenza e anche intermedi (2,3…9)\n",
        "        tickformat=\"power\",         # visualizza come 10⁻¹, 10⁻², ecc.\n",
        "        minor=dict(                 # attiva griglia per i minori\n",
        "            showgrid=True,\n",
        "            gridcolor='lightgray',\n",
        "            gridwidth=1\n",
        "        ),\n",
        "    ),\n",
        "    xaxis=dict(\n",
        "        showgrid=True,\n",
        "        gridcolor='lightgray',\n",
        "        gridwidth=1,\n",
        "        tickvals=snr_points\n",
        "    ),\n",
        "    hovermode=\"x unified\",\n",
        "    legend_title=\"Modelli\",\n",
        "    template=\"plotly_white\"\n",
        ")\n",
        "\n"
      ],
      "metadata": {
        "colab": {
          "base_uri": "https://localhost:8080/",
          "height": 542
        },
        "id": "E8ehdJf2sIq1",
        "outputId": "2c928b94-2078-4a5e-82f1-cfdd76c1d598"
      },
      "execution_count": 7,
      "outputs": [
        {
          "output_type": "display_data",
          "data": {
            "text/html": [
              "<html>\n",
              "<head><meta charset=\"utf-8\" /></head>\n",
              "<body>\n",
              "    <div>            <script src=\"https://cdnjs.cloudflare.com/ajax/libs/mathjax/2.7.5/MathJax.js?config=TeX-AMS-MML_SVG\"></script><script type=\"text/javascript\">if (window.MathJax && window.MathJax.Hub && window.MathJax.Hub.Config) {window.MathJax.Hub.Config({SVG: {font: \"STIX-Web\"}});}</script>                <script type=\"text/javascript\">window.PlotlyConfig = {MathJaxConfig: 'local'};</script>\n",
              "        <script charset=\"utf-8\" src=\"https://cdn.plot.ly/plotly-2.35.2.min.js\"></script>                <div id=\"33697068-7928-4b05-a785-96941ba597c7\" class=\"plotly-graph-div\" style=\"height:525px; width:100%;\"></div>            <script type=\"text/javascript\">                                    window.PLOTLYENV=window.PLOTLYENV || {};                                    if (document.getElementById(\"33697068-7928-4b05-a785-96941ba597c7\")) {                    Plotly.newPlot(                        \"33697068-7928-4b05-a785-96941ba597c7\",                        [{\"line\":{\"width\":1.5},\"mode\":\"lines+markers\",\"name\":\"MC-DLCSK_awgn_snr_0-20\",\"visible\":\"legendonly\",\"x\":[0,1,2,3,4,5,6,7,8,9,10,11,12,13,14,15,16,17,18,19,20],\"y\":[0.0003528569997710623,0.00010494834592490841,0.00004821006467490842,0.00003361371050824176,0.00002460121050824176,0.00001963454384157509,0.00001549168669871795,0.00001206824919871795,0.000010344210737179488,8.915364583333333e-6,7.691145833333334e-6,6.937499999999999e-6,6.7e-6,6.3625e-6],\"type\":\"scatter\"},{\"line\":{\"width\":1.5},\"mode\":\"lines+markers\",\"name\":\"MC-DLCSK_awgn_snr_11-15\",\"visible\":\"legendonly\",\"x\":[0,1,2,3,4,5,6,7,8,9,10,11,12,13,14,15,16,17,18,19,20],\"y\":[0.49982250000000006,0.4997125,0.4997871875,0.49977593749999993,0.49977874999999994,0.49995687499999997,0.4999753125,0.4999859375,0.500038125,0.49996375,0.49994375,0.4999446875,0.5000746875,0.49988],\"type\":\"scatter\"},{\"line\":{\"width\":1.5},\"mode\":\"lines+markers\",\"name\":\"CNN_5-ksize_256-filters_awgn_snr_11-15\",\"visible\":\"legendonly\",\"x\":[0,1,2,3,4,5,6,7,8,9,10,11,12,13,14,15,16,17,18,19,20],\"y\":[0.0024859037878787876,0.0009696537878787877,0.00030990378787878786,0.00008036628787878789,0.000018066287878787878,5.4204545454545465e-6,2.575e-6,1.675e-6,1.2375e-6,1.025e-6,8.625000000000001e-7,7.249999999999999e-7,6.249999999999999e-7,5.874999999999999e-7],\"type\":\"scatter\"},{\"line\":{\"width\":1.5},\"mode\":\"lines+markers\",\"name\":\"CNN_7-ksize_256-filters_awgn_snr_0-20\",\"visible\":\"legendonly\",\"x\":[0,1,2,3,4,5,6,7,8,9,10,11,12,13,14,15,16,17,18,19,20],\"y\":[0.0005503659722222223,0.0001889659722222222,0.00005935347222222222,0.000018765972222222224,6.524305555555556e-6,2.88125e-6,1.3e-6,7e-7,4e-7,2.4999999999999994e-7,1.8749999999999995e-7,1.6249999999999998e-7,1.25e-7,1.125e-7],\"type\":\"scatter\"},{\"line\":{\"width\":3},\"mode\":\"lines+markers\",\"name\":\"TDNN_OFDM-DCSK_awgn_snr_0-20\",\"visible\":true,\"x\":[0,1,2,3,4,5,6,7,8,9,10,11,12,13,14,15,16,17,18,19,20],\"y\":[0.00024299261363636363,0.000056330113636363636,0.000015980113636363634,6.661363636363636e-6,3.85e-6,2.725e-6,1.975e-6,1.55e-6,1.2625000000000002e-6,1.2000000000000002e-6,9.749999999999998e-7,8.624999999999999e-7,7.749999999999999e-7,7e-7],\"type\":\"scatter\"},{\"line\":{\"width\":1.5},\"mode\":\"lines+markers\",\"name\":\"TDNN_OFDM-DCSK_awgn_snr_11-15\",\"visible\":\"legendonly\",\"x\":[0,1,2,3,4,5,6,7,8,9,10,11,12,13,14,15,16,17,18,19,20],\"y\":[0.0282721875,0.018200703125000006,0.010515828124999998,0.005336315624999999,0.0023014906249999995,0.000823778125,0.000223840625,0.000048903125,0.000010840625,1.8125e-6,9.000000000000001e-7,8.000000000000001e-7,6.749999999999999e-7,6.249999999999999e-7],\"type\":\"scatter\"},{\"line\":{\"width\":1.5},\"mode\":\"lines+markers\",\"name\":\"LSTM_DNN_OFDM_DCSK_awgn_snr_11-15\",\"visible\":\"legendonly\",\"x\":[0,1,2,3,4,5,6,7,8,9,10,11,12,13,14,15,16,17,18,19,20],\"y\":[0.003064064903846154,0.0014871715214932126,0.0006594677171453865,0.0002676052171453866,0.00009305521714538657,0.000032142717145386585,0.000015648967145386583,9.248967145386582e-6,7.052813299232737e-6,5.658695652173913e-6,4.6375e-6,4.0625000000000005e-6,3.8125000000000003e-6,3.4874999999999996e-6],\"type\":\"scatter\"},{\"line\":{\"width\":1.5},\"mode\":\"lines+markers\",\"name\":\"CNN_7-ksize_128-filters_awgn_snr_0-20\",\"visible\":\"legendonly\",\"x\":[0,1,2,3,4,5,6,7,8,9,10,11,12,13,14,15,16,17,18,19,20],\"y\":[0.0005241088541666667,0.00021660885416666667,0.00009185885416666668,0.00004050885416666667,0.000018471354166666666,8.649479166666668e-6,4.454166666666667e-6,2.4374999999999995e-6,1.5750000000000004e-6,9.875e-7,7.5e-7,5.624999999999999e-7,4.3749999999999994e-7,3.4999999999999993e-7],\"type\":\"scatter\"},{\"line\":{\"width\":1.5},\"mode\":\"lines+markers\",\"name\":\"CNN_3-ksize_256-filters_awgn_snr_11-15\",\"visible\":\"legendonly\",\"x\":[0,1,2,3,4,5,6,7,8,9,10,11,12,13,14,15,16,17,18,19,20],\"y\":[0.023600725,0.010883025000000001,0.0042274750000000005,0.00132375,0.00030813749999999995,0.00005443750000000001,7.262500000000001e-6,1.0250000000000001e-6,3.2499999999999996e-7,2.4999999999999994e-7,1.875e-7,1.8749999999999998e-7,2e-7,1.6249999999999998e-7],\"type\":\"scatter\"},{\"line\":{\"width\":1.5},\"mode\":\"lines+markers\",\"name\":\"CNN_3-ksize_128-filters_awgn_snr_0-20\",\"visible\":\"legendonly\",\"x\":[0,1,2,3,4,5,6,7,8,9,10,11,12,13,14,15,16,17,18,19,20],\"y\":[0.0013786286630036628,0.0006031161630036631,0.00024711616300366305,0.000103016163003663,0.000044978663003663006,0.000021928663003663,9.59532967032967e-6,4.697115384615384e-6,2.1499999999999997e-6,1.1375000000000001e-6,5.875e-7,3.249999999999999e-7,2.4999999999999994e-7,1.8749999999999995e-7],\"type\":\"scatter\"},{\"line\":{\"width\":1.5},\"mode\":\"lines+markers\",\"name\":\"LSTM_DNN_OFDM_DCSK_awgn_snr_0-20\",\"visible\":\"legendonly\",\"x\":[0,1,2,3,4,5,6,7,8,9,10,11,12,13,14,15,16,17,18,19,20],\"y\":[0.000959296875,0.0005264843749999999,0.0003061197916666667,0.00018240885416666668,0.00011848839962121212,0.00007732768533549782,0.00005279643533549784,0.00003743929247835498,0.000027956405573593072,0.000022168362095332202,0.000017607945428665537,0.000014356382928665537,0.000012364337474120081,0.000011087551759834368],\"type\":\"scatter\"},{\"line\":{\"width\":1.5},\"mode\":\"lines+markers\",\"name\":\"CNN_7-ksize_256-filters_awgn_snr_11-15\",\"visible\":\"legendonly\",\"x\":[0,1,2,3,4,5,6,7,8,9,10,11,12,13,14,15,16,17,18,19,20],\"y\":[0.0029659019886363633,0.001594626988636364,0.0008035269886363636,0.0003548644886363636,0.00013015198863636365,0.00004460198863636365,0.000016951988636363636,6.748863636363636e-6,3.9875e-6,2.9250000000000004e-6,2e-6,1.6999999999999998e-6,1.6125e-6,1.35e-6],\"type\":\"scatter\"},{\"line\":{\"width\":1.5},\"mode\":\"lines+markers\",\"name\":\"CNN_3-ksize_512-filters_awgn_snr_0-20\",\"visible\":\"legendonly\",\"x\":[0,1,2,3,4,5,6,7,8,9,10,11,12,13,14,15,16,17,18,19,20],\"y\":[0.0016442578125,0.0007856194196428571,0.00036558191964285717,0.00016389441964285715,0.00007595691964285714,0.00003508191964285714,0.000017138169642857146,7.994419642857142e-6,4.061607142857142e-6,1.7750000000000002e-6,9.124999999999999e-7,4.25e-7,2.4999999999999994e-7,1.9999999999999994e-7],\"type\":\"scatter\"},{\"line\":{\"width\":1.5},\"mode\":\"lines+markers\",\"name\":\"CNN_3-ksize_512-filters_awgn_snr_11-15\",\"visible\":\"legendonly\",\"x\":[0,1,2,3,4,5,6,7,8,9,10,11,12,13,14,15,16,17,18,19,20],\"y\":[0.0331704375,0.0171829625,0.0077374875,0.0029635125,0.0009138375000000001,0.00023166250000000003,0.000052012500000000004,7.650000000000001e-6,1.2875000000000006e-6,3.3749999999999995e-7,1.9999999999999994e-7,1.25e-7,1.25e-7,1.25e-7],\"type\":\"scatter\"},{\"line\":{\"width\":1.5},\"mode\":\"lines+markers\",\"name\":\"CNN_9-ksize_256-filters_awgn_snr_11-15\",\"visible\":\"legendonly\",\"x\":[0,1,2,3,4,5,6,7,8,9,10,11,12,13,14,15,16,17,18,19,20],\"y\":[0.13864615,0.0838146125,0.040304625000000004,0.013858075000000001,0.0029740249999999995,0.00034716249999999993,0.000020925,6.249999999999998e-7,1.125e-7,1e-7,1e-7,1e-7,1e-7,1e-7],\"type\":\"scatter\"},{\"line\":{\"width\":1.5},\"mode\":\"lines+markers\",\"name\":\"CNN_9-ksize_512-filters_awgn_snr_0-20\",\"visible\":\"legendonly\",\"x\":[0,1,2,3,4,5,6,7,8,9,10,11,12,13,14,15,16,17,18,19,20],\"y\":[0.0004914689967105263,0.0001800564967105263,0.00005989399671052632,0.000018731496710526314,6.8939967105263155e-6,2.9861842105263154e-6,1.3375000000000003e-6,7.749999999999999e-7,5.374999999999999e-7,4.0000000000000003e-7,2.624999999999999e-7,1.8749999999999995e-7,1.6249999999999998e-7,1.375e-7],\"type\":\"scatter\"},{\"line\":{\"width\":1.5},\"mode\":\"lines+markers\",\"name\":\"CNN_5-ksize_128-filters_awgn_snr_0-20\",\"visible\":\"legendonly\",\"x\":[0,1,2,3,4,5,6,7,8,9,10,11,12,13,14,15,16,17,18,19,20],\"y\":[0.0006412135416666668,0.0002523135416666667,0.00009216354166666666,0.000037013541666666666,0.000015526041666666665,7.604166666666666e-6,3.7479166666666673e-6,1.95e-6,1.1e-6,6.374999999999999e-7,5e-7,3.4999999999999993e-7,3e-7,1.875e-7],\"type\":\"scatter\"},{\"line\":{\"width\":1.5},\"mode\":\"lines+markers\",\"name\":\"CNN_5-ksize_512-filters_awgn_snr_0-20\",\"visible\":\"legendonly\",\"x\":[0,1,2,3,4,5,6,7,8,9,10,11,12,13,14,15,16,17,18,19,20],\"y\":[0.000612095238095238,0.0002786924603174604,0.0001488291790674603,0.0000879541790674603,0.00005330417906746032,0.000034741679067460315,0.000022712512400793652,0.00001636251240079365,0.000011896440972222221,8.59921875e-6,7.0874999999999995e-6,5.9125000000000006e-6,4.9e-6,4.4375e-6],\"type\":\"scatter\"},{\"line\":{\"width\":1.5},\"mode\":\"lines+markers\",\"name\":\"CNN_9-ksize_128-filters_awgn_snr_11-15\",\"visible\":\"legendonly\",\"x\":[0,1,2,3,4,5,6,7,8,9,10,11,12,13,14,15,16,17,18,19,20],\"y\":[0.000900044981060606,0.00038297466856060603,0.0001560401447510822,0.00007609014475108224,0.00003924014475108226,0.000023708894751082254,0.000014918269751082252,0.000010322436417748916,7.67016369047619e-6,6.20297619047619e-6,5.1125e-6,4.4125000000000005e-6,3.75e-6,3.4625e-6],\"type\":\"scatter\"},{\"line\":{\"width\":1.5},\"mode\":\"lines+markers\",\"name\":\"CNN_5-ksize_512-filters_awgn_snr_11-15\",\"visible\":\"legendonly\",\"x\":[0,1,2,3,4,5,6,7,8,9,10,11,12,13,14,15,16,17,18,19,20],\"y\":[0.12870027777777776,0.07711010277777777,0.03734169027777776,0.01337107777777778,0.0031973402777777777,0.00044922777777777774,0.000038615277777777785,2.0652777777777775e-6,2.3749999999999995e-7,1.125e-7,1e-7,1.125e-7,1.125e-7,1.125e-7],\"type\":\"scatter\"},{\"line\":{\"width\":1.5},\"mode\":\"lines+markers\",\"name\":\"CNN_5-ksize_256-filters_awgn_snr_0-20\",\"visible\":\"legendonly\",\"x\":[0,1,2,3,4,5,6,7,8,9,10,11,12,13,14,15,16,17,18,19,20],\"y\":[0.0007360826636904764,0.00022108266369047613,0.00006064516369047619,0.00002075766369047619,9.336830357142857e-6,4.329687500000001e-6,2.4e-6,1.4125000000000002e-6,7.75e-7,4.7499999999999995e-7,2.9999999999999993e-7,1.9999999999999994e-7,1.7499999999999997e-7,1.625e-7],\"type\":\"scatter\"},{\"line\":{\"width\":1.5},\"mode\":\"lines+markers\",\"name\":\"CNN_5-ksize_128-filters_awgn_snr_11-15\",\"visible\":\"legendonly\",\"x\":[0,1,2,3,4,5,6,7,8,9,10,11,12,13,14,15,16,17,18,19,20],\"y\":[0.004237704761904762,0.0014069047619047618,0.0004072547619047619,0.0000985672619047619,0.00001860476190476191,3.458928571428571e-6,1.1500000000000002e-6,5.75e-7,3.875e-7,2.75e-7,2.5e-7,2e-7,1.7499999999999997e-7,1.375e-7],\"type\":\"scatter\"},{\"line\":{\"width\":1.5},\"mode\":\"lines+markers\",\"name\":\"CNN_9-ksize_512-filters_awgn_snr_11-15\",\"visible\":\"legendonly\",\"x\":[0,1,2,3,4,5,6,7,8,9,10,11,12,13,14,15,16,17,18,19,20],\"y\":[0.06488781249999999,0.030077525000000004,0.010162850000000003,0.0022462999999999997,0.0002894375,0.000020700000000000002,1.0250000000000006e-6,1.8749999999999995e-7,1.125e-7,1e-7,1e-7,1e-7,1e-7,1e-7],\"type\":\"scatter\"},{\"line\":{\"width\":1.5},\"mode\":\"lines+markers\",\"name\":\"CNN_7-ksize_512-filters_awgn_snr_0-20\",\"visible\":\"legendonly\",\"x\":[0,1,2,3,4,5,6,7,8,9,10,11,12,13,14,15,16,17,18,19,20],\"y\":[0.0004920570512820513,0.00017711955128205128,0.00006634455128205127,0.00002495705128205128,0.000011032051282051283,5.077884615384615e-6,2.725e-6,1.7249999999999998e-6,1.1125000000000001e-6,7.875000000000001e-7,6.374999999999999e-7,4.875e-7,3.9999999999999993e-7,3.5000000000000004e-7],\"type\":\"scatter\"},{\"line\":{\"width\":1.5},\"mode\":\"lines+markers\",\"name\":\"CNN_9-ksize_256-filters_awgn_snr_0-20\",\"visible\":\"legendonly\",\"x\":[0,1,2,3,4,5,6,7,8,9,10,11,12,13,14,15,16,17,18,19,20],\"y\":[0.00039341640625,0.00017341640624999997,0.00007490390625000001,0.00003301640625,0.00001542890625,9.06640625e-6,5.07265625e-6,3.2000000000000003e-6,2.25e-6,1.7375e-6,1.2124999999999998e-6,1.025e-6,9.374999999999999e-7,8.625e-7],\"type\":\"scatter\"},{\"line\":{\"width\":1.5},\"mode\":\"lines+markers\",\"name\":\"CNN_9-ksize_128-filters_awgn_snr_0-20\",\"visible\":\"legendonly\",\"x\":[0,1,2,3,4,5,6,7,8,9,10,11,12,13,14,15,16,17,18,19,20],\"y\":[0.0005123003472222222,0.00020588784722222223,0.00008338784722222223,0.00003402534722222223,0.00001580034722222222,7.334722222222223e-6,4.115972222222222e-6,2.4249999999999997e-6,1.5375e-6,1.125e-6,8.625e-7,5.624999999999999e-7,3.75e-7,3.4999999999999993e-7],\"type\":\"scatter\"},{\"line\":{\"width\":1.5},\"mode\":\"lines+markers\",\"name\":\"CNN_3-ksize_256-filters_awgn_snr_0-20\",\"visible\":\"legendonly\",\"x\":[0,1,2,3,4,5,6,7,8,9,10,11,12,13,14,15,16,17,18,19,20],\"y\":[0.00169078125,0.00078353125,0.00036868124999999997,0.00017441875,0.00007934375,0.00003378125,0.000017425,7.93125e-6,4.0625000000000005e-6,1.975e-6,8.999999999999999e-7,5e-7,2.75e-7,2.3749999999999998e-7],\"type\":\"scatter\"},{\"line\":{\"width\":1.5},\"mode\":\"lines+markers\",\"name\":\"CNN_7-ksize_128-filters_awgn_snr_11-15\",\"visible\":\"legendonly\",\"x\":[0,1,2,3,4,5,6,7,8,9,10,11,12,13,14,15,16,17,18,19,20],\"y\":[0.04737102499999999,0.023174900000000002,0.009093674999999999,0.0027083749999999994,0.0005715625,0.00007907499999999998,8.4625e-6,6.624999999999999e-7,2.874999999999999e-7,2.125e-7,2e-7,2.5e-7,2e-7,2.2500000000000002e-7],\"type\":\"scatter\"},{\"line\":{\"width\":1.5},\"mode\":\"lines+markers\",\"name\":\"CNN_7-ksize_512-filters_awgn_snr_11-15\",\"visible\":\"legendonly\",\"x\":[0,1,2,3,4,5,6,7,8,9,10,11,12,13,14,15,16,17,18,19,20],\"y\":[0.002343290178571429,0.0010116401785714285,0.00041884017857142855,0.0001625026785714286,0.00006281517857142857,0.000025240178571428568,0.000011290178571428571,6.268750000000001e-6,3.2000000000000003e-6,2.2125000000000004e-6,1.65e-6,1.2124999999999998e-6,9.75e-7,8.375e-7],\"type\":\"scatter\"},{\"line\":{\"width\":1.5},\"mode\":\"lines+markers\",\"name\":\"CNN_3-ksize_128-filters_awgn_snr_11-15\",\"visible\":\"legendonly\",\"x\":[0,1,2,3,4,5,6,7,8,9,10,11,12,13,14,15,16,17,18,19,20],\"y\":[0.009676018750000001,0.00432549375,0.0016243062500000001,0.00048561875000000004,0.00011441874999999999,0.000021006250000000006,2.7374999999999996e-6,6.499999999999999e-7,3.875e-7,3.1249999999999997e-7,2.6250000000000003e-7,2.1249999999999998e-7,1.8749999999999998e-7,1.875e-7],\"type\":\"scatter\"}],                        {\"template\":{\"data\":{\"barpolar\":[{\"marker\":{\"line\":{\"color\":\"white\",\"width\":0.5},\"pattern\":{\"fillmode\":\"overlay\",\"size\":10,\"solidity\":0.2}},\"type\":\"barpolar\"}],\"bar\":[{\"error_x\":{\"color\":\"#2a3f5f\"},\"error_y\":{\"color\":\"#2a3f5f\"},\"marker\":{\"line\":{\"color\":\"white\",\"width\":0.5},\"pattern\":{\"fillmode\":\"overlay\",\"size\":10,\"solidity\":0.2}},\"type\":\"bar\"}],\"carpet\":[{\"aaxis\":{\"endlinecolor\":\"#2a3f5f\",\"gridcolor\":\"#C8D4E3\",\"linecolor\":\"#C8D4E3\",\"minorgridcolor\":\"#C8D4E3\",\"startlinecolor\":\"#2a3f5f\"},\"baxis\":{\"endlinecolor\":\"#2a3f5f\",\"gridcolor\":\"#C8D4E3\",\"linecolor\":\"#C8D4E3\",\"minorgridcolor\":\"#C8D4E3\",\"startlinecolor\":\"#2a3f5f\"},\"type\":\"carpet\"}],\"choropleth\":[{\"colorbar\":{\"outlinewidth\":0,\"ticks\":\"\"},\"type\":\"choropleth\"}],\"contourcarpet\":[{\"colorbar\":{\"outlinewidth\":0,\"ticks\":\"\"},\"type\":\"contourcarpet\"}],\"contour\":[{\"colorbar\":{\"outlinewidth\":0,\"ticks\":\"\"},\"colorscale\":[[0.0,\"#0d0887\"],[0.1111111111111111,\"#46039f\"],[0.2222222222222222,\"#7201a8\"],[0.3333333333333333,\"#9c179e\"],[0.4444444444444444,\"#bd3786\"],[0.5555555555555556,\"#d8576b\"],[0.6666666666666666,\"#ed7953\"],[0.7777777777777778,\"#fb9f3a\"],[0.8888888888888888,\"#fdca26\"],[1.0,\"#f0f921\"]],\"type\":\"contour\"}],\"heatmapgl\":[{\"colorbar\":{\"outlinewidth\":0,\"ticks\":\"\"},\"colorscale\":[[0.0,\"#0d0887\"],[0.1111111111111111,\"#46039f\"],[0.2222222222222222,\"#7201a8\"],[0.3333333333333333,\"#9c179e\"],[0.4444444444444444,\"#bd3786\"],[0.5555555555555556,\"#d8576b\"],[0.6666666666666666,\"#ed7953\"],[0.7777777777777778,\"#fb9f3a\"],[0.8888888888888888,\"#fdca26\"],[1.0,\"#f0f921\"]],\"type\":\"heatmapgl\"}],\"heatmap\":[{\"colorbar\":{\"outlinewidth\":0,\"ticks\":\"\"},\"colorscale\":[[0.0,\"#0d0887\"],[0.1111111111111111,\"#46039f\"],[0.2222222222222222,\"#7201a8\"],[0.3333333333333333,\"#9c179e\"],[0.4444444444444444,\"#bd3786\"],[0.5555555555555556,\"#d8576b\"],[0.6666666666666666,\"#ed7953\"],[0.7777777777777778,\"#fb9f3a\"],[0.8888888888888888,\"#fdca26\"],[1.0,\"#f0f921\"]],\"type\":\"heatmap\"}],\"histogram2dcontour\":[{\"colorbar\":{\"outlinewidth\":0,\"ticks\":\"\"},\"colorscale\":[[0.0,\"#0d0887\"],[0.1111111111111111,\"#46039f\"],[0.2222222222222222,\"#7201a8\"],[0.3333333333333333,\"#9c179e\"],[0.4444444444444444,\"#bd3786\"],[0.5555555555555556,\"#d8576b\"],[0.6666666666666666,\"#ed7953\"],[0.7777777777777778,\"#fb9f3a\"],[0.8888888888888888,\"#fdca26\"],[1.0,\"#f0f921\"]],\"type\":\"histogram2dcontour\"}],\"histogram2d\":[{\"colorbar\":{\"outlinewidth\":0,\"ticks\":\"\"},\"colorscale\":[[0.0,\"#0d0887\"],[0.1111111111111111,\"#46039f\"],[0.2222222222222222,\"#7201a8\"],[0.3333333333333333,\"#9c179e\"],[0.4444444444444444,\"#bd3786\"],[0.5555555555555556,\"#d8576b\"],[0.6666666666666666,\"#ed7953\"],[0.7777777777777778,\"#fb9f3a\"],[0.8888888888888888,\"#fdca26\"],[1.0,\"#f0f921\"]],\"type\":\"histogram2d\"}],\"histogram\":[{\"marker\":{\"pattern\":{\"fillmode\":\"overlay\",\"size\":10,\"solidity\":0.2}},\"type\":\"histogram\"}],\"mesh3d\":[{\"colorbar\":{\"outlinewidth\":0,\"ticks\":\"\"},\"type\":\"mesh3d\"}],\"parcoords\":[{\"line\":{\"colorbar\":{\"outlinewidth\":0,\"ticks\":\"\"}},\"type\":\"parcoords\"}],\"pie\":[{\"automargin\":true,\"type\":\"pie\"}],\"scatter3d\":[{\"line\":{\"colorbar\":{\"outlinewidth\":0,\"ticks\":\"\"}},\"marker\":{\"colorbar\":{\"outlinewidth\":0,\"ticks\":\"\"}},\"type\":\"scatter3d\"}],\"scattercarpet\":[{\"marker\":{\"colorbar\":{\"outlinewidth\":0,\"ticks\":\"\"}},\"type\":\"scattercarpet\"}],\"scattergeo\":[{\"marker\":{\"colorbar\":{\"outlinewidth\":0,\"ticks\":\"\"}},\"type\":\"scattergeo\"}],\"scattergl\":[{\"marker\":{\"colorbar\":{\"outlinewidth\":0,\"ticks\":\"\"}},\"type\":\"scattergl\"}],\"scattermapbox\":[{\"marker\":{\"colorbar\":{\"outlinewidth\":0,\"ticks\":\"\"}},\"type\":\"scattermapbox\"}],\"scatterpolargl\":[{\"marker\":{\"colorbar\":{\"outlinewidth\":0,\"ticks\":\"\"}},\"type\":\"scatterpolargl\"}],\"scatterpolar\":[{\"marker\":{\"colorbar\":{\"outlinewidth\":0,\"ticks\":\"\"}},\"type\":\"scatterpolar\"}],\"scatter\":[{\"fillpattern\":{\"fillmode\":\"overlay\",\"size\":10,\"solidity\":0.2},\"type\":\"scatter\"}],\"scatterternary\":[{\"marker\":{\"colorbar\":{\"outlinewidth\":0,\"ticks\":\"\"}},\"type\":\"scatterternary\"}],\"surface\":[{\"colorbar\":{\"outlinewidth\":0,\"ticks\":\"\"},\"colorscale\":[[0.0,\"#0d0887\"],[0.1111111111111111,\"#46039f\"],[0.2222222222222222,\"#7201a8\"],[0.3333333333333333,\"#9c179e\"],[0.4444444444444444,\"#bd3786\"],[0.5555555555555556,\"#d8576b\"],[0.6666666666666666,\"#ed7953\"],[0.7777777777777778,\"#fb9f3a\"],[0.8888888888888888,\"#fdca26\"],[1.0,\"#f0f921\"]],\"type\":\"surface\"}],\"table\":[{\"cells\":{\"fill\":{\"color\":\"#EBF0F8\"},\"line\":{\"color\":\"white\"}},\"header\":{\"fill\":{\"color\":\"#C8D4E3\"},\"line\":{\"color\":\"white\"}},\"type\":\"table\"}]},\"layout\":{\"annotationdefaults\":{\"arrowcolor\":\"#2a3f5f\",\"arrowhead\":0,\"arrowwidth\":1},\"autotypenumbers\":\"strict\",\"coloraxis\":{\"colorbar\":{\"outlinewidth\":0,\"ticks\":\"\"}},\"colorscale\":{\"diverging\":[[0,\"#8e0152\"],[0.1,\"#c51b7d\"],[0.2,\"#de77ae\"],[0.3,\"#f1b6da\"],[0.4,\"#fde0ef\"],[0.5,\"#f7f7f7\"],[0.6,\"#e6f5d0\"],[0.7,\"#b8e186\"],[0.8,\"#7fbc41\"],[0.9,\"#4d9221\"],[1,\"#276419\"]],\"sequential\":[[0.0,\"#0d0887\"],[0.1111111111111111,\"#46039f\"],[0.2222222222222222,\"#7201a8\"],[0.3333333333333333,\"#9c179e\"],[0.4444444444444444,\"#bd3786\"],[0.5555555555555556,\"#d8576b\"],[0.6666666666666666,\"#ed7953\"],[0.7777777777777778,\"#fb9f3a\"],[0.8888888888888888,\"#fdca26\"],[1.0,\"#f0f921\"]],\"sequentialminus\":[[0.0,\"#0d0887\"],[0.1111111111111111,\"#46039f\"],[0.2222222222222222,\"#7201a8\"],[0.3333333333333333,\"#9c179e\"],[0.4444444444444444,\"#bd3786\"],[0.5555555555555556,\"#d8576b\"],[0.6666666666666666,\"#ed7953\"],[0.7777777777777778,\"#fb9f3a\"],[0.8888888888888888,\"#fdca26\"],[1.0,\"#f0f921\"]]},\"colorway\":[\"#636efa\",\"#EF553B\",\"#00cc96\",\"#ab63fa\",\"#FFA15A\",\"#19d3f3\",\"#FF6692\",\"#B6E880\",\"#FF97FF\",\"#FECB52\"],\"font\":{\"color\":\"#2a3f5f\"},\"geo\":{\"bgcolor\":\"white\",\"lakecolor\":\"white\",\"landcolor\":\"white\",\"showlakes\":true,\"showland\":true,\"subunitcolor\":\"#C8D4E3\"},\"hoverlabel\":{\"align\":\"left\"},\"hovermode\":\"closest\",\"mapbox\":{\"style\":\"light\"},\"paper_bgcolor\":\"white\",\"plot_bgcolor\":\"white\",\"polar\":{\"angularaxis\":{\"gridcolor\":\"#EBF0F8\",\"linecolor\":\"#EBF0F8\",\"ticks\":\"\"},\"bgcolor\":\"white\",\"radialaxis\":{\"gridcolor\":\"#EBF0F8\",\"linecolor\":\"#EBF0F8\",\"ticks\":\"\"}},\"scene\":{\"xaxis\":{\"backgroundcolor\":\"white\",\"gridcolor\":\"#DFE8F3\",\"gridwidth\":2,\"linecolor\":\"#EBF0F8\",\"showbackground\":true,\"ticks\":\"\",\"zerolinecolor\":\"#EBF0F8\"},\"yaxis\":{\"backgroundcolor\":\"white\",\"gridcolor\":\"#DFE8F3\",\"gridwidth\":2,\"linecolor\":\"#EBF0F8\",\"showbackground\":true,\"ticks\":\"\",\"zerolinecolor\":\"#EBF0F8\"},\"zaxis\":{\"backgroundcolor\":\"white\",\"gridcolor\":\"#DFE8F3\",\"gridwidth\":2,\"linecolor\":\"#EBF0F8\",\"showbackground\":true,\"ticks\":\"\",\"zerolinecolor\":\"#EBF0F8\"}},\"shapedefaults\":{\"line\":{\"color\":\"#2a3f5f\"}},\"ternary\":{\"aaxis\":{\"gridcolor\":\"#DFE8F3\",\"linecolor\":\"#A2B1C6\",\"ticks\":\"\"},\"baxis\":{\"gridcolor\":\"#DFE8F3\",\"linecolor\":\"#A2B1C6\",\"ticks\":\"\"},\"bgcolor\":\"white\",\"caxis\":{\"gridcolor\":\"#DFE8F3\",\"linecolor\":\"#A2B1C6\",\"ticks\":\"\"}},\"title\":{\"x\":0.05},\"xaxis\":{\"automargin\":true,\"gridcolor\":\"#EBF0F8\",\"linecolor\":\"#EBF0F8\",\"ticks\":\"\",\"title\":{\"standoff\":15},\"zerolinecolor\":\"#EBF0F8\",\"zerolinewidth\":2},\"yaxis\":{\"automargin\":true,\"gridcolor\":\"#EBF0F8\",\"linecolor\":\"#EBF0F8\",\"ticks\":\"\",\"title\":{\"standoff\":15},\"zerolinecolor\":\"#EBF0F8\",\"zerolinewidth\":2}}},\"yaxis\":{\"minor\":{\"showgrid\":true,\"gridcolor\":\"lightgray\",\"gridwidth\":1},\"title\":{\"text\":\"Bit Error Rate (BER)\"},\"type\":\"log\",\"range\":[-5,0],\"tickvals\":[1.0,0.1,0.01,0.001,0.0001,0.00001,1e-6,1e-7,1e-8],\"ticktext\":[\"$10^0$\",\"$10^{-1}$\",\"$10^{-2}$\",\"$10^{-3}$\",\"$10^{-4}$\",\"$10^{-5}$\",\"$10^{-6}$\",\"$10^{-7}$\",\"$10^{-8}$\"],\"showgrid\":true,\"gridcolor\":\"lightgray\",\"gridwidth\":1,\"dtick\":\"D1\",\"tickformat\":\"power\"},\"xaxis\":{\"title\":{\"text\":\"SNR (dB)\"},\"showgrid\":true,\"gridcolor\":\"lightgray\",\"gridwidth\":1,\"tickvals\":[0,1,2,3,4,5,6,7,8,9,10,11,12,13,14,15,16,17,18,19,20]},\"title\":{\"text\":\"📉 Curve BER Interattive per Modelli CNN\"},\"hovermode\":\"x unified\",\"legend\":{\"title\":{\"text\":\"Modelli\"}}},                        {\"responsive\": true}                    ).then(function(){\n",
              "                            \n",
              "var gd = document.getElementById('33697068-7928-4b05-a785-96941ba597c7');\n",
              "var x = new MutationObserver(function (mutations, observer) {{\n",
              "        var display = window.getComputedStyle(gd).display;\n",
              "        if (!display || display === 'none') {{\n",
              "            console.log([gd, 'removed!']);\n",
              "            Plotly.purge(gd);\n",
              "            observer.disconnect();\n",
              "        }}\n",
              "}});\n",
              "\n",
              "// Listen for the removal of the full notebook cells\n",
              "var notebookContainer = gd.closest('#notebook-container');\n",
              "if (notebookContainer) {{\n",
              "    x.observe(notebookContainer, {childList: true});\n",
              "}}\n",
              "\n",
              "// Listen for the clearing of the current output cell\n",
              "var outputEl = gd.closest('.output');\n",
              "if (outputEl) {{\n",
              "    x.observe(outputEl, {childList: true});\n",
              "}}\n",
              "\n",
              "                        })                };                            </script>        </div>\n",
              "</body>\n",
              "</html>"
            ]
          },
          "metadata": {}
        }
      ]
    }
  ]
}