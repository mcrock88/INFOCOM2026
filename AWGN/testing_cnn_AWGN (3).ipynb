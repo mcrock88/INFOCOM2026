{
  "nbformat": 4,
  "nbformat_minor": 0,
  "metadata": {
    "colab": {
      "provenance": [],
      "gpuType": "T4"
    },
    "kernelspec": {
      "name": "python3",
      "display_name": "Python 3"
    },
    "language_info": {
      "name": "python"
    },
    "accelerator": "GPU"
  },
  "cells": [
    {
      "cell_type": "markdown",
      "source": [
        "# Importing the libraries"
      ],
      "metadata": {
        "id": "OEAfQA05D6ua"
      }
    },
    {
      "cell_type": "code",
      "source": [
        "import numpy as np\n",
        "import random\n",
        "import os\n",
        "import tensorflow as tf\n",
        "from tensorflow import keras\n",
        "import platform\n",
        "from tensorflow.keras import layers, optimizers, losses, models, Input, Model\n",
        "import time # Per misurare il tempo di training\n",
        "from tensorflow.keras.callbacks import EarlyStopping # Per l'early stopping\n",
        "import matplotlib.pyplot as plt\n",
        "from tqdm import tqdm # Per mostrare una barra di progresso\n",
        "from tensorflow.keras.models import load_model"
      ],
      "metadata": {
        "id": "cAkyZrEzu97V"
      },
      "execution_count": 1,
      "outputs": []
    },
    {
      "cell_type": "markdown",
      "source": [
        "# Set seeds for random operations."
      ],
      "metadata": {
        "id": "AujxZNQWMBuP"
      }
    },
    {
      "cell_type": "code",
      "source": [
        "# --- 1. Impostazione del Seed Globale all'inizio del tuo script ---\n",
        "# Questo è il punto chiave per la riproducibilità di TUTTO ciò che segue.\n",
        "MASTER_RANDOM_SEED = 42\n",
        "np.random.seed(MASTER_RANDOM_SEED)\n",
        "random.seed(MASTER_RANDOM_SEED) # Imposta anche il seed per la libreria 'random' di Python se la usi\n",
        "tf.random.set_seed(MASTER_RANDOM_SEED)\n",
        "os.environ['PYTHONHASHSEED'] = str(MASTER_RANDOM_SEED) # Per operazioni basate su hash (es. ordine dei dizionari)\n",
        "os.environ['TF_DETERMINISTIC_OPS'] = '1' # Forza operazioni deterministiche in TensorFlow 2.x"
      ],
      "metadata": {
        "id": "uXGzTxrOME1z"
      },
      "execution_count": 2,
      "outputs": []
    },
    {
      "cell_type": "markdown",
      "source": [
        "# Print the HW Specs."
      ],
      "metadata": {
        "id": "OBZ65HW9CLdc"
      }
    },
    {
      "cell_type": "code",
      "source": [
        "print(\"--- Dettagli dell'Architettura Hardware della Sessione Colab ---\\n\")\n",
        "\n",
        "# --- 1. Dettagli CPU ---\n",
        "print(\"--- Dettagli CPU ---\")\n",
        "!lscpu\n",
        "print(\"\\n\")\n",
        "\n",
        "# --- 2. Dettagli RAM (Memoria) ---\n",
        "print(\"--- Dettagli RAM (Memoria) ---\")\n",
        "!cat /proc/meminfo | grep MemTotal\n",
        "print(\"\\n\")\n",
        "\n",
        "# --- 3. Dettagli Spazio su Disco ---\n",
        "print(\"--- Dettagli Spazio su Disco ---\")\n",
        "!df -h /\n",
        "print(\"\\n\")\n",
        "\n",
        "# --- 4. Dettagli Acceleratore Hardware (GPU/TPU) ---\n",
        "print(\"--- Dettagli Acceleratore Hardware (GPU/TPU) ---\")\n",
        "try:\n",
        "    tpu_address = os.environ.get('COLAB_TPU_ADDR')\n",
        "    if tpu_address:\n",
        "        resolver = tf.distribute.cluster_resolver.TPUClusterResolver(tpu=tpu_address)\n",
        "        tf.config.experimental_connect_to_cluster(resolver)\n",
        "        tf.tpu.experimental.initialize_tpu_system(resolver)\n",
        "        print(f\"Tipo Acceleratore: TPU (indirizzo: {tpu_address})\")\n",
        "        print(\"Dispositivi TPU disponibili:\")\n",
        "        for device in tf.config.list_logical_devices('TPU'):\n",
        "            print(f\"  - {device.name}\")\n",
        "    else:\n",
        "        gpus = tf.config.list_physical_devices('GPU')\n",
        "        if gpus:\n",
        "            print(f\"Tipo Acceleratore: GPU\")\n",
        "            for gpu in gpus:\n",
        "                print(f\"  - Dispositivo GPU rilevato: {gpu.name}\")\n",
        "            print(\"\\nDettagli GPU specifici (da `!nvidia-smi`):\")\n",
        "            !nvidia-smi\n",
        "        else:\n",
        "            print(\"Tipo Acceleratore: Nessuna GPU o TPU rilevata (in uso CPU)\")\n",
        "\n",
        "except Exception as e:\n",
        "    print(f\"Si è verificato un errore durante la rilevazione dell'acceleratore: {e}\")\n",
        "    print(\"Tentativo di rilevare i dispositivi TensorFlow standard:\")\n",
        "    devices = tf.config.list_logical_devices()\n",
        "    if devices:\n",
        "        for device in devices:\n",
        "            print(f\"  - Dispositivo rilevato: {device.name}, Tipo: {device.device_type}\")\n",
        "    else:\n",
        "        print(\"Nessun dispositivo TensorFlow rilevato.\")\n",
        "\n",
        "print(\"\\n--- Analisi Dettagli Hardware Completata ---\")"
      ],
      "metadata": {
        "colab": {
          "base_uri": "https://localhost:8080/"
        },
        "id": "BBhq145cCO9I",
        "outputId": "23c21d44-3f07-402e-b1e6-f676da08b460"
      },
      "execution_count": 3,
      "outputs": [
        {
          "output_type": "stream",
          "name": "stdout",
          "text": [
            "--- Dettagli dell'Architettura Hardware della Sessione Colab ---\n",
            "\n",
            "--- Dettagli CPU ---\n",
            "Architecture:             x86_64\n",
            "  CPU op-mode(s):         32-bit, 64-bit\n",
            "  Address sizes:          46 bits physical, 48 bits virtual\n",
            "  Byte Order:             Little Endian\n",
            "CPU(s):                   2\n",
            "  On-line CPU(s) list:    0,1\n",
            "Vendor ID:                GenuineIntel\n",
            "  Model name:             Intel(R) Xeon(R) CPU @ 2.20GHz\n",
            "    CPU family:           6\n",
            "    Model:                79\n",
            "    Thread(s) per core:   2\n",
            "    Core(s) per socket:   1\n",
            "    Socket(s):            1\n",
            "    Stepping:             0\n",
            "    BogoMIPS:             4399.99\n",
            "    Flags:                fpu vme de pse tsc msr pae mce cx8 apic sep mtrr pge m\n",
            "                          ca cmov pat pse36 clflush mmx fxsr sse sse2 ss ht sysc\n",
            "                          all nx pdpe1gb rdtscp lm constant_tsc rep_good nopl xt\n",
            "                          opology nonstop_tsc cpuid tsc_known_freq pni pclmulqdq\n",
            "                           ssse3 fma cx16 pcid sse4_1 sse4_2 x2apic movbe popcnt\n",
            "                           aes xsave avx f16c rdrand hypervisor lahf_lm abm 3dno\n",
            "                          wprefetch invpcid_single ssbd ibrs ibpb stibp fsgsbase\n",
            "                           tsc_adjust bmi1 hle avx2 smep bmi2 erms invpcid rtm r\n",
            "                          dseed adx smap xsaveopt arat md_clear arch_capabilitie\n",
            "                          s\n",
            "Virtualization features:  \n",
            "  Hypervisor vendor:      KVM\n",
            "  Virtualization type:    full\n",
            "Caches (sum of all):      \n",
            "  L1d:                    32 KiB (1 instance)\n",
            "  L1i:                    32 KiB (1 instance)\n",
            "  L2:                     256 KiB (1 instance)\n",
            "  L3:                     55 MiB (1 instance)\n",
            "NUMA:                     \n",
            "  NUMA node(s):           1\n",
            "  NUMA node0 CPU(s):      0,1\n",
            "Vulnerabilities:          \n",
            "  Gather data sampling:   Not affected\n",
            "  Itlb multihit:          Not affected\n",
            "  L1tf:                   Mitigation; PTE Inversion\n",
            "  Mds:                    Vulnerable; SMT Host state unknown\n",
            "  Meltdown:               Vulnerable\n",
            "  Mmio stale data:        Vulnerable\n",
            "  Reg file data sampling: Not affected\n",
            "  Retbleed:               Vulnerable\n",
            "  Spec rstack overflow:   Not affected\n",
            "  Spec store bypass:      Vulnerable\n",
            "  Spectre v1:             Vulnerable: __user pointer sanitization and usercopy b\n",
            "                          arriers only; no swapgs barriers\n",
            "  Spectre v2:             Vulnerable; IBPB: disabled; STIBP: disabled; PBRSB-eIB\n",
            "                          RS: Not affected; BHI: Vulnerable\n",
            "  Srbds:                  Not affected\n",
            "  Tsx async abort:        Vulnerable\n",
            "\n",
            "\n",
            "--- Dettagli RAM (Memoria) ---\n",
            "MemTotal:       13289424 kB\n",
            "\n",
            "\n",
            "--- Dettagli Spazio su Disco ---\n",
            "Filesystem      Size  Used Avail Use% Mounted on\n",
            "overlay         113G   38G   75G  34% /\n",
            "\n",
            "\n",
            "--- Dettagli Acceleratore Hardware (GPU/TPU) ---\n",
            "Tipo Acceleratore: GPU\n",
            "  - Dispositivo GPU rilevato: /physical_device:GPU:0\n",
            "\n",
            "Dettagli GPU specifici (da `!nvidia-smi`):\n",
            "Thu Jul 17 11:16:24 2025       \n",
            "+-----------------------------------------------------------------------------------------+\n",
            "| NVIDIA-SMI 550.54.15              Driver Version: 550.54.15      CUDA Version: 12.4     |\n",
            "|-----------------------------------------+------------------------+----------------------+\n",
            "| GPU  Name                 Persistence-M | Bus-Id          Disp.A | Volatile Uncorr. ECC |\n",
            "| Fan  Temp   Perf          Pwr:Usage/Cap |           Memory-Usage | GPU-Util  Compute M. |\n",
            "|                                         |                        |               MIG M. |\n",
            "|=========================================+========================+======================|\n",
            "|   0  Tesla T4                       Off |   00000000:00:04.0 Off |                    0 |\n",
            "| N/A   44C    P8              9W /   70W |       2MiB /  15360MiB |      0%      Default |\n",
            "|                                         |                        |                  N/A |\n",
            "+-----------------------------------------+------------------------+----------------------+\n",
            "                                                                                         \n",
            "+-----------------------------------------------------------------------------------------+\n",
            "| Processes:                                                                              |\n",
            "|  GPU   GI   CI        PID   Type   Process name                              GPU Memory |\n",
            "|        ID   ID                                                               Usage      |\n",
            "|=========================================================================================|\n",
            "|  No running processes found                                                             |\n",
            "+-----------------------------------------------------------------------------------------+\n",
            "\n",
            "--- Analisi Dettagli Hardware Completata ---\n"
          ]
        }
      ]
    },
    {
      "cell_type": "markdown",
      "source": [
        "# Connect To Gdrive to store the datasets created."
      ],
      "metadata": {
        "id": "X46EKvDxpZ-a"
      }
    },
    {
      "cell_type": "code",
      "source": [
        "from google.colab import drive\n",
        "drive.mount('/content/drive')"
      ],
      "metadata": {
        "colab": {
          "base_uri": "https://localhost:8080/"
        },
        "id": "O7J7tQfWpjXc",
        "outputId": "bf14ff28-2455-4625-a010-9daed97ff5c8"
      },
      "execution_count": 5,
      "outputs": [
        {
          "output_type": "stream",
          "name": "stdout",
          "text": [
            "Mounted at /content/drive\n"
          ]
        }
      ]
    },
    {
      "cell_type": "markdown",
      "source": [
        "# Function for calculating BER"
      ],
      "metadata": {
        "id": "xlX0DwUgcqFH"
      }
    },
    {
      "cell_type": "code",
      "source": [
        "# Funzione per calcolare il BER\n",
        "# Il max_samples sono tutti i segnali per ogni punto SNR che ho attualmente nel test dataset.\n",
        "def calculate_ber(model, snr_test_data_path, max_samples=500000):\n",
        "    ber_values = []\n",
        "    snr_points = list(range(0, 21))\n",
        "\n",
        "    for snr_db in tqdm(snr_points, desc=\"Calculating BER\"):\n",
        "        test_file = os.path.join(snr_test_data_path, f\"test_{snr_db}_SNR.npz\")\n",
        "        if not os.path.exists(test_file):\n",
        "            print(f\"File non trovato: {test_file}. Salto questo SNR.\")\n",
        "            ber_values.append(np.nan)\n",
        "            continue\n",
        "\n",
        "        data = np.load(test_file)\n",
        "        X_batch, y_true_batch = data['X_test'], data['y_test']\n",
        "        symbols_in_batch = X_batch.shape[0]\n",
        "\n",
        "        if symbols_in_batch == 0:\n",
        "            ber_values.append(np.nan)\n",
        "            continue\n",
        "\n",
        "         # --- Estrazione casuale di un sottoinsieme per prove ed esperimenti ---\n",
        "        if len(X_batch) > max_samples:\n",
        "            print(\"Entrato nell'if di riduzione samples nel test set per esperimenti veloci.\")\n",
        "            idx = np.random.choice(len(X_batch), max_samples, replace=False)\n",
        "            X_batch = X_batch[idx]\n",
        "            y_true_batch = y_true_batch[idx]\n",
        "\n",
        "        predictions = model.predict(X_batch, batch_size=10000, verbose=0)\n",
        "        predicted_labels = np.argmax(predictions, axis=1)\n",
        "        errors = np.sum(predicted_labels != y_true_batch)\n",
        "        ber = errors / symbols_in_batch\n",
        "        ber_values.append(ber)\n",
        "        print(f\"SNR: {snr_db} dB, BER: {ber:.6f}\")\n",
        "\n",
        "    return np.array(ber_values), snr_points"
      ],
      "metadata": {
        "id": "EemBT1iBX3b5"
      },
      "execution_count": 10,
      "outputs": []
    },
    {
      "cell_type": "markdown",
      "source": [
        "# Funzione di plotting"
      ],
      "metadata": {
        "id": "Y-Jg4WYohnLl"
      }
    },
    {
      "cell_type": "code",
      "source": [
        "# Funzione di plotting\n",
        "\n",
        "def plot_ber(snr_points, ber_curves_dict, channel_type, title_suffix=\"\", filename=\"ber_plot.png\", snr_x_lims=(0, 20)):\n",
        "    \"\"\"\n",
        "    Plotta BER vs SNR per una serie di modelli. Ogni modello ha una curva nel dizionario.\n",
        "\n",
        "    Args:\n",
        "        snr_points (list or np.array): Valori di SNR (in dB).\n",
        "        ber_curves_dict (dict): {nome_modello: lista_ber}\n",
        "        channel_type (str): 'AWGN', 'Rayleigh', ecc.\n",
        "        title_suffix (str): Testo da aggiungere al titolo del grafico.\n",
        "        filename (str): Nome del file immagine da salvare.\n",
        "        snr_x_lims (tuple): Range dell'asse X (min, max).\n",
        "    \"\"\"\n",
        "    plt.figure(figsize=(10, 6))\n",
        "\n",
        "    for label, ber_data_orig in ber_curves_dict.items():\n",
        "        ber_data = np.array(ber_data_orig)\n",
        "\n",
        "        # Adatta la lunghezza dei dati\n",
        "        if len(ber_data) < len(snr_points):\n",
        "            temp_ber_data = np.full(len(snr_points), np.nan)\n",
        "            temp_ber_data[:len(ber_data)] = ber_data\n",
        "            ber_data = temp_ber_data\n",
        "        elif len(ber_data) > len(snr_points):\n",
        "            ber_data = ber_data[:len(snr_points)]\n",
        "\n",
        "        # Applica la logica \"tocca l'asse X\"\n",
        "        ber_to_plot = ber_data.copy()\n",
        "        for i, ber_val in enumerate(ber_data):\n",
        "            if not np.isnan(ber_val) and ber_val <= 1e-15:\n",
        "                ber_to_plot[i] = 1e-5\n",
        "                ber_to_plot[i+1:] = np.nan\n",
        "                break\n",
        "\n",
        "        # Marker diverso in base al range di addestramento\n",
        "        marker = 'x' if \"11-15\" in label else 'o'\n",
        "\n",
        "        # Plot della curva BER\n",
        "        plt.semilogy(snr_points, ber_to_plot, marker=marker, linestyle='-', label=label)\n",
        "\n",
        "    plt.title(f'Bit Error Rate (BER) vs. SNR for {channel_type} Channel {title_suffix}')\n",
        "    plt.xlabel('SNR (dB)')\n",
        "    plt.ylabel('Bit Error Rate (BER)')\n",
        "    plt.grid(True, which=\"both\", linestyle='--', linewidth=0.5)\n",
        "    plt.legend()\n",
        "    plt.ylim(1e-5, 1)\n",
        "\n",
        "    # Limiti e ticks asse X\n",
        "    min_snr, max_snr = snr_x_lims\n",
        "    plt.xticks(np.arange(int(min_snr), int(max_snr) + 1, 2))\n",
        "    plt.xlim(min_snr, max_snr)\n",
        "\n",
        "    plt.savefig(filename)\n",
        "    plt.show()\n",
        "    print(f\"Grafico salvato come {filename}\")"
      ],
      "metadata": {
        "id": "2O7xPHjhhpKB"
      },
      "execution_count": 7,
      "outputs": []
    },
    {
      "cell_type": "markdown",
      "source": [
        "# Calculate the BER"
      ],
      "metadata": {
        "id": "3Pj-ruwCcnqD"
      }
    },
    {
      "cell_type": "code",
      "source": [
        "# === Impostazioni di base ===\n",
        "cnn_model_folder = \"/content/drive/MyDrive/GitHub/AWGN/trained_models/cnn\"\n",
        "snr_test_data_path = \"/content/drive/MyDrive/GitHub/AWGN/dataset/test\"\n",
        "results_folder = \"/content/drive/MyDrive/GitHub/AWGN/results\"\n",
        "\n",
        "os.makedirs(results_folder, exist_ok=True)  # Crea la cartella dei risultati se non esiste\n",
        "\n",
        "ber_results = {}\n",
        "snr_points = None  # Verrà popolato durante il primo calcolo\n",
        "\n",
        "for model_file in os.listdir(cnn_model_folder):\n",
        "    if model_file.endswith(\".h5\"):\n",
        "        model_name = model_file.replace(\".h5\", \"\")\n",
        "        model_path = os.path.join(cnn_model_folder, model_file)\n",
        "        result_file = os.path.join(results_folder, f\"{model_name}_ber.npy\")\n",
        "\n",
        "        # Se esistono già i risultati, caricali\n",
        "        if os.path.exists(result_file):\n",
        "            print(f\"Risultati già presenti per {model_name}, caricamento da file...\")\n",
        "            ber_values = np.load(result_file)\n",
        "        else:\n",
        "            print(f\"\\nCaricamento modello: {model_name}\")\n",
        "            model = load_model(model_path)\n",
        "            ber_values, snr_points = calculate_ber(model, snr_test_data_path)\n",
        "            np.save(result_file, ber_values)  # Salva risultati\n",
        "            print(f\"BER salvato in: {result_file}\")\n",
        "\n",
        "        ber_results[model_name] = ber_values\n",
        "        print(f\"BER per {model_name}: {ber_values}\")\n",
        "\n",
        "# === Plot finale ===\n",
        "plot_ber(\n",
        "    snr_points,\n",
        "    ber_results,\n",
        "    channel_type=\"AWGN\",\n",
        "    title_suffix=\"CNN Evaluation\",\n",
        "    filename=os.path.join(results_folder, \"ber_cnn_all_models.png\")\n",
        ")\n"
      ],
      "metadata": {
        "colab": {
          "base_uri": "https://localhost:8080/",
          "height": 1000
        },
        "id": "abZx9W2owPvX",
        "outputId": "8a2c3174-3444-4748-edf5-8636a5bd7eba"
      },
      "execution_count": 11,
      "outputs": [
        {
          "output_type": "stream",
          "name": "stdout",
          "text": [
            "Risultati già presenti per CNN_3-ksize_128-filters_awgn_snr_0-20, caricamento da file...\n",
            "BER per CNN_3-ksize_128-filters_awgn_snr_0-20: [6.136e-03 2.864e-03 1.150e-03 4.780e-04 1.840e-04 9.200e-05 2.400e-05\n",
            " 1.000e-05 8.000e-06 2.000e-06 2.000e-06 2.000e-06 2.000e-06 2.000e-06\n",
            " 0.000e+00 2.000e-06 0.000e+00 0.000e+00 0.000e+00 2.000e-06 0.000e+00]\n",
            "Risultati già presenti per CNN_5-ksize_128-filters_awgn_snr_0-20, caricamento da file...\n",
            "BER per CNN_5-ksize_128-filters_awgn_snr_0-20: [3.034e-03 1.232e-03 4.380e-04 1.640e-04 6.200e-05 2.800e-05 1.800e-05\n",
            " 0.000e+00 0.000e+00 0.000e+00 2.000e-06 4.000e-06 0.000e+00 2.000e-06\n",
            " 2.000e-06 0.000e+00 0.000e+00 0.000e+00 0.000e+00 2.000e-06 0.000e+00]\n",
            "Risultati già presenti per CNN_7-ksize_128-filters_awgn_snr_0-20, caricamento da file...\n",
            "BER per CNN_7-ksize_128-filters_awgn_snr_0-20: [2.586e-03 9.660e-04 4.100e-04 1.420e-04 6.400e-05 5.000e-05 2.000e-05\n",
            " 4.000e-06 2.000e-06 2.000e-06 0.000e+00 0.000e+00 0.000e+00 2.000e-06\n",
            " 2.000e-06 0.000e+00 0.000e+00 0.000e+00 0.000e+00 0.000e+00 0.000e+00]\n",
            "Risultati già presenti per CNN_9-ksize_128-filters_awgn_snr_0-20, caricamento da file...\n",
            "BER per CNN_9-ksize_128-filters_awgn_snr_0-20: [2.502e-03 1.130e-03 4.540e-04 1.640e-04 6.400e-05 3.400e-05 2.000e-05\n",
            " 4.000e-06 4.000e-06 0.000e+00 2.000e-06 0.000e+00 0.000e+00 2.000e-06\n",
            " 2.000e-06 0.000e+00 2.000e-06 0.000e+00 0.000e+00 2.000e-06 0.000e+00]\n",
            "Risultati già presenti per CNN_3-ksize_256-filters_awgn_snr_0-20, caricamento da file...\n",
            "BER per CNN_3-ksize_256-filters_awgn_snr_0-20: [6.898e-03 3.426e-03 1.574e-03 7.200e-04 3.240e-04 1.680e-04 6.200e-05\n",
            " 2.200e-05 1.200e-05 8.000e-06 2.000e-06 4.000e-06 2.000e-06 2.000e-06\n",
            " 0.000e+00 2.000e-06 0.000e+00 0.000e+00 0.000e+00 0.000e+00 0.000e+00]\n",
            "Risultati già presenti per CNN_5-ksize_256-filters_awgn_snr_0-20, caricamento da file...\n",
            "BER per CNN_5-ksize_256-filters_awgn_snr_0-20: [4.166e-03 1.318e-03 3.460e-04 1.020e-04 3.200e-05 1.400e-05 6.000e-06\n",
            " 0.000e+00 0.000e+00 0.000e+00 2.000e-06 0.000e+00 0.000e+00 0.000e+00\n",
            " 0.000e+00 0.000e+00 0.000e+00 0.000e+00 0.000e+00 0.000e+00 0.000e+00]\n",
            "Risultati già presenti per CNN_7-ksize_256-filters_awgn_snr_0-20, caricamento da file...\n",
            "BER per CNN_7-ksize_256-filters_awgn_snr_0-20: [2.856e-03 1.018e-03 3.000e-04 9.400e-05 1.400e-05 1.400e-05 1.200e-05\n",
            " 0.000e+00 0.000e+00 0.000e+00 0.000e+00 0.000e+00 0.000e+00 0.000e+00\n",
            " 0.000e+00 0.000e+00 0.000e+00 0.000e+00 0.000e+00 2.000e-06 0.000e+00]\n",
            "Risultati già presenti per CNN_9-ksize_256-filters_awgn_snr_0-20, caricamento da file...\n",
            "BER per CNN_9-ksize_256-filters_awgn_snr_0-20: [1.758e-03 8.100e-04 3.160e-04 1.340e-04 6.600e-05 4.800e-05 2.200e-05\n",
            " 6.000e-06 6.000e-06 2.000e-06 4.000e-06 2.000e-06 2.000e-06 2.000e-06\n",
            " 2.000e-06 2.000e-06 0.000e+00 0.000e+00 0.000e+00 2.000e-06 2.000e-06]\n",
            "Risultati già presenti per CNN_3-ksize_512-filters_awgn_snr_0-20, caricamento da file...\n",
            "BER per CNN_3-ksize_512-filters_awgn_snr_0-20: [6.700e-03 3.346e-03 1.592e-03 7.400e-04 3.160e-04 1.720e-04 6.800e-05\n",
            " 1.400e-05 1.600e-05 1.200e-05 2.000e-06 2.000e-06 0.000e+00 4.000e-06\n",
            " 0.000e+00 2.000e-06 0.000e+00 0.000e+00 0.000e+00 2.000e-06 0.000e+00]\n",
            "Risultati già presenti per CNN_5-ksize_512-filters_awgn_snr_0-20, caricamento da file...\n",
            "BER per CNN_5-ksize_512-filters_awgn_snr_0-20: [2.736e-03 1.068e-03 5.120e-04 2.880e-04 1.640e-04 1.100e-04 6.600e-05\n",
            " 2.600e-05 2.800e-05 1.600e-05 1.400e-05 1.400e-05 6.000e-06 1.200e-05\n",
            " 8.000e-06 2.000e-06 4.000e-06 8.000e-06 6.000e-06 6.000e-06 6.000e-06]\n",
            "Risultati già presenti per CNN_7-ksize_512-filters_awgn_snr_0-20, caricamento da file...\n",
            "BER per CNN_7-ksize_512-filters_awgn_snr_0-20: [2.572e-03 9.300e-04 2.680e-04 9.800e-05 3.000e-05 3.400e-05 1.200e-05\n",
            " 4.000e-06 0.000e+00 2.000e-06 2.000e-06 2.000e-06 0.000e+00 2.000e-06\n",
            " 0.000e+00 0.000e+00 0.000e+00 0.000e+00 0.000e+00 2.000e-06 0.000e+00]\n",
            "Risultati già presenti per CNN_9-ksize_512-filters_awgn_snr_0-20, caricamento da file...\n",
            "BER per CNN_9-ksize_512-filters_awgn_snr_0-20: [2.462e-03 1.034e-03 3.460e-04 1.020e-04 3.200e-05 1.200e-05 4.000e-06\n",
            " 0.000e+00 0.000e+00 0.000e+00 0.000e+00 0.000e+00 0.000e+00 2.000e-06\n",
            " 0.000e+00 0.000e+00 0.000e+00 0.000e+00 0.000e+00 2.000e-06 0.000e+00]\n",
            "\n",
            "Caricamento modello: CNN_3-ksize_1024-filters_awgn_snr_0-20\n"
          ]
        },
        {
          "output_type": "stream",
          "name": "stderr",
          "text": [
            "WARNING:absl:Compiled the loaded model, but the compiled metrics have yet to be built. `model.compile_metrics` will be empty until you train or evaluate the model.\n",
            "Calculating BER:   5%|▍         | 1/21 [00:20<06:57, 20.90s/it]"
          ]
        },
        {
          "output_type": "stream",
          "name": "stdout",
          "text": [
            "SNR: 0 dB, BER: 0.006784\n"
          ]
        },
        {
          "output_type": "stream",
          "name": "stderr",
          "text": [
            "\rCalculating BER:  10%|▉         | 2/21 [00:45<07:18, 23.06s/it]"
          ]
        },
        {
          "output_type": "stream",
          "name": "stdout",
          "text": [
            "SNR: 1 dB, BER: 0.003322\n"
          ]
        },
        {
          "output_type": "stream",
          "name": "stderr",
          "text": [
            "\rCalculating BER:  14%|█▍        | 3/21 [01:09<07:07, 23.73s/it]"
          ]
        },
        {
          "output_type": "stream",
          "name": "stdout",
          "text": [
            "SNR: 2 dB, BER: 0.001524\n"
          ]
        },
        {
          "output_type": "stream",
          "name": "stderr",
          "text": [
            "\rCalculating BER:  19%|█▉        | 4/21 [01:35<06:52, 24.24s/it]"
          ]
        },
        {
          "output_type": "stream",
          "name": "stdout",
          "text": [
            "SNR: 3 dB, BER: 0.000702\n"
          ]
        },
        {
          "output_type": "stream",
          "name": "stderr",
          "text": [
            "\rCalculating BER:  24%|██▍       | 5/21 [02:00<06:36, 24.77s/it]"
          ]
        },
        {
          "output_type": "stream",
          "name": "stdout",
          "text": [
            "SNR: 4 dB, BER: 0.000356\n"
          ]
        },
        {
          "output_type": "stream",
          "name": "stderr",
          "text": [
            "\rCalculating BER:  29%|██▊       | 6/21 [02:27<06:20, 25.40s/it]"
          ]
        },
        {
          "output_type": "stream",
          "name": "stdout",
          "text": [
            "SNR: 5 dB, BER: 0.000190\n"
          ]
        },
        {
          "output_type": "stream",
          "name": "stderr",
          "text": [
            "\rCalculating BER:  33%|███▎      | 7/21 [02:52<05:54, 25.34s/it]"
          ]
        },
        {
          "output_type": "stream",
          "name": "stdout",
          "text": [
            "SNR: 6 dB, BER: 0.000102\n"
          ]
        },
        {
          "output_type": "stream",
          "name": "stderr",
          "text": [
            "\rCalculating BER:  38%|███▊      | 8/21 [03:17<05:27, 25.18s/it]"
          ]
        },
        {
          "output_type": "stream",
          "name": "stdout",
          "text": [
            "SNR: 7 dB, BER: 0.000034\n"
          ]
        },
        {
          "output_type": "stream",
          "name": "stderr",
          "text": [
            "\rCalculating BER:  43%|████▎     | 9/21 [03:42<05:02, 25.23s/it]"
          ]
        },
        {
          "output_type": "stream",
          "name": "stdout",
          "text": [
            "SNR: 8 dB, BER: 0.000024\n"
          ]
        },
        {
          "output_type": "stream",
          "name": "stderr",
          "text": [
            "\rCalculating BER:  48%|████▊     | 10/21 [04:08<04:38, 25.29s/it]"
          ]
        },
        {
          "output_type": "stream",
          "name": "stdout",
          "text": [
            "SNR: 9 dB, BER: 0.000022\n"
          ]
        },
        {
          "output_type": "stream",
          "name": "stderr",
          "text": [
            "\rCalculating BER:  52%|█████▏    | 11/21 [04:33<04:13, 25.33s/it]"
          ]
        },
        {
          "output_type": "stream",
          "name": "stdout",
          "text": [
            "SNR: 10 dB, BER: 0.000004\n"
          ]
        },
        {
          "output_type": "stream",
          "name": "stderr",
          "text": [
            "\rCalculating BER:  57%|█████▋    | 12/21 [04:59<03:48, 25.40s/it]"
          ]
        },
        {
          "output_type": "stream",
          "name": "stdout",
          "text": [
            "SNR: 11 dB, BER: 0.000014\n"
          ]
        },
        {
          "output_type": "stream",
          "name": "stderr",
          "text": [
            "\rCalculating BER:  62%|██████▏   | 13/21 [05:23<03:21, 25.23s/it]"
          ]
        },
        {
          "output_type": "stream",
          "name": "stdout",
          "text": [
            "SNR: 12 dB, BER: 0.000006\n"
          ]
        },
        {
          "output_type": "stream",
          "name": "stderr",
          "text": [
            "\rCalculating BER:  67%|██████▋   | 14/21 [05:49<02:56, 25.22s/it]"
          ]
        },
        {
          "output_type": "stream",
          "name": "stdout",
          "text": [
            "SNR: 13 dB, BER: 0.000010\n"
          ]
        },
        {
          "output_type": "stream",
          "name": "stderr",
          "text": [
            "\rCalculating BER:  71%|███████▏  | 15/21 [06:14<02:31, 25.24s/it]"
          ]
        },
        {
          "output_type": "stream",
          "name": "stdout",
          "text": [
            "SNR: 14 dB, BER: 0.000002\n"
          ]
        },
        {
          "output_type": "stream",
          "name": "stderr",
          "text": [
            "\rCalculating BER:  76%|███████▌  | 16/21 [06:40<02:07, 25.53s/it]"
          ]
        },
        {
          "output_type": "stream",
          "name": "stdout",
          "text": [
            "SNR: 15 dB, BER: 0.000002\n"
          ]
        },
        {
          "output_type": "stream",
          "name": "stderr",
          "text": [
            "\rCalculating BER:  81%|████████  | 17/21 [07:06<01:42, 25.57s/it]"
          ]
        },
        {
          "output_type": "stream",
          "name": "stdout",
          "text": [
            "SNR: 16 dB, BER: 0.000004\n"
          ]
        },
        {
          "output_type": "stream",
          "name": "stderr",
          "text": [
            "\rCalculating BER:  86%|████████▌ | 18/21 [07:45<01:29, 29.67s/it]"
          ]
        },
        {
          "output_type": "stream",
          "name": "stdout",
          "text": [
            "SNR: 17 dB, BER: 0.000004\n"
          ]
        },
        {
          "output_type": "stream",
          "name": "stderr",
          "text": [
            "\rCalculating BER:  90%|█████████ | 19/21 [08:11<00:56, 28.45s/it]"
          ]
        },
        {
          "output_type": "stream",
          "name": "stdout",
          "text": [
            "SNR: 18 dB, BER: 0.000002\n"
          ]
        },
        {
          "output_type": "stream",
          "name": "stderr",
          "text": [
            "\rCalculating BER:  95%|█████████▌| 20/21 [08:36<00:27, 27.66s/it]"
          ]
        },
        {
          "output_type": "stream",
          "name": "stdout",
          "text": [
            "SNR: 19 dB, BER: 0.000004\n"
          ]
        },
        {
          "output_type": "stream",
          "name": "stderr",
          "text": [
            "Calculating BER: 100%|██████████| 21/21 [09:02<00:00, 25.82s/it]"
          ]
        },
        {
          "output_type": "stream",
          "name": "stdout",
          "text": [
            "SNR: 20 dB, BER: 0.000000\n",
            "BER salvato in: /content/drive/MyDrive/GitHub/AWGN/results/CNN_3-ksize_1024-filters_awgn_snr_0-20_ber.npy\n",
            "BER per CNN_3-ksize_1024-filters_awgn_snr_0-20: [6.784e-03 3.322e-03 1.524e-03 7.020e-04 3.560e-04 1.900e-04 1.020e-04\n",
            " 3.400e-05 2.400e-05 2.200e-05 4.000e-06 1.400e-05 6.000e-06 1.000e-05\n",
            " 2.000e-06 2.000e-06 4.000e-06 4.000e-06 2.000e-06 4.000e-06 0.000e+00]\n",
            "\n",
            "Caricamento modello: CNN_5-ksize_1024-filters_awgn_snr_0-20\n"
          ]
        },
        {
          "output_type": "stream",
          "name": "stderr",
          "text": [
            "\n",
            "WARNING:absl:Compiled the loaded model, but the compiled metrics have yet to be built. `model.compile_metrics` will be empty until you train or evaluate the model.\n",
            "Calculating BER:   5%|▍         | 1/21 [00:22<07:39, 22.96s/it]"
          ]
        },
        {
          "output_type": "stream",
          "name": "stdout",
          "text": [
            "SNR: 0 dB, BER: 0.003300\n"
          ]
        },
        {
          "output_type": "stream",
          "name": "stderr",
          "text": [
            "\rCalculating BER:  10%|▉         | 2/21 [00:45<07:15, 22.94s/it]"
          ]
        },
        {
          "output_type": "stream",
          "name": "stdout",
          "text": [
            "SNR: 1 dB, BER: 0.001130\n"
          ]
        },
        {
          "output_type": "stream",
          "name": "stderr",
          "text": [
            "\rCalculating BER:  14%|█▍        | 3/21 [01:08<06:49, 22.75s/it]"
          ]
        },
        {
          "output_type": "stream",
          "name": "stdout",
          "text": [
            "SNR: 2 dB, BER: 0.000390\n"
          ]
        },
        {
          "output_type": "stream",
          "name": "stderr",
          "text": [
            "\rCalculating BER:  19%|█▉        | 4/21 [01:30<06:24, 22.63s/it]"
          ]
        },
        {
          "output_type": "stream",
          "name": "stdout",
          "text": [
            "SNR: 3 dB, BER: 0.000164\n"
          ]
        },
        {
          "output_type": "stream",
          "name": "stderr",
          "text": [
            "\rCalculating BER:  24%|██▍       | 5/21 [01:53<06:04, 22.76s/it]"
          ]
        },
        {
          "output_type": "stream",
          "name": "stdout",
          "text": [
            "SNR: 4 dB, BER: 0.000062\n"
          ]
        },
        {
          "output_type": "stream",
          "name": "stderr",
          "text": [
            "\rCalculating BER:  29%|██▊       | 6/21 [02:16<05:41, 22.77s/it]"
          ]
        },
        {
          "output_type": "stream",
          "name": "stdout",
          "text": [
            "SNR: 5 dB, BER: 0.000054\n"
          ]
        },
        {
          "output_type": "stream",
          "name": "stderr",
          "text": [
            "\rCalculating BER:  33%|███▎      | 7/21 [02:39<05:18, 22.76s/it]"
          ]
        },
        {
          "output_type": "stream",
          "name": "stdout",
          "text": [
            "SNR: 6 dB, BER: 0.000020\n"
          ]
        },
        {
          "output_type": "stream",
          "name": "stderr",
          "text": [
            "\rCalculating BER:  38%|███▊      | 8/21 [03:02<04:56, 22.82s/it]"
          ]
        },
        {
          "output_type": "stream",
          "name": "stdout",
          "text": [
            "SNR: 7 dB, BER: 0.000002\n"
          ]
        },
        {
          "output_type": "stream",
          "name": "stderr",
          "text": [
            "\rCalculating BER:  43%|████▎     | 9/21 [03:25<04:35, 22.92s/it]"
          ]
        },
        {
          "output_type": "stream",
          "name": "stdout",
          "text": [
            "SNR: 8 dB, BER: 0.000006\n"
          ]
        },
        {
          "output_type": "stream",
          "name": "stderr",
          "text": [
            "\rCalculating BER:  48%|████▊     | 10/21 [03:48<04:11, 22.91s/it]"
          ]
        },
        {
          "output_type": "stream",
          "name": "stdout",
          "text": [
            "SNR: 9 dB, BER: 0.000002\n"
          ]
        },
        {
          "output_type": "stream",
          "name": "stderr",
          "text": [
            "\rCalculating BER:  52%|█████▏    | 11/21 [04:11<03:49, 22.97s/it]"
          ]
        },
        {
          "output_type": "stream",
          "name": "stdout",
          "text": [
            "SNR: 10 dB, BER: 0.000004\n"
          ]
        },
        {
          "output_type": "stream",
          "name": "stderr",
          "text": [
            "\rCalculating BER:  57%|█████▋    | 12/21 [04:34<03:26, 22.94s/it]"
          ]
        },
        {
          "output_type": "stream",
          "name": "stdout",
          "text": [
            "SNR: 11 dB, BER: 0.000004\n"
          ]
        },
        {
          "output_type": "stream",
          "name": "stderr",
          "text": [
            "\rCalculating BER:  62%|██████▏   | 13/21 [04:57<03:03, 22.98s/it]"
          ]
        },
        {
          "output_type": "stream",
          "name": "stdout",
          "text": [
            "SNR: 12 dB, BER: 0.000004\n"
          ]
        },
        {
          "output_type": "stream",
          "name": "stderr",
          "text": [
            "\rCalculating BER:  67%|██████▋   | 14/21 [05:20<02:40, 22.88s/it]"
          ]
        },
        {
          "output_type": "stream",
          "name": "stdout",
          "text": [
            "SNR: 13 dB, BER: 0.000000\n"
          ]
        },
        {
          "output_type": "stream",
          "name": "stderr",
          "text": [
            "\rCalculating BER:  71%|███████▏  | 15/21 [05:43<02:17, 22.99s/it]"
          ]
        },
        {
          "output_type": "stream",
          "name": "stdout",
          "text": [
            "SNR: 14 dB, BER: 0.000000\n"
          ]
        },
        {
          "output_type": "stream",
          "name": "stderr",
          "text": [
            "\rCalculating BER:  76%|███████▌  | 16/21 [06:06<01:54, 22.94s/it]"
          ]
        },
        {
          "output_type": "stream",
          "name": "stdout",
          "text": [
            "SNR: 15 dB, BER: 0.000000\n"
          ]
        },
        {
          "output_type": "stream",
          "name": "stderr",
          "text": [
            "\rCalculating BER:  81%|████████  | 17/21 [06:29<01:31, 22.98s/it]"
          ]
        },
        {
          "output_type": "stream",
          "name": "stdout",
          "text": [
            "SNR: 16 dB, BER: 0.000000\n"
          ]
        },
        {
          "output_type": "stream",
          "name": "stderr",
          "text": [
            "\rCalculating BER:  86%|████████▌ | 18/21 [06:51<01:08, 22.90s/it]"
          ]
        },
        {
          "output_type": "stream",
          "name": "stdout",
          "text": [
            "SNR: 17 dB, BER: 0.000000\n"
          ]
        },
        {
          "output_type": "stream",
          "name": "stderr",
          "text": [
            "\rCalculating BER:  90%|█████████ | 19/21 [07:15<00:45, 22.96s/it]"
          ]
        },
        {
          "output_type": "stream",
          "name": "stdout",
          "text": [
            "SNR: 18 dB, BER: 0.000000\n"
          ]
        },
        {
          "output_type": "stream",
          "name": "stderr",
          "text": [
            "\rCalculating BER:  95%|█████████▌| 20/21 [07:37<00:22, 22.91s/it]"
          ]
        },
        {
          "output_type": "stream",
          "name": "stdout",
          "text": [
            "SNR: 19 dB, BER: 0.000000\n"
          ]
        },
        {
          "output_type": "stream",
          "name": "stderr",
          "text": [
            "Calculating BER: 100%|██████████| 21/21 [08:00<00:00, 22.89s/it]"
          ]
        },
        {
          "output_type": "stream",
          "name": "stdout",
          "text": [
            "SNR: 20 dB, BER: 0.000000\n",
            "BER salvato in: /content/drive/MyDrive/GitHub/AWGN/results/CNN_5-ksize_1024-filters_awgn_snr_0-20_ber.npy\n",
            "BER per CNN_5-ksize_1024-filters_awgn_snr_0-20: [3.30e-03 1.13e-03 3.90e-04 1.64e-04 6.20e-05 5.40e-05 2.00e-05 2.00e-06\n",
            " 6.00e-06 2.00e-06 4.00e-06 4.00e-06 4.00e-06 0.00e+00 0.00e+00 0.00e+00\n",
            " 0.00e+00 0.00e+00 0.00e+00 0.00e+00 0.00e+00]\n",
            "\n",
            "Caricamento modello: CNN_7-ksize_1024-filters_awgn_snr_0-20\n"
          ]
        },
        {
          "output_type": "stream",
          "name": "stderr",
          "text": [
            "\n",
            "WARNING:absl:Compiled the loaded model, but the compiled metrics have yet to be built. `model.compile_metrics` will be empty until you train or evaluate the model.\n",
            "Calculating BER:   5%|▍         | 1/21 [00:22<07:34, 22.72s/it]"
          ]
        },
        {
          "output_type": "stream",
          "name": "stdout",
          "text": [
            "SNR: 0 dB, BER: 0.002154\n"
          ]
        },
        {
          "output_type": "stream",
          "name": "stderr",
          "text": [
            "\rCalculating BER:  10%|▉         | 2/21 [00:45<07:14, 22.85s/it]"
          ]
        },
        {
          "output_type": "stream",
          "name": "stdout",
          "text": [
            "SNR: 1 dB, BER: 0.000834\n"
          ]
        },
        {
          "output_type": "stream",
          "name": "stderr",
          "text": [
            "\rCalculating BER:  14%|█▍        | 3/21 [01:08<06:49, 22.75s/it]"
          ]
        },
        {
          "output_type": "stream",
          "name": "stdout",
          "text": [
            "SNR: 2 dB, BER: 0.000274\n"
          ]
        },
        {
          "output_type": "stream",
          "name": "stderr",
          "text": [
            "\rCalculating BER:  19%|█▉        | 4/21 [01:31<06:28, 22.86s/it]"
          ]
        },
        {
          "output_type": "stream",
          "name": "stdout",
          "text": [
            "SNR: 3 dB, BER: 0.000112\n"
          ]
        },
        {
          "output_type": "stream",
          "name": "stderr",
          "text": [
            "\rCalculating BER:  24%|██▍       | 5/21 [01:54<06:06, 22.91s/it]"
          ]
        },
        {
          "output_type": "stream",
          "name": "stdout",
          "text": [
            "SNR: 4 dB, BER: 0.000044\n"
          ]
        },
        {
          "output_type": "stream",
          "name": "stderr",
          "text": [
            "\rCalculating BER:  29%|██▊       | 6/21 [02:17<05:42, 22.85s/it]"
          ]
        },
        {
          "output_type": "stream",
          "name": "stdout",
          "text": [
            "SNR: 5 dB, BER: 0.000034\n"
          ]
        },
        {
          "output_type": "stream",
          "name": "stderr",
          "text": [
            "\rCalculating BER:  33%|███▎      | 7/21 [02:39<05:18, 22.75s/it]"
          ]
        },
        {
          "output_type": "stream",
          "name": "stdout",
          "text": [
            "SNR: 6 dB, BER: 0.000012\n"
          ]
        },
        {
          "output_type": "stream",
          "name": "stderr",
          "text": [
            "\rCalculating BER:  38%|███▊      | 8/21 [03:02<04:57, 22.88s/it]"
          ]
        },
        {
          "output_type": "stream",
          "name": "stdout",
          "text": [
            "SNR: 7 dB, BER: 0.000008\n"
          ]
        },
        {
          "output_type": "stream",
          "name": "stderr",
          "text": [
            "\rCalculating BER:  43%|████▎     | 9/21 [03:25<04:34, 22.87s/it]"
          ]
        },
        {
          "output_type": "stream",
          "name": "stdout",
          "text": [
            "SNR: 8 dB, BER: 0.000002\n"
          ]
        },
        {
          "output_type": "stream",
          "name": "stderr",
          "text": [
            "\rCalculating BER:  48%|████▊     | 10/21 [03:48<04:11, 22.82s/it]"
          ]
        },
        {
          "output_type": "stream",
          "name": "stdout",
          "text": [
            "SNR: 9 dB, BER: 0.000004\n"
          ]
        },
        {
          "output_type": "stream",
          "name": "stderr",
          "text": [
            "\rCalculating BER:  52%|█████▏    | 11/21 [04:11<03:49, 22.91s/it]"
          ]
        },
        {
          "output_type": "stream",
          "name": "stdout",
          "text": [
            "SNR: 10 dB, BER: 0.000008\n"
          ]
        },
        {
          "output_type": "stream",
          "name": "stderr",
          "text": [
            "\rCalculating BER:  57%|█████▋    | 12/21 [04:34<03:25, 22.82s/it]"
          ]
        },
        {
          "output_type": "stream",
          "name": "stdout",
          "text": [
            "SNR: 11 dB, BER: 0.000002\n"
          ]
        },
        {
          "output_type": "stream",
          "name": "stderr",
          "text": [
            "\rCalculating BER:  62%|██████▏   | 13/21 [04:57<03:03, 22.88s/it]"
          ]
        },
        {
          "output_type": "stream",
          "name": "stdout",
          "text": [
            "SNR: 12 dB, BER: 0.000002\n"
          ]
        },
        {
          "output_type": "stream",
          "name": "stderr",
          "text": [
            "\rCalculating BER:  67%|██████▋   | 14/21 [05:19<02:39, 22.81s/it]"
          ]
        },
        {
          "output_type": "stream",
          "name": "stdout",
          "text": [
            "SNR: 13 dB, BER: 0.000002\n"
          ]
        },
        {
          "output_type": "stream",
          "name": "stderr",
          "text": [
            "\rCalculating BER:  71%|███████▏  | 15/21 [05:42<02:16, 22.73s/it]"
          ]
        },
        {
          "output_type": "stream",
          "name": "stdout",
          "text": [
            "SNR: 14 dB, BER: 0.000002\n"
          ]
        },
        {
          "output_type": "stream",
          "name": "stderr",
          "text": [
            "\rCalculating BER:  76%|███████▌  | 16/21 [06:04<01:53, 22.67s/it]"
          ]
        },
        {
          "output_type": "stream",
          "name": "stdout",
          "text": [
            "SNR: 15 dB, BER: 0.000000\n"
          ]
        },
        {
          "output_type": "stream",
          "name": "stderr",
          "text": [
            "\rCalculating BER:  81%|████████  | 17/21 [06:27<01:31, 22.78s/it]"
          ]
        },
        {
          "output_type": "stream",
          "name": "stdout",
          "text": [
            "SNR: 16 dB, BER: 0.000000\n"
          ]
        },
        {
          "output_type": "stream",
          "name": "stderr",
          "text": [
            "\rCalculating BER:  86%|████████▌ | 18/21 [06:50<01:08, 22.71s/it]"
          ]
        },
        {
          "output_type": "stream",
          "name": "stdout",
          "text": [
            "SNR: 17 dB, BER: 0.000002\n"
          ]
        },
        {
          "output_type": "stream",
          "name": "stderr",
          "text": [
            "\rCalculating BER:  90%|█████████ | 19/21 [07:13<00:45, 22.83s/it]"
          ]
        },
        {
          "output_type": "stream",
          "name": "stdout",
          "text": [
            "SNR: 18 dB, BER: 0.000000\n"
          ]
        },
        {
          "output_type": "stream",
          "name": "stderr",
          "text": [
            "\rCalculating BER:  95%|█████████▌| 20/21 [07:35<00:22, 22.72s/it]"
          ]
        },
        {
          "output_type": "stream",
          "name": "stdout",
          "text": [
            "SNR: 19 dB, BER: 0.000002\n"
          ]
        },
        {
          "output_type": "stream",
          "name": "stderr",
          "text": [
            "Calculating BER: 100%|██████████| 21/21 [07:58<00:00, 22.80s/it]"
          ]
        },
        {
          "output_type": "stream",
          "name": "stdout",
          "text": [
            "SNR: 20 dB, BER: 0.000000\n",
            "BER salvato in: /content/drive/MyDrive/GitHub/AWGN/results/CNN_7-ksize_1024-filters_awgn_snr_0-20_ber.npy\n",
            "BER per CNN_7-ksize_1024-filters_awgn_snr_0-20: [2.154e-03 8.340e-04 2.740e-04 1.120e-04 4.400e-05 3.400e-05 1.200e-05\n",
            " 8.000e-06 2.000e-06 4.000e-06 8.000e-06 2.000e-06 2.000e-06 2.000e-06\n",
            " 2.000e-06 0.000e+00 0.000e+00 2.000e-06 0.000e+00 2.000e-06 0.000e+00]\n",
            "\n",
            "Caricamento modello: CNN_9-ksize_1024-filters_awgn_snr_0-20\n"
          ]
        },
        {
          "output_type": "stream",
          "name": "stderr",
          "text": [
            "\n",
            "WARNING:absl:Compiled the loaded model, but the compiled metrics have yet to be built. `model.compile_metrics` will be empty until you train or evaluate the model.\n",
            "Calculating BER:   5%|▍         | 1/21 [00:22<07:29, 22.46s/it]"
          ]
        },
        {
          "output_type": "stream",
          "name": "stdout",
          "text": [
            "SNR: 0 dB, BER: 0.002206\n"
          ]
        },
        {
          "output_type": "stream",
          "name": "stderr",
          "text": [
            "\rCalculating BER:  10%|▉         | 2/21 [00:45<07:12, 22.75s/it]"
          ]
        },
        {
          "output_type": "stream",
          "name": "stdout",
          "text": [
            "SNR: 1 dB, BER: 0.000830\n"
          ]
        },
        {
          "output_type": "stream",
          "name": "stderr",
          "text": [
            "\rCalculating BER:  14%|█▍        | 3/21 [01:08<06:52, 22.91s/it]"
          ]
        },
        {
          "output_type": "stream",
          "name": "stdout",
          "text": [
            "SNR: 2 dB, BER: 0.000248\n"
          ]
        },
        {
          "output_type": "stream",
          "name": "stderr",
          "text": [
            "\rCalculating BER:  19%|█▉        | 4/21 [01:30<06:26, 22.74s/it]"
          ]
        },
        {
          "output_type": "stream",
          "name": "stdout",
          "text": [
            "SNR: 3 dB, BER: 0.000084\n"
          ]
        },
        {
          "output_type": "stream",
          "name": "stderr",
          "text": [
            "\rCalculating BER:  24%|██▍       | 5/21 [01:54<06:05, 22.87s/it]"
          ]
        },
        {
          "output_type": "stream",
          "name": "stdout",
          "text": [
            "SNR: 4 dB, BER: 0.000028\n"
          ]
        },
        {
          "output_type": "stream",
          "name": "stderr",
          "text": [
            "\rCalculating BER:  29%|██▊       | 6/21 [02:16<05:42, 22.82s/it]"
          ]
        },
        {
          "output_type": "stream",
          "name": "stdout",
          "text": [
            "SNR: 5 dB, BER: 0.000018\n"
          ]
        },
        {
          "output_type": "stream",
          "name": "stderr",
          "text": [
            "\rCalculating BER:  33%|███▎      | 7/21 [02:39<05:20, 22.91s/it]"
          ]
        },
        {
          "output_type": "stream",
          "name": "stdout",
          "text": [
            "SNR: 6 dB, BER: 0.000010\n"
          ]
        },
        {
          "output_type": "stream",
          "name": "stderr",
          "text": [
            "\rCalculating BER:  38%|███▊      | 8/21 [03:02<04:56, 22.83s/it]"
          ]
        },
        {
          "output_type": "stream",
          "name": "stdout",
          "text": [
            "SNR: 7 dB, BER: 0.000002\n"
          ]
        },
        {
          "output_type": "stream",
          "name": "stderr",
          "text": [
            "\rCalculating BER:  43%|████▎     | 9/21 [03:25<04:34, 22.87s/it]"
          ]
        },
        {
          "output_type": "stream",
          "name": "stdout",
          "text": [
            "SNR: 8 dB, BER: 0.000002\n"
          ]
        },
        {
          "output_type": "stream",
          "name": "stderr",
          "text": [
            "\rCalculating BER:  48%|████▊     | 10/21 [03:48<04:10, 22.81s/it]"
          ]
        },
        {
          "output_type": "stream",
          "name": "stdout",
          "text": [
            "SNR: 9 dB, BER: 0.000000\n"
          ]
        },
        {
          "output_type": "stream",
          "name": "stderr",
          "text": [
            "\rCalculating BER:  52%|█████▏    | 11/21 [04:10<03:47, 22.77s/it]"
          ]
        },
        {
          "output_type": "stream",
          "name": "stdout",
          "text": [
            "SNR: 10 dB, BER: 0.000002\n"
          ]
        },
        {
          "output_type": "stream",
          "name": "stderr",
          "text": [
            "\rCalculating BER:  57%|█████▋    | 12/21 [04:33<03:24, 22.72s/it]"
          ]
        },
        {
          "output_type": "stream",
          "name": "stdout",
          "text": [
            "SNR: 11 dB, BER: 0.000000\n"
          ]
        },
        {
          "output_type": "stream",
          "name": "stderr",
          "text": [
            "\rCalculating BER:  62%|██████▏   | 13/21 [04:56<03:02, 22.76s/it]"
          ]
        },
        {
          "output_type": "stream",
          "name": "stdout",
          "text": [
            "SNR: 12 dB, BER: 0.000002\n"
          ]
        },
        {
          "output_type": "stream",
          "name": "stderr",
          "text": [
            "\rCalculating BER:  67%|██████▋   | 14/21 [05:18<02:38, 22.71s/it]"
          ]
        },
        {
          "output_type": "stream",
          "name": "stdout",
          "text": [
            "SNR: 13 dB, BER: 0.000002\n"
          ]
        },
        {
          "output_type": "stream",
          "name": "stderr",
          "text": [
            "\rCalculating BER:  71%|███████▏  | 15/21 [05:41<02:16, 22.68s/it]"
          ]
        },
        {
          "output_type": "stream",
          "name": "stdout",
          "text": [
            "SNR: 14 dB, BER: 0.000002\n"
          ]
        },
        {
          "output_type": "stream",
          "name": "stderr",
          "text": [
            "\rCalculating BER:  76%|███████▌  | 16/21 [06:04<01:53, 22.66s/it]"
          ]
        },
        {
          "output_type": "stream",
          "name": "stdout",
          "text": [
            "SNR: 15 dB, BER: 0.000000\n"
          ]
        },
        {
          "output_type": "stream",
          "name": "stderr",
          "text": [
            "\rCalculating BER:  81%|████████  | 17/21 [06:27<01:30, 22.72s/it]"
          ]
        },
        {
          "output_type": "stream",
          "name": "stdout",
          "text": [
            "SNR: 16 dB, BER: 0.000000\n"
          ]
        },
        {
          "output_type": "stream",
          "name": "stderr",
          "text": [
            "\rCalculating BER:  86%|████████▌ | 18/21 [06:49<01:08, 22.70s/it]"
          ]
        },
        {
          "output_type": "stream",
          "name": "stdout",
          "text": [
            "SNR: 17 dB, BER: 0.000000\n"
          ]
        },
        {
          "output_type": "stream",
          "name": "stderr",
          "text": [
            "\rCalculating BER:  90%|█████████ | 19/21 [07:12<00:45, 22.65s/it]"
          ]
        },
        {
          "output_type": "stream",
          "name": "stdout",
          "text": [
            "SNR: 18 dB, BER: 0.000000\n"
          ]
        },
        {
          "output_type": "stream",
          "name": "stderr",
          "text": [
            "\rCalculating BER:  95%|█████████▌| 20/21 [07:34<00:22, 22.67s/it]"
          ]
        },
        {
          "output_type": "stream",
          "name": "stdout",
          "text": [
            "SNR: 19 dB, BER: 0.000002\n"
          ]
        },
        {
          "output_type": "stream",
          "name": "stderr",
          "text": [
            "Calculating BER: 100%|██████████| 21/21 [07:57<00:00, 22.74s/it]"
          ]
        },
        {
          "output_type": "stream",
          "name": "stdout",
          "text": [
            "SNR: 20 dB, BER: 0.000000\n",
            "BER salvato in: /content/drive/MyDrive/GitHub/AWGN/results/CNN_9-ksize_1024-filters_awgn_snr_0-20_ber.npy\n",
            "BER per CNN_9-ksize_1024-filters_awgn_snr_0-20: [2.206e-03 8.300e-04 2.480e-04 8.400e-05 2.800e-05 1.800e-05 1.000e-05\n",
            " 2.000e-06 2.000e-06 0.000e+00 2.000e-06 0.000e+00 2.000e-06 2.000e-06\n",
            " 2.000e-06 0.000e+00 0.000e+00 0.000e+00 0.000e+00 2.000e-06 0.000e+00]\n",
            "\n",
            "Caricamento modello: CNN_3-ksize_128-filters_awgn_snr_11-15\n"
          ]
        },
        {
          "output_type": "stream",
          "name": "stderr",
          "text": [
            "\n",
            "WARNING:absl:Compiled the loaded model, but the compiled metrics have yet to be built. `model.compile_metrics` will be empty until you train or evaluate the model.\n",
            "Calculating BER:   5%|▍         | 1/21 [00:04<01:23,  4.19s/it]"
          ]
        },
        {
          "output_type": "stream",
          "name": "stdout",
          "text": [
            "SNR: 0 dB, BER: 0.042890\n"
          ]
        },
        {
          "output_type": "stream",
          "name": "stderr",
          "text": [
            "\rCalculating BER:  10%|▉         | 2/21 [00:09<01:28,  4.65s/it]"
          ]
        },
        {
          "output_type": "stream",
          "name": "stdout",
          "text": [
            "SNR: 1 dB, BER: 0.021382\n"
          ]
        },
        {
          "output_type": "stream",
          "name": "stderr",
          "text": [
            "\rCalculating BER:  14%|█▍        | 3/21 [00:14<01:26,  4.82s/it]"
          ]
        },
        {
          "output_type": "stream",
          "name": "stdout",
          "text": [
            "SNR: 2 dB, BER: 0.009086\n"
          ]
        },
        {
          "output_type": "stream",
          "name": "stderr",
          "text": [
            "\rCalculating BER:  19%|█▉        | 4/21 [00:19<01:25,  5.01s/it]"
          ]
        },
        {
          "output_type": "stream",
          "name": "stdout",
          "text": [
            "SNR: 3 dB, BER: 0.003040\n"
          ]
        },
        {
          "output_type": "stream",
          "name": "stderr",
          "text": [
            "\rCalculating BER:  24%|██▍       | 5/21 [00:24<01:19,  4.98s/it]"
          ]
        },
        {
          "output_type": "stream",
          "name": "stdout",
          "text": [
            "SNR: 4 dB, BER: 0.000754\n"
          ]
        },
        {
          "output_type": "stream",
          "name": "stderr",
          "text": [
            "\rCalculating BER:  29%|██▊       | 6/21 [00:29<01:15,  5.04s/it]"
          ]
        },
        {
          "output_type": "stream",
          "name": "stdout",
          "text": [
            "SNR: 5 dB, BER: 0.000142\n"
          ]
        },
        {
          "output_type": "stream",
          "name": "stderr",
          "text": [
            "\rCalculating BER:  33%|███▎      | 7/21 [00:34<01:10,  5.04s/it]"
          ]
        },
        {
          "output_type": "stream",
          "name": "stdout",
          "text": [
            "SNR: 6 dB, BER: 0.000008\n"
          ]
        },
        {
          "output_type": "stream",
          "name": "stderr",
          "text": [
            "\rCalculating BER:  38%|███▊      | 8/21 [00:39<01:05,  5.02s/it]"
          ]
        },
        {
          "output_type": "stream",
          "name": "stdout",
          "text": [
            "SNR: 7 dB, BER: 0.000002\n"
          ]
        },
        {
          "output_type": "stream",
          "name": "stderr",
          "text": [
            "\rCalculating BER:  43%|████▎     | 9/21 [00:44<01:01,  5.09s/it]"
          ]
        },
        {
          "output_type": "stream",
          "name": "stdout",
          "text": [
            "SNR: 8 dB, BER: 0.000000\n"
          ]
        },
        {
          "output_type": "stream",
          "name": "stderr",
          "text": [
            "\rCalculating BER:  48%|████▊     | 10/21 [00:49<00:55,  5.04s/it]"
          ]
        },
        {
          "output_type": "stream",
          "name": "stdout",
          "text": [
            "SNR: 9 dB, BER: 0.000000\n"
          ]
        },
        {
          "output_type": "stream",
          "name": "stderr",
          "text": [
            "\rCalculating BER:  52%|█████▏    | 11/21 [00:54<00:50,  5.08s/it]"
          ]
        },
        {
          "output_type": "stream",
          "name": "stdout",
          "text": [
            "SNR: 10 dB, BER: 0.000002\n"
          ]
        },
        {
          "output_type": "stream",
          "name": "stderr",
          "text": [
            "\rCalculating BER:  57%|█████▋    | 12/21 [01:00<00:46,  5.12s/it]"
          ]
        },
        {
          "output_type": "stream",
          "name": "stdout",
          "text": [
            "SNR: 11 dB, BER: 0.000000\n"
          ]
        },
        {
          "output_type": "stream",
          "name": "stderr",
          "text": [
            "\rCalculating BER:  62%|██████▏   | 13/21 [01:05<00:40,  5.07s/it]"
          ]
        },
        {
          "output_type": "stream",
          "name": "stdout",
          "text": [
            "SNR: 12 dB, BER: 0.000000\n"
          ]
        },
        {
          "output_type": "stream",
          "name": "stderr",
          "text": [
            "\rCalculating BER:  67%|██████▋   | 14/21 [01:10<00:35,  5.09s/it]"
          ]
        },
        {
          "output_type": "stream",
          "name": "stdout",
          "text": [
            "SNR: 13 dB, BER: 0.000000\n"
          ]
        },
        {
          "output_type": "stream",
          "name": "stderr",
          "text": [
            "\rCalculating BER:  71%|███████▏  | 15/21 [01:15<00:30,  5.10s/it]"
          ]
        },
        {
          "output_type": "stream",
          "name": "stdout",
          "text": [
            "SNR: 14 dB, BER: 0.000000\n"
          ]
        },
        {
          "output_type": "stream",
          "name": "stderr",
          "text": [
            "\rCalculating BER:  76%|███████▌  | 16/21 [01:20<00:25,  5.03s/it]"
          ]
        },
        {
          "output_type": "stream",
          "name": "stdout",
          "text": [
            "SNR: 15 dB, BER: 0.000000\n"
          ]
        },
        {
          "output_type": "stream",
          "name": "stderr",
          "text": [
            "\rCalculating BER:  81%|████████  | 17/21 [01:25<00:20,  5.14s/it]"
          ]
        },
        {
          "output_type": "stream",
          "name": "stdout",
          "text": [
            "SNR: 16 dB, BER: 0.000000\n"
          ]
        },
        {
          "output_type": "stream",
          "name": "stderr",
          "text": [
            "\rCalculating BER:  86%|████████▌ | 18/21 [01:30<00:15,  5.07s/it]"
          ]
        },
        {
          "output_type": "stream",
          "name": "stdout",
          "text": [
            "SNR: 17 dB, BER: 0.000000\n"
          ]
        },
        {
          "output_type": "stream",
          "name": "stderr",
          "text": [
            "\rCalculating BER:  90%|█████████ | 19/21 [01:35<00:10,  5.08s/it]"
          ]
        },
        {
          "output_type": "stream",
          "name": "stdout",
          "text": [
            "SNR: 18 dB, BER: 0.000000\n"
          ]
        },
        {
          "output_type": "stream",
          "name": "stderr",
          "text": [
            "\rCalculating BER:  95%|█████████▌| 20/21 [01:40<00:05,  5.04s/it]"
          ]
        },
        {
          "output_type": "stream",
          "name": "stdout",
          "text": [
            "SNR: 19 dB, BER: 0.000002\n"
          ]
        },
        {
          "output_type": "stream",
          "name": "stderr",
          "text": [
            "Calculating BER: 100%|██████████| 21/21 [01:45<00:00,  5.02s/it]"
          ]
        },
        {
          "output_type": "stream",
          "name": "stdout",
          "text": [
            "SNR: 20 dB, BER: 0.000000\n",
            "BER salvato in: /content/drive/MyDrive/GitHub/AWGN/results/CNN_3-ksize_128-filters_awgn_snr_11-15_ber.npy\n",
            "BER per CNN_3-ksize_128-filters_awgn_snr_11-15: [4.2890e-02 2.1382e-02 9.0860e-03 3.0400e-03 7.5400e-04 1.4200e-04\n",
            " 8.0000e-06 2.0000e-06 0.0000e+00 0.0000e+00 2.0000e-06 0.0000e+00\n",
            " 0.0000e+00 0.0000e+00 0.0000e+00 0.0000e+00 0.0000e+00 0.0000e+00\n",
            " 0.0000e+00 2.0000e-06 0.0000e+00]\n",
            "\n",
            "Caricamento modello: CNN_5-ksize_128-filters_awgn_snr_11-15\n"
          ]
        },
        {
          "output_type": "stream",
          "name": "stderr",
          "text": [
            "\n",
            "WARNING:absl:Compiled the loaded model, but the compiled metrics have yet to be built. `model.compile_metrics` will be empty until you train or evaluate the model.\n",
            "Calculating BER:   5%|▍         | 1/21 [00:04<01:24,  4.23s/it]"
          ]
        },
        {
          "output_type": "stream",
          "name": "stdout",
          "text": [
            "SNR: 0 dB, BER: 0.022424\n"
          ]
        },
        {
          "output_type": "stream",
          "name": "stderr",
          "text": [
            "\rCalculating BER:  10%|▉         | 2/21 [00:09<01:27,  4.63s/it]"
          ]
        },
        {
          "output_type": "stream",
          "name": "stdout",
          "text": [
            "SNR: 1 dB, BER: 0.008348\n"
          ]
        },
        {
          "output_type": "stream",
          "name": "stderr",
          "text": [
            "\rCalculating BER:  14%|█▍        | 3/21 [00:14<01:27,  4.87s/it]"
          ]
        },
        {
          "output_type": "stream",
          "name": "stdout",
          "text": [
            "SNR: 2 dB, BER: 0.002476\n"
          ]
        },
        {
          "output_type": "stream",
          "name": "stderr",
          "text": [
            "\rCalculating BER:  19%|█▉        | 4/21 [00:19<01:22,  4.87s/it]"
          ]
        },
        {
          "output_type": "stream",
          "name": "stdout",
          "text": [
            "SNR: 3 dB, BER: 0.000522\n"
          ]
        },
        {
          "output_type": "stream",
          "name": "stderr",
          "text": [
            "\rCalculating BER:  24%|██▍       | 5/21 [00:24<01:19,  4.99s/it]"
          ]
        },
        {
          "output_type": "stream",
          "name": "stdout",
          "text": [
            "SNR: 4 dB, BER: 0.000102\n"
          ]
        },
        {
          "output_type": "stream",
          "name": "stderr",
          "text": [
            "\rCalculating BER:  29%|██▊       | 6/21 [00:29<01:15,  5.05s/it]"
          ]
        },
        {
          "output_type": "stream",
          "name": "stdout",
          "text": [
            "SNR: 5 dB, BER: 0.000012\n"
          ]
        },
        {
          "output_type": "stream",
          "name": "stderr",
          "text": [
            "\rCalculating BER:  33%|███▎      | 7/21 [00:34<01:09,  4.99s/it]"
          ]
        },
        {
          "output_type": "stream",
          "name": "stdout",
          "text": [
            "SNR: 6 dB, BER: 0.000004\n"
          ]
        },
        {
          "output_type": "stream",
          "name": "stderr",
          "text": [
            "\rCalculating BER:  38%|███▊      | 8/21 [00:39<01:05,  5.06s/it]"
          ]
        },
        {
          "output_type": "stream",
          "name": "stdout",
          "text": [
            "SNR: 7 dB, BER: 0.000000\n"
          ]
        },
        {
          "output_type": "stream",
          "name": "stderr",
          "text": [
            "\rCalculating BER:  43%|████▎     | 9/21 [00:44<01:00,  5.03s/it]"
          ]
        },
        {
          "output_type": "stream",
          "name": "stdout",
          "text": [
            "SNR: 8 dB, BER: 0.000000\n"
          ]
        },
        {
          "output_type": "stream",
          "name": "stderr",
          "text": [
            "\rCalculating BER:  48%|████▊     | 10/21 [00:49<00:54,  4.98s/it]"
          ]
        },
        {
          "output_type": "stream",
          "name": "stdout",
          "text": [
            "SNR: 9 dB, BER: 0.000000\n"
          ]
        },
        {
          "output_type": "stream",
          "name": "stderr",
          "text": [
            "\rCalculating BER:  52%|█████▏    | 11/21 [00:54<00:50,  5.08s/it]"
          ]
        },
        {
          "output_type": "stream",
          "name": "stdout",
          "text": [
            "SNR: 10 dB, BER: 0.000000\n"
          ]
        },
        {
          "output_type": "stream",
          "name": "stderr",
          "text": [
            "\rCalculating BER:  57%|█████▋    | 12/21 [00:59<00:44,  5.00s/it]"
          ]
        },
        {
          "output_type": "stream",
          "name": "stdout",
          "text": [
            "SNR: 11 dB, BER: 0.000000\n"
          ]
        },
        {
          "output_type": "stream",
          "name": "stderr",
          "text": [
            "\rCalculating BER:  62%|██████▏   | 13/21 [01:04<00:39,  4.96s/it]"
          ]
        },
        {
          "output_type": "stream",
          "name": "stdout",
          "text": [
            "SNR: 12 dB, BER: 0.000000\n"
          ]
        },
        {
          "output_type": "stream",
          "name": "stderr",
          "text": [
            "\rCalculating BER:  67%|██████▋   | 14/21 [01:09<00:34,  4.99s/it]"
          ]
        },
        {
          "output_type": "stream",
          "name": "stdout",
          "text": [
            "SNR: 13 dB, BER: 0.000000\n"
          ]
        },
        {
          "output_type": "stream",
          "name": "stderr",
          "text": [
            "\rCalculating BER:  71%|███████▏  | 15/21 [01:14<00:29,  4.96s/it]"
          ]
        },
        {
          "output_type": "stream",
          "name": "stdout",
          "text": [
            "SNR: 14 dB, BER: 0.000000\n"
          ]
        },
        {
          "output_type": "stream",
          "name": "stderr",
          "text": [
            "\rCalculating BER:  76%|███████▌  | 16/21 [01:19<00:24,  4.99s/it]"
          ]
        },
        {
          "output_type": "stream",
          "name": "stdout",
          "text": [
            "SNR: 15 dB, BER: 0.000000\n"
          ]
        },
        {
          "output_type": "stream",
          "name": "stderr",
          "text": [
            "\rCalculating BER:  81%|████████  | 17/21 [01:24<00:19,  4.95s/it]"
          ]
        },
        {
          "output_type": "stream",
          "name": "stdout",
          "text": [
            "SNR: 16 dB, BER: 0.000000\n"
          ]
        },
        {
          "output_type": "stream",
          "name": "stderr",
          "text": [
            "\rCalculating BER:  86%|████████▌ | 18/21 [01:29<00:15,  5.01s/it]"
          ]
        },
        {
          "output_type": "stream",
          "name": "stdout",
          "text": [
            "SNR: 17 dB, BER: 0.000000\n"
          ]
        },
        {
          "output_type": "stream",
          "name": "stderr",
          "text": [
            "\rCalculating BER:  90%|█████████ | 19/21 [01:34<00:10,  5.07s/it]"
          ]
        },
        {
          "output_type": "stream",
          "name": "stdout",
          "text": [
            "SNR: 18 dB, BER: 0.000000\n"
          ]
        },
        {
          "output_type": "stream",
          "name": "stderr",
          "text": [
            "\rCalculating BER:  95%|█████████▌| 20/21 [01:39<00:04,  4.99s/it]"
          ]
        },
        {
          "output_type": "stream",
          "name": "stdout",
          "text": [
            "SNR: 19 dB, BER: 0.000002\n"
          ]
        },
        {
          "output_type": "stream",
          "name": "stderr",
          "text": [
            "Calculating BER: 100%|██████████| 21/21 [01:44<00:00,  4.97s/it]"
          ]
        },
        {
          "output_type": "stream",
          "name": "stdout",
          "text": [
            "SNR: 20 dB, BER: 0.000000\n",
            "BER salvato in: /content/drive/MyDrive/GitHub/AWGN/results/CNN_5-ksize_128-filters_awgn_snr_11-15_ber.npy\n",
            "BER per CNN_5-ksize_128-filters_awgn_snr_11-15: [2.2424e-02 8.3480e-03 2.4760e-03 5.2200e-04 1.0200e-04 1.2000e-05\n",
            " 4.0000e-06 0.0000e+00 0.0000e+00 0.0000e+00 0.0000e+00 0.0000e+00\n",
            " 0.0000e+00 0.0000e+00 0.0000e+00 0.0000e+00 0.0000e+00 0.0000e+00\n",
            " 0.0000e+00 2.0000e-06 0.0000e+00]\n",
            "\n",
            "Caricamento modello: CNN_7-ksize_128-filters_awgn_snr_11-15\n"
          ]
        },
        {
          "output_type": "stream",
          "name": "stderr",
          "text": [
            "\n",
            "WARNING:absl:Compiled the loaded model, but the compiled metrics have yet to be built. `model.compile_metrics` will be empty until you train or evaluate the model.\n",
            "Calculating BER:   5%|▍         | 1/21 [00:04<01:21,  4.08s/it]"
          ]
        },
        {
          "output_type": "stream",
          "name": "stdout",
          "text": [
            "SNR: 0 dB, BER: 0.193312\n"
          ]
        },
        {
          "output_type": "stream",
          "name": "stderr",
          "text": [
            "\rCalculating BER:  10%|▉         | 2/21 [00:09<01:28,  4.67s/it]"
          ]
        },
        {
          "output_type": "stream",
          "name": "stdout",
          "text": [
            "SNR: 1 dB, BER: 0.111716\n"
          ]
        },
        {
          "output_type": "stream",
          "name": "stderr",
          "text": [
            "\rCalculating BER:  14%|█▍        | 3/21 [00:14<01:27,  4.85s/it]"
          ]
        },
        {
          "output_type": "stream",
          "name": "stdout",
          "text": [
            "SNR: 2 dB, BER: 0.051486\n"
          ]
        },
        {
          "output_type": "stream",
          "name": "stderr",
          "text": [
            "\rCalculating BER:  19%|█▉        | 4/21 [00:19<01:23,  4.89s/it]"
          ]
        },
        {
          "output_type": "stream",
          "name": "stdout",
          "text": [
            "SNR: 3 dB, BER: 0.017262\n"
          ]
        },
        {
          "output_type": "stream",
          "name": "stderr",
          "text": [
            "\rCalculating BER:  24%|██▍       | 5/21 [00:24<01:20,  5.03s/it]"
          ]
        },
        {
          "output_type": "stream",
          "name": "stdout",
          "text": [
            "SNR: 4 dB, BER: 0.003948\n"
          ]
        },
        {
          "output_type": "stream",
          "name": "stderr",
          "text": [
            "\rCalculating BER:  29%|██▊       | 6/21 [00:29<01:14,  5.00s/it]"
          ]
        },
        {
          "output_type": "stream",
          "name": "stdout",
          "text": [
            "SNR: 5 dB, BER: 0.000598\n"
          ]
        },
        {
          "output_type": "stream",
          "name": "stderr",
          "text": [
            "\rCalculating BER:  33%|███▎      | 7/21 [00:34<01:10,  5.04s/it]"
          ]
        },
        {
          "output_type": "stream",
          "name": "stdout",
          "text": [
            "SNR: 6 dB, BER: 0.000054\n"
          ]
        },
        {
          "output_type": "stream",
          "name": "stderr",
          "text": [
            "\rCalculating BER:  38%|███▊      | 8/21 [00:39<01:05,  5.07s/it]"
          ]
        },
        {
          "output_type": "stream",
          "name": "stdout",
          "text": [
            "SNR: 7 dB, BER: 0.000002\n"
          ]
        },
        {
          "output_type": "stream",
          "name": "stderr",
          "text": [
            "\rCalculating BER:  43%|████▎     | 9/21 [00:44<01:00,  5.04s/it]"
          ]
        },
        {
          "output_type": "stream",
          "name": "stdout",
          "text": [
            "SNR: 8 dB, BER: 0.000000\n"
          ]
        },
        {
          "output_type": "stream",
          "name": "stderr",
          "text": [
            "\rCalculating BER:  48%|████▊     | 10/21 [00:49<00:56,  5.13s/it]"
          ]
        },
        {
          "output_type": "stream",
          "name": "stdout",
          "text": [
            "SNR: 9 dB, BER: 0.000002\n"
          ]
        },
        {
          "output_type": "stream",
          "name": "stderr",
          "text": [
            "\rCalculating BER:  52%|█████▏    | 11/21 [00:54<00:50,  5.06s/it]"
          ]
        },
        {
          "output_type": "stream",
          "name": "stdout",
          "text": [
            "SNR: 10 dB, BER: 0.000000\n"
          ]
        },
        {
          "output_type": "stream",
          "name": "stderr",
          "text": [
            "\rCalculating BER:  57%|█████▋    | 12/21 [00:59<00:45,  5.08s/it]"
          ]
        },
        {
          "output_type": "stream",
          "name": "stdout",
          "text": [
            "SNR: 11 dB, BER: 0.000000\n"
          ]
        },
        {
          "output_type": "stream",
          "name": "stderr",
          "text": [
            "\rCalculating BER:  62%|██████▏   | 13/21 [01:05<00:40,  5.11s/it]"
          ]
        },
        {
          "output_type": "stream",
          "name": "stdout",
          "text": [
            "SNR: 12 dB, BER: 0.000000\n"
          ]
        },
        {
          "output_type": "stream",
          "name": "stderr",
          "text": [
            "\rCalculating BER:  67%|██████▋   | 14/21 [01:10<00:35,  5.05s/it]"
          ]
        },
        {
          "output_type": "stream",
          "name": "stdout",
          "text": [
            "SNR: 13 dB, BER: 0.000000\n"
          ]
        },
        {
          "output_type": "stream",
          "name": "stderr",
          "text": [
            "\rCalculating BER:  71%|███████▏  | 15/21 [01:15<00:30,  5.06s/it]"
          ]
        },
        {
          "output_type": "stream",
          "name": "stdout",
          "text": [
            "SNR: 14 dB, BER: 0.000000\n"
          ]
        },
        {
          "output_type": "stream",
          "name": "stderr",
          "text": [
            "\rCalculating BER:  76%|███████▌  | 16/21 [01:20<00:25,  5.03s/it]"
          ]
        },
        {
          "output_type": "stream",
          "name": "stdout",
          "text": [
            "SNR: 15 dB, BER: 0.000000\n"
          ]
        },
        {
          "output_type": "stream",
          "name": "stderr",
          "text": [
            "\rCalculating BER:  81%|████████  | 17/21 [01:25<00:19,  4.99s/it]"
          ]
        },
        {
          "output_type": "stream",
          "name": "stdout",
          "text": [
            "SNR: 16 dB, BER: 0.000002\n"
          ]
        },
        {
          "output_type": "stream",
          "name": "stderr",
          "text": [
            "\rCalculating BER:  86%|████████▌ | 18/21 [01:30<00:15,  5.12s/it]"
          ]
        },
        {
          "output_type": "stream",
          "name": "stdout",
          "text": [
            "SNR: 17 dB, BER: 0.000000\n"
          ]
        },
        {
          "output_type": "stream",
          "name": "stderr",
          "text": [
            "\rCalculating BER:  90%|█████████ | 19/21 [01:35<00:10,  5.06s/it]"
          ]
        },
        {
          "output_type": "stream",
          "name": "stdout",
          "text": [
            "SNR: 18 dB, BER: 0.000000\n"
          ]
        },
        {
          "output_type": "stream",
          "name": "stderr",
          "text": [
            "\rCalculating BER:  95%|█████████▌| 20/21 [01:40<00:05,  5.07s/it]"
          ]
        },
        {
          "output_type": "stream",
          "name": "stdout",
          "text": [
            "SNR: 19 dB, BER: 0.000002\n"
          ]
        },
        {
          "output_type": "stream",
          "name": "stderr",
          "text": [
            "Calculating BER: 100%|██████████| 21/21 [01:45<00:00,  5.02s/it]"
          ]
        },
        {
          "output_type": "stream",
          "name": "stdout",
          "text": [
            "SNR: 20 dB, BER: 0.000000\n",
            "BER salvato in: /content/drive/MyDrive/GitHub/AWGN/results/CNN_7-ksize_128-filters_awgn_snr_11-15_ber.npy\n",
            "BER per CNN_7-ksize_128-filters_awgn_snr_11-15: [1.93312e-01 1.11716e-01 5.14860e-02 1.72620e-02 3.94800e-03 5.98000e-04\n",
            " 5.40000e-05 2.00000e-06 0.00000e+00 2.00000e-06 0.00000e+00 0.00000e+00\n",
            " 0.00000e+00 0.00000e+00 0.00000e+00 0.00000e+00 2.00000e-06 0.00000e+00\n",
            " 0.00000e+00 2.00000e-06 0.00000e+00]\n",
            "\n",
            "Caricamento modello: CNN_9-ksize_128-filters_awgn_snr_11-15\n"
          ]
        },
        {
          "output_type": "stream",
          "name": "stderr",
          "text": [
            "\n",
            "WARNING:absl:Compiled the loaded model, but the compiled metrics have yet to be built. `model.compile_metrics` will be empty until you train or evaluate the model.\n",
            "Calculating BER:   5%|▍         | 1/21 [00:04<01:25,  4.26s/it]"
          ]
        },
        {
          "output_type": "stream",
          "name": "stdout",
          "text": [
            "SNR: 0 dB, BER: 0.004150\n"
          ]
        },
        {
          "output_type": "stream",
          "name": "stderr",
          "text": [
            "\rCalculating BER:  10%|▉         | 2/21 [00:09<01:30,  4.75s/it]"
          ]
        },
        {
          "output_type": "stream",
          "name": "stdout",
          "text": [
            "SNR: 1 dB, BER: 0.001788\n"
          ]
        },
        {
          "output_type": "stream",
          "name": "stderr",
          "text": [
            "\rCalculating BER:  14%|█▍        | 3/21 [00:14<01:27,  4.84s/it]"
          ]
        },
        {
          "output_type": "stream",
          "name": "stdout",
          "text": [
            "SNR: 2 dB, BER: 0.000692\n"
          ]
        },
        {
          "output_type": "stream",
          "name": "stderr",
          "text": [
            "\rCalculating BER:  19%|█▉        | 4/21 [00:19<01:25,  5.02s/it]"
          ]
        },
        {
          "output_type": "stream",
          "name": "stdout",
          "text": [
            "SNR: 3 dB, BER: 0.000262\n"
          ]
        },
        {
          "output_type": "stream",
          "name": "stderr",
          "text": [
            "\rCalculating BER:  24%|██▍       | 5/21 [00:24<01:19,  4.96s/it]"
          ]
        },
        {
          "output_type": "stream",
          "name": "stdout",
          "text": [
            "SNR: 4 dB, BER: 0.000144\n"
          ]
        },
        {
          "output_type": "stream",
          "name": "stderr",
          "text": [
            "\rCalculating BER:  29%|██▊       | 6/21 [00:29<01:15,  5.01s/it]"
          ]
        },
        {
          "output_type": "stream",
          "name": "stdout",
          "text": [
            "SNR: 5 dB, BER: 0.000072\n"
          ]
        },
        {
          "output_type": "stream",
          "name": "stderr",
          "text": [
            "\rCalculating BER:  33%|███▎      | 7/21 [00:34<01:10,  5.07s/it]"
          ]
        },
        {
          "output_type": "stream",
          "name": "stdout",
          "text": [
            "SNR: 6 dB, BER: 0.000032\n"
          ]
        },
        {
          "output_type": "stream",
          "name": "stderr",
          "text": [
            "\rCalculating BER:  38%|███▊      | 8/21 [00:39<01:05,  5.01s/it]"
          ]
        },
        {
          "output_type": "stream",
          "name": "stdout",
          "text": [
            "SNR: 7 dB, BER: 0.000020\n"
          ]
        },
        {
          "output_type": "stream",
          "name": "stderr",
          "text": [
            "\rCalculating BER:  43%|████▎     | 9/21 [00:44<01:01,  5.09s/it]"
          ]
        },
        {
          "output_type": "stream",
          "name": "stdout",
          "text": [
            "SNR: 8 dB, BER: 0.000016\n"
          ]
        },
        {
          "output_type": "stream",
          "name": "stderr",
          "text": [
            "\rCalculating BER:  48%|████▊     | 10/21 [00:49<00:55,  5.03s/it]"
          ]
        },
        {
          "output_type": "stream",
          "name": "stdout",
          "text": [
            "SNR: 9 dB, BER: 0.000016\n"
          ]
        },
        {
          "output_type": "stream",
          "name": "stderr",
          "text": [
            "\rCalculating BER:  52%|█████▏    | 11/21 [00:54<00:50,  5.00s/it]"
          ]
        },
        {
          "output_type": "stream",
          "name": "stdout",
          "text": [
            "SNR: 10 dB, BER: 0.000006\n"
          ]
        },
        {
          "output_type": "stream",
          "name": "stderr",
          "text": [
            "\rCalculating BER:  57%|█████▋    | 12/21 [01:00<00:46,  5.14s/it]"
          ]
        },
        {
          "output_type": "stream",
          "name": "stdout",
          "text": [
            "SNR: 11 dB, BER: 0.000008\n"
          ]
        },
        {
          "output_type": "stream",
          "name": "stderr",
          "text": [
            "\rCalculating BER:  62%|██████▏   | 13/21 [01:05<00:40,  5.07s/it]"
          ]
        },
        {
          "output_type": "stream",
          "name": "stdout",
          "text": [
            "SNR: 12 dB, BER: 0.000008\n"
          ]
        },
        {
          "output_type": "stream",
          "name": "stderr",
          "text": [
            "\rCalculating BER:  67%|██████▋   | 14/21 [01:10<00:35,  5.06s/it]"
          ]
        },
        {
          "output_type": "stream",
          "name": "stdout",
          "text": [
            "SNR: 13 dB, BER: 0.000002\n"
          ]
        },
        {
          "output_type": "stream",
          "name": "stderr",
          "text": [
            "\rCalculating BER:  71%|███████▏  | 15/21 [01:15<00:30,  5.06s/it]"
          ]
        },
        {
          "output_type": "stream",
          "name": "stdout",
          "text": [
            "SNR: 14 dB, BER: 0.000004\n"
          ]
        },
        {
          "output_type": "stream",
          "name": "stderr",
          "text": [
            "\rCalculating BER:  76%|███████▌  | 16/21 [01:20<00:25,  5.04s/it]"
          ]
        },
        {
          "output_type": "stream",
          "name": "stdout",
          "text": [
            "SNR: 15 dB, BER: 0.000006\n"
          ]
        },
        {
          "output_type": "stream",
          "name": "stderr",
          "text": [
            "\rCalculating BER:  81%|████████  | 17/21 [01:25<00:20,  5.10s/it]"
          ]
        },
        {
          "output_type": "stream",
          "name": "stdout",
          "text": [
            "SNR: 16 dB, BER: 0.000004\n"
          ]
        },
        {
          "output_type": "stream",
          "name": "stderr",
          "text": [
            "\rCalculating BER:  86%|████████▌ | 18/21 [01:30<00:15,  5.05s/it]"
          ]
        },
        {
          "output_type": "stream",
          "name": "stdout",
          "text": [
            "SNR: 17 dB, BER: 0.000002\n"
          ]
        },
        {
          "output_type": "stream",
          "name": "stderr",
          "text": [
            "\rCalculating BER:  90%|█████████ | 19/21 [01:35<00:10,  5.08s/it]"
          ]
        },
        {
          "output_type": "stream",
          "name": "stdout",
          "text": [
            "SNR: 18 dB, BER: 0.000002\n"
          ]
        },
        {
          "output_type": "stream",
          "name": "stderr",
          "text": [
            "\rCalculating BER:  95%|█████████▌| 20/21 [01:40<00:05,  5.09s/it]"
          ]
        },
        {
          "output_type": "stream",
          "name": "stdout",
          "text": [
            "SNR: 19 dB, BER: 0.000004\n"
          ]
        },
        {
          "output_type": "stream",
          "name": "stderr",
          "text": [
            "Calculating BER: 100%|██████████| 21/21 [01:45<00:00,  5.02s/it]"
          ]
        },
        {
          "output_type": "stream",
          "name": "stdout",
          "text": [
            "SNR: 20 dB, BER: 0.000002\n",
            "BER salvato in: /content/drive/MyDrive/GitHub/AWGN/results/CNN_9-ksize_128-filters_awgn_snr_11-15_ber.npy\n",
            "BER per CNN_9-ksize_128-filters_awgn_snr_11-15: [4.150e-03 1.788e-03 6.920e-04 2.620e-04 1.440e-04 7.200e-05 3.200e-05\n",
            " 2.000e-05 1.600e-05 1.600e-05 6.000e-06 8.000e-06 8.000e-06 2.000e-06\n",
            " 4.000e-06 6.000e-06 4.000e-06 2.000e-06 2.000e-06 4.000e-06 2.000e-06]\n",
            "\n",
            "Caricamento modello: CNN_3-ksize_256-filters_awgn_snr_11-15\n"
          ]
        },
        {
          "output_type": "stream",
          "name": "stderr",
          "text": [
            "\n",
            "WARNING:absl:Compiled the loaded model, but the compiled metrics have yet to be built. `model.compile_metrics` will be empty until you train or evaluate the model.\n",
            "Calculating BER:   5%|▍         | 1/21 [00:06<02:07,  6.35s/it]"
          ]
        },
        {
          "output_type": "stream",
          "name": "stdout",
          "text": [
            "SNR: 0 dB, BER: 0.100948\n"
          ]
        },
        {
          "output_type": "stream",
          "name": "stderr",
          "text": [
            "\rCalculating BER:  10%|▉         | 2/21 [00:13<02:09,  6.80s/it]"
          ]
        },
        {
          "output_type": "stream",
          "name": "stdout",
          "text": [
            "SNR: 1 dB, BER: 0.053104\n"
          ]
        },
        {
          "output_type": "stream",
          "name": "stderr",
          "text": [
            "\rCalculating BER:  14%|█▍        | 3/21 [00:21<02:09,  7.21s/it]"
          ]
        },
        {
          "output_type": "stream",
          "name": "stdout",
          "text": [
            "SNR: 2 dB, BER: 0.023202\n"
          ]
        },
        {
          "output_type": "stream",
          "name": "stderr",
          "text": [
            "\rCalculating BER:  19%|█▉        | 4/21 [00:28<02:03,  7.24s/it]"
          ]
        },
        {
          "output_type": "stream",
          "name": "stdout",
          "text": [
            "SNR: 3 dB, BER: 0.008086\n"
          ]
        },
        {
          "output_type": "stream",
          "name": "stderr",
          "text": [
            "\rCalculating BER:  24%|██▍       | 5/21 [00:36<01:57,  7.37s/it]"
          ]
        },
        {
          "output_type": "stream",
          "name": "stdout",
          "text": [
            "SNR: 4 dB, BER: 0.001998\n"
          ]
        },
        {
          "output_type": "stream",
          "name": "stderr",
          "text": [
            "\rCalculating BER:  29%|██▊       | 6/21 [00:43<01:49,  7.31s/it]"
          ]
        },
        {
          "output_type": "stream",
          "name": "stdout",
          "text": [
            "SNR: 5 dB, BER: 0.000402\n"
          ]
        },
        {
          "output_type": "stream",
          "name": "stderr",
          "text": [
            "\rCalculating BER:  33%|███▎      | 7/21 [00:50<01:44,  7.43s/it]"
          ]
        },
        {
          "output_type": "stream",
          "name": "stdout",
          "text": [
            "SNR: 6 dB, BER: 0.000046\n"
          ]
        },
        {
          "output_type": "stream",
          "name": "stderr",
          "text": [
            "\rCalculating BER:  38%|███▊      | 8/21 [00:57<01:34,  7.28s/it]"
          ]
        },
        {
          "output_type": "stream",
          "name": "stdout",
          "text": [
            "SNR: 7 dB, BER: 0.000002\n"
          ]
        },
        {
          "output_type": "stream",
          "name": "stderr",
          "text": [
            "\rCalculating BER:  43%|████▎     | 9/21 [01:04<01:26,  7.21s/it]"
          ]
        },
        {
          "output_type": "stream",
          "name": "stdout",
          "text": [
            "SNR: 8 dB, BER: 0.000000\n"
          ]
        },
        {
          "output_type": "stream",
          "name": "stderr",
          "text": [
            "\rCalculating BER:  48%|████▊     | 10/21 [01:11<01:18,  7.14s/it]"
          ]
        },
        {
          "output_type": "stream",
          "name": "stdout",
          "text": [
            "SNR: 9 dB, BER: 0.000000\n"
          ]
        },
        {
          "output_type": "stream",
          "name": "stderr",
          "text": [
            "\rCalculating BER:  52%|█████▏    | 11/21 [01:19<01:11,  7.15s/it]"
          ]
        },
        {
          "output_type": "stream",
          "name": "stdout",
          "text": [
            "SNR: 10 dB, BER: 0.000002\n"
          ]
        },
        {
          "output_type": "stream",
          "name": "stderr",
          "text": [
            "\rCalculating BER:  57%|█████▋    | 12/21 [01:26<01:03,  7.09s/it]"
          ]
        },
        {
          "output_type": "stream",
          "name": "stdout",
          "text": [
            "SNR: 11 dB, BER: 0.000002\n"
          ]
        },
        {
          "output_type": "stream",
          "name": "stderr",
          "text": [
            "\rCalculating BER:  62%|██████▏   | 13/21 [01:33<00:57,  7.18s/it]"
          ]
        },
        {
          "output_type": "stream",
          "name": "stdout",
          "text": [
            "SNR: 12 dB, BER: 0.000000\n"
          ]
        },
        {
          "output_type": "stream",
          "name": "stderr",
          "text": [
            "\rCalculating BER:  67%|██████▋   | 14/21 [01:41<00:51,  7.32s/it]"
          ]
        },
        {
          "output_type": "stream",
          "name": "stdout",
          "text": [
            "SNR: 13 dB, BER: 0.000000\n"
          ]
        },
        {
          "output_type": "stream",
          "name": "stderr",
          "text": [
            "\rCalculating BER:  71%|███████▏  | 15/21 [01:48<00:43,  7.31s/it]"
          ]
        },
        {
          "output_type": "stream",
          "name": "stdout",
          "text": [
            "SNR: 14 dB, BER: 0.000000\n"
          ]
        },
        {
          "output_type": "stream",
          "name": "stderr",
          "text": [
            "\rCalculating BER:  76%|███████▌  | 16/21 [01:55<00:37,  7.40s/it]"
          ]
        },
        {
          "output_type": "stream",
          "name": "stdout",
          "text": [
            "SNR: 15 dB, BER: 0.000000\n"
          ]
        },
        {
          "output_type": "stream",
          "name": "stderr",
          "text": [
            "\rCalculating BER:  81%|████████  | 17/21 [02:02<00:29,  7.28s/it]"
          ]
        },
        {
          "output_type": "stream",
          "name": "stdout",
          "text": [
            "SNR: 16 dB, BER: 0.000000\n"
          ]
        },
        {
          "output_type": "stream",
          "name": "stderr",
          "text": [
            "\rCalculating BER:  86%|████████▌ | 18/21 [02:09<00:21,  7.20s/it]"
          ]
        },
        {
          "output_type": "stream",
          "name": "stdout",
          "text": [
            "SNR: 17 dB, BER: 0.000000\n"
          ]
        },
        {
          "output_type": "stream",
          "name": "stderr",
          "text": [
            "\rCalculating BER:  90%|█████████ | 19/21 [02:16<00:14,  7.13s/it]"
          ]
        },
        {
          "output_type": "stream",
          "name": "stdout",
          "text": [
            "SNR: 18 dB, BER: 0.000000\n"
          ]
        },
        {
          "output_type": "stream",
          "name": "stderr",
          "text": [
            "\rCalculating BER:  95%|█████████▌| 20/21 [02:24<00:07,  7.13s/it]"
          ]
        },
        {
          "output_type": "stream",
          "name": "stdout",
          "text": [
            "SNR: 19 dB, BER: 0.000002\n"
          ]
        },
        {
          "output_type": "stream",
          "name": "stderr",
          "text": [
            "Calculating BER: 100%|██████████| 21/21 [02:31<00:00,  7.19s/it]"
          ]
        },
        {
          "output_type": "stream",
          "name": "stdout",
          "text": [
            "SNR: 20 dB, BER: 0.000000\n",
            "BER salvato in: /content/drive/MyDrive/GitHub/AWGN/results/CNN_3-ksize_256-filters_awgn_snr_11-15_ber.npy\n",
            "BER per CNN_3-ksize_256-filters_awgn_snr_11-15: [1.00948e-01 5.31040e-02 2.32020e-02 8.08600e-03 1.99800e-03 4.02000e-04\n",
            " 4.60000e-05 2.00000e-06 0.00000e+00 0.00000e+00 2.00000e-06 2.00000e-06\n",
            " 0.00000e+00 0.00000e+00 0.00000e+00 0.00000e+00 0.00000e+00 0.00000e+00\n",
            " 0.00000e+00 2.00000e-06 0.00000e+00]\n",
            "\n",
            "Caricamento modello: CNN_5-ksize_256-filters_awgn_snr_11-15\n"
          ]
        },
        {
          "output_type": "stream",
          "name": "stderr",
          "text": [
            "\n",
            "WARNING:absl:Compiled the loaded model, but the compiled metrics have yet to be built. `model.compile_metrics` will be empty until you train or evaluate the model.\n",
            "Calculating BER:   5%|▍         | 1/21 [00:06<02:05,  6.27s/it]"
          ]
        },
        {
          "output_type": "stream",
          "name": "stdout",
          "text": [
            "SNR: 0 dB, BER: 0.012294\n"
          ]
        },
        {
          "output_type": "stream",
          "name": "stderr",
          "text": [
            "\rCalculating BER:  10%|▉         | 2/21 [00:13<02:09,  6.81s/it]"
          ]
        },
        {
          "output_type": "stream",
          "name": "stdout",
          "text": [
            "SNR: 1 dB, BER: 0.005252\n"
          ]
        },
        {
          "output_type": "stream",
          "name": "stderr",
          "text": [
            "\rCalculating BER:  14%|█▍        | 3/21 [00:20<02:04,  6.93s/it]"
          ]
        },
        {
          "output_type": "stream",
          "name": "stdout",
          "text": [
            "SNR: 2 dB, BER: 0.001856\n"
          ]
        },
        {
          "output_type": "stream",
          "name": "stderr",
          "text": [
            "\rCalculating BER:  19%|█▉        | 4/21 [00:27<02:01,  7.14s/it]"
          ]
        },
        {
          "output_type": "stream",
          "name": "stdout",
          "text": [
            "SNR: 3 dB, BER: 0.000450\n"
          ]
        },
        {
          "output_type": "stream",
          "name": "stderr",
          "text": [
            "\rCalculating BER:  24%|██▍       | 5/21 [00:35<01:57,  7.33s/it]"
          ]
        },
        {
          "output_type": "stream",
          "name": "stdout",
          "text": [
            "SNR: 4 dB, BER: 0.000096\n"
          ]
        },
        {
          "output_type": "stream",
          "name": "stderr",
          "text": [
            "\rCalculating BER:  29%|██▊       | 6/21 [00:42<01:49,  7.27s/it]"
          ]
        },
        {
          "output_type": "stream",
          "name": "stdout",
          "text": [
            "SNR: 5 dB, BER: 0.000008\n"
          ]
        },
        {
          "output_type": "stream",
          "name": "stderr",
          "text": [
            "\rCalculating BER:  33%|███▎      | 7/21 [00:50<01:43,  7.41s/it]"
          ]
        },
        {
          "output_type": "stream",
          "name": "stdout",
          "text": [
            "SNR: 6 dB, BER: 0.000006\n"
          ]
        },
        {
          "output_type": "stream",
          "name": "stderr",
          "text": [
            "\rCalculating BER:  38%|███▊      | 8/21 [00:57<01:34,  7.30s/it]"
          ]
        },
        {
          "output_type": "stream",
          "name": "stdout",
          "text": [
            "SNR: 7 dB, BER: 0.000002\n"
          ]
        },
        {
          "output_type": "stream",
          "name": "stderr",
          "text": [
            "\rCalculating BER:  43%|████▎     | 9/21 [01:04<01:26,  7.23s/it]"
          ]
        },
        {
          "output_type": "stream",
          "name": "stdout",
          "text": [
            "SNR: 8 dB, BER: 0.000006\n"
          ]
        },
        {
          "output_type": "stream",
          "name": "stderr",
          "text": [
            "\rCalculating BER:  48%|████▊     | 10/21 [01:11<01:18,  7.16s/it]"
          ]
        },
        {
          "output_type": "stream",
          "name": "stdout",
          "text": [
            "SNR: 9 dB, BER: 0.000002\n"
          ]
        },
        {
          "output_type": "stream",
          "name": "stderr",
          "text": [
            "\rCalculating BER:  52%|█████▏    | 11/21 [01:19<01:13,  7.38s/it]"
          ]
        },
        {
          "output_type": "stream",
          "name": "stdout",
          "text": [
            "SNR: 10 dB, BER: 0.000000\n"
          ]
        },
        {
          "output_type": "stream",
          "name": "stderr",
          "text": [
            "\rCalculating BER:  57%|█████▋    | 12/21 [01:27<01:07,  7.47s/it]"
          ]
        },
        {
          "output_type": "stream",
          "name": "stdout",
          "text": [
            "SNR: 11 dB, BER: 0.000000\n"
          ]
        },
        {
          "output_type": "stream",
          "name": "stderr",
          "text": [
            "\rCalculating BER:  62%|██████▏   | 13/21 [01:34<00:58,  7.37s/it]"
          ]
        },
        {
          "output_type": "stream",
          "name": "stdout",
          "text": [
            "SNR: 12 dB, BER: 0.000000\n"
          ]
        },
        {
          "output_type": "stream",
          "name": "stderr",
          "text": [
            "\rCalculating BER:  67%|██████▋   | 14/21 [01:41<00:52,  7.45s/it]"
          ]
        },
        {
          "output_type": "stream",
          "name": "stdout",
          "text": [
            "SNR: 13 dB, BER: 0.000002\n"
          ]
        },
        {
          "output_type": "stream",
          "name": "stderr",
          "text": [
            "\rCalculating BER:  71%|███████▏  | 15/21 [01:48<00:43,  7.30s/it]"
          ]
        },
        {
          "output_type": "stream",
          "name": "stdout",
          "text": [
            "SNR: 14 dB, BER: 0.000000\n"
          ]
        },
        {
          "output_type": "stream",
          "name": "stderr",
          "text": [
            "\rCalculating BER:  76%|███████▌  | 16/21 [01:56<00:36,  7.23s/it]"
          ]
        },
        {
          "output_type": "stream",
          "name": "stdout",
          "text": [
            "SNR: 15 dB, BER: 0.000000\n"
          ]
        },
        {
          "output_type": "stream",
          "name": "stderr",
          "text": [
            "\rCalculating BER:  81%|████████  | 17/21 [02:03<00:28,  7.16s/it]"
          ]
        },
        {
          "output_type": "stream",
          "name": "stdout",
          "text": [
            "SNR: 16 dB, BER: 0.000000\n"
          ]
        },
        {
          "output_type": "stream",
          "name": "stderr",
          "text": [
            "\rCalculating BER:  86%|████████▌ | 18/21 [02:10<00:21,  7.19s/it]"
          ]
        },
        {
          "output_type": "stream",
          "name": "stdout",
          "text": [
            "SNR: 17 dB, BER: 0.000002\n"
          ]
        },
        {
          "output_type": "stream",
          "name": "stderr",
          "text": [
            "\rCalculating BER:  90%|█████████ | 19/21 [02:17<00:14,  7.15s/it]"
          ]
        },
        {
          "output_type": "stream",
          "name": "stdout",
          "text": [
            "SNR: 18 dB, BER: 0.000000\n"
          ]
        },
        {
          "output_type": "stream",
          "name": "stderr",
          "text": [
            "\rCalculating BER:  95%|█████████▌| 20/21 [02:24<00:07,  7.22s/it]"
          ]
        },
        {
          "output_type": "stream",
          "name": "stdout",
          "text": [
            "SNR: 19 dB, BER: 0.000006\n"
          ]
        },
        {
          "output_type": "stream",
          "name": "stderr",
          "text": [
            "Calculating BER: 100%|██████████| 21/21 [02:32<00:00,  7.26s/it]"
          ]
        },
        {
          "output_type": "stream",
          "name": "stdout",
          "text": [
            "SNR: 20 dB, BER: 0.000000\n",
            "BER salvato in: /content/drive/MyDrive/GitHub/AWGN/results/CNN_5-ksize_256-filters_awgn_snr_11-15_ber.npy\n",
            "BER per CNN_5-ksize_256-filters_awgn_snr_11-15: [1.2294e-02 5.2520e-03 1.8560e-03 4.5000e-04 9.6000e-05 8.0000e-06\n",
            " 6.0000e-06 2.0000e-06 6.0000e-06 2.0000e-06 0.0000e+00 0.0000e+00\n",
            " 0.0000e+00 2.0000e-06 0.0000e+00 0.0000e+00 0.0000e+00 2.0000e-06\n",
            " 0.0000e+00 6.0000e-06 0.0000e+00]\n",
            "\n",
            "Caricamento modello: CNN_7-ksize_256-filters_awgn_snr_11-15\n"
          ]
        },
        {
          "output_type": "stream",
          "name": "stderr",
          "text": [
            "\n",
            "WARNING:absl:Compiled the loaded model, but the compiled metrics have yet to be built. `model.compile_metrics` will be empty until you train or evaluate the model.\n",
            "Calculating BER:   5%|▍         | 1/21 [00:07<02:20,  7.03s/it]"
          ]
        },
        {
          "output_type": "stream",
          "name": "stdout",
          "text": [
            "SNR: 0 dB, BER: 0.010958\n"
          ]
        },
        {
          "output_type": "stream",
          "name": "stderr",
          "text": [
            "\rCalculating BER:  10%|▉         | 2/21 [00:14<02:17,  7.24s/it]"
          ]
        },
        {
          "output_type": "stream",
          "name": "stdout",
          "text": [
            "SNR: 1 dB, BER: 0.006506\n"
          ]
        },
        {
          "output_type": "stream",
          "name": "stderr",
          "text": [
            "\rCalculating BER:  14%|█▍        | 3/21 [00:22<02:14,  7.46s/it]"
          ]
        },
        {
          "output_type": "stream",
          "name": "stdout",
          "text": [
            "SNR: 2 dB, BER: 0.003448\n"
          ]
        },
        {
          "output_type": "stream",
          "name": "stderr",
          "text": [
            "\rCalculating BER:  19%|█▉        | 4/21 [00:29<02:03,  7.27s/it]"
          ]
        },
        {
          "output_type": "stream",
          "name": "stdout",
          "text": [
            "SNR: 3 dB, BER: 0.001698\n"
          ]
        },
        {
          "output_type": "stream",
          "name": "stderr",
          "text": [
            "\rCalculating BER:  24%|██▍       | 5/21 [00:36<01:58,  7.39s/it]"
          ]
        },
        {
          "output_type": "stream",
          "name": "stdout",
          "text": [
            "SNR: 4 dB, BER: 0.000738\n"
          ]
        },
        {
          "output_type": "stream",
          "name": "stderr",
          "text": [
            "\rCalculating BER:  29%|██▊       | 6/21 [00:43<01:49,  7.29s/it]"
          ]
        },
        {
          "output_type": "stream",
          "name": "stdout",
          "text": [
            "SNR: 5 dB, BER: 0.000252\n"
          ]
        },
        {
          "output_type": "stream",
          "name": "stderr",
          "text": [
            "\rCalculating BER:  33%|███▎      | 7/21 [00:51<01:41,  7.29s/it]"
          ]
        },
        {
          "output_type": "stream",
          "name": "stdout",
          "text": [
            "SNR: 6 dB, BER: 0.000056\n"
          ]
        },
        {
          "output_type": "stream",
          "name": "stderr",
          "text": [
            "\rCalculating BER:  38%|███▊      | 8/21 [00:58<01:36,  7.41s/it]"
          ]
        },
        {
          "output_type": "stream",
          "name": "stdout",
          "text": [
            "SNR: 7 dB, BER: 0.000020\n"
          ]
        },
        {
          "output_type": "stream",
          "name": "stderr",
          "text": [
            "\rCalculating BER:  43%|████▎     | 9/21 [01:06<01:28,  7.36s/it]"
          ]
        },
        {
          "output_type": "stream",
          "name": "stdout",
          "text": [
            "SNR: 8 dB, BER: 0.000012\n"
          ]
        },
        {
          "output_type": "stream",
          "name": "stderr",
          "text": [
            "\rCalculating BER:  48%|████▊     | 10/21 [01:13<01:19,  7.25s/it]"
          ]
        },
        {
          "output_type": "stream",
          "name": "stdout",
          "text": [
            "SNR: 9 dB, BER: 0.000006\n"
          ]
        },
        {
          "output_type": "stream",
          "name": "stderr",
          "text": [
            "\rCalculating BER:  52%|█████▏    | 11/21 [01:20<01:12,  7.22s/it]"
          ]
        },
        {
          "output_type": "stream",
          "name": "stdout",
          "text": [
            "SNR: 10 dB, BER: 0.000008\n"
          ]
        },
        {
          "output_type": "stream",
          "name": "stderr",
          "text": [
            "\rCalculating BER:  57%|█████▋    | 12/21 [01:27<01:04,  7.15s/it]"
          ]
        },
        {
          "output_type": "stream",
          "name": "stdout",
          "text": [
            "SNR: 11 dB, BER: 0.000006\n"
          ]
        },
        {
          "output_type": "stream",
          "name": "stderr",
          "text": [
            "\rCalculating BER:  62%|██████▏   | 13/21 [01:34<00:56,  7.12s/it]"
          ]
        },
        {
          "output_type": "stream",
          "name": "stdout",
          "text": [
            "SNR: 12 dB, BER: 0.000002\n"
          ]
        },
        {
          "output_type": "stream",
          "name": "stderr",
          "text": [
            "\rCalculating BER:  67%|██████▋   | 14/21 [01:41<00:49,  7.09s/it]"
          ]
        },
        {
          "output_type": "stream",
          "name": "stdout",
          "text": [
            "SNR: 13 dB, BER: 0.000000\n"
          ]
        },
        {
          "output_type": "stream",
          "name": "stderr",
          "text": [
            "\rCalculating BER:  71%|███████▏  | 15/21 [01:48<00:42,  7.08s/it]"
          ]
        },
        {
          "output_type": "stream",
          "name": "stdout",
          "text": [
            "SNR: 14 dB, BER: 0.000002\n"
          ]
        },
        {
          "output_type": "stream",
          "name": "stderr",
          "text": [
            "\rCalculating BER:  76%|███████▌  | 16/21 [01:55<00:35,  7.09s/it]"
          ]
        },
        {
          "output_type": "stream",
          "name": "stdout",
          "text": [
            "SNR: 15 dB, BER: 0.000004\n"
          ]
        },
        {
          "output_type": "stream",
          "name": "stderr",
          "text": [
            "\rCalculating BER:  81%|████████  | 17/21 [02:02<00:28,  7.07s/it]"
          ]
        },
        {
          "output_type": "stream",
          "name": "stdout",
          "text": [
            "SNR: 16 dB, BER: 0.000000\n"
          ]
        },
        {
          "output_type": "stream",
          "name": "stderr",
          "text": [
            "\rCalculating BER:  86%|████████▌ | 18/21 [02:09<00:21,  7.15s/it]"
          ]
        },
        {
          "output_type": "stream",
          "name": "stdout",
          "text": [
            "SNR: 17 dB, BER: 0.000000\n"
          ]
        },
        {
          "output_type": "stream",
          "name": "stderr",
          "text": [
            "\rCalculating BER:  90%|█████████ | 19/21 [02:16<00:14,  7.12s/it]"
          ]
        },
        {
          "output_type": "stream",
          "name": "stdout",
          "text": [
            "SNR: 18 dB, BER: 0.000002\n"
          ]
        },
        {
          "output_type": "stream",
          "name": "stderr",
          "text": [
            "\rCalculating BER:  95%|█████████▌| 20/21 [02:24<00:07,  7.18s/it]"
          ]
        },
        {
          "output_type": "stream",
          "name": "stdout",
          "text": [
            "SNR: 19 dB, BER: 0.000000\n"
          ]
        },
        {
          "output_type": "stream",
          "name": "stderr",
          "text": [
            "Calculating BER: 100%|██████████| 21/21 [02:31<00:00,  7.20s/it]"
          ]
        },
        {
          "output_type": "stream",
          "name": "stdout",
          "text": [
            "SNR: 20 dB, BER: 0.000000\n",
            "BER salvato in: /content/drive/MyDrive/GitHub/AWGN/results/CNN_7-ksize_256-filters_awgn_snr_11-15_ber.npy\n",
            "BER per CNN_7-ksize_256-filters_awgn_snr_11-15: [1.0958e-02 6.5060e-03 3.4480e-03 1.6980e-03 7.3800e-04 2.5200e-04\n",
            " 5.6000e-05 2.0000e-05 1.2000e-05 6.0000e-06 8.0000e-06 6.0000e-06\n",
            " 2.0000e-06 0.0000e+00 2.0000e-06 4.0000e-06 0.0000e+00 0.0000e+00\n",
            " 2.0000e-06 0.0000e+00 0.0000e+00]\n",
            "\n",
            "Caricamento modello: CNN_9-ksize_256-filters_awgn_snr_11-15\n"
          ]
        },
        {
          "output_type": "stream",
          "name": "stderr",
          "text": [
            "\n",
            "WARNING:absl:Compiled the loaded model, but the compiled metrics have yet to be built. `model.compile_metrics` will be empty until you train or evaluate the model.\n",
            "Calculating BER:   5%|▍         | 1/21 [00:06<02:16,  6.81s/it]"
          ]
        },
        {
          "output_type": "stream",
          "name": "stdout",
          "text": [
            "SNR: 0 dB, BER: 0.439312\n"
          ]
        },
        {
          "output_type": "stream",
          "name": "stderr",
          "text": [
            "\rCalculating BER:  10%|▉         | 2/21 [00:14<02:16,  7.17s/it]"
          ]
        },
        {
          "output_type": "stream",
          "name": "stdout",
          "text": [
            "SNR: 1 dB, BER: 0.346480\n"
          ]
        },
        {
          "output_type": "stream",
          "name": "stderr",
          "text": [
            "\rCalculating BER:  14%|█▍        | 3/21 [00:21<02:13,  7.39s/it]"
          ]
        },
        {
          "output_type": "stream",
          "name": "stdout",
          "text": [
            "SNR: 2 dB, BER: 0.211784\n"
          ]
        },
        {
          "output_type": "stream",
          "name": "stderr",
          "text": [
            "\rCalculating BER:  19%|█▉        | 4/21 [00:29<02:04,  7.34s/it]"
          ]
        },
        {
          "output_type": "stream",
          "name": "stdout",
          "text": [
            "SNR: 3 dB, BER: 0.086992\n"
          ]
        },
        {
          "output_type": "stream",
          "name": "stderr",
          "text": [
            "\rCalculating BER:  24%|██▍       | 5/21 [00:36<01:57,  7.32s/it]"
          ]
        },
        {
          "output_type": "stream",
          "name": "stdout",
          "text": [
            "SNR: 4 dB, BER: 0.020662\n"
          ]
        },
        {
          "output_type": "stream",
          "name": "stderr",
          "text": [
            "\rCalculating BER:  29%|██▊       | 6/21 [00:43<01:48,  7.26s/it]"
          ]
        },
        {
          "output_type": "stream",
          "name": "stdout",
          "text": [
            "SNR: 5 dB, BER: 0.002564\n"
          ]
        },
        {
          "output_type": "stream",
          "name": "stderr",
          "text": [
            "\rCalculating BER:  33%|███▎      | 7/21 [00:51<01:42,  7.35s/it]"
          ]
        },
        {
          "output_type": "stream",
          "name": "stdout",
          "text": [
            "SNR: 6 dB, BER: 0.000168\n"
          ]
        },
        {
          "output_type": "stream",
          "name": "stderr",
          "text": [
            "\rCalculating BER:  38%|███▊      | 8/21 [00:58<01:34,  7.31s/it]"
          ]
        },
        {
          "output_type": "stream",
          "name": "stdout",
          "text": [
            "SNR: 7 dB, BER: 0.000002\n"
          ]
        },
        {
          "output_type": "stream",
          "name": "stderr",
          "text": [
            "\rCalculating BER:  43%|████▎     | 9/21 [01:05<01:28,  7.38s/it]"
          ]
        },
        {
          "output_type": "stream",
          "name": "stdout",
          "text": [
            "SNR: 8 dB, BER: 0.000000\n"
          ]
        },
        {
          "output_type": "stream",
          "name": "stderr",
          "text": [
            "\rCalculating BER:  48%|████▊     | 10/21 [01:13<01:22,  7.46s/it]"
          ]
        },
        {
          "output_type": "stream",
          "name": "stdout",
          "text": [
            "SNR: 9 dB, BER: 0.000000\n"
          ]
        },
        {
          "output_type": "stream",
          "name": "stderr",
          "text": [
            "\rCalculating BER:  52%|█████▏    | 11/21 [01:20<01:13,  7.39s/it]"
          ]
        },
        {
          "output_type": "stream",
          "name": "stdout",
          "text": [
            "SNR: 10 dB, BER: 0.000000\n"
          ]
        },
        {
          "output_type": "stream",
          "name": "stderr",
          "text": [
            "\rCalculating BER:  57%|█████▋    | 12/21 [01:27<01:05,  7.33s/it]"
          ]
        },
        {
          "output_type": "stream",
          "name": "stdout",
          "text": [
            "SNR: 11 dB, BER: 0.000000\n"
          ]
        },
        {
          "output_type": "stream",
          "name": "stderr",
          "text": [
            "\rCalculating BER:  62%|██████▏   | 13/21 [01:35<00:58,  7.28s/it]"
          ]
        },
        {
          "output_type": "stream",
          "name": "stdout",
          "text": [
            "SNR: 12 dB, BER: 0.000000\n"
          ]
        },
        {
          "output_type": "stream",
          "name": "stderr",
          "text": [
            "\rCalculating BER:  67%|██████▋   | 14/21 [01:42<00:51,  7.32s/it]"
          ]
        },
        {
          "output_type": "stream",
          "name": "stdout",
          "text": [
            "SNR: 13 dB, BER: 0.000000\n"
          ]
        },
        {
          "output_type": "stream",
          "name": "stderr",
          "text": [
            "\rCalculating BER:  71%|███████▏  | 15/21 [01:49<00:43,  7.28s/it]"
          ]
        },
        {
          "output_type": "stream",
          "name": "stdout",
          "text": [
            "SNR: 14 dB, BER: 0.000000\n"
          ]
        },
        {
          "output_type": "stream",
          "name": "stderr",
          "text": [
            "\rCalculating BER:  76%|███████▌  | 16/21 [01:57<00:36,  7.38s/it]"
          ]
        },
        {
          "output_type": "stream",
          "name": "stdout",
          "text": [
            "SNR: 15 dB, BER: 0.000000\n"
          ]
        },
        {
          "output_type": "stream",
          "name": "stderr",
          "text": [
            "\rCalculating BER:  81%|████████  | 17/21 [02:04<00:29,  7.46s/it]"
          ]
        },
        {
          "output_type": "stream",
          "name": "stdout",
          "text": [
            "SNR: 16 dB, BER: 0.000000\n"
          ]
        },
        {
          "output_type": "stream",
          "name": "stderr",
          "text": [
            "\rCalculating BER:  86%|████████▌ | 18/21 [02:12<00:22,  7.39s/it]"
          ]
        },
        {
          "output_type": "stream",
          "name": "stdout",
          "text": [
            "SNR: 17 dB, BER: 0.000000\n"
          ]
        },
        {
          "output_type": "stream",
          "name": "stderr",
          "text": [
            "\rCalculating BER:  90%|█████████ | 19/21 [02:19<00:14,  7.33s/it]"
          ]
        },
        {
          "output_type": "stream",
          "name": "stdout",
          "text": [
            "SNR: 18 dB, BER: 0.000000\n"
          ]
        },
        {
          "output_type": "stream",
          "name": "stderr",
          "text": [
            "\rCalculating BER:  95%|█████████▌| 20/21 [02:26<00:07,  7.28s/it]"
          ]
        },
        {
          "output_type": "stream",
          "name": "stdout",
          "text": [
            "SNR: 19 dB, BER: 0.000000\n"
          ]
        },
        {
          "output_type": "stream",
          "name": "stderr",
          "text": [
            "Calculating BER: 100%|██████████| 21/21 [02:33<00:00,  7.32s/it]"
          ]
        },
        {
          "output_type": "stream",
          "name": "stdout",
          "text": [
            "SNR: 20 dB, BER: 0.000000\n",
            "BER salvato in: /content/drive/MyDrive/GitHub/AWGN/results/CNN_9-ksize_256-filters_awgn_snr_11-15_ber.npy\n",
            "BER per CNN_9-ksize_256-filters_awgn_snr_11-15: [4.39312e-01 3.46480e-01 2.11784e-01 8.69920e-02 2.06620e-02 2.56400e-03\n",
            " 1.68000e-04 2.00000e-06 0.00000e+00 0.00000e+00 0.00000e+00 0.00000e+00\n",
            " 0.00000e+00 0.00000e+00 0.00000e+00 0.00000e+00 0.00000e+00 0.00000e+00\n",
            " 0.00000e+00 0.00000e+00 0.00000e+00]\n"
          ]
        },
        {
          "output_type": "stream",
          "name": "stderr",
          "text": [
            "\n"
          ]
        },
        {
          "output_type": "display_data",
          "data": {
            "text/plain": [
              "<Figure size 1000x600 with 1 Axes>"
            ],
            "image/png": "[encoded data removed]"
          },
          "metadata": {}
        },
        {
          "output_type": "stream",
          "name": "stdout",
          "text": [
            "Grafico salvato come /content/drive/MyDrive/GitHub/AWGN/results/ber_cnn_all_models.png\n"
          ]
        }
      ]
    }
  ]
}