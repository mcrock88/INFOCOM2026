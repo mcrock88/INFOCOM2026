{
  "nbformat": 4,
  "nbformat_minor": 0,
  "metadata": {
    "colab": {
      "provenance": [],
      "gpuType": "T4"
    },
    "kernelspec": {
      "name": "python3",
      "display_name": "Python 3"
    },
    "language_info": {
      "name": "python"
    },
    "accelerator": "GPU"
  },
  "cells": [
    {
      "cell_type": "markdown",
      "source": [
        "# Importing the libraries"
      ],
      "metadata": {
        "id": "OEAfQA05D6ua"
      }
    },
    {
      "cell_type": "code",
      "source": [
        "import numpy as np\n",
        "import random\n",
        "import os\n",
        "import tensorflow as tf\n",
        "from tensorflow import keras\n",
        "import platform\n",
        "from tensorflow.keras import layers, optimizers, losses, models, Input, Model\n",
        "import time # Per misurare il tempo di training\n",
        "from tensorflow.keras.callbacks import EarlyStopping # Per l'early stopping\n",
        "import matplotlib.pyplot as plt\n",
        "from tqdm import tqdm # Per mostrare una barra di progresso\n",
        "from tensorflow.keras.models import load_model"
      ],
      "metadata": {
        "id": "cAkyZrEzu97V"
      },
      "execution_count": 1,
      "outputs": []
    },
    {
      "cell_type": "markdown",
      "source": [
        "# Set seeds for random operations."
      ],
      "metadata": {
        "id": "AujxZNQWMBuP"
      }
    },
    {
      "cell_type": "code",
      "source": [
        "# --- 1. Impostazione del Seed Globale all'inizio del tuo script ---\n",
        "# Questo è il punto chiave per la riproducibilità di TUTTO ciò che segue.\n",
        "MASTER_RANDOM_SEED = 42\n",
        "np.random.seed(MASTER_RANDOM_SEED)\n",
        "random.seed(MASTER_RANDOM_SEED) # Imposta anche il seed per la libreria 'random' di Python se la usi\n",
        "tf.random.set_seed(MASTER_RANDOM_SEED)\n",
        "os.environ['PYTHONHASHSEED'] = str(MASTER_RANDOM_SEED) # Per operazioni basate su hash (es. ordine dei dizionari)\n",
        "os.environ['TF_DETERMINISTIC_OPS'] = '1' # Forza operazioni deterministiche in TensorFlow 2.x"
      ],
      "metadata": {
        "id": "uXGzTxrOME1z"
      },
      "execution_count": 2,
      "outputs": []
    },
    {
      "cell_type": "markdown",
      "source": [
        "# Print the HW Specs."
      ],
      "metadata": {
        "id": "OBZ65HW9CLdc"
      }
    },
    {
      "cell_type": "code",
      "source": [
        "print(\"--- Dettagli dell'Architettura Hardware della Sessione Colab ---\\n\")\n",
        "\n",
        "# --- 1. Dettagli CPU ---\n",
        "print(\"--- Dettagli CPU ---\")\n",
        "!lscpu\n",
        "print(\"\\n\")\n",
        "\n",
        "# --- 2. Dettagli RAM (Memoria) ---\n",
        "print(\"--- Dettagli RAM (Memoria) ---\")\n",
        "!cat /proc/meminfo | grep MemTotal\n",
        "print(\"\\n\")\n",
        "\n",
        "# --- 3. Dettagli Spazio su Disco ---\n",
        "print(\"--- Dettagli Spazio su Disco ---\")\n",
        "!df -h /\n",
        "print(\"\\n\")\n",
        "\n",
        "# --- 4. Dettagli Acceleratore Hardware (GPU/TPU) ---\n",
        "print(\"--- Dettagli Acceleratore Hardware (GPU/TPU) ---\")\n",
        "try:\n",
        "    tpu_address = os.environ.get('COLAB_TPU_ADDR')\n",
        "    if tpu_address:\n",
        "        resolver = tf.distribute.cluster_resolver.TPUClusterResolver(tpu=tpu_address)\n",
        "        tf.config.experimental_connect_to_cluster(resolver)\n",
        "        tf.tpu.experimental.initialize_tpu_system(resolver)\n",
        "        print(f\"Tipo Acceleratore: TPU (indirizzo: {tpu_address})\")\n",
        "        print(\"Dispositivi TPU disponibili:\")\n",
        "        for device in tf.config.list_logical_devices('TPU'):\n",
        "            print(f\"  - {device.name}\")\n",
        "    else:\n",
        "        gpus = tf.config.list_physical_devices('GPU')\n",
        "        if gpus:\n",
        "            print(f\"Tipo Acceleratore: GPU\")\n",
        "            for gpu in gpus:\n",
        "                print(f\"  - Dispositivo GPU rilevato: {gpu.name}\")\n",
        "            print(\"\\nDettagli GPU specifici (da `!nvidia-smi`):\")\n",
        "            !nvidia-smi\n",
        "        else:\n",
        "            print(\"Tipo Acceleratore: Nessuna GPU o TPU rilevata (in uso CPU)\")\n",
        "\n",
        "except Exception as e:\n",
        "    print(f\"Si è verificato un errore durante la rilevazione dell'acceleratore: {e}\")\n",
        "    print(\"Tentativo di rilevare i dispositivi TensorFlow standard:\")\n",
        "    devices = tf.config.list_logical_devices()\n",
        "    if devices:\n",
        "        for device in devices:\n",
        "            print(f\"  - Dispositivo rilevato: {device.name}, Tipo: {device.device_type}\")\n",
        "    else:\n",
        "        print(\"Nessun dispositivo TensorFlow rilevato.\")\n",
        "\n",
        "print(\"\\n--- Analisi Dettagli Hardware Completata ---\")"
      ],
      "metadata": {
        "colab": {
          "base_uri": "https://localhost:8080/"
        },
        "id": "BBhq145cCO9I",
        "outputId": "abfd8922-2547-444a-8392-f597eef5f89d"
      },
      "execution_count": 3,
      "outputs": [
        {
          "output_type": "stream",
          "name": "stdout",
          "text": [
            "--- Dettagli dell'Architettura Hardware della Sessione Colab ---\n",
            "\n",
            "--- Dettagli CPU ---\n",
            "Architecture:             x86_64\n",
            "  CPU op-mode(s):         32-bit, 64-bit\n",
            "  Address sizes:          46 bits physical, 48 bits virtual\n",
            "  Byte Order:             Little Endian\n",
            "CPU(s):                   2\n",
            "  On-line CPU(s) list:    0,1\n",
            "Vendor ID:                GenuineIntel\n",
            "  Model name:             Intel(R) Xeon(R) CPU @ 2.20GHz\n",
            "    CPU family:           6\n",
            "    Model:                79\n",
            "    Thread(s) per core:   2\n",
            "    Core(s) per socket:   1\n",
            "    Socket(s):            1\n",
            "    Stepping:             0\n",
            "    BogoMIPS:             4399.99\n",
            "    Flags:                fpu vme de pse tsc msr pae mce cx8 apic sep mtrr pge m\n",
            "                          ca cmov pat pse36 clflush mmx fxsr sse sse2 ss ht sysc\n",
            "                          all nx pdpe1gb rdtscp lm constant_tsc rep_good nopl xt\n",
            "                          opology nonstop_tsc cpuid tsc_known_freq pni pclmulqdq\n",
            "                           ssse3 fma cx16 pcid sse4_1 sse4_2 x2apic movbe popcnt\n",
            "                           aes xsave avx f16c rdrand hypervisor lahf_lm abm 3dno\n",
            "                          wprefetch invpcid_single ssbd ibrs ibpb stibp fsgsbase\n",
            "                           tsc_adjust bmi1 hle avx2 smep bmi2 erms invpcid rtm r\n",
            "                          dseed adx smap xsaveopt arat md_clear arch_capabilitie\n",
            "                          s\n",
            "Virtualization features:  \n",
            "  Hypervisor vendor:      KVM\n",
            "  Virtualization type:    full\n",
            "Caches (sum of all):      \n",
            "  L1d:                    32 KiB (1 instance)\n",
            "  L1i:                    32 KiB (1 instance)\n",
            "  L2:                     256 KiB (1 instance)\n",
            "  L3:                     55 MiB (1 instance)\n",
            "NUMA:                     \n",
            "  NUMA node(s):           1\n",
            "  NUMA node0 CPU(s):      0,1\n",
            "Vulnerabilities:          \n",
            "  Gather data sampling:   Not affected\n",
            "  Itlb multihit:          Not affected\n",
            "  L1tf:                   Mitigation; PTE Inversion\n",
            "  Mds:                    Vulnerable; SMT Host state unknown\n",
            "  Meltdown:               Vulnerable\n",
            "  Mmio stale data:        Vulnerable\n",
            "  Reg file data sampling: Not affected\n",
            "  Retbleed:               Vulnerable\n",
            "  Spec rstack overflow:   Not affected\n",
            "  Spec store bypass:      Vulnerable\n",
            "  Spectre v1:             Vulnerable: __user pointer sanitization and usercopy b\n",
            "                          arriers only; no swapgs barriers\n",
            "  Spectre v2:             Vulnerable; IBPB: disabled; STIBP: disabled; PBRSB-eIB\n",
            "                          RS: Not affected; BHI: Vulnerable\n",
            "  Srbds:                  Not affected\n",
            "  Tsx async abort:        Vulnerable\n",
            "\n",
            "\n",
            "--- Dettagli RAM (Memoria) ---\n",
            "MemTotal:       13289416 kB\n",
            "\n",
            "\n",
            "--- Dettagli Spazio su Disco ---\n",
            "Filesystem      Size  Used Avail Use% Mounted on\n",
            "overlay         108G   38G   71G  35% /\n",
            "\n",
            "\n",
            "--- Dettagli Acceleratore Hardware (GPU/TPU) ---\n",
            "Tipo Acceleratore: Nessuna GPU o TPU rilevata (in uso CPU)\n",
            "\n",
            "--- Analisi Dettagli Hardware Completata ---\n"
          ]
        }
      ]
    },
    {
      "cell_type": "markdown",
      "source": [
        "# Connect To Gdrive to store the datasets created."
      ],
      "metadata": {
        "id": "X46EKvDxpZ-a"
      }
    },
    {
      "cell_type": "code",
      "source": [
        "from google.colab import drive\n",
        "drive.mount('/content/drive')"
      ],
      "metadata": {
        "colab": {
          "base_uri": "https://localhost:8080/"
        },
        "id": "O7J7tQfWpjXc",
        "outputId": "24c9c286-af85-4c05-ea45-255baf33ba02"
      },
      "execution_count": 4,
      "outputs": [
        {
          "output_type": "stream",
          "name": "stdout",
          "text": [
            "Mounted at /content/drive\n"
          ]
        }
      ]
    },
    {
      "cell_type": "markdown",
      "source": [
        "# Function for calculating BER"
      ],
      "metadata": {
        "id": "xlX0DwUgcqFH"
      }
    },
    {
      "cell_type": "code",
      "source": [
        "# Funzione per calcolare il BER\n",
        "\n",
        "def calculate_ber(model, snr_test_data_path, max_samples=1000):\n",
        "    ber_values = []\n",
        "    snr_points = list(range(0, 21))\n",
        "\n",
        "    for snr_db in tqdm(snr_points, desc=\"Calculating BER\"):\n",
        "        test_file = os.path.join(snr_test_data_path, f\"test_{snr_db}_SNR.npz\")\n",
        "        if not os.path.exists(test_file):\n",
        "            print(f\"File non trovato: {test_file}. Salto questo SNR.\")\n",
        "            ber_values.append(np.nan)\n",
        "            continue\n",
        "\n",
        "        data = np.load(test_file)\n",
        "        X_batch, y_true_batch = data['X_test'], data['y_test']\n",
        "        symbols_in_batch = X_batch.shape[0]\n",
        "\n",
        "        if symbols_in_batch == 0:\n",
        "            ber_values.append(np.nan)\n",
        "            continue\n",
        "\n",
        "         # --- Estrazione casuale di un sottoinsieme ---\n",
        "        if len(X_batch) > max_samples:\n",
        "            idx = np.random.choice(len(X_batch), max_samples, replace=False)\n",
        "            X_batch = X_batch[idx]\n",
        "            y_true_batch = y_true_batch[idx]\n",
        "\n",
        "        predictions = model.predict(X_batch, batch_size=2048, verbose=0)\n",
        "        predicted_labels = np.argmax(predictions, axis=1)\n",
        "        errors = np.sum(predicted_labels != y_true_batch)\n",
        "        ber = errors / symbols_in_batch\n",
        "        ber_values.append(ber)\n",
        "        print(f\"SNR: {snr_db} dB, BER: {ber:.6f}\")\n",
        "\n",
        "    return np.array(ber_values), snr_points"
      ],
      "metadata": {
        "id": "EemBT1iBX3b5"
      },
      "execution_count": 23,
      "outputs": []
    },
    {
      "cell_type": "markdown",
      "source": [
        "# Funzione di plotting"
      ],
      "metadata": {
        "id": "Y-Jg4WYohnLl"
      }
    },
    {
      "cell_type": "code",
      "source": [
        "# Funzione di plotting\n",
        "\n",
        "def plot_ber(snr_points, ber_curves_dict, channel_type, title_suffix=\"\", filename=\"ber_plot.png\", snr_x_lims=(0, 20)):\n",
        "    \"\"\"\n",
        "    Plotta BER vs SNR per una serie di modelli. Ogni modello ha una curva nel dizionario.\n",
        "\n",
        "    Args:\n",
        "        snr_points (list or np.array): Valori di SNR (in dB).\n",
        "        ber_curves_dict (dict): {nome_modello: lista_ber}\n",
        "        channel_type (str): 'AWGN', 'Rayleigh', ecc.\n",
        "        title_suffix (str): Testo da aggiungere al titolo del grafico.\n",
        "        filename (str): Nome del file immagine da salvare.\n",
        "        snr_x_lims (tuple): Range dell'asse X (min, max).\n",
        "    \"\"\"\n",
        "    plt.figure(figsize=(10, 6))\n",
        "\n",
        "    for label, ber_data_orig in ber_curves_dict.items():\n",
        "        ber_data = np.array(ber_data_orig)\n",
        "\n",
        "        # Adatta la lunghezza dei dati\n",
        "        if len(ber_data) < len(snr_points):\n",
        "            temp_ber_data = np.full(len(snr_points), np.nan)\n",
        "            temp_ber_data[:len(ber_data)] = ber_data\n",
        "            ber_data = temp_ber_data\n",
        "        elif len(ber_data) > len(snr_points):\n",
        "            ber_data = ber_data[:len(snr_points)]\n",
        "\n",
        "        # Applica la logica \"tocca l'asse X\"\n",
        "        ber_to_plot = ber_data.copy()\n",
        "        for i, ber_val in enumerate(ber_data):\n",
        "            if not np.isnan(ber_val) and ber_val <= 1e-15:\n",
        "                ber_to_plot[i] = 1e-5\n",
        "                ber_to_plot[i+1:] = np.nan\n",
        "                break\n",
        "\n",
        "        # Marker diverso in base al range di addestramento\n",
        "        marker = 'x' if \"11-15\" in label else 'o'\n",
        "\n",
        "        # Plot della curva BER\n",
        "        plt.semilogy(snr_points, ber_to_plot, marker=marker, linestyle='-', label=label)\n",
        "\n",
        "    plt.title(f'Bit Error Rate (BER) vs. SNR for {channel_type} Channel {title_suffix}')\n",
        "    plt.xlabel('SNR (dB)')\n",
        "    plt.ylabel('Bit Error Rate (BER)')\n",
        "    plt.grid(True, which=\"both\", linestyle='--', linewidth=0.5)\n",
        "    plt.legend()\n",
        "    plt.ylim(1e-5, 1)\n",
        "\n",
        "    # Limiti e ticks asse X\n",
        "    min_snr, max_snr = snr_x_lims\n",
        "    plt.xticks(np.arange(int(min_snr), int(max_snr) + 1, 2))\n",
        "    plt.xlim(min_snr, max_snr)\n",
        "\n",
        "    plt.savefig(filename)\n",
        "    plt.show()\n",
        "    print(f\"Grafico salvato come {filename}\")"
      ],
      "metadata": {
        "id": "2O7xPHjhhpKB"
      },
      "execution_count": null,
      "outputs": []
    },
    {
      "cell_type": "markdown",
      "source": [
        "# Calculate the BER"
      ],
      "metadata": {
        "id": "3Pj-ruwCcnqD"
      }
    },
    {
      "cell_type": "code",
      "source": [
        "# === Corpo Principale ===\n",
        "\n",
        "cnn_model_folder = \"/content/drive/MyDrive/Academic/2025/Conferences/INFOCOM2026/GitHub/AWGN/trained_models/cnn\"\n",
        "snr_test_data_path = \"/content/drive/MyDrive/Academic/2025/Conferences/INFOCOM2026/GitHub/AWGN/dataset/test\"\n",
        "\n",
        "ber_results = {}\n",
        "\n",
        "for model_file in os.listdir(cnn_model_folder):\n",
        "    if model_file.endswith(\".h5\"):\n",
        "        model_path = os.path.join(cnn_model_folder, model_file)\n",
        "        model_name = model_file.replace(\".h5\", \"\")\n",
        "        print(f\"\\nCaricamento modello: {model_name}\")\n",
        "        model = load_model(model_path)\n",
        "        ber_values, snr_points = calculate_ber(model, snr_test_data_path)\n",
        "        ber_results[model_name] = ber_values\n",
        "        print(f\"Calcolo BER completato per modello: {model_name}\")\n",
        "        print(f\"SNR: {snr_points}\")\n",
        "        print(f\"BER: {ber_values}\")\n",
        "\n",
        "# Plot finale\n",
        "plot_ber(snr_points, ber_results, channel_type=\"AWGN\", title_suffix=\"CNN Evaluation\", filename=\"ber_cnn_all_models.png\")\n"
      ],
      "metadata": {
        "colab": {
          "base_uri": "https://localhost:8080/"
        },
        "id": "W794Th97cnAm",
        "outputId": "5e1ff03d-04ad-4914-82a2-57fb01d0a3e3"
      },
      "execution_count": null,
      "outputs": [
        {
          "output_type": "stream",
          "name": "stderr",
          "text": [
            "WARNING:absl:Compiled the loaded model, but the compiled metrics have yet to be built. `model.compile_metrics` will be empty until you train or evaluate the model.\n"
          ]
        },
        {
          "output_type": "stream",
          "name": "stdout",
          "text": [
            "\n",
            "Caricamento modello: CNN_3-ksize_128-filters_awgn_snr_0-20\n"
          ]
        },
        {
          "output_type": "stream",
          "name": "stderr",
          "text": [
            "Calculating BER:   5%|▍         | 1/21 [00:01<00:34,  1.71s/it]"
          ]
        },
        {
          "output_type": "stream",
          "name": "stdout",
          "text": [
            "SNR: 0 dB, BER: 0.000012\n"
          ]
        },
        {
          "output_type": "stream",
          "name": "stderr",
          "text": [
            "\rCalculating BER:  10%|▉         | 2/21 [00:03<00:30,  1.61s/it]"
          ]
        },
        {
          "output_type": "stream",
          "name": "stdout",
          "text": [
            "SNR: 1 dB, BER: 0.000000\n"
          ]
        },
        {
          "output_type": "stream",
          "name": "stderr",
          "text": [
            "\rCalculating BER:  14%|█▍        | 3/21 [00:06<00:43,  2.41s/it]"
          ]
        },
        {
          "output_type": "stream",
          "name": "stdout",
          "text": [
            "SNR: 2 dB, BER: 0.000002\n"
          ]
        },
        {
          "output_type": "stream",
          "name": "stderr",
          "text": [
            "\rCalculating BER:  19%|█▉        | 4/21 [00:10<00:49,  2.89s/it]"
          ]
        },
        {
          "output_type": "stream",
          "name": "stdout",
          "text": [
            "SNR: 3 dB, BER: 0.000004\n"
          ]
        },
        {
          "output_type": "stream",
          "name": "stderr",
          "text": [
            "\rCalculating BER:  24%|██▍       | 5/21 [00:13<00:47,  2.96s/it]"
          ]
        },
        {
          "output_type": "stream",
          "name": "stdout",
          "text": [
            "SNR: 4 dB, BER: 0.000000\n"
          ]
        },
        {
          "output_type": "stream",
          "name": "stderr",
          "text": [
            "\rCalculating BER:  29%|██▊       | 6/21 [00:16<00:44,  2.94s/it]"
          ]
        },
        {
          "output_type": "stream",
          "name": "stdout",
          "text": [
            "SNR: 5 dB, BER: 0.000002\n"
          ]
        },
        {
          "output_type": "stream",
          "name": "stderr",
          "text": [
            "\rCalculating BER:  33%|███▎      | 7/21 [00:18<00:40,  2.88s/it]"
          ]
        },
        {
          "output_type": "stream",
          "name": "stdout",
          "text": [
            "SNR: 6 dB, BER: 0.000000\n"
          ]
        },
        {
          "output_type": "stream",
          "name": "stderr",
          "text": [
            "\rCalculating BER:  38%|███▊      | 8/21 [00:28<01:03,  4.88s/it]"
          ]
        },
        {
          "output_type": "stream",
          "name": "stdout",
          "text": [
            "SNR: 7 dB, BER: 0.000000\n"
          ]
        },
        {
          "output_type": "stream",
          "name": "stderr",
          "text": [
            "\rCalculating BER:  43%|████▎     | 9/21 [00:35<01:07,  5.59s/it]"
          ]
        },
        {
          "output_type": "stream",
          "name": "stdout",
          "text": [
            "SNR: 8 dB, BER: 0.000000\n"
          ]
        },
        {
          "output_type": "stream",
          "name": "stderr",
          "text": [
            "\rCalculating BER:  48%|████▊     | 10/21 [00:41<01:05,  5.93s/it]"
          ]
        },
        {
          "output_type": "stream",
          "name": "stdout",
          "text": [
            "SNR: 9 dB, BER: 0.000000\n"
          ]
        },
        {
          "output_type": "stream",
          "name": "stderr",
          "text": [
            "\rCalculating BER:  52%|█████▏    | 11/21 [00:48<00:59,  5.97s/it]"
          ]
        },
        {
          "output_type": "stream",
          "name": "stdout",
          "text": [
            "SNR: 10 dB, BER: 0.000000\n"
          ]
        },
        {
          "output_type": "stream",
          "name": "stderr",
          "text": [
            "\rCalculating BER:  57%|█████▋    | 12/21 [00:55<00:57,  6.43s/it]"
          ]
        },
        {
          "output_type": "stream",
          "name": "stdout",
          "text": [
            "SNR: 11 dB, BER: 0.000000\n"
          ]
        },
        {
          "output_type": "stream",
          "name": "stderr",
          "text": [
            "\rCalculating BER:  62%|██████▏   | 13/21 [01:02<00:52,  6.56s/it]"
          ]
        },
        {
          "output_type": "stream",
          "name": "stdout",
          "text": [
            "SNR: 12 dB, BER: 0.000000\n"
          ]
        },
        {
          "output_type": "stream",
          "name": "stderr",
          "text": [
            "\rCalculating BER:  67%|██████▋   | 14/21 [01:08<00:44,  6.33s/it]"
          ]
        },
        {
          "output_type": "stream",
          "name": "stdout",
          "text": [
            "SNR: 13 dB, BER: 0.000000\n"
          ]
        },
        {
          "output_type": "stream",
          "name": "stderr",
          "text": [
            "\rCalculating BER:  71%|███████▏  | 15/21 [01:13<00:35,  5.90s/it]"
          ]
        },
        {
          "output_type": "stream",
          "name": "stdout",
          "text": [
            "SNR: 14 dB, BER: 0.000000\n"
          ]
        },
        {
          "output_type": "stream",
          "name": "stderr",
          "text": [
            "\rCalculating BER:  76%|███████▌  | 16/21 [01:17<00:27,  5.53s/it]"
          ]
        },
        {
          "output_type": "stream",
          "name": "stdout",
          "text": [
            "SNR: 15 dB, BER: 0.000000\n"
          ]
        },
        {
          "output_type": "stream",
          "name": "stderr",
          "text": [
            "\rCalculating BER:  81%|████████  | 17/21 [01:23<00:22,  5.65s/it]"
          ]
        },
        {
          "output_type": "stream",
          "name": "stdout",
          "text": [
            "SNR: 16 dB, BER: 0.000000\n"
          ]
        },
        {
          "output_type": "stream",
          "name": "stderr",
          "text": [
            "\rCalculating BER:  86%|████████▌ | 18/21 [01:29<00:17,  5.67s/it]"
          ]
        },
        {
          "output_type": "stream",
          "name": "stdout",
          "text": [
            "SNR: 17 dB, BER: 0.000000\n"
          ]
        },
        {
          "output_type": "stream",
          "name": "stderr",
          "text": [
            "\rCalculating BER:  90%|█████████ | 19/21 [01:34<00:10,  5.38s/it]"
          ]
        },
        {
          "output_type": "stream",
          "name": "stdout",
          "text": [
            "SNR: 18 dB, BER: 0.000000\n"
          ]
        },
        {
          "output_type": "stream",
          "name": "stderr",
          "text": [
            "\rCalculating BER:  95%|█████████▌| 20/21 [01:42<00:06,  6.28s/it]"
          ]
        },
        {
          "output_type": "stream",
          "name": "stdout",
          "text": [
            "SNR: 19 dB, BER: 0.000000\n"
          ]
        },
        {
          "output_type": "stream",
          "name": "stderr",
          "text": [
            "Calculating BER: 100%|██████████| 21/21 [01:47<00:00,  5.10s/it]"
          ]
        },
        {
          "output_type": "stream",
          "name": "stdout",
          "text": [
            "SNR: 20 dB, BER: 0.000000\n",
            "Calcolo BER completato per modello: CNN_3-ksize_128-filters_awgn_snr_0-20\n",
            "SNR: [0, 1, 2, 3, 4, 5, 6, 7, 8, 9, 10, 11, 12, 13, 14, 15, 16, 17, 18, 19, 20]\n",
            "BER: [1.2e-05 0.0e+00 2.0e-06 4.0e-06 0.0e+00 2.0e-06 0.0e+00 0.0e+00 0.0e+00\n",
            " 0.0e+00 0.0e+00 0.0e+00 0.0e+00 0.0e+00 0.0e+00 0.0e+00 0.0e+00 0.0e+00\n",
            " 0.0e+00 0.0e+00 0.0e+00]\n",
            "\n",
            "Caricamento modello: CNN_5-ksize_128-filters_awgn_snr_0-20\n"
          ]
        },
        {
          "output_type": "stream",
          "name": "stderr",
          "text": [
            "\n",
            "WARNING:absl:Compiled the loaded model, but the compiled metrics have yet to be built. `model.compile_metrics` will be empty until you train or evaluate the model.\n",
            "Calculating BER:   5%|▍         | 1/21 [00:01<00:33,  1.66s/it]"
          ]
        },
        {
          "output_type": "stream",
          "name": "stdout",
          "text": [
            "SNR: 0 dB, BER: 0.000012\n"
          ]
        },
        {
          "output_type": "stream",
          "name": "stderr",
          "text": [
            "\rCalculating BER:  10%|▉         | 2/21 [00:03<00:32,  1.71s/it]"
          ]
        },
        {
          "output_type": "stream",
          "name": "stdout",
          "text": [
            "SNR: 1 dB, BER: 0.000000\n"
          ]
        },
        {
          "output_type": "stream",
          "name": "stderr",
          "text": [
            "\rCalculating BER:  14%|█▍        | 3/21 [00:06<00:38,  2.12s/it]"
          ]
        },
        {
          "output_type": "stream",
          "name": "stdout",
          "text": [
            "SNR: 2 dB, BER: 0.000002\n"
          ]
        },
        {
          "output_type": "stream",
          "name": "stderr",
          "text": [
            "\rCalculating BER:  19%|█▉        | 4/21 [00:08<00:40,  2.39s/it]"
          ]
        },
        {
          "output_type": "stream",
          "name": "stdout",
          "text": [
            "SNR: 3 dB, BER: 0.000000\n"
          ]
        },
        {
          "output_type": "stream",
          "name": "stderr",
          "text": [
            "\rCalculating BER:  24%|██▍       | 5/21 [00:12<00:44,  2.78s/it]"
          ]
        },
        {
          "output_type": "stream",
          "name": "stdout",
          "text": [
            "SNR: 4 dB, BER: 0.000000\n"
          ]
        },
        {
          "output_type": "stream",
          "name": "stderr",
          "text": [
            "\rCalculating BER:  29%|██▊       | 6/21 [00:14<00:37,  2.47s/it]"
          ]
        },
        {
          "output_type": "stream",
          "name": "stdout",
          "text": [
            "SNR: 5 dB, BER: 0.000000\n"
          ]
        },
        {
          "output_type": "stream",
          "name": "stderr",
          "text": [
            "\rCalculating BER:  33%|███▎      | 7/21 [00:15<00:30,  2.20s/it]"
          ]
        },
        {
          "output_type": "stream",
          "name": "stdout",
          "text": [
            "SNR: 6 dB, BER: 0.000000\n"
          ]
        },
        {
          "output_type": "stream",
          "name": "stderr",
          "text": [
            "\rCalculating BER:  38%|███▊      | 8/21 [00:18<00:31,  2.40s/it]"
          ]
        },
        {
          "output_type": "stream",
          "name": "stdout",
          "text": [
            "SNR: 7 dB, BER: 0.000000\n"
          ]
        },
        {
          "output_type": "stream",
          "name": "stderr",
          "text": [
            "\rCalculating BER:  43%|████▎     | 9/21 [00:21<00:31,  2.60s/it]"
          ]
        },
        {
          "output_type": "stream",
          "name": "stdout",
          "text": [
            "SNR: 8 dB, BER: 0.000000\n"
          ]
        },
        {
          "output_type": "stream",
          "name": "stderr",
          "text": [
            "\rCalculating BER:  48%|████▊     | 10/21 [00:24<00:30,  2.77s/it]"
          ]
        },
        {
          "output_type": "stream",
          "name": "stdout",
          "text": [
            "SNR: 9 dB, BER: 0.000000\n"
          ]
        },
        {
          "output_type": "stream",
          "name": "stderr",
          "text": [
            "\rCalculating BER:  52%|█████▏    | 11/21 [00:28<00:29,  2.94s/it]"
          ]
        },
        {
          "output_type": "stream",
          "name": "stdout",
          "text": [
            "SNR: 10 dB, BER: 0.000000\n"
          ]
        },
        {
          "output_type": "stream",
          "name": "stderr",
          "text": [
            "\rCalculating BER:  57%|█████▋    | 12/21 [00:30<00:26,  2.89s/it]"
          ]
        },
        {
          "output_type": "stream",
          "name": "stdout",
          "text": [
            "SNR: 11 dB, BER: 0.000000\n"
          ]
        },
        {
          "output_type": "stream",
          "name": "stderr",
          "text": [
            "\rCalculating BER:  62%|██████▏   | 13/21 [00:33<00:22,  2.83s/it]"
          ]
        },
        {
          "output_type": "stream",
          "name": "stdout",
          "text": [
            "SNR: 12 dB, BER: 0.000000\n"
          ]
        },
        {
          "output_type": "stream",
          "name": "stderr",
          "text": [
            "\rCalculating BER:  67%|██████▋   | 14/21 [00:36<00:19,  2.80s/it]"
          ]
        },
        {
          "output_type": "stream",
          "name": "stdout",
          "text": [
            "SNR: 13 dB, BER: 0.000000\n"
          ]
        }
      ]
    }
  ]
}