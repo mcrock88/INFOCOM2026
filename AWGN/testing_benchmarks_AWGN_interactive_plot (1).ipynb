{
  "nbformat": 4,
  "nbformat_minor": 0,
  "metadata": {
    "colab": {
      "provenance": [],
      "gpuType": "T4"
    },
    "kernelspec": {
      "name": "python3",
      "display_name": "Python 3"
    },
    "language_info": {
      "name": "python"
    },
    "accelerator": "GPU"
  },
  "cells": [
    {
      "cell_type": "markdown",
      "source": [
        "# Importing the libraries"
      ],
      "metadata": {
        "id": "OEAfQA05D6ua"
      }
    },
    {
      "cell_type": "code",
      "source": [
        "import numpy as np\n",
        "import random\n",
        "import os\n",
        "import tensorflow as tf\n",
        "from tensorflow import keras\n",
        "import platform\n",
        "from tensorflow.keras import layers, optimizers, losses, models, Input, Model\n",
        "import time # Per misurare il tempo di training\n",
        "from tensorflow.keras.callbacks import EarlyStopping # Per l'early stopping\n",
        "import matplotlib.pyplot as plt\n",
        "from tqdm import tqdm # Per mostrare una barra di progresso\n",
        "from tensorflow.keras.models import load_model"
      ],
      "metadata": {
        "id": "cAkyZrEzu97V"
      },
      "execution_count": 1,
      "outputs": []
    },
    {
      "cell_type": "markdown",
      "source": [
        "# Set seeds for random operations."
      ],
      "metadata": {
        "id": "AujxZNQWMBuP"
      }
    },
    {
      "cell_type": "code",
      "source": [
        "# --- 1. Impostazione del Seed Globale all'inizio del tuo script ---\n",
        "# Questo è il punto chiave per la riproducibilità di TUTTO ciò che segue.\n",
        "MASTER_RANDOM_SEED = 42\n",
        "np.random.seed(MASTER_RANDOM_SEED)\n",
        "random.seed(MASTER_RANDOM_SEED) # Imposta anche il seed per la libreria 'random' di Python se la usi\n",
        "tf.random.set_seed(MASTER_RANDOM_SEED)\n",
        "os.environ['PYTHONHASHSEED'] = str(MASTER_RANDOM_SEED) # Per operazioni basate su hash (es. ordine dei dizionari)\n",
        "os.environ['TF_DETERMINISTIC_OPS'] = '1' # Forza operazioni deterministiche in TensorFlow 2.x"
      ],
      "metadata": {
        "id": "uXGzTxrOME1z"
      },
      "execution_count": 2,
      "outputs": []
    },
    {
      "cell_type": "markdown",
      "source": [
        "# Print the HW Specs."
      ],
      "metadata": {
        "id": "OBZ65HW9CLdc"
      }
    },
    {
      "cell_type": "code",
      "source": [
        "print(\"--- Dettagli dell'Architettura Hardware della Sessione Colab ---\\n\")\n",
        "\n",
        "# --- 1. Dettagli CPU ---\n",
        "print(\"--- Dettagli CPU ---\")\n",
        "!lscpu\n",
        "print(\"\\n\")\n",
        "\n",
        "# --- 2. Dettagli RAM (Memoria) ---\n",
        "print(\"--- Dettagli RAM (Memoria) ---\")\n",
        "!cat /proc/meminfo | grep MemTotal\n",
        "print(\"\\n\")\n",
        "\n",
        "# --- 3. Dettagli Spazio su Disco ---\n",
        "print(\"--- Dettagli Spazio su Disco ---\")\n",
        "!df -h /\n",
        "print(\"\\n\")\n",
        "\n",
        "# --- 4. Dettagli Acceleratore Hardware (GPU/TPU) ---\n",
        "print(\"--- Dettagli Acceleratore Hardware (GPU/TPU) ---\")\n",
        "try:\n",
        "    tpu_address = os.environ.get('COLAB_TPU_ADDR')\n",
        "    if tpu_address:\n",
        "        resolver = tf.distribute.cluster_resolver.TPUClusterResolver(tpu=tpu_address)\n",
        "        tf.config.experimental_connect_to_cluster(resolver)\n",
        "        tf.tpu.experimental.initialize_tpu_system(resolver)\n",
        "        print(f\"Tipo Acceleratore: TPU (indirizzo: {tpu_address})\")\n",
        "        print(\"Dispositivi TPU disponibili:\")\n",
        "        for device in tf.config.list_logical_devices('TPU'):\n",
        "            print(f\"  - {device.name}\")\n",
        "    else:\n",
        "        gpus = tf.config.list_physical_devices('GPU')\n",
        "        if gpus:\n",
        "            print(f\"Tipo Acceleratore: GPU\")\n",
        "            for gpu in gpus:\n",
        "                print(f\"  - Dispositivo GPU rilevato: {gpu.name}\")\n",
        "            print(\"\\nDettagli GPU specifici (da `!nvidia-smi`):\")\n",
        "            !nvidia-smi\n",
        "        else:\n",
        "            print(\"Tipo Acceleratore: Nessuna GPU o TPU rilevata (in uso CPU)\")\n",
        "\n",
        "except Exception as e:\n",
        "    print(f\"Si è verificato un errore durante la rilevazione dell'acceleratore: {e}\")\n",
        "    print(\"Tentativo di rilevare i dispositivi TensorFlow standard:\")\n",
        "    devices = tf.config.list_logical_devices()\n",
        "    if devices:\n",
        "        for device in devices:\n",
        "            print(f\"  - Dispositivo rilevato: {device.name}, Tipo: {device.device_type}\")\n",
        "    else:\n",
        "        print(\"Nessun dispositivo TensorFlow rilevato.\")\n",
        "\n",
        "print(\"\\n--- Analisi Dettagli Hardware Completata ---\")"
      ],
      "metadata": {
        "id": "BBhq145cCO9I",
        "colab": {
          "base_uri": "https://localhost:8080/"
        },
        "outputId": "1c87f5e5-7645-47e3-cd1a-0c88aa77946d"
      },
      "execution_count": 3,
      "outputs": [
        {
          "output_type": "stream",
          "name": "stdout",
          "text": [
            "--- Dettagli dell'Architettura Hardware della Sessione Colab ---\n",
            "\n",
            "--- Dettagli CPU ---\n",
            "Architecture:             x86_64\n",
            "  CPU op-mode(s):         32-bit, 64-bit\n",
            "  Address sizes:          46 bits physical, 48 bits virtual\n",
            "  Byte Order:             Little Endian\n",
            "CPU(s):                   2\n",
            "  On-line CPU(s) list:    0,1\n",
            "Vendor ID:                GenuineIntel\n",
            "  Model name:             Intel(R) Xeon(R) CPU @ 2.00GHz\n",
            "    CPU family:           6\n",
            "    Model:                85\n",
            "    Thread(s) per core:   2\n",
            "    Core(s) per socket:   1\n",
            "    Socket(s):            1\n",
            "    Stepping:             3\n",
            "    BogoMIPS:             4000.38\n",
            "    Flags:                fpu vme de pse tsc msr pae mce cx8 apic sep mtrr pge m\n",
            "                          ca cmov pat pse36 clflush mmx fxsr sse sse2 ss ht sysc\n",
            "                          all nx pdpe1gb rdtscp lm constant_tsc rep_good nopl xt\n",
            "                          opology nonstop_tsc cpuid tsc_known_freq pni pclmulqdq\n",
            "                           ssse3 fma cx16 pcid sse4_1 sse4_2 x2apic movbe popcnt\n",
            "                           aes xsave avx f16c rdrand hypervisor lahf_lm abm 3dno\n",
            "                          wprefetch invpcid_single ssbd ibrs ibpb stibp fsgsbase\n",
            "                           tsc_adjust bmi1 hle avx2 smep bmi2 erms invpcid rtm m\n",
            "                          px avx512f avx512dq rdseed adx smap clflushopt clwb av\n",
            "                          x512cd avx512bw avx512vl xsaveopt xsavec xgetbv1 xsave\n",
            "                          s arat md_clear arch_capabilities\n",
            "Virtualization features:  \n",
            "  Hypervisor vendor:      KVM\n",
            "  Virtualization type:    full\n",
            "Caches (sum of all):      \n",
            "  L1d:                    32 KiB (1 instance)\n",
            "  L1i:                    32 KiB (1 instance)\n",
            "  L2:                     1 MiB (1 instance)\n",
            "  L3:                     38.5 MiB (1 instance)\n",
            "NUMA:                     \n",
            "  NUMA node(s):           1\n",
            "  NUMA node0 CPU(s):      0,1\n",
            "Vulnerabilities:          \n",
            "  Gather data sampling:   Not affected\n",
            "  Itlb multihit:          Not affected\n",
            "  L1tf:                   Mitigation; PTE Inversion\n",
            "  Mds:                    Vulnerable; SMT Host state unknown\n",
            "  Meltdown:               Vulnerable\n",
            "  Mmio stale data:        Vulnerable\n",
            "  Reg file data sampling: Not affected\n",
            "  Retbleed:               Vulnerable\n",
            "  Spec rstack overflow:   Not affected\n",
            "  Spec store bypass:      Vulnerable\n",
            "  Spectre v1:             Vulnerable: __user pointer sanitization and usercopy b\n",
            "                          arriers only; no swapgs barriers\n",
            "  Spectre v2:             Vulnerable; IBPB: disabled; STIBP: disabled; PBRSB-eIB\n",
            "                          RS: Not affected; BHI: Vulnerable\n",
            "  Srbds:                  Not affected\n",
            "  Tsx async abort:        Vulnerable\n",
            "\n",
            "\n",
            "--- Dettagli RAM (Memoria) ---\n",
            "MemTotal:       13289424 kB\n",
            "\n",
            "\n",
            "--- Dettagli Spazio su Disco ---\n",
            "Filesystem      Size  Used Avail Use% Mounted on\n",
            "overlay         113G   38G   75G  34% /\n",
            "\n",
            "\n",
            "--- Dettagli Acceleratore Hardware (GPU/TPU) ---\n",
            "Tipo Acceleratore: GPU\n",
            "  - Dispositivo GPU rilevato: /physical_device:GPU:0\n",
            "\n",
            "Dettagli GPU specifici (da `!nvidia-smi`):\n",
            "Thu Jul 17 15:29:37 2025       \n",
            "+-----------------------------------------------------------------------------------------+\n",
            "| NVIDIA-SMI 550.54.15              Driver Version: 550.54.15      CUDA Version: 12.4     |\n",
            "|-----------------------------------------+------------------------+----------------------+\n",
            "| GPU  Name                 Persistence-M | Bus-Id          Disp.A | Volatile Uncorr. ECC |\n",
            "| Fan  Temp   Perf          Pwr:Usage/Cap |           Memory-Usage | GPU-Util  Compute M. |\n",
            "|                                         |                        |               MIG M. |\n",
            "|=========================================+========================+======================|\n",
            "|   0  Tesla T4                       Off |   00000000:00:04.0 Off |                    0 |\n",
            "| N/A   42C    P8             10W /   70W |       2MiB /  15360MiB |      0%      Default |\n",
            "|                                         |                        |                  N/A |\n",
            "+-----------------------------------------+------------------------+----------------------+\n",
            "                                                                                         \n",
            "+-----------------------------------------------------------------------------------------+\n",
            "| Processes:                                                                              |\n",
            "|  GPU   GI   CI        PID   Type   Process name                              GPU Memory |\n",
            "|        ID   ID                                                               Usage      |\n",
            "|=========================================================================================|\n",
            "|  No running processes found                                                             |\n",
            "+-----------------------------------------------------------------------------------------+\n",
            "\n",
            "--- Analisi Dettagli Hardware Completata ---\n"
          ]
        }
      ]
    },
    {
      "cell_type": "markdown",
      "source": [
        "# Connect To Gdrive to store the datasets created."
      ],
      "metadata": {
        "id": "X46EKvDxpZ-a"
      }
    },
    {
      "cell_type": "code",
      "source": [
        "from google.colab import drive\n",
        "drive.mount('/content/drive')"
      ],
      "metadata": {
        "colab": {
          "base_uri": "https://localhost:8080/"
        },
        "id": "O7J7tQfWpjXc",
        "outputId": "8d9d1ccd-c9b7-43ff-c537-280a872b15eb"
      },
      "execution_count": 4,
      "outputs": [
        {
          "output_type": "stream",
          "name": "stdout",
          "text": [
            "Mounted at /content/drive\n"
          ]
        }
      ]
    },
    {
      "cell_type": "markdown",
      "source": [
        "# Function for calculating BER"
      ],
      "metadata": {
        "id": "xlX0DwUgcqFH"
      }
    },
    {
      "cell_type": "code",
      "source": [
        "# Funzione per calcolare il BER\n",
        "def calculate_ber(model, snr_test_data_path, max_samples=500000):\n",
        "    ber_values = []\n",
        "    snr_points = list(range(0, 21))\n",
        "\n",
        "    for snr_db in tqdm(snr_points, desc=\"Calculating BER\"):\n",
        "        test_file = os.path.join(snr_test_data_path, f\"test_{snr_db}_SNR.npz\")\n",
        "        if not os.path.exists(test_file):\n",
        "            print(f\"File non trovato: {test_file}. Salto questo SNR.\")\n",
        "            ber_values.append(np.nan)\n",
        "            continue\n",
        "\n",
        "        data = np.load(test_file)\n",
        "        X_batch, y_true_batch = data['X_test'], data['y_test']\n",
        "        symbols_in_batch = X_batch.shape[0]\n",
        "\n",
        "        if symbols_in_batch == 0:\n",
        "            ber_values.append(np.nan)\n",
        "            continue\n",
        "\n",
        "         # --- Estrazione casuale di un sottoinsieme ---\n",
        "        if len(X_batch) > max_samples:\n",
        "            print(\"entrato nell'if di riduzione campioni per ridurre tempi.\")\n",
        "            idx = np.random.choice(len(X_batch), max_samples, replace=False)\n",
        "            X_batch = X_batch[idx]\n",
        "            y_true_batch = y_true_batch[idx]\n",
        "\n",
        "        predictions = model.predict(X_batch, batch_size=10000, verbose=0)\n",
        "        predicted_labels = np.argmax(predictions, axis=1)\n",
        "        errors = np.sum(predicted_labels != y_true_batch)\n",
        "        ber = errors / symbols_in_batch\n",
        "        ber_values.append(ber)\n",
        "        print(f\"SNR: {snr_db} dB, BER: {ber:.6f}\")\n",
        "\n",
        "    return np.array(ber_values), snr_points"
      ],
      "metadata": {
        "id": "EemBT1iBX3b5"
      },
      "execution_count": 5,
      "outputs": []
    },
    {
      "cell_type": "markdown",
      "source": [
        "# Funzione di plotting statica (non più usata)"
      ],
      "metadata": {
        "id": "Y-Jg4WYohnLl"
      }
    },
    {
      "cell_type": "code",
      "source": [
        "# Funzione di plotting\n",
        "\n",
        "def plot_ber(snr_points, ber_curves_dict, channel_type, title_suffix=\"\", filename=\"ber_plot.png\", snr_x_lims=(0, 20)):\n",
        "    \"\"\"\n",
        "    Plotta BER vs SNR per una serie di modelli. Ogni modello ha una curva nel dizionario.\n",
        "\n",
        "    Args:\n",
        "        snr_points (list or np.array): Valori di SNR (in dB).\n",
        "        ber_curves_dict (dict): {nome_modello: lista_ber}\n",
        "        channel_type (str): 'AWGN', 'Rayleigh', ecc.\n",
        "        title_suffix (str): Testo da aggiungere al titolo del grafico.\n",
        "        filename (str): Nome del file immagine da salvare.\n",
        "        snr_x_lims (tuple): Range dell'asse X (min, max).\n",
        "    \"\"\"\n",
        "    plt.figure(figsize=(10, 6))\n",
        "\n",
        "    for label, ber_data_orig in ber_curves_dict.items():\n",
        "        ber_data = np.array(ber_data_orig)\n",
        "\n",
        "        # Adatta la lunghezza dei dati\n",
        "        if len(ber_data) < len(snr_points):\n",
        "            temp_ber_data = np.full(len(snr_points), np.nan)\n",
        "            temp_ber_data[:len(ber_data)] = ber_data\n",
        "            ber_data = temp_ber_data\n",
        "        elif len(ber_data) > len(snr_points):\n",
        "            ber_data = ber_data[:len(snr_points)]\n",
        "\n",
        "        # Applica la logica \"tocca l'asse X\"\n",
        "        ber_to_plot = ber_data.copy()\n",
        "        for i, ber_val in enumerate(ber_data):\n",
        "            if not np.isnan(ber_val) and ber_val <= 1e-15:\n",
        "                ber_to_plot[i] = 1e-5\n",
        "                ber_to_plot[i+1:] = np.nan\n",
        "                break\n",
        "\n",
        "        # Marker diverso in base al range di addestramento\n",
        "        marker = 'x' if \"11-15\" in label else 'o'\n",
        "\n",
        "        # Plot della curva BER\n",
        "        plt.semilogy(snr_points, ber_to_plot, marker=marker, linestyle='-', label=label)\n",
        "\n",
        "    plt.title(f'Bit Error Rate (BER) vs. SNR for {channel_type} Channel {title_suffix}')\n",
        "    plt.xlabel('SNR (dB)')\n",
        "    plt.ylabel('Bit Error Rate (BER)')\n",
        "    plt.grid(True, which=\"both\", linestyle='--', linewidth=0.5)\n",
        "    plt.legend()\n",
        "    plt.ylim(1e-5, 1)\n",
        "\n",
        "    # Limiti e ticks asse X\n",
        "    min_snr, max_snr = snr_x_lims\n",
        "    plt.xticks(np.arange(int(min_snr), int(max_snr) + 1, 2))\n",
        "    plt.xlim(min_snr, max_snr)\n",
        "\n",
        "    plt.savefig(filename)\n",
        "    plt.show()\n",
        "    print(f\"Grafico salvato come {filename}\")"
      ],
      "metadata": {
        "id": "2O7xPHjhhpKB"
      },
      "execution_count": null,
      "outputs": []
    },
    {
      "cell_type": "markdown",
      "source": [
        "# Calculate the BER"
      ],
      "metadata": {
        "id": "3Pj-ruwCcnqD"
      }
    },
    {
      "cell_type": "code",
      "source": [
        "# === Impostazioni di base ===\n",
        "cnn_model_folder = \"/content/drive/MyDrive/GitHub/AWGN/trained_models/benchmarks\"\n",
        "snr_test_data_path = \"/content/drive/MyDrive/GitHub/AWGN/dataset/test\"\n",
        "results_folder = \"/content/drive/MyDrive/GitHub/AWGN/results\"\n",
        "\n",
        "os.makedirs(results_folder, exist_ok=True)  # Crea la cartella dei risultati se non esiste\n",
        "\n",
        "ber_results = {}\n",
        "snr_points = None  # Verrà popolato durante il primo calcolo\n",
        "\n",
        "for model_file in os.listdir(cnn_model_folder):\n",
        "    if model_file.endswith(\".h5\"):\n",
        "        model_name = model_file.replace(\".h5\", \"\")\n",
        "        model_path = os.path.join(cnn_model_folder, model_file)\n",
        "        result_file = os.path.join(results_folder, f\"{model_name}_ber.npy\")\n",
        "\n",
        "        # Se esistono già i risultati, caricali\n",
        "        if os.path.exists(result_file):\n",
        "            print(f\"Risultati già presenti per {model_name}, caricamento da file...\")\n",
        "            ber_values = np.load(result_file)\n",
        "        else:\n",
        "            print(f\"\\nCaricamento modello: {model_name}\")\n",
        "            model = load_model(model_path)\n",
        "            ber_values, snr_points = calculate_ber(model, snr_test_data_path)\n",
        "            np.save(result_file, ber_values)  # Salva risultati\n",
        "            print(f\"BER salvato in: {result_file}\")\n",
        "\n",
        "        ber_results[model_name] = ber_values\n",
        "        print(f\"BER per {model_name}: {ber_values}\")\n",
        "\n",
        "# # === Plot finale ===\n",
        "# plot_ber(\n",
        "#     snr_points,\n",
        "#     ber_results,\n",
        "#     channel_type=\"Rayleigh\",\n",
        "#     title_suffix=\"CNN Evaluation\",\n",
        "#     filename=os.path.join(results_folder, \"ber_cnn_all_models.png\")\n",
        "# )\n"
      ],
      "metadata": {
        "colab": {
          "base_uri": "https://localhost:8080/"
        },
        "id": "W794Th97cnAm",
        "outputId": "1bf19fe5-e82f-4774-da13-c27d2fe01fe2"
      },
      "execution_count": 6,
      "outputs": [
        {
          "output_type": "stream",
          "name": "stdout",
          "text": [
            "\n",
            "Caricamento modello: TDNN_OFDM-DCSK_awgn_snr_0-20\n"
          ]
        },
        {
          "output_type": "stream",
          "name": "stderr",
          "text": [
            "WARNING:absl:Compiled the loaded model, but the compiled metrics have yet to be built. `model.compile_metrics` will be empty until you train or evaluate the model.\n",
            "Calculating BER:   5%|▍         | 1/21 [00:20<06:59, 21.00s/it]"
          ]
        },
        {
          "output_type": "stream",
          "name": "stdout",
          "text": [
            "SNR: 0 dB, BER: 0.001514\n"
          ]
        },
        {
          "output_type": "stream",
          "name": "stderr",
          "text": [
            "\rCalculating BER:  10%|▉         | 2/21 [00:36<05:34, 17.59s/it]"
          ]
        },
        {
          "output_type": "stream",
          "name": "stdout",
          "text": [
            "SNR: 1 dB, BER: 0.000338\n"
          ]
        },
        {
          "output_type": "stream",
          "name": "stderr",
          "text": [
            "\rCalculating BER:  14%|█▍        | 3/21 [00:51<04:57, 16.50s/it]"
          ]
        },
        {
          "output_type": "stream",
          "name": "stdout",
          "text": [
            "SNR: 2 dB, BER: 0.000082\n"
          ]
        },
        {
          "output_type": "stream",
          "name": "stderr",
          "text": [
            "\rCalculating BER:  19%|█▉        | 4/21 [01:06<04:31, 15.97s/it]"
          ]
        },
        {
          "output_type": "stream",
          "name": "stdout",
          "text": [
            "SNR: 3 dB, BER: 0.000024\n"
          ]
        },
        {
          "output_type": "stream",
          "name": "stderr",
          "text": [
            "\rCalculating BER:  24%|██▍       | 5/21 [01:27<04:42, 17.66s/it]"
          ]
        },
        {
          "output_type": "stream",
          "name": "stdout",
          "text": [
            "SNR: 4 dB, BER: 0.000006\n"
          ]
        },
        {
          "output_type": "stream",
          "name": "stderr",
          "text": [
            "\rCalculating BER:  29%|██▊       | 6/21 [01:44<04:24, 17.62s/it]"
          ]
        },
        {
          "output_type": "stream",
          "name": "stdout",
          "text": [
            "SNR: 5 dB, BER: 0.000012\n"
          ]
        },
        {
          "output_type": "stream",
          "name": "stderr",
          "text": [
            "\rCalculating BER:  33%|███▎      | 7/21 [02:04<04:17, 18.36s/it]"
          ]
        },
        {
          "output_type": "stream",
          "name": "stdout",
          "text": [
            "SNR: 6 dB, BER: 0.000004\n"
          ]
        },
        {
          "output_type": "stream",
          "name": "stderr",
          "text": [
            "\rCalculating BER:  38%|███▊      | 8/21 [02:24<04:04, 18.81s/it]"
          ]
        },
        {
          "output_type": "stream",
          "name": "stdout",
          "text": [
            "SNR: 7 dB, BER: 0.000002\n"
          ]
        },
        {
          "output_type": "stream",
          "name": "stderr",
          "text": [
            "\rCalculating BER:  43%|████▎     | 9/21 [02:41<03:37, 18.15s/it]"
          ]
        },
        {
          "output_type": "stream",
          "name": "stdout",
          "text": [
            "SNR: 8 dB, BER: 0.000006\n"
          ]
        },
        {
          "output_type": "stream",
          "name": "stderr",
          "text": [
            "\rCalculating BER:  48%|████▊     | 10/21 [02:53<03:01, 16.49s/it]"
          ]
        },
        {
          "output_type": "stream",
          "name": "stdout",
          "text": [
            "SNR: 9 dB, BER: 0.000006\n"
          ]
        },
        {
          "output_type": "stream",
          "name": "stderr",
          "text": [
            "\rCalculating BER:  52%|█████▏    | 11/21 [03:09<02:40, 16.10s/it]"
          ]
        },
        {
          "output_type": "stream",
          "name": "stdout",
          "text": [
            "SNR: 10 dB, BER: 0.000002\n"
          ]
        },
        {
          "output_type": "stream",
          "name": "stderr",
          "text": [
            "\rCalculating BER:  57%|█████▋    | 12/21 [03:23<02:21, 15.72s/it]"
          ]
        },
        {
          "output_type": "stream",
          "name": "stdout",
          "text": [
            "SNR: 11 dB, BER: 0.000002\n"
          ]
        },
        {
          "output_type": "stream",
          "name": "stderr",
          "text": [
            "\rCalculating BER:  62%|██████▏   | 13/21 [03:39<02:05, 15.66s/it]"
          ]
        },
        {
          "output_type": "stream",
          "name": "stdout",
          "text": [
            "SNR: 12 dB, BER: 0.000000\n"
          ]
        },
        {
          "output_type": "stream",
          "name": "stderr",
          "text": [
            "\rCalculating BER:  67%|██████▋   | 14/21 [03:59<01:58, 16.97s/it]"
          ]
        },
        {
          "output_type": "stream",
          "name": "stdout",
          "text": [
            "SNR: 13 dB, BER: 0.000002\n"
          ]
        },
        {
          "output_type": "stream",
          "name": "stderr",
          "text": [
            "\rCalculating BER:  71%|███████▏  | 15/21 [04:14<01:38, 16.38s/it]"
          ]
        },
        {
          "output_type": "stream",
          "name": "stdout",
          "text": [
            "SNR: 14 dB, BER: 0.000000\n"
          ]
        },
        {
          "output_type": "stream",
          "name": "stderr",
          "text": [
            "\rCalculating BER:  76%|███████▌  | 16/21 [04:30<01:21, 16.29s/it]"
          ]
        },
        {
          "output_type": "stream",
          "name": "stdout",
          "text": [
            "SNR: 15 dB, BER: 0.000000\n"
          ]
        },
        {
          "output_type": "stream",
          "name": "stderr",
          "text": [
            "\rCalculating BER:  81%|████████  | 17/21 [04:45<01:03, 15.95s/it]"
          ]
        },
        {
          "output_type": "stream",
          "name": "stdout",
          "text": [
            "SNR: 16 dB, BER: 0.000000\n"
          ]
        },
        {
          "output_type": "stream",
          "name": "stderr",
          "text": [
            "\rCalculating BER:  86%|████████▌ | 18/21 [05:02<00:48, 16.24s/it]"
          ]
        },
        {
          "output_type": "stream",
          "name": "stdout",
          "text": [
            "SNR: 17 dB, BER: 0.000004\n"
          ]
        },
        {
          "output_type": "stream",
          "name": "stderr",
          "text": [
            "\rCalculating BER:  90%|█████████ | 19/21 [05:18<00:32, 16.16s/it]"
          ]
        },
        {
          "output_type": "stream",
          "name": "stdout",
          "text": [
            "SNR: 18 dB, BER: 0.000000\n"
          ]
        },
        {
          "output_type": "stream",
          "name": "stderr",
          "text": [
            "\rCalculating BER:  95%|█████████▌| 20/21 [05:33<00:15, 15.92s/it]"
          ]
        },
        {
          "output_type": "stream",
          "name": "stdout",
          "text": [
            "SNR: 19 dB, BER: 0.000000\n"
          ]
        },
        {
          "output_type": "stream",
          "name": "stderr",
          "text": [
            "Calculating BER: 100%|██████████| 21/21 [05:49<00:00, 16.63s/it]"
          ]
        },
        {
          "output_type": "stream",
          "name": "stdout",
          "text": [
            "SNR: 20 dB, BER: 0.000004\n",
            "BER salvato in: /content/drive/MyDrive/GitHub/AWGN/results/TDNN_OFDM-DCSK_awgn_snr_0-20_ber.npy\n",
            "BER per TDNN_OFDM-DCSK_awgn_snr_0-20: [1.514e-03 3.380e-04 8.200e-05 2.400e-05 6.000e-06 1.200e-05 4.000e-06\n",
            " 2.000e-06 6.000e-06 6.000e-06 2.000e-06 2.000e-06 0.000e+00 2.000e-06\n",
            " 0.000e+00 0.000e+00 0.000e+00 4.000e-06 0.000e+00 0.000e+00 4.000e-06]\n",
            "\n",
            "Caricamento modello: MC-DLCSK_awgn_snr_0-20\n"
          ]
        },
        {
          "output_type": "stream",
          "name": "stderr",
          "text": [
            "\n",
            "WARNING:absl:Compiled the loaded model, but the compiled metrics have yet to be built. `model.compile_metrics` will be empty until you train or evaluate the model.\n",
            "Calculating BER:   5%|▍         | 1/21 [00:09<03:03,  9.16s/it]"
          ]
        },
        {
          "output_type": "stream",
          "name": "stdout",
          "text": [
            "SNR: 0 dB, BER: 0.002024\n"
          ]
        },
        {
          "output_type": "stream",
          "name": "stderr",
          "text": [
            "\rCalculating BER:  10%|▉         | 2/21 [00:17<02:41,  8.49s/it]"
          ]
        },
        {
          "output_type": "stream",
          "name": "stdout",
          "text": [
            "SNR: 1 dB, BER: 0.000466\n"
          ]
        },
        {
          "output_type": "stream",
          "name": "stderr",
          "text": [
            "\rCalculating BER:  14%|█▍        | 3/21 [00:25<02:28,  8.26s/it]"
          ]
        },
        {
          "output_type": "stream",
          "name": "stdout",
          "text": [
            "SNR: 2 dB, BER: 0.000160\n"
          ]
        },
        {
          "output_type": "stream",
          "name": "stderr",
          "text": [
            "\rCalculating BER:  19%|█▉        | 4/21 [00:33<02:20,  8.26s/it]"
          ]
        },
        {
          "output_type": "stream",
          "name": "stdout",
          "text": [
            "SNR: 3 dB, BER: 0.000078\n"
          ]
        },
        {
          "output_type": "stream",
          "name": "stderr",
          "text": [
            "\rCalculating BER:  24%|██▍       | 5/21 [00:41<02:11,  8.19s/it]"
          ]
        },
        {
          "output_type": "stream",
          "name": "stdout",
          "text": [
            "SNR: 4 dB, BER: 0.000048\n"
          ]
        },
        {
          "output_type": "stream",
          "name": "stderr",
          "text": [
            "\rCalculating BER:  29%|██▊       | 6/21 [00:49<02:02,  8.19s/it]"
          ]
        },
        {
          "output_type": "stream",
          "name": "stdout",
          "text": [
            "SNR: 5 dB, BER: 0.000046\n"
          ]
        },
        {
          "output_type": "stream",
          "name": "stderr",
          "text": [
            "\rCalculating BER:  33%|███▎      | 7/21 [00:57<01:53,  8.13s/it]"
          ]
        },
        {
          "output_type": "stream",
          "name": "stdout",
          "text": [
            "SNR: 6 dB, BER: 0.000032\n"
          ]
        },
        {
          "output_type": "stream",
          "name": "stderr",
          "text": [
            "\rCalculating BER:  38%|███▊      | 8/21 [01:05<01:45,  8.09s/it]"
          ]
        },
        {
          "output_type": "stream",
          "name": "stdout",
          "text": [
            "SNR: 7 dB, BER: 0.000028\n"
          ]
        },
        {
          "output_type": "stream",
          "name": "stderr",
          "text": [
            "\rCalculating BER:  43%|████▎     | 9/21 [01:14<01:38,  8.20s/it]"
          ]
        },
        {
          "output_type": "stream",
          "name": "stdout",
          "text": [
            "SNR: 8 dB, BER: 0.000024\n"
          ]
        },
        {
          "output_type": "stream",
          "name": "stderr",
          "text": [
            "\rCalculating BER:  48%|████▊     | 10/21 [01:22<01:29,  8.17s/it]"
          ]
        },
        {
          "output_type": "stream",
          "name": "stdout",
          "text": [
            "SNR: 9 dB, BER: 0.000016\n"
          ]
        },
        {
          "output_type": "stream",
          "name": "stderr",
          "text": [
            "\rCalculating BER:  52%|█████▏    | 11/21 [01:30<01:21,  8.11s/it]"
          ]
        },
        {
          "output_type": "stream",
          "name": "stdout",
          "text": [
            "SNR: 10 dB, BER: 0.000014\n"
          ]
        },
        {
          "output_type": "stream",
          "name": "stderr",
          "text": [
            "\rCalculating BER:  57%|█████▋    | 12/21 [01:38<01:13,  8.15s/it]"
          ]
        },
        {
          "output_type": "stream",
          "name": "stdout",
          "text": [
            "SNR: 11 dB, BER: 0.000014\n"
          ]
        },
        {
          "output_type": "stream",
          "name": "stderr",
          "text": [
            "\rCalculating BER:  62%|██████▏   | 13/21 [01:51<01:16,  9.53s/it]"
          ]
        },
        {
          "output_type": "stream",
          "name": "stdout",
          "text": [
            "SNR: 12 dB, BER: 0.000014\n"
          ]
        },
        {
          "output_type": "stream",
          "name": "stderr",
          "text": [
            "\rCalculating BER:  67%|██████▋   | 14/21 [01:59<01:03,  9.07s/it]"
          ]
        },
        {
          "output_type": "stream",
          "name": "stdout",
          "text": [
            "SNR: 13 dB, BER: 0.000014\n"
          ]
        },
        {
          "output_type": "stream",
          "name": "stderr",
          "text": [
            "\rCalculating BER:  71%|███████▏  | 15/21 [02:07<00:52,  8.83s/it]"
          ]
        },
        {
          "output_type": "stream",
          "name": "stdout",
          "text": [
            "SNR: 14 dB, BER: 0.000010\n"
          ]
        },
        {
          "output_type": "stream",
          "name": "stderr",
          "text": [
            "\rCalculating BER:  76%|███████▌  | 16/21 [02:15<00:43,  8.60s/it]"
          ]
        },
        {
          "output_type": "stream",
          "name": "stdout",
          "text": [
            "SNR: 15 dB, BER: 0.000004\n"
          ]
        },
        {
          "output_type": "stream",
          "name": "stderr",
          "text": [
            "\rCalculating BER:  81%|████████  | 17/21 [02:23<00:33,  8.43s/it]"
          ]
        },
        {
          "output_type": "stream",
          "name": "stdout",
          "text": [
            "SNR: 16 dB, BER: 0.000002\n"
          ]
        },
        {
          "output_type": "stream",
          "name": "stderr",
          "text": [
            "\rCalculating BER:  86%|████████▌ | 18/21 [02:31<00:25,  8.43s/it]"
          ]
        },
        {
          "output_type": "stream",
          "name": "stdout",
          "text": [
            "SNR: 17 dB, BER: 0.000006\n"
          ]
        },
        {
          "output_type": "stream",
          "name": "stderr",
          "text": [
            "\rCalculating BER:  90%|█████████ | 19/21 [02:40<00:16,  8.31s/it]"
          ]
        },
        {
          "output_type": "stream",
          "name": "stdout",
          "text": [
            "SNR: 18 dB, BER: 0.000010\n"
          ]
        },
        {
          "output_type": "stream",
          "name": "stderr",
          "text": [
            "\rCalculating BER:  95%|█████████▌| 20/21 [02:48<00:08,  8.22s/it]"
          ]
        },
        {
          "output_type": "stream",
          "name": "stdout",
          "text": [
            "SNR: 19 dB, BER: 0.000012\n"
          ]
        },
        {
          "output_type": "stream",
          "name": "stderr",
          "text": [
            "Calculating BER: 100%|██████████| 21/21 [02:56<00:00,  8.39s/it]"
          ]
        },
        {
          "output_type": "stream",
          "name": "stdout",
          "text": [
            "SNR: 20 dB, BER: 0.000012\n",
            "BER salvato in: /content/drive/MyDrive/GitHub/AWGN/results/MC-DLCSK_awgn_snr_0-20_ber.npy\n",
            "BER per MC-DLCSK_awgn_snr_0-20: [2.024e-03 4.660e-04 1.600e-04 7.800e-05 4.800e-05 4.600e-05 3.200e-05\n",
            " 2.800e-05 2.400e-05 1.600e-05 1.400e-05 1.400e-05 1.400e-05 1.400e-05\n",
            " 1.000e-05 4.000e-06 2.000e-06 6.000e-06 1.000e-05 1.200e-05 1.200e-05]\n",
            "\n",
            "Caricamento modello: LSTM_DNN_OFDM_DCSK_awgn_snr_0-20\n"
          ]
        },
        {
          "output_type": "stream",
          "name": "stderr",
          "text": [
            "\n",
            "WARNING:absl:Compiled the loaded model, but the compiled metrics have yet to be built. `model.compile_metrics` will be empty until you train or evaluate the model.\n",
            "Calculating BER:   5%|▍         | 1/21 [00:03<01:12,  3.62s/it]"
          ]
        },
        {
          "output_type": "stream",
          "name": "stdout",
          "text": [
            "SNR: 0 dB, BER: 0.003438\n"
          ]
        },
        {
          "output_type": "stream",
          "name": "stderr",
          "text": [
            "\rCalculating BER:  10%|▉         | 2/21 [00:07<01:09,  3.65s/it]"
          ]
        },
        {
          "output_type": "stream",
          "name": "stdout",
          "text": [
            "SNR: 1 dB, BER: 0.001946\n"
          ]
        },
        {
          "output_type": "stream",
          "name": "stderr",
          "text": [
            "\rCalculating BER:  14%|█▍        | 3/21 [00:11<01:07,  3.75s/it]"
          ]
        },
        {
          "output_type": "stream",
          "name": "stdout",
          "text": [
            "SNR: 2 dB, BER: 0.000990\n"
          ]
        },
        {
          "output_type": "stream",
          "name": "stderr",
          "text": [
            "\rCalculating BER:  19%|█▉        | 4/21 [00:14<01:01,  3.60s/it]"
          ]
        },
        {
          "output_type": "stream",
          "name": "stdout",
          "text": [
            "SNR: 3 dB, BER: 0.000544\n"
          ]
        },
        {
          "output_type": "stream",
          "name": "stderr",
          "text": [
            "\rCalculating BER:  24%|██▍       | 5/21 [00:17<00:56,  3.52s/it]"
          ]
        },
        {
          "output_type": "stream",
          "name": "stdout",
          "text": [
            "SNR: 4 dB, BER: 0.000274\n"
          ]
        },
        {
          "output_type": "stream",
          "name": "stderr",
          "text": [
            "\rCalculating BER:  29%|██▊       | 6/21 [00:22<00:55,  3.72s/it]"
          ]
        },
        {
          "output_type": "stream",
          "name": "stdout",
          "text": [
            "SNR: 5 dB, BER: 0.000160\n"
          ]
        },
        {
          "output_type": "stream",
          "name": "stderr",
          "text": [
            "\rCalculating BER:  33%|███▎      | 7/21 [00:25<00:51,  3.65s/it]"
          ]
        },
        {
          "output_type": "stream",
          "name": "stdout",
          "text": [
            "SNR: 6 dB, BER: 0.000124\n"
          ]
        },
        {
          "output_type": "stream",
          "name": "stderr",
          "text": [
            "\rCalculating BER:  38%|███▊      | 8/21 [00:28<00:46,  3.57s/it]"
          ]
        },
        {
          "output_type": "stream",
          "name": "stdout",
          "text": [
            "SNR: 7 dB, BER: 0.000070\n"
          ]
        },
        {
          "output_type": "stream",
          "name": "stderr",
          "text": [
            "\rCalculating BER:  43%|████▎     | 9/21 [00:32<00:42,  3.52s/it]"
          ]
        },
        {
          "output_type": "stream",
          "name": "stdout",
          "text": [
            "SNR: 8 dB, BER: 0.000068\n"
          ]
        },
        {
          "output_type": "stream",
          "name": "stderr",
          "text": [
            "\rCalculating BER:  48%|████▊     | 10/21 [00:36<00:40,  3.64s/it]"
          ]
        },
        {
          "output_type": "stream",
          "name": "stdout",
          "text": [
            "SNR: 9 dB, BER: 0.000044\n"
          ]
        },
        {
          "output_type": "stream",
          "name": "stderr",
          "text": [
            "\rCalculating BER:  52%|█████▏    | 11/21 [00:39<00:35,  3.55s/it]"
          ]
        },
        {
          "output_type": "stream",
          "name": "stdout",
          "text": [
            "SNR: 10 dB, BER: 0.000032\n"
          ]
        },
        {
          "output_type": "stream",
          "name": "stderr",
          "text": [
            "\rCalculating BER:  57%|█████▋    | 12/21 [00:42<00:31,  3.51s/it]"
          ]
        },
        {
          "output_type": "stream",
          "name": "stdout",
          "text": [
            "SNR: 11 dB, BER: 0.000036\n"
          ]
        },
        {
          "output_type": "stream",
          "name": "stderr",
          "text": [
            "\rCalculating BER:  62%|██████▏   | 13/21 [00:46<00:28,  3.54s/it]"
          ]
        },
        {
          "output_type": "stream",
          "name": "stdout",
          "text": [
            "SNR: 12 dB, BER: 0.000018\n"
          ]
        },
        {
          "output_type": "stream",
          "name": "stderr",
          "text": [
            "\rCalculating BER:  67%|██████▋   | 14/21 [00:50<00:25,  3.62s/it]"
          ]
        },
        {
          "output_type": "stream",
          "name": "stdout",
          "text": [
            "SNR: 13 dB, BER: 0.000020\n"
          ]
        },
        {
          "output_type": "stream",
          "name": "stderr",
          "text": [
            "\rCalculating BER:  71%|███████▏  | 15/21 [00:53<00:21,  3.56s/it]"
          ]
        },
        {
          "output_type": "stream",
          "name": "stdout",
          "text": [
            "SNR: 14 dB, BER: 0.000010\n"
          ]
        },
        {
          "output_type": "stream",
          "name": "stderr",
          "text": [
            "\rCalculating BER:  76%|███████▌  | 16/21 [00:57<00:17,  3.57s/it]"
          ]
        },
        {
          "output_type": "stream",
          "name": "stdout",
          "text": [
            "SNR: 15 dB, BER: 0.000010\n"
          ]
        },
        {
          "output_type": "stream",
          "name": "stderr",
          "text": [
            "\rCalculating BER:  81%|████████  | 17/21 [01:01<00:14,  3.68s/it]"
          ]
        },
        {
          "output_type": "stream",
          "name": "stdout",
          "text": [
            "SNR: 16 dB, BER: 0.000012\n"
          ]
        },
        {
          "output_type": "stream",
          "name": "stderr",
          "text": [
            "\rCalculating BER:  86%|████████▌ | 18/21 [01:04<00:10,  3.63s/it]"
          ]
        },
        {
          "output_type": "stream",
          "name": "stdout",
          "text": [
            "SNR: 17 dB, BER: 0.000006\n"
          ]
        },
        {
          "output_type": "stream",
          "name": "stderr",
          "text": [
            "\rCalculating BER:  90%|█████████ | 19/21 [01:08<00:07,  3.56s/it]"
          ]
        },
        {
          "output_type": "stream",
          "name": "stdout",
          "text": [
            "SNR: 18 dB, BER: 0.000010\n"
          ]
        },
        {
          "output_type": "stream",
          "name": "stderr",
          "text": [
            "\rCalculating BER:  95%|█████████▌| 20/21 [01:11<00:03,  3.50s/it]"
          ]
        },
        {
          "output_type": "stream",
          "name": "stdout",
          "text": [
            "SNR: 19 dB, BER: 0.000010\n"
          ]
        },
        {
          "output_type": "stream",
          "name": "stderr",
          "text": [
            "Calculating BER: 100%|██████████| 21/21 [01:15<00:00,  3.60s/it]"
          ]
        },
        {
          "output_type": "stream",
          "name": "stdout",
          "text": [
            "SNR: 20 dB, BER: 0.000010\n",
            "BER salvato in: /content/drive/MyDrive/GitHub/AWGN/results/LSTM_DNN_OFDM_DCSK_awgn_snr_0-20_ber.npy\n",
            "BER per LSTM_DNN_OFDM_DCSK_awgn_snr_0-20: [3.438e-03 1.946e-03 9.900e-04 5.440e-04 2.740e-04 1.600e-04 1.240e-04\n",
            " 7.000e-05 6.800e-05 4.400e-05 3.200e-05 3.600e-05 1.800e-05 2.000e-05\n",
            " 1.000e-05 1.000e-05 1.200e-05 6.000e-06 1.000e-05 1.000e-05 1.000e-05]\n",
            "\n",
            "Caricamento modello: TDNN_OFDM-DCSK_awgn_snr_11-15\n"
          ]
        },
        {
          "output_type": "stream",
          "name": "stderr",
          "text": [
            "\n",
            "WARNING:absl:Compiled the loaded model, but the compiled metrics have yet to be built. `model.compile_metrics` will be empty until you train or evaluate the model.\n",
            "Calculating BER:   5%|▍         | 1/21 [00:09<03:02,  9.11s/it]"
          ]
        },
        {
          "output_type": "stream",
          "name": "stdout",
          "text": [
            "SNR: 0 dB, BER: 0.080644\n"
          ]
        },
        {
          "output_type": "stream",
          "name": "stderr",
          "text": [
            "\rCalculating BER:  10%|▉         | 2/21 [00:18<02:56,  9.29s/it]"
          ]
        },
        {
          "output_type": "stream",
          "name": "stdout",
          "text": [
            "SNR: 1 dB, BER: 0.060822\n"
          ]
        },
        {
          "output_type": "stream",
          "name": "stderr",
          "text": [
            "\rCalculating BER:  14%|█▍        | 3/21 [00:27<02:43,  9.10s/it]"
          ]
        },
        {
          "output_type": "stream",
          "name": "stdout",
          "text": [
            "SNR: 2 dB, BER: 0.041124\n"
          ]
        },
        {
          "output_type": "stream",
          "name": "stderr",
          "text": [
            "\rCalculating BER:  19%|█▉        | 4/21 [00:36<02:32,  8.95s/it]"
          ]
        },
        {
          "output_type": "stream",
          "name": "stdout",
          "text": [
            "SNR: 3 dB, BER: 0.024022\n"
          ]
        },
        {
          "output_type": "stream",
          "name": "stderr",
          "text": [
            "\rCalculating BER:  24%|██▍       | 5/21 [00:45<02:24,  9.02s/it]"
          ]
        },
        {
          "output_type": "stream",
          "name": "stdout",
          "text": [
            "SNR: 4 dB, BER: 0.011604\n"
          ]
        },
        {
          "output_type": "stream",
          "name": "stderr",
          "text": [
            "\rCalculating BER:  29%|██▊       | 6/21 [00:54<02:14,  8.94s/it]"
          ]
        },
        {
          "output_type": "stream",
          "name": "stdout",
          "text": [
            "SNR: 5 dB, BER: 0.004710\n"
          ]
        },
        {
          "output_type": "stream",
          "name": "stderr",
          "text": [
            "\rCalculating BER:  33%|███▎      | 7/21 [01:06<02:21, 10.14s/it]"
          ]
        },
        {
          "output_type": "stream",
          "name": "stdout",
          "text": [
            "SNR: 6 dB, BER: 0.001472\n"
          ]
        },
        {
          "output_type": "stream",
          "name": "stderr",
          "text": [
            "\rCalculating BER:  38%|███▊      | 8/21 [01:19<02:22, 10.94s/it]"
          ]
        },
        {
          "output_type": "stream",
          "name": "stdout",
          "text": [
            "SNR: 7 dB, BER: 0.000370\n"
          ]
        },
        {
          "output_type": "stream",
          "name": "stderr",
          "text": [
            "\rCalculating BER:  43%|████▎     | 9/21 [01:28<02:03, 10.29s/it]"
          ]
        },
        {
          "output_type": "stream",
          "name": "stdout",
          "text": [
            "SNR: 8 dB, BER: 0.000062\n"
          ]
        },
        {
          "output_type": "stream",
          "name": "stderr",
          "text": [
            "\rCalculating BER:  48%|████▊     | 10/21 [01:37<01:49,  9.92s/it]"
          ]
        },
        {
          "output_type": "stream",
          "name": "stdout",
          "text": [
            "SNR: 9 dB, BER: 0.000010\n"
          ]
        },
        {
          "output_type": "stream",
          "name": "stderr",
          "text": [
            "\rCalculating BER:  52%|█████▏    | 11/21 [01:49<01:47, 10.74s/it]"
          ]
        },
        {
          "output_type": "stream",
          "name": "stdout",
          "text": [
            "SNR: 10 dB, BER: 0.000002\n"
          ]
        },
        {
          "output_type": "stream",
          "name": "stderr",
          "text": [
            "\rCalculating BER:  57%|█████▋    | 12/21 [01:58<01:31, 10.16s/it]"
          ]
        },
        {
          "output_type": "stream",
          "name": "stdout",
          "text": [
            "SNR: 11 dB, BER: 0.000000\n"
          ]
        },
        {
          "output_type": "stream",
          "name": "stderr",
          "text": [
            "\rCalculating BER:  62%|██████▏   | 13/21 [02:07<01:18,  9.76s/it]"
          ]
        },
        {
          "output_type": "stream",
          "name": "stdout",
          "text": [
            "SNR: 12 dB, BER: 0.000000\n"
          ]
        },
        {
          "output_type": "stream",
          "name": "stderr",
          "text": [
            "\rCalculating BER:  67%|██████▋   | 14/21 [02:16<01:06,  9.54s/it]"
          ]
        },
        {
          "output_type": "stream",
          "name": "stdout",
          "text": [
            "SNR: 13 dB, BER: 0.000000\n"
          ]
        },
        {
          "output_type": "stream",
          "name": "stderr",
          "text": [
            "\rCalculating BER:  71%|███████▏  | 15/21 [02:25<00:56,  9.33s/it]"
          ]
        },
        {
          "output_type": "stream",
          "name": "stdout",
          "text": [
            "SNR: 14 dB, BER: 0.000000\n"
          ]
        },
        {
          "output_type": "stream",
          "name": "stderr",
          "text": [
            "\rCalculating BER:  76%|███████▌  | 16/21 [02:34<00:45,  9.18s/it]"
          ]
        },
        {
          "output_type": "stream",
          "name": "stdout",
          "text": [
            "SNR: 15 dB, BER: 0.000002\n"
          ]
        },
        {
          "output_type": "stream",
          "name": "stderr",
          "text": [
            "\rCalculating BER:  81%|████████  | 17/21 [02:43<00:36,  9.10s/it]"
          ]
        },
        {
          "output_type": "stream",
          "name": "stdout",
          "text": [
            "SNR: 16 dB, BER: 0.000000\n"
          ]
        },
        {
          "output_type": "stream",
          "name": "stderr",
          "text": [
            "\rCalculating BER:  86%|████████▌ | 18/21 [02:52<00:27,  9.07s/it]"
          ]
        },
        {
          "output_type": "stream",
          "name": "stdout",
          "text": [
            "SNR: 17 dB, BER: 0.000000\n"
          ]
        },
        {
          "output_type": "stream",
          "name": "stderr",
          "text": [
            "\rCalculating BER:  90%|█████████ | 19/21 [03:01<00:18,  9.01s/it]"
          ]
        },
        {
          "output_type": "stream",
          "name": "stdout",
          "text": [
            "SNR: 18 dB, BER: 0.000002\n"
          ]
        },
        {
          "output_type": "stream",
          "name": "stderr",
          "text": [
            "\rCalculating BER:  95%|█████████▌| 20/21 [03:09<00:08,  8.97s/it]"
          ]
        },
        {
          "output_type": "stream",
          "name": "stdout",
          "text": [
            "SNR: 19 dB, BER: 0.000000\n"
          ]
        },
        {
          "output_type": "stream",
          "name": "stderr",
          "text": [
            "Calculating BER: 100%|██████████| 21/21 [03:19<00:00,  9.48s/it]"
          ]
        },
        {
          "output_type": "stream",
          "name": "stdout",
          "text": [
            "SNR: 20 dB, BER: 0.000000\n",
            "BER salvato in: /content/drive/MyDrive/GitHub/AWGN/results/TDNN_OFDM-DCSK_awgn_snr_11-15_ber.npy\n",
            "BER per TDNN_OFDM-DCSK_awgn_snr_11-15: [8.0644e-02 6.0822e-02 4.1124e-02 2.4022e-02 1.1604e-02 4.7100e-03\n",
            " 1.4720e-03 3.7000e-04 6.2000e-05 1.0000e-05 2.0000e-06 0.0000e+00\n",
            " 0.0000e+00 0.0000e+00 0.0000e+00 2.0000e-06 0.0000e+00 0.0000e+00\n",
            " 2.0000e-06 0.0000e+00 0.0000e+00]\n",
            "\n",
            "Caricamento modello: MC-DLCSK_awgn_snr_11-15\n"
          ]
        },
        {
          "output_type": "stream",
          "name": "stderr",
          "text": [
            "\n",
            "WARNING:absl:Compiled the loaded model, but the compiled metrics have yet to be built. `model.compile_metrics` will be empty until you train or evaluate the model.\n",
            "Calculating BER:   5%|▍         | 1/21 [00:08<02:44,  8.23s/it]"
          ]
        },
        {
          "output_type": "stream",
          "name": "stdout",
          "text": [
            "SNR: 0 dB, BER: 0.499020\n"
          ]
        },
        {
          "output_type": "stream",
          "name": "stderr",
          "text": [
            "\rCalculating BER:  10%|▉         | 2/21 [00:16<02:33,  8.10s/it]"
          ]
        },
        {
          "output_type": "stream",
          "name": "stdout",
          "text": [
            "SNR: 1 dB, BER: 0.500668\n"
          ]
        },
        {
          "output_type": "stream",
          "name": "stderr",
          "text": [
            "\rCalculating BER:  14%|█▍        | 3/21 [00:24<02:27,  8.18s/it]"
          ]
        },
        {
          "output_type": "stream",
          "name": "stdout",
          "text": [
            "SNR: 2 dB, BER: 0.500142\n"
          ]
        },
        {
          "output_type": "stream",
          "name": "stderr",
          "text": [
            "\rCalculating BER:  19%|█▉        | 4/21 [00:37<02:49,  9.95s/it]"
          ]
        },
        {
          "output_type": "stream",
          "name": "stdout",
          "text": [
            "SNR: 3 dB, BER: 0.499962\n"
          ]
        },
        {
          "output_type": "stream",
          "name": "stderr",
          "text": [
            "\rCalculating BER:  24%|██▍       | 5/21 [00:49<02:54, 10.92s/it]"
          ]
        },
        {
          "output_type": "stream",
          "name": "stdout",
          "text": [
            "SNR: 4 dB, BER: 0.500936\n"
          ]
        },
        {
          "output_type": "stream",
          "name": "stderr",
          "text": [
            "\rCalculating BER:  29%|██▊       | 6/21 [00:57<02:29,  9.95s/it]"
          ]
        },
        {
          "output_type": "stream",
          "name": "stdout",
          "text": [
            "SNR: 5 dB, BER: 0.499790\n"
          ]
        },
        {
          "output_type": "stream",
          "name": "stderr",
          "text": [
            "\rCalculating BER:  33%|███▎      | 7/21 [01:06<02:11,  9.38s/it]"
          ]
        },
        {
          "output_type": "stream",
          "name": "stdout",
          "text": [
            "SNR: 6 dB, BER: 0.499520\n"
          ]
        },
        {
          "output_type": "stream",
          "name": "stderr",
          "text": [
            "\rCalculating BER:  38%|███▊      | 8/21 [01:14<01:56,  8.98s/it]"
          ]
        },
        {
          "output_type": "stream",
          "name": "stdout",
          "text": [
            "SNR: 7 dB, BER: 0.499362\n"
          ]
        },
        {
          "output_type": "stream",
          "name": "stderr",
          "text": [
            "\rCalculating BER:  43%|████▎     | 9/21 [01:22<01:44,  8.67s/it]"
          ]
        },
        {
          "output_type": "stream",
          "name": "stdout",
          "text": [
            "SNR: 8 dB, BER: 0.500344\n"
          ]
        },
        {
          "output_type": "stream",
          "name": "stderr",
          "text": [
            "\rCalculating BER:  48%|████▊     | 10/21 [01:35<01:50, 10.01s/it]"
          ]
        },
        {
          "output_type": "stream",
          "name": "stdout",
          "text": [
            "SNR: 9 dB, BER: 0.500788\n"
          ]
        },
        {
          "output_type": "stream",
          "name": "stderr",
          "text": [
            "\rCalculating BER:  52%|█████▏    | 11/21 [01:43<01:35,  9.54s/it]"
          ]
        },
        {
          "output_type": "stream",
          "name": "stdout",
          "text": [
            "SNR: 10 dB, BER: 0.500116\n"
          ]
        },
        {
          "output_type": "stream",
          "name": "stderr",
          "text": [
            "\rCalculating BER:  57%|█████▋    | 12/21 [01:56<01:34, 10.49s/it]"
          ]
        },
        {
          "output_type": "stream",
          "name": "stdout",
          "text": [
            "SNR: 11 dB, BER: 0.501420\n"
          ]
        },
        {
          "output_type": "stream",
          "name": "stderr",
          "text": [
            "\rCalculating BER:  62%|██████▏   | 13/21 [02:04<01:18,  9.78s/it]"
          ]
        },
        {
          "output_type": "stream",
          "name": "stdout",
          "text": [
            "SNR: 12 dB, BER: 0.499442\n"
          ]
        },
        {
          "output_type": "stream",
          "name": "stderr",
          "text": [
            "\rCalculating BER:  67%|██████▋   | 14/21 [02:12<01:04,  9.27s/it]"
          ]
        },
        {
          "output_type": "stream",
          "name": "stdout",
          "text": [
            "SNR: 13 dB, BER: 0.499828\n"
          ]
        },
        {
          "output_type": "stream",
          "name": "stderr",
          "text": [
            "\rCalculating BER:  71%|███████▏  | 15/21 [02:20<00:53,  8.95s/it]"
          ]
        },
        {
          "output_type": "stream",
          "name": "stdout",
          "text": [
            "SNR: 14 dB, BER: 0.499044\n"
          ]
        },
        {
          "output_type": "stream",
          "name": "stderr",
          "text": [
            "\rCalculating BER:  76%|███████▌  | 16/21 [02:28<00:43,  8.71s/it]"
          ]
        },
        {
          "output_type": "stream",
          "name": "stdout",
          "text": [
            "SNR: 15 dB, BER: 0.499462\n"
          ]
        },
        {
          "output_type": "stream",
          "name": "stderr",
          "text": [
            "\rCalculating BER:  81%|████████  | 17/21 [02:37<00:34,  8.63s/it]"
          ]
        },
        {
          "output_type": "stream",
          "name": "stdout",
          "text": [
            "SNR: 16 dB, BER: 0.500948\n"
          ]
        },
        {
          "output_type": "stream",
          "name": "stderr",
          "text": [
            "\rCalculating BER:  86%|████████▌ | 18/21 [02:45<00:25,  8.47s/it]"
          ]
        },
        {
          "output_type": "stream",
          "name": "stdout",
          "text": [
            "SNR: 17 dB, BER: 0.499244\n"
          ]
        },
        {
          "output_type": "stream",
          "name": "stderr",
          "text": [
            "\rCalculating BER:  90%|█████████ | 19/21 [02:53<00:16,  8.31s/it]"
          ]
        },
        {
          "output_type": "stream",
          "name": "stdout",
          "text": [
            "SNR: 18 dB, BER: 0.500776\n"
          ]
        },
        {
          "output_type": "stream",
          "name": "stderr",
          "text": [
            "\rCalculating BER:  95%|█████████▌| 20/21 [03:01<00:08,  8.32s/it]"
          ]
        },
        {
          "output_type": "stream",
          "name": "stdout",
          "text": [
            "SNR: 19 dB, BER: 0.499394\n"
          ]
        },
        {
          "output_type": "stream",
          "name": "stderr",
          "text": [
            "Calculating BER: 100%|██████████| 21/21 [03:09<00:00,  9.04s/it]"
          ]
        },
        {
          "output_type": "stream",
          "name": "stdout",
          "text": [
            "SNR: 20 dB, BER: 0.499680\n",
            "BER salvato in: /content/drive/MyDrive/GitHub/AWGN/results/MC-DLCSK_awgn_snr_11-15_ber.npy\n",
            "BER per MC-DLCSK_awgn_snr_11-15: [0.49902  0.500668 0.500142 0.499962 0.500936 0.49979  0.49952  0.499362\n",
            " 0.500344 0.500788 0.500116 0.50142  0.499442 0.499828 0.499044 0.499462\n",
            " 0.500948 0.499244 0.500776 0.499394 0.49968 ]\n",
            "\n",
            "Caricamento modello: LSTM_DNN_OFDM_DCSK_awgn_snr_11-15\n"
          ]
        },
        {
          "output_type": "stream",
          "name": "stderr",
          "text": [
            "\n",
            "WARNING:absl:Compiled the loaded model, but the compiled metrics have yet to be built. `model.compile_metrics` will be empty until you train or evaluate the model.\n",
            "Calculating BER:   5%|▍         | 1/21 [00:03<01:12,  3.64s/it]"
          ]
        },
        {
          "output_type": "stream",
          "name": "stdout",
          "text": [
            "SNR: 0 dB, BER: 0.012646\n"
          ]
        },
        {
          "output_type": "stream",
          "name": "stderr",
          "text": [
            "\rCalculating BER:  10%|▉         | 2/21 [00:07<01:06,  3.52s/it]"
          ]
        },
        {
          "output_type": "stream",
          "name": "stdout",
          "text": [
            "SNR: 1 dB, BER: 0.006560\n"
          ]
        },
        {
          "output_type": "stream",
          "name": "stderr",
          "text": [
            "\rCalculating BER:  14%|█▍        | 3/21 [00:10<01:04,  3.60s/it]"
          ]
        },
        {
          "output_type": "stream",
          "name": "stdout",
          "text": [
            "SNR: 2 dB, BER: 0.003076\n"
          ]
        },
        {
          "output_type": "stream",
          "name": "stderr",
          "text": [
            "\rCalculating BER:  19%|█▉        | 4/21 [00:14<01:02,  3.70s/it]"
          ]
        },
        {
          "output_type": "stream",
          "name": "stdout",
          "text": [
            "SNR: 3 dB, BER: 0.001266\n"
          ]
        },
        {
          "output_type": "stream",
          "name": "stderr",
          "text": [
            "\rCalculating BER:  24%|██▍       | 5/21 [00:17<00:57,  3.58s/it]"
          ]
        },
        {
          "output_type": "stream",
          "name": "stdout",
          "text": [
            "SNR: 4 dB, BER: 0.000418\n"
          ]
        },
        {
          "output_type": "stream",
          "name": "stderr",
          "text": [
            "\rCalculating BER:  29%|██▊       | 6/21 [00:21<00:53,  3.54s/it]"
          ]
        },
        {
          "output_type": "stream",
          "name": "stdout",
          "text": [
            "SNR: 5 dB, BER: 0.000152\n"
          ]
        },
        {
          "output_type": "stream",
          "name": "stderr",
          "text": [
            "\rCalculating BER:  33%|███▎      | 7/21 [00:25<00:51,  3.67s/it]"
          ]
        },
        {
          "output_type": "stream",
          "name": "stdout",
          "text": [
            "SNR: 6 dB, BER: 0.000036\n"
          ]
        },
        {
          "output_type": "stream",
          "name": "stderr",
          "text": [
            "\rCalculating BER:  38%|███▊      | 8/21 [00:28<00:47,  3.64s/it]"
          ]
        },
        {
          "output_type": "stream",
          "name": "stdout",
          "text": [
            "SNR: 7 dB, BER: 0.000018\n"
          ]
        },
        {
          "output_type": "stream",
          "name": "stderr",
          "text": [
            "\rCalculating BER:  43%|████▎     | 9/21 [00:32<00:43,  3.59s/it]"
          ]
        },
        {
          "output_type": "stream",
          "name": "stdout",
          "text": [
            "SNR: 8 dB, BER: 0.000022\n"
          ]
        },
        {
          "output_type": "stream",
          "name": "stderr",
          "text": [
            "\rCalculating BER:  48%|████▊     | 10/21 [00:35<00:38,  3.54s/it]"
          ]
        },
        {
          "output_type": "stream",
          "name": "stdout",
          "text": [
            "SNR: 9 dB, BER: 0.000008\n"
          ]
        },
        {
          "output_type": "stream",
          "name": "stderr",
          "text": [
            "\rCalculating BER:  52%|█████▏    | 11/21 [00:39<00:36,  3.64s/it]"
          ]
        },
        {
          "output_type": "stream",
          "name": "stdout",
          "text": [
            "SNR: 10 dB, BER: 0.000010\n"
          ]
        },
        {
          "output_type": "stream",
          "name": "stderr",
          "text": [
            "\rCalculating BER:  57%|█████▋    | 12/21 [00:43<00:32,  3.58s/it]"
          ]
        },
        {
          "output_type": "stream",
          "name": "stdout",
          "text": [
            "SNR: 11 dB, BER: 0.000006\n"
          ]
        },
        {
          "output_type": "stream",
          "name": "stderr",
          "text": [
            "\rCalculating BER:  62%|██████▏   | 13/21 [00:46<00:28,  3.54s/it]"
          ]
        },
        {
          "output_type": "stream",
          "name": "stdout",
          "text": [
            "SNR: 12 dB, BER: 0.000004\n"
          ]
        },
        {
          "output_type": "stream",
          "name": "stderr",
          "text": [
            "\rCalculating BER:  67%|██████▋   | 14/21 [00:50<00:25,  3.57s/it]"
          ]
        },
        {
          "output_type": "stream",
          "name": "stdout",
          "text": [
            "SNR: 13 dB, BER: 0.000000\n"
          ]
        },
        {
          "output_type": "stream",
          "name": "stderr",
          "text": [
            "\rCalculating BER:  71%|███████▏  | 15/21 [00:54<00:22,  3.70s/it]"
          ]
        },
        {
          "output_type": "stream",
          "name": "stdout",
          "text": [
            "SNR: 14 dB, BER: 0.000006\n"
          ]
        },
        {
          "output_type": "stream",
          "name": "stderr",
          "text": [
            "\rCalculating BER:  76%|███████▌  | 16/21 [00:57<00:18,  3.63s/it]"
          ]
        },
        {
          "output_type": "stream",
          "name": "stdout",
          "text": [
            "SNR: 15 dB, BER: 0.000004\n"
          ]
        },
        {
          "output_type": "stream",
          "name": "stderr",
          "text": [
            "\rCalculating BER:  81%|████████  | 17/21 [01:01<00:14,  3.59s/it]"
          ]
        },
        {
          "output_type": "stream",
          "name": "stdout",
          "text": [
            "SNR: 16 dB, BER: 0.000002\n"
          ]
        },
        {
          "output_type": "stream",
          "name": "stderr",
          "text": [
            "\rCalculating BER:  86%|████████▌ | 18/21 [01:05<00:10,  3.66s/it]"
          ]
        },
        {
          "output_type": "stream",
          "name": "stdout",
          "text": [
            "SNR: 17 dB, BER: 0.000004\n"
          ]
        },
        {
          "output_type": "stream",
          "name": "stderr",
          "text": [
            "\rCalculating BER:  90%|█████████ | 19/21 [01:08<00:07,  3.63s/it]"
          ]
        },
        {
          "output_type": "stream",
          "name": "stdout",
          "text": [
            "SNR: 18 dB, BER: 0.000002\n"
          ]
        },
        {
          "output_type": "stream",
          "name": "stderr",
          "text": [
            "\rCalculating BER:  95%|█████████▌| 20/21 [01:12<00:03,  3.57s/it]"
          ]
        },
        {
          "output_type": "stream",
          "name": "stdout",
          "text": [
            "SNR: 19 dB, BER: 0.000002\n"
          ]
        },
        {
          "output_type": "stream",
          "name": "stderr",
          "text": [
            "Calculating BER: 100%|██████████| 21/21 [01:15<00:00,  3.59s/it]"
          ]
        },
        {
          "output_type": "stream",
          "name": "stdout",
          "text": [
            "SNR: 20 dB, BER: 0.000002\n",
            "BER salvato in: /content/drive/MyDrive/GitHub/AWGN/results/LSTM_DNN_OFDM_DCSK_awgn_snr_11-15_ber.npy\n",
            "BER per LSTM_DNN_OFDM_DCSK_awgn_snr_11-15: [1.2646e-02 6.5600e-03 3.0760e-03 1.2660e-03 4.1800e-04 1.5200e-04\n",
            " 3.6000e-05 1.8000e-05 2.2000e-05 8.0000e-06 1.0000e-05 6.0000e-06\n",
            " 4.0000e-06 0.0000e+00 6.0000e-06 4.0000e-06 2.0000e-06 4.0000e-06\n",
            " 2.0000e-06 2.0000e-06 2.0000e-06]\n"
          ]
        },
        {
          "output_type": "stream",
          "name": "stderr",
          "text": [
            "\n"
          ]
        }
      ]
    },
    {
      "cell_type": "markdown",
      "source": [
        "# Print the benchmarks."
      ],
      "metadata": {
        "id": "BGvFbz7jrN0C"
      }
    },
    {
      "cell_type": "code",
      "source": [
        "import os\n",
        "import numpy as np\n",
        "import plotly.graph_objs as go\n",
        "\n",
        "results_dir = \"/content/drive/MyDrive/GitHub/AWGN/results\"\n",
        "ber_files = [f for f in os.listdir(results_dir) if f.endswith(\"_ber.npy\")]\n",
        "\n",
        "\n",
        "# Da qui in poi seleziona solo i migliori.\n",
        "# Dunque la mia CNN_9 e 128\n",
        "filtered_files = [\n",
        "    f for f in ber_files\n",
        "    if not f.startswith(\"CNN_\") or \"CNN_9-ksize_128-filters\" in f\n",
        "]\n",
        "\n",
        "# Esempio: SNR reali usati (modifica se necessario)\n",
        "#snr_points = np.array([0, 1, 2, 3, 4, 5, 6, 7, 8, 9, 10, 11, 12, 13, 14, 15, 16, 17, 18, 19, 20])\n",
        "\n",
        "ber_data = {}\n",
        "for f in ber_files:\n",
        "    model_name = f.replace(\"_ber.npy\", \"\")\n",
        "    path = os.path.join(results_dir, f)\n",
        "    ber = np.load(path)\n",
        "    valid_ber = ber[~np.isnan(ber)]\n",
        "    if len(valid_ber) > 0:\n",
        "        ber_data[model_name] = {\n",
        "            \"ber\": ber,\n",
        "            \"mean\": np.mean(valid_ber)\n",
        "        }\n",
        "\n",
        "# Trova miglior modello globale\n",
        "best_model = min(ber_data.items(), key=lambda x: x[1][\"mean\"])\n",
        "best_model_name = best_model[0]\n",
        "\n",
        "# Crea grafico interattivo\n",
        "fig = go.Figure()\n",
        "\n",
        "for model_name, info in ber_data.items():\n",
        "    visibility = True if model_name == best_model_name else 'legendonly'\n",
        "    fig.add_trace(go.Scatter(\n",
        "        x=snr_points,\n",
        "        y=info[\"ber\"],\n",
        "        mode='lines+markers',\n",
        "        name=model_name,\n",
        "        visible=visibility,\n",
        "        line=dict(width=3 if model_name == best_model_name else 1.5)\n",
        "    ))\n",
        "\n",
        "fig.update_layout(\n",
        "    title=\"📉 Curve BER Interattive per Modelli CNN\",\n",
        "    xaxis_title=\"SNR (dB)\",\n",
        "    yaxis_title=\"Bit Error Rate (BER)\",\n",
        "    yaxis_type=\"log\",\n",
        "    hovermode=\"x unified\",\n",
        "    legend_title=\"Modelli\",\n",
        "    template=\"plotly_white\"\n",
        ")\n",
        "\n",
        "fig.show()\n"
      ],
      "metadata": {
        "colab": {
          "base_uri": "https://localhost:8080/",
          "height": 542
        },
        "id": "E8ehdJf2sIq1",
        "outputId": "760d7b79-7336-456f-c671-7de8478d0c99"
      },
      "execution_count": 9,
      "outputs": [
        {
          "output_type": "display_data",
          "data": {
            "text/html": [
              "<html>\n",
              "<head><meta charset=\"utf-8\" /></head>\n",
              "<body>\n",
              "    <div>            <script src=\"https://cdnjs.cloudflare.com/ajax/libs/mathjax/2.7.5/MathJax.js?config=TeX-AMS-MML_SVG\"></script><script type=\"text/javascript\">if (window.MathJax && window.MathJax.Hub && window.MathJax.Hub.Config) {window.MathJax.Hub.Config({SVG: {font: \"STIX-Web\"}});}</script>                <script type=\"text/javascript\">window.PlotlyConfig = {MathJaxConfig: 'local'};</script>\n",
              "        <script charset=\"utf-8\" src=\"https://cdn.plot.ly/plotly-2.35.2.min.js\"></script>                <div id=\"514e99c6-996a-4974-8881-76d60abe12ec\" class=\"plotly-graph-div\" style=\"height:525px; width:100%;\"></div>            <script type=\"text/javascript\">                                    window.PLOTLYENV=window.PLOTLYENV || {};                                    if (document.getElementById(\"514e99c6-996a-4974-8881-76d60abe12ec\")) {                    Plotly.newPlot(                        \"514e99c6-996a-4974-8881-76d60abe12ec\",                        [{\"line\":{\"width\":1.5},\"mode\":\"lines+markers\",\"name\":\"CNN_3-ksize_128-filters_awgn_snr_0-20\",\"visible\":\"legendonly\",\"x\":[0,1,2,3,4,5,6,7,8,9,10,11,12,13,14,15,16,17,18,19,20],\"y\":[0.006136,0.002864,0.00115,0.000478,0.000184,0.000092,0.000024,0.00001,8e-6,2e-6,2e-6,2e-6,2e-6,2e-6,0.0,2e-6,0.0,0.0,0.0,2e-6,0.0],\"type\":\"scatter\"},{\"line\":{\"width\":1.5},\"mode\":\"lines+markers\",\"name\":\"CNN_5-ksize_128-filters_awgn_snr_0-20\",\"visible\":\"legendonly\",\"x\":[0,1,2,3,4,5,6,7,8,9,10,11,12,13,14,15,16,17,18,19,20],\"y\":[0.003034,0.001232,0.000438,0.000164,0.000062,0.000028,0.000018,0.0,0.0,0.0,2e-6,4e-6,0.0,2e-6,2e-6,0.0,0.0,0.0,0.0,2e-6,0.0],\"type\":\"scatter\"},{\"line\":{\"width\":1.5},\"mode\":\"lines+markers\",\"name\":\"CNN_7-ksize_128-filters_awgn_snr_0-20\",\"visible\":\"legendonly\",\"x\":[0,1,2,3,4,5,6,7,8,9,10,11,12,13,14,15,16,17,18,19,20],\"y\":[0.002586,0.000966,0.00041,0.000142,0.000064,0.00005,0.00002,4e-6,2e-6,2e-6,0.0,0.0,0.0,2e-6,2e-6,0.0,0.0,0.0,0.0,0.0,0.0],\"type\":\"scatter\"},{\"line\":{\"width\":1.5},\"mode\":\"lines+markers\",\"name\":\"CNN_9-ksize_128-filters_awgn_snr_0-20\",\"visible\":\"legendonly\",\"x\":[0,1,2,3,4,5,6,7,8,9,10,11,12,13,14,15,16,17,18,19,20],\"y\":[0.002502,0.00113,0.000454,0.000164,0.000064,0.000034,0.00002,4e-6,4e-6,0.0,2e-6,0.0,0.0,2e-6,2e-6,0.0,2e-6,0.0,0.0,2e-6,0.0],\"type\":\"scatter\"},{\"line\":{\"width\":1.5},\"mode\":\"lines+markers\",\"name\":\"CNN_3-ksize_256-filters_awgn_snr_0-20\",\"visible\":\"legendonly\",\"x\":[0,1,2,3,4,5,6,7,8,9,10,11,12,13,14,15,16,17,18,19,20],\"y\":[0.006898,0.003426,0.001574,0.00072,0.000324,0.000168,0.000062,0.000022,0.000012,8e-6,2e-6,4e-6,2e-6,2e-6,0.0,2e-6,0.0,0.0,0.0,0.0,0.0],\"type\":\"scatter\"},{\"line\":{\"width\":1.5},\"mode\":\"lines+markers\",\"name\":\"CNN_5-ksize_256-filters_awgn_snr_0-20\",\"visible\":\"legendonly\",\"x\":[0,1,2,3,4,5,6,7,8,9,10,11,12,13,14,15,16,17,18,19,20],\"y\":[0.004166,0.001318,0.000346,0.000102,0.000032,0.000014,6e-6,0.0,0.0,0.0,2e-6,0.0,0.0,0.0,0.0,0.0,0.0,0.0,0.0,0.0,0.0],\"type\":\"scatter\"},{\"line\":{\"width\":1.5},\"mode\":\"lines+markers\",\"name\":\"CNN_7-ksize_256-filters_awgn_snr_0-20\",\"visible\":\"legendonly\",\"x\":[0,1,2,3,4,5,6,7,8,9,10,11,12,13,14,15,16,17,18,19,20],\"y\":[0.002856,0.001018,0.0003,0.000094,0.000014,0.000014,0.000012,0.0,0.0,0.0,0.0,0.0,0.0,0.0,0.0,0.0,0.0,0.0,0.0,2e-6,0.0],\"type\":\"scatter\"},{\"line\":{\"width\":1.5},\"mode\":\"lines+markers\",\"name\":\"CNN_9-ksize_256-filters_awgn_snr_0-20\",\"visible\":\"legendonly\",\"x\":[0,1,2,3,4,5,6,7,8,9,10,11,12,13,14,15,16,17,18,19,20],\"y\":[0.001758,0.00081,0.000316,0.000134,0.000066,0.000048,0.000022,6e-6,6e-6,2e-6,4e-6,2e-6,2e-6,2e-6,2e-6,2e-6,0.0,0.0,0.0,2e-6,2e-6],\"type\":\"scatter\"},{\"line\":{\"width\":1.5},\"mode\":\"lines+markers\",\"name\":\"CNN_3-ksize_512-filters_awgn_snr_0-20\",\"visible\":\"legendonly\",\"x\":[0,1,2,3,4,5,6,7,8,9,10,11,12,13,14,15,16,17,18,19,20],\"y\":[0.0067,0.003346,0.001592,0.00074,0.000316,0.000172,0.000068,0.000014,0.000016,0.000012,2e-6,2e-6,0.0,4e-6,0.0,2e-6,0.0,0.0,0.0,2e-6,0.0],\"type\":\"scatter\"},{\"line\":{\"width\":1.5},\"mode\":\"lines+markers\",\"name\":\"CNN_5-ksize_512-filters_awgn_snr_0-20\",\"visible\":\"legendonly\",\"x\":[0,1,2,3,4,5,6,7,8,9,10,11,12,13,14,15,16,17,18,19,20],\"y\":[0.002736,0.001068,0.000512,0.000288,0.000164,0.00011,0.000066,0.000026,0.000028,0.000016,0.000014,0.000014,6e-6,0.000012,8e-6,2e-6,4e-6,8e-6,6e-6,6e-6,6e-6],\"type\":\"scatter\"},{\"line\":{\"width\":1.5},\"mode\":\"lines+markers\",\"name\":\"CNN_7-ksize_512-filters_awgn_snr_0-20\",\"visible\":\"legendonly\",\"x\":[0,1,2,3,4,5,6,7,8,9,10,11,12,13,14,15,16,17,18,19,20],\"y\":[0.002572,0.00093,0.000268,0.000098,0.00003,0.000034,0.000012,4e-6,0.0,2e-6,2e-6,2e-6,0.0,2e-6,0.0,0.0,0.0,0.0,0.0,2e-6,0.0],\"type\":\"scatter\"},{\"line\":{\"width\":1.5},\"mode\":\"lines+markers\",\"name\":\"CNN_9-ksize_512-filters_awgn_snr_0-20\",\"visible\":\"legendonly\",\"x\":[0,1,2,3,4,5,6,7,8,9,10,11,12,13,14,15,16,17,18,19,20],\"y\":[0.002462,0.001034,0.000346,0.000102,0.000032,0.000012,4e-6,0.0,0.0,0.0,0.0,0.0,0.0,2e-6,0.0,0.0,0.0,0.0,0.0,2e-6,0.0],\"type\":\"scatter\"},{\"line\":{\"width\":1.5},\"mode\":\"lines+markers\",\"name\":\"CNN_3-ksize_1024-filters_awgn_snr_0-20\",\"visible\":\"legendonly\",\"x\":[0,1,2,3,4,5,6,7,8,9,10,11,12,13,14,15,16,17,18,19,20],\"y\":[0.006784,0.003322,0.001524,0.000702,0.000356,0.00019,0.000102,0.000034,0.000024,0.000022,4e-6,0.000014,6e-6,0.00001,2e-6,2e-6,4e-6,4e-6,2e-6,4e-6,0.0],\"type\":\"scatter\"},{\"line\":{\"width\":1.5},\"mode\":\"lines+markers\",\"name\":\"CNN_5-ksize_1024-filters_awgn_snr_0-20\",\"visible\":\"legendonly\",\"x\":[0,1,2,3,4,5,6,7,8,9,10,11,12,13,14,15,16,17,18,19,20],\"y\":[0.0033,0.00113,0.00039,0.000164,0.000062,0.000054,0.00002,2e-6,6e-6,2e-6,4e-6,4e-6,4e-6,0.0,0.0,0.0,0.0,0.0,0.0,0.0,0.0],\"type\":\"scatter\"},{\"line\":{\"width\":1.5},\"mode\":\"lines+markers\",\"name\":\"CNN_7-ksize_1024-filters_awgn_snr_0-20\",\"visible\":\"legendonly\",\"x\":[0,1,2,3,4,5,6,7,8,9,10,11,12,13,14,15,16,17,18,19,20],\"y\":[0.002154,0.000834,0.000274,0.000112,0.000044,0.000034,0.000012,8e-6,2e-6,4e-6,8e-6,2e-6,2e-6,2e-6,2e-6,0.0,0.0,2e-6,0.0,2e-6,0.0],\"type\":\"scatter\"},{\"line\":{\"width\":1.5},\"mode\":\"lines+markers\",\"name\":\"CNN_9-ksize_1024-filters_awgn_snr_0-20\",\"visible\":\"legendonly\",\"x\":[0,1,2,3,4,5,6,7,8,9,10,11,12,13,14,15,16,17,18,19,20],\"y\":[0.002206,0.00083,0.000248,0.000084,0.000028,0.000018,0.00001,2e-6,2e-6,0.0,2e-6,0.0,2e-6,2e-6,2e-6,0.0,0.0,0.0,0.0,2e-6,0.0],\"type\":\"scatter\"},{\"line\":{\"width\":1.5},\"mode\":\"lines+markers\",\"name\":\"CNN_3-ksize_128-filters_awgn_snr_11-15\",\"visible\":\"legendonly\",\"x\":[0,1,2,3,4,5,6,7,8,9,10,11,12,13,14,15,16,17,18,19,20],\"y\":[0.04289,0.021382,0.009086,0.00304,0.000754,0.000142,8e-6,2e-6,0.0,0.0,2e-6,0.0,0.0,0.0,0.0,0.0,0.0,0.0,0.0,2e-6,0.0],\"type\":\"scatter\"},{\"line\":{\"width\":1.5},\"mode\":\"lines+markers\",\"name\":\"CNN_5-ksize_128-filters_awgn_snr_11-15\",\"visible\":\"legendonly\",\"x\":[0,1,2,3,4,5,6,7,8,9,10,11,12,13,14,15,16,17,18,19,20],\"y\":[0.022424,0.008348,0.002476,0.000522,0.000102,0.000012,4e-6,0.0,0.0,0.0,0.0,0.0,0.0,0.0,0.0,0.0,0.0,0.0,0.0,2e-6,0.0],\"type\":\"scatter\"},{\"line\":{\"width\":1.5},\"mode\":\"lines+markers\",\"name\":\"CNN_7-ksize_128-filters_awgn_snr_11-15\",\"visible\":\"legendonly\",\"x\":[0,1,2,3,4,5,6,7,8,9,10,11,12,13,14,15,16,17,18,19,20],\"y\":[0.193312,0.111716,0.051486,0.017262,0.003948,0.000598,0.000054,2e-6,0.0,2e-6,0.0,0.0,0.0,0.0,0.0,0.0,2e-6,0.0,0.0,2e-6,0.0],\"type\":\"scatter\"},{\"line\":{\"width\":1.5},\"mode\":\"lines+markers\",\"name\":\"CNN_9-ksize_128-filters_awgn_snr_11-15\",\"visible\":\"legendonly\",\"x\":[0,1,2,3,4,5,6,7,8,9,10,11,12,13,14,15,16,17,18,19,20],\"y\":[0.00415,0.001788,0.000692,0.000262,0.000144,0.000072,0.000032,0.00002,0.000016,0.000016,6e-6,8e-6,8e-6,2e-6,4e-6,6e-6,4e-6,2e-6,2e-6,4e-6,2e-6],\"type\":\"scatter\"},{\"line\":{\"width\":1.5},\"mode\":\"lines+markers\",\"name\":\"CNN_3-ksize_256-filters_awgn_snr_11-15\",\"visible\":\"legendonly\",\"x\":[0,1,2,3,4,5,6,7,8,9,10,11,12,13,14,15,16,17,18,19,20],\"y\":[0.100948,0.053104,0.023202,0.008086,0.001998,0.000402,0.000046,2e-6,0.0,0.0,2e-6,2e-6,0.0,0.0,0.0,0.0,0.0,0.0,0.0,2e-6,0.0],\"type\":\"scatter\"},{\"line\":{\"width\":1.5},\"mode\":\"lines+markers\",\"name\":\"CNN_5-ksize_256-filters_awgn_snr_11-15\",\"visible\":\"legendonly\",\"x\":[0,1,2,3,4,5,6,7,8,9,10,11,12,13,14,15,16,17,18,19,20],\"y\":[0.012294,0.005252,0.001856,0.00045,0.000096,8e-6,6e-6,2e-6,6e-6,2e-6,0.0,0.0,0.0,2e-6,0.0,0.0,0.0,2e-6,0.0,6e-6,0.0],\"type\":\"scatter\"},{\"line\":{\"width\":1.5},\"mode\":\"lines+markers\",\"name\":\"CNN_7-ksize_256-filters_awgn_snr_11-15\",\"visible\":\"legendonly\",\"x\":[0,1,2,3,4,5,6,7,8,9,10,11,12,13,14,15,16,17,18,19,20],\"y\":[0.010958,0.006506,0.003448,0.001698,0.000738,0.000252,0.000056,0.00002,0.000012,6e-6,8e-6,6e-6,2e-6,0.0,2e-6,4e-6,0.0,0.0,2e-6,0.0,0.0],\"type\":\"scatter\"},{\"line\":{\"width\":1.5},\"mode\":\"lines+markers\",\"name\":\"CNN_9-ksize_256-filters_awgn_snr_11-15\",\"visible\":\"legendonly\",\"x\":[0,1,2,3,4,5,6,7,8,9,10,11,12,13,14,15,16,17,18,19,20],\"y\":[0.439312,0.34648,0.211784,0.086992,0.020662,0.002564,0.000168,2e-6,0.0,0.0,0.0,0.0,0.0,0.0,0.0,0.0,0.0,0.0,0.0,0.0,0.0],\"type\":\"scatter\"},{\"line\":{\"width\":1.5},\"mode\":\"lines+markers\",\"name\":\"CNN_3-ksize_512-filters_awgn_snr_11-15\",\"visible\":\"legendonly\",\"x\":[0,1,2,3,4,5,6,7,8,9,10,11,12,13,14,15,16,17,18,19,20],\"y\":[0.127522,0.075326,0.038534,0.016146,0.005382,0.001436,0.000328,0.00003,6e-6,0.0,0.0,2e-6,0.0,0.0,0.0,0.0,0.0,0.0,0.0,2e-6,0.0],\"type\":\"scatter\"},{\"line\":{\"width\":1.5},\"mode\":\"lines+markers\",\"name\":\"CNN_5-ksize_512-filters_awgn_snr_11-15\",\"visible\":\"legendonly\",\"x\":[0,1,2,3,4,5,6,7,8,9,10,11,12,13,14,15,16,17,18,19,20],\"y\":[0.413956,0.316172,0.19143,0.08202,0.021706,0.003316,0.000262,6e-6,2e-6,0.0,0.0,0.0,0.0,0.0,0.0,0.0,0.0,0.0,0.0,0.0,0.0],\"type\":\"scatter\"},{\"line\":{\"width\":1.5},\"mode\":\"lines+markers\",\"name\":\"CNN_7-ksize_512-filters_awgn_snr_11-15\",\"visible\":\"legendonly\",\"x\":[0,1,2,3,4,5,6,7,8,9,10,11,12,13,14,15,16,17,18,19,20],\"y\":[0.010382,0.004898,0.002018,0.00076,0.000288,0.000096,0.00004,0.00003,0.000014,0.00001,2e-6,2e-6,0.0,2e-6,0.0,0.0,0.0,0.0,0.0,2e-6,0.0],\"type\":\"scatter\"},{\"line\":{\"width\":3},\"mode\":\"lines+markers\",\"name\":\"TDNN_OFDM-DCSK_awgn_snr_0-20\",\"visible\":true,\"x\":[0,1,2,3,4,5,6,7,8,9,10,11,12,13,14,15,16,17,18,19,20],\"y\":[0.001514,0.000338,0.000082,0.000024,6e-6,0.000012,4e-6,2e-6,6e-6,6e-6,2e-6,2e-6,0.0,2e-6,0.0,0.0,0.0,4e-6,0.0,0.0,4e-6],\"type\":\"scatter\"},{\"line\":{\"width\":1.5},\"mode\":\"lines+markers\",\"name\":\"CNN_9-ksize_512-filters_awgn_snr_11-15\",\"visible\":\"legendonly\",\"x\":[0,1,2,3,4,5,6,7,8,9,10,11,12,13,14,15,16,17,18,19,20],\"y\":[0.279042,0.158702,0.063538,0.015926,0.002126,0.000156,6e-6,0.0,0.0,0.0,0.0,0.0,0.0,0.0,0.0,0.0,0.0,0.0,0.0,0.0,0.0],\"type\":\"scatter\"},{\"line\":{\"width\":1.5},\"mode\":\"lines+markers\",\"name\":\"MC-DLCSK_awgn_snr_0-20\",\"visible\":\"legendonly\",\"x\":[0,1,2,3,4,5,6,7,8,9,10,11,12,13,14,15,16,17,18,19,20],\"y\":[0.002024,0.000466,0.00016,0.000078,0.000048,0.000046,0.000032,0.000028,0.000024,0.000016,0.000014,0.000014,0.000014,0.000014,0.00001,4e-6,2e-6,6e-6,0.00001,0.000012,0.000012],\"type\":\"scatter\"},{\"line\":{\"width\":1.5},\"mode\":\"lines+markers\",\"name\":\"LSTM_DNN_OFDM_DCSK_awgn_snr_0-20\",\"visible\":\"legendonly\",\"x\":[0,1,2,3,4,5,6,7,8,9,10,11,12,13,14,15,16,17,18,19,20],\"y\":[0.003438,0.001946,0.00099,0.000544,0.000274,0.00016,0.000124,0.00007,0.000068,0.000044,0.000032,0.000036,0.000018,0.00002,0.00001,0.00001,0.000012,6e-6,0.00001,0.00001,0.00001],\"type\":\"scatter\"},{\"line\":{\"width\":1.5},\"mode\":\"lines+markers\",\"name\":\"TDNN_OFDM-DCSK_awgn_snr_11-15\",\"visible\":\"legendonly\",\"x\":[0,1,2,3,4,5,6,7,8,9,10,11,12,13,14,15,16,17,18,19,20],\"y\":[0.080644,0.060822,0.041124,0.024022,0.011604,0.00471,0.001472,0.00037,0.000062,0.00001,2e-6,0.0,0.0,0.0,0.0,2e-6,0.0,0.0,2e-6,0.0,0.0],\"type\":\"scatter\"},{\"line\":{\"width\":1.5},\"mode\":\"lines+markers\",\"name\":\"CNN_3-ksize_1024-filters_awgn_snr_11-15\",\"visible\":\"legendonly\",\"x\":[0,1,2,3,4,5,6,7,8,9,10,11,12,13,14,15,16,17,18,19,20],\"y\":[0.031708,0.017548,0.008556,0.003524,0.001162,0.000312,0.000076,0.000014,2e-6,4e-6,2e-6,0.0,2e-6,0.0,0.0,2e-6,0.0,0.0,2e-6,0.0,0.0],\"type\":\"scatter\"},{\"line\":{\"width\":1.5},\"mode\":\"lines+markers\",\"name\":\"MC-DLCSK_awgn_snr_11-15\",\"visible\":\"legendonly\",\"x\":[0,1,2,3,4,5,6,7,8,9,10,11,12,13,14,15,16,17,18,19,20],\"y\":[0.49902,0.500668,0.500142,0.499962,0.500936,0.49979,0.49952,0.499362,0.500344,0.500788,0.500116,0.50142,0.499442,0.499828,0.499044,0.499462,0.500948,0.499244,0.500776,0.499394,0.49968],\"type\":\"scatter\"},{\"line\":{\"width\":1.5},\"mode\":\"lines+markers\",\"name\":\"LSTM_DNN_OFDM_DCSK_awgn_snr_11-15\",\"visible\":\"legendonly\",\"x\":[0,1,2,3,4,5,6,7,8,9,10,11,12,13,14,15,16,17,18,19,20],\"y\":[0.012646,0.00656,0.003076,0.001266,0.000418,0.000152,0.000036,0.000018,0.000022,8e-6,0.00001,6e-6,4e-6,0.0,6e-6,4e-6,2e-6,4e-6,2e-6,2e-6,2e-6],\"type\":\"scatter\"}],                        {\"template\":{\"data\":{\"barpolar\":[{\"marker\":{\"line\":{\"color\":\"white\",\"width\":0.5},\"pattern\":{\"fillmode\":\"overlay\",\"size\":10,\"solidity\":0.2}},\"type\":\"barpolar\"}],\"bar\":[{\"error_x\":{\"color\":\"#2a3f5f\"},\"error_y\":{\"color\":\"#2a3f5f\"},\"marker\":{\"line\":{\"color\":\"white\",\"width\":0.5},\"pattern\":{\"fillmode\":\"overlay\",\"size\":10,\"solidity\":0.2}},\"type\":\"bar\"}],\"carpet\":[{\"aaxis\":{\"endlinecolor\":\"#2a3f5f\",\"gridcolor\":\"#C8D4E3\",\"linecolor\":\"#C8D4E3\",\"minorgridcolor\":\"#C8D4E3\",\"startlinecolor\":\"#2a3f5f\"},\"baxis\":{\"endlinecolor\":\"#2a3f5f\",\"gridcolor\":\"#C8D4E3\",\"linecolor\":\"#C8D4E3\",\"minorgridcolor\":\"#C8D4E3\",\"startlinecolor\":\"#2a3f5f\"},\"type\":\"carpet\"}],\"choropleth\":[{\"colorbar\":{\"outlinewidth\":0,\"ticks\":\"\"},\"type\":\"choropleth\"}],\"contourcarpet\":[{\"colorbar\":{\"outlinewidth\":0,\"ticks\":\"\"},\"type\":\"contourcarpet\"}],\"contour\":[{\"colorbar\":{\"outlinewidth\":0,\"ticks\":\"\"},\"colorscale\":[[0.0,\"#0d0887\"],[0.1111111111111111,\"#46039f\"],[0.2222222222222222,\"#7201a8\"],[0.3333333333333333,\"#9c179e\"],[0.4444444444444444,\"#bd3786\"],[0.5555555555555556,\"#d8576b\"],[0.6666666666666666,\"#ed7953\"],[0.7777777777777778,\"#fb9f3a\"],[0.8888888888888888,\"#fdca26\"],[1.0,\"#f0f921\"]],\"type\":\"contour\"}],\"heatmapgl\":[{\"colorbar\":{\"outlinewidth\":0,\"ticks\":\"\"},\"colorscale\":[[0.0,\"#0d0887\"],[0.1111111111111111,\"#46039f\"],[0.2222222222222222,\"#7201a8\"],[0.3333333333333333,\"#9c179e\"],[0.4444444444444444,\"#bd3786\"],[0.5555555555555556,\"#d8576b\"],[0.6666666666666666,\"#ed7953\"],[0.7777777777777778,\"#fb9f3a\"],[0.8888888888888888,\"#fdca26\"],[1.0,\"#f0f921\"]],\"type\":\"heatmapgl\"}],\"heatmap\":[{\"colorbar\":{\"outlinewidth\":0,\"ticks\":\"\"},\"colorscale\":[[0.0,\"#0d0887\"],[0.1111111111111111,\"#46039f\"],[0.2222222222222222,\"#7201a8\"],[0.3333333333333333,\"#9c179e\"],[0.4444444444444444,\"#bd3786\"],[0.5555555555555556,\"#d8576b\"],[0.6666666666666666,\"#ed7953\"],[0.7777777777777778,\"#fb9f3a\"],[0.8888888888888888,\"#fdca26\"],[1.0,\"#f0f921\"]],\"type\":\"heatmap\"}],\"histogram2dcontour\":[{\"colorbar\":{\"outlinewidth\":0,\"ticks\":\"\"},\"colorscale\":[[0.0,\"#0d0887\"],[0.1111111111111111,\"#46039f\"],[0.2222222222222222,\"#7201a8\"],[0.3333333333333333,\"#9c179e\"],[0.4444444444444444,\"#bd3786\"],[0.5555555555555556,\"#d8576b\"],[0.6666666666666666,\"#ed7953\"],[0.7777777777777778,\"#fb9f3a\"],[0.8888888888888888,\"#fdca26\"],[1.0,\"#f0f921\"]],\"type\":\"histogram2dcontour\"}],\"histogram2d\":[{\"colorbar\":{\"outlinewidth\":0,\"ticks\":\"\"},\"colorscale\":[[0.0,\"#0d0887\"],[0.1111111111111111,\"#46039f\"],[0.2222222222222222,\"#7201a8\"],[0.3333333333333333,\"#9c179e\"],[0.4444444444444444,\"#bd3786\"],[0.5555555555555556,\"#d8576b\"],[0.6666666666666666,\"#ed7953\"],[0.7777777777777778,\"#fb9f3a\"],[0.8888888888888888,\"#fdca26\"],[1.0,\"#f0f921\"]],\"type\":\"histogram2d\"}],\"histogram\":[{\"marker\":{\"pattern\":{\"fillmode\":\"overlay\",\"size\":10,\"solidity\":0.2}},\"type\":\"histogram\"}],\"mesh3d\":[{\"colorbar\":{\"outlinewidth\":0,\"ticks\":\"\"},\"type\":\"mesh3d\"}],\"parcoords\":[{\"line\":{\"colorbar\":{\"outlinewidth\":0,\"ticks\":\"\"}},\"type\":\"parcoords\"}],\"pie\":[{\"automargin\":true,\"type\":\"pie\"}],\"scatter3d\":[{\"line\":{\"colorbar\":{\"outlinewidth\":0,\"ticks\":\"\"}},\"marker\":{\"colorbar\":{\"outlinewidth\":0,\"ticks\":\"\"}},\"type\":\"scatter3d\"}],\"scattercarpet\":[{\"marker\":{\"colorbar\":{\"outlinewidth\":0,\"ticks\":\"\"}},\"type\":\"scattercarpet\"}],\"scattergeo\":[{\"marker\":{\"colorbar\":{\"outlinewidth\":0,\"ticks\":\"\"}},\"type\":\"scattergeo\"}],\"scattergl\":[{\"marker\":{\"colorbar\":{\"outlinewidth\":0,\"ticks\":\"\"}},\"type\":\"scattergl\"}],\"scattermapbox\":[{\"marker\":{\"colorbar\":{\"outlinewidth\":0,\"ticks\":\"\"}},\"type\":\"scattermapbox\"}],\"scatterpolargl\":[{\"marker\":{\"colorbar\":{\"outlinewidth\":0,\"ticks\":\"\"}},\"type\":\"scatterpolargl\"}],\"scatterpolar\":[{\"marker\":{\"colorbar\":{\"outlinewidth\":0,\"ticks\":\"\"}},\"type\":\"scatterpolar\"}],\"scatter\":[{\"fillpattern\":{\"fillmode\":\"overlay\",\"size\":10,\"solidity\":0.2},\"type\":\"scatter\"}],\"scatterternary\":[{\"marker\":{\"colorbar\":{\"outlinewidth\":0,\"ticks\":\"\"}},\"type\":\"scatterternary\"}],\"surface\":[{\"colorbar\":{\"outlinewidth\":0,\"ticks\":\"\"},\"colorscale\":[[0.0,\"#0d0887\"],[0.1111111111111111,\"#46039f\"],[0.2222222222222222,\"#7201a8\"],[0.3333333333333333,\"#9c179e\"],[0.4444444444444444,\"#bd3786\"],[0.5555555555555556,\"#d8576b\"],[0.6666666666666666,\"#ed7953\"],[0.7777777777777778,\"#fb9f3a\"],[0.8888888888888888,\"#fdca26\"],[1.0,\"#f0f921\"]],\"type\":\"surface\"}],\"table\":[{\"cells\":{\"fill\":{\"color\":\"#EBF0F8\"},\"line\":{\"color\":\"white\"}},\"header\":{\"fill\":{\"color\":\"#C8D4E3\"},\"line\":{\"color\":\"white\"}},\"type\":\"table\"}]},\"layout\":{\"annotationdefaults\":{\"arrowcolor\":\"#2a3f5f\",\"arrowhead\":0,\"arrowwidth\":1},\"autotypenumbers\":\"strict\",\"coloraxis\":{\"colorbar\":{\"outlinewidth\":0,\"ticks\":\"\"}},\"colorscale\":{\"diverging\":[[0,\"#8e0152\"],[0.1,\"#c51b7d\"],[0.2,\"#de77ae\"],[0.3,\"#f1b6da\"],[0.4,\"#fde0ef\"],[0.5,\"#f7f7f7\"],[0.6,\"#e6f5d0\"],[0.7,\"#b8e186\"],[0.8,\"#7fbc41\"],[0.9,\"#4d9221\"],[1,\"#276419\"]],\"sequential\":[[0.0,\"#0d0887\"],[0.1111111111111111,\"#46039f\"],[0.2222222222222222,\"#7201a8\"],[0.3333333333333333,\"#9c179e\"],[0.4444444444444444,\"#bd3786\"],[0.5555555555555556,\"#d8576b\"],[0.6666666666666666,\"#ed7953\"],[0.7777777777777778,\"#fb9f3a\"],[0.8888888888888888,\"#fdca26\"],[1.0,\"#f0f921\"]],\"sequentialminus\":[[0.0,\"#0d0887\"],[0.1111111111111111,\"#46039f\"],[0.2222222222222222,\"#7201a8\"],[0.3333333333333333,\"#9c179e\"],[0.4444444444444444,\"#bd3786\"],[0.5555555555555556,\"#d8576b\"],[0.6666666666666666,\"#ed7953\"],[0.7777777777777778,\"#fb9f3a\"],[0.8888888888888888,\"#fdca26\"],[1.0,\"#f0f921\"]]},\"colorway\":[\"#636efa\",\"#EF553B\",\"#00cc96\",\"#ab63fa\",\"#FFA15A\",\"#19d3f3\",\"#FF6692\",\"#B6E880\",\"#FF97FF\",\"#FECB52\"],\"font\":{\"color\":\"#2a3f5f\"},\"geo\":{\"bgcolor\":\"white\",\"lakecolor\":\"white\",\"landcolor\":\"white\",\"showlakes\":true,\"showland\":true,\"subunitcolor\":\"#C8D4E3\"},\"hoverlabel\":{\"align\":\"left\"},\"hovermode\":\"closest\",\"mapbox\":{\"style\":\"light\"},\"paper_bgcolor\":\"white\",\"plot_bgcolor\":\"white\",\"polar\":{\"angularaxis\":{\"gridcolor\":\"#EBF0F8\",\"linecolor\":\"#EBF0F8\",\"ticks\":\"\"},\"bgcolor\":\"white\",\"radialaxis\":{\"gridcolor\":\"#EBF0F8\",\"linecolor\":\"#EBF0F8\",\"ticks\":\"\"}},\"scene\":{\"xaxis\":{\"backgroundcolor\":\"white\",\"gridcolor\":\"#DFE8F3\",\"gridwidth\":2,\"linecolor\":\"#EBF0F8\",\"showbackground\":true,\"ticks\":\"\",\"zerolinecolor\":\"#EBF0F8\"},\"yaxis\":{\"backgroundcolor\":\"white\",\"gridcolor\":\"#DFE8F3\",\"gridwidth\":2,\"linecolor\":\"#EBF0F8\",\"showbackground\":true,\"ticks\":\"\",\"zerolinecolor\":\"#EBF0F8\"},\"zaxis\":{\"backgroundcolor\":\"white\",\"gridcolor\":\"#DFE8F3\",\"gridwidth\":2,\"linecolor\":\"#EBF0F8\",\"showbackground\":true,\"ticks\":\"\",\"zerolinecolor\":\"#EBF0F8\"}},\"shapedefaults\":{\"line\":{\"color\":\"#2a3f5f\"}},\"ternary\":{\"aaxis\":{\"gridcolor\":\"#DFE8F3\",\"linecolor\":\"#A2B1C6\",\"ticks\":\"\"},\"baxis\":{\"gridcolor\":\"#DFE8F3\",\"linecolor\":\"#A2B1C6\",\"ticks\":\"\"},\"bgcolor\":\"white\",\"caxis\":{\"gridcolor\":\"#DFE8F3\",\"linecolor\":\"#A2B1C6\",\"ticks\":\"\"}},\"title\":{\"x\":0.05},\"xaxis\":{\"automargin\":true,\"gridcolor\":\"#EBF0F8\",\"linecolor\":\"#EBF0F8\",\"ticks\":\"\",\"title\":{\"standoff\":15},\"zerolinecolor\":\"#EBF0F8\",\"zerolinewidth\":2},\"yaxis\":{\"automargin\":true,\"gridcolor\":\"#EBF0F8\",\"linecolor\":\"#EBF0F8\",\"ticks\":\"\",\"title\":{\"standoff\":15},\"zerolinecolor\":\"#EBF0F8\",\"zerolinewidth\":2}}},\"yaxis\":{\"title\":{\"text\":\"Bit Error Rate (BER)\"},\"type\":\"log\"},\"title\":{\"text\":\"📉 Curve BER Interattive per Modelli CNN\"},\"xaxis\":{\"title\":{\"text\":\"SNR (dB)\"}},\"hovermode\":\"x unified\",\"legend\":{\"title\":{\"text\":\"Modelli\"}}},                        {\"responsive\": true}                    ).then(function(){\n",
              "                            \n",
              "var gd = document.getElementById('514e99c6-996a-4974-8881-76d60abe12ec');\n",
              "var x = new MutationObserver(function (mutations, observer) {{\n",
              "        var display = window.getComputedStyle(gd).display;\n",
              "        if (!display || display === 'none') {{\n",
              "            console.log([gd, 'removed!']);\n",
              "            Plotly.purge(gd);\n",
              "            observer.disconnect();\n",
              "        }}\n",
              "}});\n",
              "\n",
              "// Listen for the removal of the full notebook cells\n",
              "var notebookContainer = gd.closest('#notebook-container');\n",
              "if (notebookContainer) {{\n",
              "    x.observe(notebookContainer, {childList: true});\n",
              "}}\n",
              "\n",
              "// Listen for the clearing of the current output cell\n",
              "var outputEl = gd.closest('.output');\n",
              "if (outputEl) {{\n",
              "    x.observe(outputEl, {childList: true});\n",
              "}}\n",
              "\n",
              "                        })                };                            </script>        </div>\n",
              "</body>\n",
              "</html>"
            ]
          },
          "metadata": {}
        }
      ]
    }
  ]
}