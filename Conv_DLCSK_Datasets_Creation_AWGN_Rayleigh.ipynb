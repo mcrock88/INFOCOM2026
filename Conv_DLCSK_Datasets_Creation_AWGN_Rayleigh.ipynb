{
  "nbformat": 4,
  "nbformat_minor": 0,
  "metadata": {
    "colab": {
      "provenance": [],
      "collapsed_sections": [
        "OEAfQA05D6ua",
        "OBZ65HW9CLdc",
        "ruZPxAV6vU1c",
        "5-OIWzG7KXcF",
        "365gVxtmMCIE",
        "MwvcZ4a6tvz_",
        "5yFgI7DeuVoC",
        "ozKj8KK2iN89",
        "fI9IYcZniSVa",
        "tkgpGoa9DO5L"
      ],
      "gpuType": "T4"
    },
    "kernelspec": {
      "name": "python3",
      "display_name": "Python 3"
    },
    "language_info": {
      "name": "python"
    },
    "accelerator": "GPU"
  },
  "cells": [
    {
      "cell_type": "markdown",
      "source": [
        "# Importing the libraries"
      ],
      "metadata": {
        "id": "OEAfQA05D6ua"
      }
    },
    {
      "cell_type": "code",
      "source": [
        "import numpy as np\n",
        "import random\n",
        "import os\n",
        "import tensorflow as tf\n",
        "from tensorflow import keras\n",
        "import platform\n",
        "from tensorflow.keras import layers, optimizers, losses, models, Input, Model\n",
        "import time # Per misurare il tempo di training\n",
        "from tensorflow.keras.callbacks import EarlyStopping # Per l'early stopping\n",
        "import matplotlib.pyplot as plt\n",
        "from tqdm import tqdm # Per mostrare una barra di progresso"
      ],
      "metadata": {
        "id": "cAkyZrEzu97V"
      },
      "execution_count": 1,
      "outputs": []
    },
    {
      "cell_type": "markdown",
      "source": [
        "# Print the HW Specs."
      ],
      "metadata": {
        "id": "OBZ65HW9CLdc"
      }
    },
    {
      "cell_type": "code",
      "source": [
        "print(\"--- Dettagli dell'Architettura Hardware della Sessione Colab ---\\n\")\n",
        "\n",
        "# --- 1. Dettagli CPU ---\n",
        "print(\"--- Dettagli CPU ---\")\n",
        "!lscpu\n",
        "print(\"\\n\")\n",
        "\n",
        "# --- 2. Dettagli RAM (Memoria) ---\n",
        "print(\"--- Dettagli RAM (Memoria) ---\")\n",
        "!cat /proc/meminfo | grep MemTotal\n",
        "print(\"\\n\")\n",
        "\n",
        "# --- 3. Dettagli Spazio su Disco ---\n",
        "print(\"--- Dettagli Spazio su Disco ---\")\n",
        "!df -h /\n",
        "print(\"\\n\")\n",
        "\n",
        "# --- 4. Dettagli Acceleratore Hardware (GPU/TPU) ---\n",
        "print(\"--- Dettagli Acceleratore Hardware (GPU/TPU) ---\")\n",
        "try:\n",
        "    tpu_address = os.environ.get('COLAB_TPU_ADDR')\n",
        "    if tpu_address:\n",
        "        resolver = tf.distribute.cluster_resolver.TPUClusterResolver(tpu=tpu_address)\n",
        "        tf.config.experimental_connect_to_cluster(resolver)\n",
        "        tf.tpu.experimental.initialize_tpu_system(resolver)\n",
        "        print(f\"Tipo Acceleratore: TPU (indirizzo: {tpu_address})\")\n",
        "        print(\"Dispositivi TPU disponibili:\")\n",
        "        for device in tf.config.list_logical_devices('TPU'):\n",
        "            print(f\"  - {device.name}\")\n",
        "    else:\n",
        "        gpus = tf.config.list_physical_devices('GPU')\n",
        "        if gpus:\n",
        "            print(f\"Tipo Acceleratore: GPU\")\n",
        "            for gpu in gpus:\n",
        "                print(f\"  - Dispositivo GPU rilevato: {gpu.name}\")\n",
        "            print(\"\\nDettagli GPU specifici (da `!nvidia-smi`):\")\n",
        "            !nvidia-smi\n",
        "        else:\n",
        "            print(\"Tipo Acceleratore: Nessuna GPU o TPU rilevata (in uso CPU)\")\n",
        "\n",
        "except Exception as e:\n",
        "    print(f\"Si è verificato un errore durante la rilevazione dell'acceleratore: {e}\")\n",
        "    print(\"Tentativo di rilevare i dispositivi TensorFlow standard:\")\n",
        "    devices = tf.config.list_logical_devices()\n",
        "    if devices:\n",
        "        for device in devices:\n",
        "            print(f\"  - Dispositivo rilevato: {device.name}, Tipo: {device.device_type}\")\n",
        "    else:\n",
        "        print(\"Nessun dispositivo TensorFlow rilevato.\")\n",
        "\n",
        "print(\"\\n--- Analisi Dettagli Hardware Completata ---\")"
      ],
      "metadata": {
        "colab": {
          "base_uri": "https://localhost:8080/"
        },
        "id": "BBhq145cCO9I",
        "outputId": "2fc30805-0866-487e-ac3f-8048cd42d4a8"
      },
      "execution_count": 2,
      "outputs": [
        {
          "output_type": "stream",
          "name": "stdout",
          "text": [
            "--- Dettagli dell'Architettura Hardware della Sessione Colab ---\n",
            "\n",
            "--- Dettagli CPU ---\n",
            "Architecture:             x86_64\n",
            "  CPU op-mode(s):         32-bit, 64-bit\n",
            "  Address sizes:          46 bits physical, 48 bits virtual\n",
            "  Byte Order:             Little Endian\n",
            "CPU(s):                   2\n",
            "  On-line CPU(s) list:    0,1\n",
            "Vendor ID:                GenuineIntel\n",
            "  Model name:             Intel(R) Xeon(R) CPU @ 2.20GHz\n",
            "    CPU family:           6\n",
            "    Model:                79\n",
            "    Thread(s) per core:   2\n",
            "    Core(s) per socket:   1\n",
            "    Socket(s):            1\n",
            "    Stepping:             0\n",
            "    BogoMIPS:             4399.99\n",
            "    Flags:                fpu vme de pse tsc msr pae mce cx8 apic sep mtrr pge m\n",
            "                          ca cmov pat pse36 clflush mmx fxsr sse sse2 ss ht sysc\n",
            "                          all nx pdpe1gb rdtscp lm constant_tsc rep_good nopl xt\n",
            "                          opology nonstop_tsc cpuid tsc_known_freq pni pclmulqdq\n",
            "                           ssse3 fma cx16 pcid sse4_1 sse4_2 x2apic movbe popcnt\n",
            "                           aes xsave avx f16c rdrand hypervisor lahf_lm abm 3dno\n",
            "                          wprefetch invpcid_single ssbd ibrs ibpb stibp fsgsbase\n",
            "                           tsc_adjust bmi1 hle avx2 smep bmi2 erms invpcid rtm r\n",
            "                          dseed adx smap xsaveopt arat md_clear arch_capabilitie\n",
            "                          s\n",
            "Virtualization features:  \n",
            "  Hypervisor vendor:      KVM\n",
            "  Virtualization type:    full\n",
            "Caches (sum of all):      \n",
            "  L1d:                    32 KiB (1 instance)\n",
            "  L1i:                    32 KiB (1 instance)\n",
            "  L2:                     256 KiB (1 instance)\n",
            "  L3:                     55 MiB (1 instance)\n",
            "NUMA:                     \n",
            "  NUMA node(s):           1\n",
            "  NUMA node0 CPU(s):      0,1\n",
            "Vulnerabilities:          \n",
            "  Gather data sampling:   Not affected\n",
            "  Itlb multihit:          Not affected\n",
            "  L1tf:                   Mitigation; PTE Inversion\n",
            "  Mds:                    Vulnerable; SMT Host state unknown\n",
            "  Meltdown:               Vulnerable\n",
            "  Mmio stale data:        Vulnerable\n",
            "  Reg file data sampling: Not affected\n",
            "  Retbleed:               Vulnerable\n",
            "  Spec rstack overflow:   Not affected\n",
            "  Spec store bypass:      Vulnerable\n",
            "  Spectre v1:             Vulnerable: __user pointer sanitization and usercopy b\n",
            "                          arriers only; no swapgs barriers\n",
            "  Spectre v2:             Vulnerable; IBPB: disabled; STIBP: disabled; PBRSB-eIB\n",
            "                          RS: Not affected; BHI: Vulnerable\n",
            "  Srbds:                  Not affected\n",
            "  Tsx async abort:        Vulnerable\n",
            "\n",
            "\n",
            "--- Dettagli RAM (Memoria) ---\n",
            "MemTotal:       13289424 kB\n",
            "\n",
            "\n",
            "--- Dettagli Spazio su Disco ---\n",
            "Filesystem      Size  Used Avail Use% Mounted on\n",
            "overlay         108G   38G   71G  35% /\n",
            "\n",
            "\n",
            "--- Dettagli Acceleratore Hardware (GPU/TPU) ---\n",
            "Tipo Acceleratore: Nessuna GPU o TPU rilevata (in uso CPU)\n",
            "\n",
            "--- Analisi Dettagli Hardware Completata ---\n"
          ]
        }
      ]
    },
    {
      "cell_type": "markdown",
      "source": [
        "# Connect To Gdrive to store the datasets created."
      ],
      "metadata": {
        "id": "X46EKvDxpZ-a"
      }
    },
    {
      "cell_type": "code",
      "source": [
        "from google.colab import drive\n",
        "drive.mount('/content/drive')"
      ],
      "metadata": {
        "colab": {
          "base_uri": "https://localhost:8080/"
        },
        "id": "O7J7tQfWpjXc",
        "outputId": "1145565d-f2c2-478b-b892-c08474423098"
      },
      "execution_count": 3,
      "outputs": [
        {
          "output_type": "stream",
          "name": "stdout",
          "text": [
            "Mounted at /content/drive\n"
          ]
        }
      ]
    },
    {
      "cell_type": "markdown",
      "source": [
        "# Experimental Parameters Setting"
      ],
      "metadata": {
        "id": "ruZPxAV6vU1c"
      }
    },
    {
      "cell_type": "code",
      "source": [
        "# --- 1. Parametri di Simulazione di Base ---\n",
        "BETA = 50  # Fattore di spreading (lunghezza della sequenza caotica per simbolo)\n",
        "M = 4      # Numero di sottoportanti\n",
        "X0_INITIAL = 0.9 # Stato iniziale per le mappe caotiche\n",
        "SNR_TEST_RANGE_DB = np.arange(0, 21, 1)\n",
        "SNR_TRAIN_RANGE_DB = [0, 20] # SNR range for training\n",
        "\n",
        "# Dataset sizes (adjust as needed for computational resources)\n",
        "NUM_SYMBOLS_TRAIN = 60000\n",
        "NUM_SYMBOLS_VALIDATION = 20000\n",
        "NUM_SYMBOLS_TEST_PER_SNR = 500000\n",
        "\n",
        "\n",
        "CHANNEL_TYPE = 'awgn'\n",
        "L_FADING = 1 # Parametro per Rayleigh fading\n",
        "\n",
        "# --- 1. Impostazione del Seed Globale all'inizio dello script ---\n",
        "# Questo è il punto chiave per la riproducibilità di TUTTO ciò che segue.\n",
        "MASTER_RANDOM_SEED = 42\n",
        "np.random.seed(MASTER_RANDOM_SEED)\n",
        "random.seed(MASTER_RANDOM_SEED) # Imposta anche il seed per la libreria 'random' di Python se la usi\n",
        "tf.random.set_seed(MASTER_RANDOM_SEED)\n",
        "os.environ['PYTHONHASHSEED'] = str(MASTER_RANDOM_SEED) # Per operazioni basate su hash (es. ordine dei dizionari)\n",
        "os.environ['TF_DETERMINISTIC_OPS'] = '1' # Forza operazioni deterministiche in TensorFlow 2.x\n"
      ],
      "metadata": {
        "id": "ND4-RdZwvXxc"
      },
      "execution_count": 21,
      "outputs": []
    },
    {
      "cell_type": "code",
      "source": [
        "print(SNR_TEST_RANGE_DB)\n",
        "print(SNR_TRAIN_RANGE_DB)"
      ],
      "metadata": {
        "colab": {
          "base_uri": "https://localhost:8080/"
        },
        "id": "9eJELPoY2bkJ",
        "outputId": "5bcf31b8-b865-449b-cf99-c1dd4152f787"
      },
      "execution_count": 22,
      "outputs": [
        {
          "output_type": "stream",
          "name": "stdout",
          "text": [
            "[ 0  1  2  3  4  5  6  7  8  9 10 11 12 13 14 15 16 17 18 19 20]\n",
            "[0, 20]\n"
          ]
        }
      ]
    },
    {
      "cell_type": "markdown",
      "source": [
        "# Defining signals-related functions."
      ],
      "metadata": {
        "id": "B1KXGelpD9zC"
      }
    },
    {
      "cell_type": "code",
      "source": [
        "# --- 2. Generazione delle Mappe Caotiche ---\n",
        "def bernoulli_map(x0, length):\n",
        "    \"\"\"Genera una sequenza dalla mappa di Bernoulli shift.\"\"\"\n",
        "    sequence = np.zeros(length)\n",
        "    x = x0\n",
        "    for i in range(length):\n",
        "        x = (2 * x) % 1\n",
        "        sequence[i] = x\n",
        "    return sequence\n",
        "\n",
        "def logistic_map(x0, length, rho=3.6):\n",
        "    \"\"\"Genera una sequenza dalla mappa Logistica.\"\"\"\n",
        "    sequence = np.zeros(length)\n",
        "    x = x0\n",
        "    for i in range(length):\n",
        "        x = rho * x * (1 - x)\n",
        "        sequence[i] = x\n",
        "    return sequence\n",
        "\n",
        "# --- 3. Modulazione Multi-Carrier e Simulazione del Canale ---\n",
        "def mc_modulate(chaotic_sequence, M):\n",
        "    \"\"\"\n",
        "    Simula la modulazione multi-carrier replicando la sequenza su M \"sottoportanti\".\n",
        "    \"\"\"\n",
        "    return np.tile(chaotic_sequence, (M, 1)) # M x BETA\n",
        "\n",
        "def add_awgn(signal, snr_db):\n",
        "    \"\"\"Aggiunge rumore AWGN a un segnale complesso.\"\"\"\n",
        "    # Calcola la potenza del segnale (assumendo potenza media)\n",
        "    signal_power = np.mean(np.abs(signal)**2)\n",
        "\n",
        "    # Converte SNR da dB a lineare\n",
        "    snr_linear = 10**(np.array(snr_db) / 10) # Explicitly treat snr_db as scalar\n",
        "\n",
        "    # Calcola la potenza del rumore necessaria\n",
        "    # snr_linear = signal_power / noise_power\n",
        "    noise_power = signal_power / snr_linear\n",
        "\n",
        "    # Genera rumore complesso (parte reale e immaginaria) con potenza corretta\n",
        "    # np.sqrt(noise_power / 2) perché il rumore è distribuito su Re e Im\n",
        "    noise_amplitude = np.sqrt(noise_power / 2)\n",
        "    # print(f\"Noise amplitude shape: {noise_amplitude.shape}\") # Debug print\n",
        "    noise = noise_amplitude * (np.random.randn(*signal.shape) + 1j * np.random.randn(*signal.shape))\n",
        "    return signal + noise\n",
        "\n",
        "def add_rayleigh_fading(signal, snr_db, L=1):\n",
        "    \"\"\"\n",
        "    Aggiunge fading di Rayleigh (L percorsi) e rumore AWGN a un segnale.\n",
        "    Il segnale viene normalizzato dopo il fading per mantenere la potenza media prima del rumore.\n",
        "    Ora applica fading indipendente per ciascuna \"sottoportante\" (riga) se il segnale è 2D.\n",
        "    \"\"\"\n",
        "    if signal.ndim == 1: # Caso single carrier, trasforma in 2D per coerenza\n",
        "        num_subcarriers = 1\n",
        "        signal_to_fade = signal[np.newaxis, :]\n",
        "    else: # Caso multi-carrier (M x BETA)\n",
        "        num_subcarriers = signal.shape[0]\n",
        "        signal_to_fade = signal\n",
        "\n",
        "    faded_signal_sum_all_subcarriers = np.zeros_like(signal_to_fade, dtype=complex)\n",
        "\n",
        "    for _ in range(L):\n",
        "        # Genera coefficienti di fading di Rayleigh indipendenti per ciascuna sottoportante\n",
        "        # h sarà una colonna (num_subcarriers, 1) per il broadcast corretto\n",
        "        h = (np.random.randn(num_subcarriers, 1) + 1j * np.random.randn(num_subcarriers, 1)) / np.sqrt(2)\n",
        "        faded_signal_sum_all_subcarriers += h * signal_to_fade\n",
        "\n",
        "    # Normalizza la potenza del segnale dopo il fading per mantenere la potenza del segnale originaria\n",
        "    # prima di aggiungere AWGN e quindi l'SNR calcolato correttamente.\n",
        "    original_signal_power = np.mean(np.abs(signal_to_fade)**2)\n",
        "    current_faded_power = np.mean(np.abs(faded_signal_sum_all_subcarriers)**2)\n",
        "\n",
        "    if current_faded_power > 0:\n",
        "        faded_signal_normalized = faded_signal_sum_all_subcarriers * np.sqrt(original_signal_power / current_faded_power)\n",
        "    else:\n",
        "        faded_signal_normalized = np.zeros_like(signal_to_fade, dtype=complex)\n",
        "\n",
        "    if signal.ndim == 1: # Se l'input originale era 1D, ritorna 1D\n",
        "        faded_signal_normalized = faded_signal_normalized.flatten()\n",
        "\n",
        "    return add_awgn(faded_signal_normalized, snr_db)\n",
        "\n",
        "def form_receiver_input(received_signals_mc, beta):\n",
        "    \"\"\"\n",
        "    Prende i segnali ricevuti dalle M sottoportanti (M x BETA) e forma l'input 2xbeta.\n",
        "    Media dei segnali ricevuti su tutte le M sottoportanti.\n",
        "    \"\"\"\n",
        "    averaged_signal = np.mean(received_signals_mc, axis=0) # Risultato: (BETA,) complex\n",
        "\n",
        "    # Separa parte reale e immaginaria e concatena per formare un vettore 2*beta\n",
        "    input_vector = np.concatenate([np.real(averaged_signal), np.imag(averaged_signal)])\n",
        "    return input_vector"
      ],
      "metadata": {
        "id": "1-EHtaOSAQES"
      },
      "execution_count": 5,
      "outputs": []
    },
    {
      "cell_type": "markdown",
      "source": [
        "# Generate datasets function."
      ],
      "metadata": {
        "id": "5-OIWzG7KXcF"
      }
    },
    {
      "cell_type": "code",
      "source": [
        "def generate_dataset(num_symbols_train, num_symbols_val, num_symbols_test_per_snr,\n",
        "                     snr_train_range_db, snr_test_range_db, # Nuovo parametro: lista di valori SNR per il test\n",
        "                     beta, M, channel_type='AWGN', L=1, skip_test_generation=False):\n",
        "    \"\"\"\n",
        "    Genera i dataset completi per training e validation,\n",
        "    e un test set separato per ogni punto SNR specificato.\n",
        "    La riproducibilità è garantita dall'impostazione globale del seed di NumPy\n",
        "    all'inizio dello script.\n",
        "\n",
        "    Args:\n",
        "        num_symbols_train (int): Numero di simboli per il training set.\n",
        "        num_symbols_val (int): Numero di simboli per il validation set.\n",
        "        num_symbols_test_per_snr (int): Numero di simboli per OGNI punto SNR nel test set.\n",
        "        snr_range_db (list): Lista dei valori di SNR in dB.\n",
        "        beta (float): Parametro per le mappe caotiche.\n",
        "        M (int): Ordine della modulazione.\n",
        "        channel_type (str): Tipo di canale ('AWGN' o 'Rayleigh').\n",
        "        L (int): Parametro per il canale Rayleigh.\n",
        "\n",
        "    Returns:\n",
        "        tuple: (X_train, y_train, X_val, y_val, X_test_by_snr, y_test_by_snr)\n",
        "               - X_train, y_train: Dataset di training.\n",
        "               - X_val, y_val: Dataset di validation.\n",
        "               - X_test_by_snr (dict): Dizionario di array NumPy per i dati di test,\n",
        "                                       dove le chiavi sono i valori di SNR.\n",
        "               - y_test_by_snr (dict): Dizionario di array NumPy per le etichette di test,\n",
        "                                       dove le chiavi sono i valori di SNR.\n",
        "    \"\"\"\n",
        "\n",
        "    print(f\"--- Generazione Dataset per Canale: {channel_type} ---\")\n",
        "\n",
        "    def _generate_single_split(num_symbols, current_snr_config, split_name, fixed_snr=None):\n",
        "        X_data = np.zeros((num_symbols, 2 * beta))\n",
        "        y_labels = np.zeros(num_symbols, dtype=int)\n",
        "\n",
        "        for i in tqdm(range(num_symbols), desc=f\"Generating {channel_type} {split_name} Dataset\"):\n",
        "            # Nel caso reale la mappa da scegliere dipende dal simbolo che voglio trasmettere non da np.random.rand()\n",
        "            # Se voglio trasmettere uno 0 allora scelgo la mappa di bernoulli. altrimenti logistic. (e la label deve essere scelta di conseguenza)\n",
        "            map_type = 'bernoulli' if np.random.rand() < 0.5 else 'logistic'\n",
        "            label = 0 if map_type == 'bernoulli' else 1\n",
        "\n",
        "            if fixed_snr is not None:\n",
        "                snr_db = fixed_snr\n",
        "            elif isinstance(current_snr_config, list):\n",
        "                snr_db = np.random.uniform(current_snr_config[0], current_snr_config[1])\n",
        "            else: # Singolo valore SNR\n",
        "                snr_db = current_snr_config\n",
        "\n",
        "            x0_current = np.random.rand()\n",
        "\n",
        "            chaotic_sequence = bernoulli_map(x0_current, beta) if map_type == 'bernoulli' else logistic_map(x0_current, beta)\n",
        "            modulated_signal = mc_modulate(chaotic_sequence, M)\n",
        "\n",
        "            if channel_type == 'AWGN':\n",
        "                received_signal_mc = add_awgn(modulated_signal, snr_db)\n",
        "            elif channel_type == 'Rayleigh':\n",
        "                received_signal_mc = add_rayleigh_fading(modulated_signal, snr_db, L=L)\n",
        "            else:\n",
        "                raise ValueError(\"channel_type deve essere 'AWGN' o 'Rayleigh'\")\n",
        "\n",
        "            X_data[i] = form_receiver_input(received_signal_mc, beta)\n",
        "            y_labels[i] = label\n",
        "        return X_data, y_labels\n",
        "\n",
        "    # --- Generazione Training Set ---\n",
        "    print(\"\\nInizio generazione Training Set...\")\n",
        "    # Il range SNR per il training è 11-15 dB, come indicato nel paper [cite: 115]\n",
        "    # L'SNR per il training è una variabile casuale all'interno del range specificato [cite: 114]\n",
        "    X_train, y_train = _generate_single_split(num_symbols_train, snr_train_range_db, \"Train\")\n",
        "    print(\"Training Set generato.\")\n",
        "\n",
        "    # --- Generazione Validation Set ---\n",
        "    print(\"\\nInizio generazione Validation Set...\")\n",
        "    X_val, y_val = _generate_single_split(num_symbols_val, snr_train_range_db, \"Validation\")\n",
        "    print(\"Validation Set generato.\")\n",
        "\n",
        "    if skip_test_generation==True:\n",
        "        return X_train, y_train, X_val, y_val, None, None\n",
        "\n",
        "    # --- Generazione Test Set per ogni specifico valore di SNR ---\n",
        "    X_test_by_snr = {}\n",
        "    y_test_by_snr = {}\n",
        "    print(f\"\\nInizio generazione Test Set per {len(snr_test_range_db)} valori SNR...\")\n",
        "    for snr_db_point in snr_test_range_db:\n",
        "        print(f\"  Generando per SNR: {snr_db_point} dB...\")\n",
        "        X_test_snr, y_test_snr = _generate_single_split(\n",
        "            num_symbols_test_per_snr, None, f\"Test (SNR={snr_db_point}dB)\", fixed_snr=snr_db_point\n",
        "        )\n",
        "        X_test_by_snr[snr_db_point] = X_test_snr\n",
        "        y_test_by_snr[snr_db_point] = y_test_snr\n",
        "    print(\"Test Set generato per tutti i punti SNR specificati.\")\n",
        "\n",
        "    return X_train, y_train, X_val, y_val, X_test_by_snr, y_test_by_snr\n"
      ],
      "metadata": {
        "id": "ReOpqL69KaRl"
      },
      "execution_count": 25,
      "outputs": []
    },
    {
      "cell_type": "markdown",
      "source": [
        "# Generate the dataset for AWGN channel."
      ],
      "metadata": {
        "id": "365gVxtmMCIE"
      }
    },
    {
      "cell_type": "code",
      "source": [
        "# Path di base su Google Drive\n",
        "base_path = '/content/drive/MyDrive/Academic/2025/Conferences/INFOCOM2026/GitHub/AWGN/dataset'\n",
        "\n",
        "# Creazione dei dataset\n",
        "print(\"Generazione dei dataset AWGN...\")\n",
        "X_train_awgn, y_train_awgn, X_val_awgn, y_val_awgn, X_test_by_snr_awgn, y_test_by_snr_awgn = generate_dataset(\n",
        "    num_symbols_train=NUM_SYMBOLS_TRAIN,\n",
        "    num_symbols_val=NUM_SYMBOLS_VALIDATION,\n",
        "    num_symbols_test_per_snr=NUM_SYMBOLS_TEST_PER_SNR,\n",
        "    snr_test_range_db=SNR_TEST_RANGE_DB,\n",
        "    snr_train_range_db=SNR_TRAIN_RANGE_DB,\n",
        "    beta=BETA,\n",
        "    M=M,\n",
        "    channel_type='AWGN',\n",
        "    L=L_FADING\n",
        ")\n",
        "print(\"Dataset AWGN generati.\")\n",
        "\n",
        "# --- SALVATAGGIO DEI FILE PER SNR TRA 0 e 20 db ---\n",
        "np.savez(os.path.join(base_path, 'training_0-20_SNR.npz'),\n",
        "         X_train=X_train_awgn,\n",
        "         y_train=y_train_awgn)\n",
        "np.savez(os.path.join(base_path, 'validation_0-20_SNR.npz'),\n",
        "         X_val=X_val_awgn,\n",
        "         y_val=y_val_awgn)\n",
        "\n",
        "# --- SALVATAGGIO DEI FILE TEST (UNO PER SNR) ---\n",
        "test_dir = os.path.join(base_path, 'test')\n",
        "os.makedirs(test_dir, exist_ok=True)\n",
        "\n",
        "for i, snr in enumerate(SNR_TEST_RANGE_DB):\n",
        "    X_test = X_test_by_snr_awgn[i]\n",
        "    y_test = y_test_by_snr_awgn[i]\n",
        "    filename = f'test_{int(snr)}_SNR.npz'\n",
        "    path = os.path.join(test_dir, filename)\n",
        "    np.savez(path, X_test=X_test, y_test=y_test)\n",
        "    print(f\"Salvato: {filename}\")\n",
        "\n",
        "SNR_TRAIN_RANGE_DB = [11, 15]\n",
        "# --- GENERAZIONE PER SNR 11-15 db SNR ---\n",
        "\n",
        "X_train_awgn, y_train_awgn, X_val_awgn, y_val_awgn, X_test_by_snr_awgn, y_test_by_snr_awgn = generate_dataset(\n",
        "    num_symbols_train=NUM_SYMBOLS_TRAIN,\n",
        "    num_symbols_val=NUM_SYMBOLS_VALIDATION,\n",
        "    num_symbols_test_per_snr=NUM_SYMBOLS_TEST_PER_SNR,\n",
        "    snr_test_range_db=SNR_TEST_RANGE_DB,\n",
        "    snr_train_range_db=SNR_TRAIN_RANGE_DB,\n",
        "    beta=BETA,\n",
        "    M=M,\n",
        "    channel_type='AWGN',\n",
        "    L=L_FADING,\n",
        "    skip_test_generation=True\n",
        ")\n",
        "\n",
        "# --- SALVATAGGIO DEI FILE VALIDATION ---\n",
        "np.savez(os.path.join(base_path, 'training_11-15_SNR.npz'),\n",
        "         X_train=X_train_awgn,\n",
        "         y_train=y_train_awgn)\n",
        "np.savez(os.path.join(base_path, 'validation_11-15_SNR.npz'),\n",
        "         X_val=X_val_awgn,\n",
        "         y_val=y_val_awgn)\n",
        "\n",
        "print(\"Tutti i file sono stati salvati correttamente.\")"
      ],
      "metadata": {
        "colab": {
          "base_uri": "https://localhost:8080/"
        },
        "id": "-3u1AoPqsm_c",
        "outputId": "03bef07b-2e99-4e18-90ab-6198ca9a06fb"
      },
      "execution_count": 27,
      "outputs": [
        {
          "output_type": "stream",
          "name": "stdout",
          "text": [
            "Generazione dei dataset AWGN...\n",
            "--- Generazione Dataset per Canale: AWGN ---\n",
            "\n",
            "Inizio generazione Training Set...\n"
          ]
        },
        {
          "output_type": "stream",
          "name": "stderr",
          "text": [
            "Generating AWGN Train Dataset: 100%|██████████| 60000/60000 [00:05<00:00, 11813.82it/s]\n"
          ]
        },
        {
          "output_type": "stream",
          "name": "stdout",
          "text": [
            "Training Set generato.\n",
            "\n",
            "Inizio generazione Validation Set...\n"
          ]
        },
        {
          "output_type": "stream",
          "name": "stderr",
          "text": [
            "Generating AWGN Validation Dataset: 100%|██████████| 20000/20000 [00:01<00:00, 11528.85it/s]\n"
          ]
        },
        {
          "output_type": "stream",
          "name": "stdout",
          "text": [
            "Validation Set generato.\n",
            "\n",
            "Inizio generazione Test Set per 21 valori SNR...\n",
            "  Generando per SNR: 0 dB...\n"
          ]
        },
        {
          "output_type": "stream",
          "name": "stderr",
          "text": [
            "Generating AWGN Test (SNR=0dB) Dataset: 100%|██████████| 500000/500000 [00:51<00:00, 9699.07it/s] \n"
          ]
        },
        {
          "output_type": "stream",
          "name": "stdout",
          "text": [
            "  Generando per SNR: 1 dB...\n"
          ]
        },
        {
          "output_type": "stream",
          "name": "stderr",
          "text": [
            "Generating AWGN Test (SNR=1dB) Dataset: 100%|██████████| 500000/500000 [00:48<00:00, 10298.84it/s]\n"
          ]
        },
        {
          "output_type": "stream",
          "name": "stdout",
          "text": [
            "  Generando per SNR: 2 dB...\n"
          ]
        },
        {
          "output_type": "stream",
          "name": "stderr",
          "text": [
            "Generating AWGN Test (SNR=2dB) Dataset: 100%|██████████| 500000/500000 [00:47<00:00, 10587.37it/s]\n"
          ]
        },
        {
          "output_type": "stream",
          "name": "stdout",
          "text": [
            "  Generando per SNR: 3 dB...\n"
          ]
        },
        {
          "output_type": "stream",
          "name": "stderr",
          "text": [
            "Generating AWGN Test (SNR=3dB) Dataset: 100%|██████████| 500000/500000 [00:49<00:00, 10072.23it/s]\n"
          ]
        },
        {
          "output_type": "stream",
          "name": "stdout",
          "text": [
            "  Generando per SNR: 4 dB...\n"
          ]
        },
        {
          "output_type": "stream",
          "name": "stderr",
          "text": [
            "Generating AWGN Test (SNR=4dB) Dataset: 100%|██████████| 500000/500000 [00:47<00:00, 10517.31it/s]\n"
          ]
        },
        {
          "output_type": "stream",
          "name": "stdout",
          "text": [
            "  Generando per SNR: 5 dB...\n"
          ]
        },
        {
          "output_type": "stream",
          "name": "stderr",
          "text": [
            "Generating AWGN Test (SNR=5dB) Dataset: 100%|██████████| 500000/500000 [00:47<00:00, 10557.13it/s]\n"
          ]
        },
        {
          "output_type": "stream",
          "name": "stdout",
          "text": [
            "  Generando per SNR: 6 dB...\n"
          ]
        },
        {
          "output_type": "stream",
          "name": "stderr",
          "text": [
            "Generating AWGN Test (SNR=6dB) Dataset: 100%|██████████| 500000/500000 [00:47<00:00, 10561.77it/s]\n"
          ]
        },
        {
          "output_type": "stream",
          "name": "stdout",
          "text": [
            "  Generando per SNR: 7 dB...\n"
          ]
        },
        {
          "output_type": "stream",
          "name": "stderr",
          "text": [
            "Generating AWGN Test (SNR=7dB) Dataset: 100%|██████████| 500000/500000 [00:49<00:00, 10115.15it/s]\n"
          ]
        },
        {
          "output_type": "stream",
          "name": "stdout",
          "text": [
            "  Generando per SNR: 8 dB...\n"
          ]
        },
        {
          "output_type": "stream",
          "name": "stderr",
          "text": [
            "Generating AWGN Test (SNR=8dB) Dataset: 100%|██████████| 500000/500000 [00:47<00:00, 10592.30it/s]\n"
          ]
        },
        {
          "output_type": "stream",
          "name": "stdout",
          "text": [
            "  Generando per SNR: 9 dB...\n"
          ]
        },
        {
          "output_type": "stream",
          "name": "stderr",
          "text": [
            "Generating AWGN Test (SNR=9dB) Dataset: 100%|██████████| 500000/500000 [00:47<00:00, 10560.31it/s]\n"
          ]
        },
        {
          "output_type": "stream",
          "name": "stdout",
          "text": [
            "  Generando per SNR: 10 dB...\n"
          ]
        },
        {
          "output_type": "stream",
          "name": "stderr",
          "text": [
            "Generating AWGN Test (SNR=10dB) Dataset: 100%|██████████| 500000/500000 [00:47<00:00, 10589.02it/s]\n"
          ]
        },
        {
          "output_type": "stream",
          "name": "stdout",
          "text": [
            "  Generando per SNR: 11 dB...\n"
          ]
        },
        {
          "output_type": "stream",
          "name": "stderr",
          "text": [
            "Generating AWGN Test (SNR=11dB) Dataset: 100%|██████████| 500000/500000 [00:49<00:00, 10018.64it/s]\n"
          ]
        },
        {
          "output_type": "stream",
          "name": "stdout",
          "text": [
            "  Generando per SNR: 12 dB...\n"
          ]
        },
        {
          "output_type": "stream",
          "name": "stderr",
          "text": [
            "Generating AWGN Test (SNR=12dB) Dataset: 100%|██████████| 500000/500000 [00:47<00:00, 10613.44it/s]\n"
          ]
        },
        {
          "output_type": "stream",
          "name": "stdout",
          "text": [
            "  Generando per SNR: 13 dB...\n"
          ]
        },
        {
          "output_type": "stream",
          "name": "stderr",
          "text": [
            "Generating AWGN Test (SNR=13dB) Dataset: 100%|██████████| 500000/500000 [00:47<00:00, 10594.71it/s]\n"
          ]
        },
        {
          "output_type": "stream",
          "name": "stdout",
          "text": [
            "  Generando per SNR: 14 dB...\n"
          ]
        },
        {
          "output_type": "stream",
          "name": "stderr",
          "text": [
            "Generating AWGN Test (SNR=14dB) Dataset: 100%|██████████| 500000/500000 [00:47<00:00, 10584.56it/s]\n"
          ]
        },
        {
          "output_type": "stream",
          "name": "stdout",
          "text": [
            "  Generando per SNR: 15 dB...\n"
          ]
        },
        {
          "output_type": "stream",
          "name": "stderr",
          "text": [
            "Generating AWGN Test (SNR=15dB) Dataset: 100%|██████████| 500000/500000 [00:48<00:00, 10310.94it/s]\n"
          ]
        },
        {
          "output_type": "stream",
          "name": "stdout",
          "text": [
            "  Generando per SNR: 16 dB...\n"
          ]
        },
        {
          "output_type": "stream",
          "name": "stderr",
          "text": [
            "Generating AWGN Test (SNR=16dB) Dataset: 100%|██████████| 500000/500000 [00:48<00:00, 10344.79it/s]\n"
          ]
        },
        {
          "output_type": "stream",
          "name": "stdout",
          "text": [
            "  Generando per SNR: 17 dB...\n"
          ]
        },
        {
          "output_type": "stream",
          "name": "stderr",
          "text": [
            "Generating AWGN Test (SNR=17dB) Dataset: 100%|██████████| 500000/500000 [00:47<00:00, 10620.70it/s]\n"
          ]
        },
        {
          "output_type": "stream",
          "name": "stdout",
          "text": [
            "  Generando per SNR: 18 dB...\n"
          ]
        },
        {
          "output_type": "stream",
          "name": "stderr",
          "text": [
            "Generating AWGN Test (SNR=18dB) Dataset: 100%|██████████| 500000/500000 [00:47<00:00, 10579.55it/s]\n"
          ]
        },
        {
          "output_type": "stream",
          "name": "stdout",
          "text": [
            "  Generando per SNR: 19 dB...\n"
          ]
        },
        {
          "output_type": "stream",
          "name": "stderr",
          "text": [
            "Generating AWGN Test (SNR=19dB) Dataset: 100%|██████████| 500000/500000 [00:47<00:00, 10436.10it/s]\n"
          ]
        },
        {
          "output_type": "stream",
          "name": "stdout",
          "text": [
            "  Generando per SNR: 20 dB...\n"
          ]
        },
        {
          "output_type": "stream",
          "name": "stderr",
          "text": [
            "Generating AWGN Test (SNR=20dB) Dataset: 100%|██████████| 500000/500000 [00:49<00:00, 10176.98it/s]\n"
          ]
        },
        {
          "output_type": "stream",
          "name": "stdout",
          "text": [
            "Test Set generato per tutti i punti SNR specificati.\n",
            "Dataset AWGN generati.\n",
            "Salvato: test_0_SNR.npz\n",
            "Salvato: test_1_SNR.npz\n",
            "Salvato: test_2_SNR.npz\n",
            "Salvato: test_3_SNR.npz\n",
            "Salvato: test_4_SNR.npz\n",
            "Salvato: test_5_SNR.npz\n",
            "Salvato: test_6_SNR.npz\n",
            "Salvato: test_7_SNR.npz\n",
            "Salvato: test_8_SNR.npz\n",
            "Salvato: test_9_SNR.npz\n",
            "Salvato: test_10_SNR.npz\n",
            "Salvato: test_11_SNR.npz\n",
            "Salvato: test_12_SNR.npz\n",
            "Salvato: test_13_SNR.npz\n",
            "Salvato: test_14_SNR.npz\n",
            "Salvato: test_15_SNR.npz\n",
            "Salvato: test_16_SNR.npz\n",
            "Salvato: test_17_SNR.npz\n",
            "Salvato: test_18_SNR.npz\n",
            "Salvato: test_19_SNR.npz\n",
            "Salvato: test_20_SNR.npz\n",
            "--- Generazione Dataset per Canale: AWGN ---\n",
            "\n",
            "Inizio generazione Training Set...\n"
          ]
        },
        {
          "output_type": "stream",
          "name": "stderr",
          "text": [
            "Generating AWGN Train Dataset: 100%|██████████| 60000/60000 [00:19<00:00, 3082.30it/s]\n"
          ]
        },
        {
          "output_type": "stream",
          "name": "stdout",
          "text": [
            "Training Set generato.\n",
            "\n",
            "Inizio generazione Validation Set...\n"
          ]
        },
        {
          "output_type": "stream",
          "name": "stderr",
          "text": [
            "Generating AWGN Validation Dataset: 100%|██████████| 20000/20000 [00:01<00:00, 11891.35it/s]\n"
          ]
        },
        {
          "output_type": "stream",
          "name": "stdout",
          "text": [
            "Validation Set generato.\n",
            "Tutti i file sono stati salvati correttamente.\n"
          ]
        }
      ]
    },
    {
      "cell_type": "markdown",
      "source": [
        "# Generate the dataset for Rayleigh channel."
      ],
      "metadata": {
        "id": "dDClj1kqtEjD"
      }
    },
    {
      "cell_type": "code",
      "source": [
        "# Path di base su Google Drive\n",
        "base_path = '/content/drive/MyDrive/Academic/2025/Conferences/INFOCOM2026/GitHub/Rayleigh/dataset'\n",
        "\n",
        "# Creazione dei dataset\n",
        "print(\"Generazione dei dataset Rayleigh...\")\n",
        "X_train_ray, y_train_ray, X_val_ray, y_val_ray, X_test_by_snr_ray, y_test_by_snr_ray = generate_dataset(\n",
        "    num_symbols_train=NUM_SYMBOLS_TRAIN,\n",
        "    num_symbols_val=NUM_SYMBOLS_VALIDATION,\n",
        "    num_symbols_test_per_snr=NUM_SYMBOLS_TEST_PER_SNR,\n",
        "    snr_test_range_db=SNR_TEST_RANGE_DB,\n",
        "    snr_train_range_db=SNR_TRAIN_RANGE_DB,\n",
        "    beta=BETA,\n",
        "    M=M,\n",
        "    channel_type='Rayleigh',\n",
        "    L=L_FADING\n",
        ")\n",
        "print(\"Dataset Rayleigh generati.\")\n",
        "\n",
        "# --- SALVATAGGIO DEI FILE PER SNR TRA 0 e 20 db ---\n",
        "np.savez(os.path.join(base_path, 'training_0-20_SNR.npz'),\n",
        "         X_train=X_train_ray,\n",
        "         y_train=y_train_ray)\n",
        "np.savez(os.path.join(base_path, 'validation_0-20_SNR.npz'),\n",
        "         X_val=X_val_ray,\n",
        "         y_val=y_val_ray)\n",
        "\n",
        "# --- SALVATAGGIO DEI FILE TEST (UNO PER SNR) ---\n",
        "test_dir = os.path.join(base_path, 'test')\n",
        "os.makedirs(test_dir, exist_ok=True)\n",
        "\n",
        "for i, snr in enumerate(SNR_TEST_RANGE_DB):\n",
        "    X_test = X_test_by_snr_ray[i]\n",
        "    y_test = y_test_by_snr_ray[i]\n",
        "    filename = f'test_{int(snr)}_SNR.npz'\n",
        "    path = os.path.join(test_dir, filename)\n",
        "    np.savez(path, X_test=X_test, y_test=y_test)\n",
        "    print(f\"Salvato: {filename}\")\n",
        "\n",
        "SNR_TRAIN_RANGE_DB = [11, 15]\n",
        "# --- GENERAZIONE PER SNR 11-15 db SNR ---\n",
        "X_train_ray, y_train_ray, X_val_ray, y_val_ray, X_test_by_snr_ray, y_test_by_snr_ray = generate_dataset(\n",
        "    num_symbols_train=NUM_SYMBOLS_TRAIN,\n",
        "    num_symbols_val=NUM_SYMBOLS_VALIDATION,\n",
        "    num_symbols_test_per_snr=NUM_SYMBOLS_TEST_PER_SNR,\n",
        "    snr_test_range_db=SNR_TEST_RANGE_DB,\n",
        "    snr_train_range_db=SNR_TRAIN_RANGE_DB,\n",
        "    beta=BETA,\n",
        "    M=M,\n",
        "    channel_type='Rayleigh',\n",
        "    L=L_FADING,\n",
        "    skip_test_generation=True\n",
        ")\n",
        "\n",
        "# --- SALVATAGGIO DEI FILE VALIDATION ---\n",
        "np.savez(os.path.join(base_path, 'training_11-15_SNR.npz'),\n",
        "         X_train=X_train_ray,\n",
        "         y_train=y_train_ray)\n",
        "np.savez(os.path.join(base_path, 'validation_11-15_SNR.npz'),\n",
        "         X_val=X_val_ray,\n",
        "         y_val=y_val_ray)\n",
        "\n",
        "print(\"Tutti i file sono stati salvati correttamente.\")"
      ],
      "metadata": {
        "colab": {
          "base_uri": "https://localhost:8080/"
        },
        "id": "asi_D47jtDsJ",
        "outputId": "d258f9a0-85c3-4d27-ab51-c05228d18798"
      },
      "execution_count": 28,
      "outputs": [
        {
          "output_type": "stream",
          "name": "stdout",
          "text": [
            "Generazione dei dataset Rayleigh...\n",
            "--- Generazione Dataset per Canale: Rayleigh ---\n",
            "\n",
            "Inizio generazione Training Set...\n"
          ]
        },
        {
          "output_type": "stream",
          "name": "stderr",
          "text": [
            "Generating Rayleigh Train Dataset: 100%|██████████| 60000/60000 [00:08<00:00, 7288.73it/s]\n"
          ]
        },
        {
          "output_type": "stream",
          "name": "stdout",
          "text": [
            "Training Set generato.\n",
            "\n",
            "Inizio generazione Validation Set...\n"
          ]
        },
        {
          "output_type": "stream",
          "name": "stderr",
          "text": [
            "Generating Rayleigh Validation Dataset: 100%|██████████| 20000/20000 [00:07<00:00, 2579.62it/s]\n"
          ]
        },
        {
          "output_type": "stream",
          "name": "stdout",
          "text": [
            "Validation Set generato.\n",
            "\n",
            "Inizio generazione Test Set per 21 valori SNR...\n",
            "  Generando per SNR: 0 dB...\n"
          ]
        },
        {
          "output_type": "stream",
          "name": "stderr",
          "text": [
            "Generating Rayleigh Test (SNR=0dB) Dataset: 100%|██████████| 500000/500000 [01:20<00:00, 6209.18it/s]\n"
          ]
        },
        {
          "output_type": "stream",
          "name": "stdout",
          "text": [
            "  Generando per SNR: 1 dB...\n"
          ]
        },
        {
          "output_type": "stream",
          "name": "stderr",
          "text": [
            "Generating Rayleigh Test (SNR=1dB) Dataset: 100%|██████████| 500000/500000 [01:17<00:00, 6414.43it/s]\n"
          ]
        },
        {
          "output_type": "stream",
          "name": "stdout",
          "text": [
            "  Generando per SNR: 2 dB...\n"
          ]
        },
        {
          "output_type": "stream",
          "name": "stderr",
          "text": [
            "Generating Rayleigh Test (SNR=2dB) Dataset: 100%|██████████| 500000/500000 [01:17<00:00, 6477.37it/s]\n"
          ]
        },
        {
          "output_type": "stream",
          "name": "stdout",
          "text": [
            "  Generando per SNR: 3 dB...\n"
          ]
        },
        {
          "output_type": "stream",
          "name": "stderr",
          "text": [
            "Generating Rayleigh Test (SNR=3dB) Dataset: 100%|██████████| 500000/500000 [01:17<00:00, 6446.99it/s]\n"
          ]
        },
        {
          "output_type": "stream",
          "name": "stdout",
          "text": [
            "  Generando per SNR: 4 dB...\n"
          ]
        },
        {
          "output_type": "stream",
          "name": "stderr",
          "text": [
            "Generating Rayleigh Test (SNR=4dB) Dataset: 100%|██████████| 500000/500000 [01:16<00:00, 6525.72it/s]\n"
          ]
        },
        {
          "output_type": "stream",
          "name": "stdout",
          "text": [
            "  Generando per SNR: 5 dB...\n"
          ]
        },
        {
          "output_type": "stream",
          "name": "stderr",
          "text": [
            "Generating Rayleigh Test (SNR=5dB) Dataset: 100%|██████████| 500000/500000 [01:15<00:00, 6615.96it/s]\n"
          ]
        },
        {
          "output_type": "stream",
          "name": "stdout",
          "text": [
            "  Generando per SNR: 6 dB...\n"
          ]
        },
        {
          "output_type": "stream",
          "name": "stderr",
          "text": [
            "Generating Rayleigh Test (SNR=6dB) Dataset: 100%|██████████| 500000/500000 [01:17<00:00, 6415.73it/s]\n"
          ]
        },
        {
          "output_type": "stream",
          "name": "stdout",
          "text": [
            "  Generando per SNR: 7 dB...\n"
          ]
        },
        {
          "output_type": "stream",
          "name": "stderr",
          "text": [
            "Generating Rayleigh Test (SNR=7dB) Dataset: 100%|██████████| 500000/500000 [01:15<00:00, 6608.35it/s]\n"
          ]
        },
        {
          "output_type": "stream",
          "name": "stdout",
          "text": [
            "  Generando per SNR: 8 dB...\n"
          ]
        },
        {
          "output_type": "stream",
          "name": "stderr",
          "text": [
            "Generating Rayleigh Test (SNR=8dB) Dataset: 100%|██████████| 500000/500000 [01:15<00:00, 6600.24it/s]\n"
          ]
        },
        {
          "output_type": "stream",
          "name": "stdout",
          "text": [
            "  Generando per SNR: 9 dB...\n"
          ]
        },
        {
          "output_type": "stream",
          "name": "stderr",
          "text": [
            "Generating Rayleigh Test (SNR=9dB) Dataset: 100%|██████████| 500000/500000 [01:15<00:00, 6594.87it/s]\n"
          ]
        },
        {
          "output_type": "stream",
          "name": "stdout",
          "text": [
            "  Generando per SNR: 10 dB...\n"
          ]
        },
        {
          "output_type": "stream",
          "name": "stderr",
          "text": [
            "Generating Rayleigh Test (SNR=10dB) Dataset: 100%|██████████| 500000/500000 [01:15<00:00, 6610.77it/s]\n"
          ]
        },
        {
          "output_type": "stream",
          "name": "stdout",
          "text": [
            "  Generando per SNR: 11 dB...\n"
          ]
        },
        {
          "output_type": "stream",
          "name": "stderr",
          "text": [
            "Generating Rayleigh Test (SNR=11dB) Dataset: 100%|██████████| 500000/500000 [01:15<00:00, 6655.57it/s]\n"
          ]
        },
        {
          "output_type": "stream",
          "name": "stdout",
          "text": [
            "  Generando per SNR: 12 dB...\n"
          ]
        },
        {
          "output_type": "stream",
          "name": "stderr",
          "text": [
            "Generating Rayleigh Test (SNR=12dB) Dataset: 100%|██████████| 500000/500000 [01:15<00:00, 6626.27it/s]\n"
          ]
        },
        {
          "output_type": "stream",
          "name": "stdout",
          "text": [
            "  Generando per SNR: 13 dB...\n"
          ]
        },
        {
          "output_type": "stream",
          "name": "stderr",
          "text": [
            "Generating Rayleigh Test (SNR=13dB) Dataset: 100%|██████████| 500000/500000 [01:15<00:00, 6641.50it/s]\n"
          ]
        },
        {
          "output_type": "stream",
          "name": "stdout",
          "text": [
            "  Generando per SNR: 14 dB...\n"
          ]
        },
        {
          "output_type": "stream",
          "name": "stderr",
          "text": [
            "Generating Rayleigh Test (SNR=14dB) Dataset: 100%|██████████| 500000/500000 [01:17<00:00, 6476.16it/s]\n"
          ]
        },
        {
          "output_type": "stream",
          "name": "stdout",
          "text": [
            "  Generando per SNR: 15 dB...\n"
          ]
        },
        {
          "output_type": "stream",
          "name": "stderr",
          "text": [
            "Generating Rayleigh Test (SNR=15dB) Dataset: 100%|██████████| 500000/500000 [01:18<00:00, 6382.34it/s]\n"
          ]
        },
        {
          "output_type": "stream",
          "name": "stdout",
          "text": [
            "  Generando per SNR: 16 dB...\n"
          ]
        },
        {
          "output_type": "stream",
          "name": "stderr",
          "text": [
            "Generating Rayleigh Test (SNR=16dB) Dataset: 100%|██████████| 500000/500000 [01:16<00:00, 6554.25it/s]\n"
          ]
        },
        {
          "output_type": "stream",
          "name": "stdout",
          "text": [
            "  Generando per SNR: 17 dB...\n"
          ]
        },
        {
          "output_type": "stream",
          "name": "stderr",
          "text": [
            "Generating Rayleigh Test (SNR=17dB) Dataset: 100%|██████████| 500000/500000 [01:17<00:00, 6488.49it/s]\n"
          ]
        },
        {
          "output_type": "stream",
          "name": "stdout",
          "text": [
            "  Generando per SNR: 18 dB...\n"
          ]
        },
        {
          "output_type": "stream",
          "name": "stderr",
          "text": [
            "Generating Rayleigh Test (SNR=18dB) Dataset: 100%|██████████| 500000/500000 [01:16<00:00, 6549.32it/s]\n"
          ]
        },
        {
          "output_type": "stream",
          "name": "stdout",
          "text": [
            "  Generando per SNR: 19 dB...\n"
          ]
        },
        {
          "output_type": "stream",
          "name": "stderr",
          "text": [
            "Generating Rayleigh Test (SNR=19dB) Dataset: 100%|██████████| 500000/500000 [01:16<00:00, 6521.68it/s]\n"
          ]
        },
        {
          "output_type": "stream",
          "name": "stdout",
          "text": [
            "  Generando per SNR: 20 dB...\n"
          ]
        },
        {
          "output_type": "stream",
          "name": "stderr",
          "text": [
            "Generating Rayleigh Test (SNR=20dB) Dataset: 100%|██████████| 500000/500000 [01:15<00:00, 6642.39it/s]\n"
          ]
        },
        {
          "output_type": "stream",
          "name": "stdout",
          "text": [
            "Test Set generato per tutti i punti SNR specificati.\n",
            "Dataset Rayleigh generati.\n",
            "Salvato: test_0_SNR.npz\n",
            "Salvato: test_1_SNR.npz\n",
            "Salvato: test_2_SNR.npz\n",
            "Salvato: test_3_SNR.npz\n",
            "Salvato: test_4_SNR.npz\n",
            "Salvato: test_5_SNR.npz\n",
            "Salvato: test_6_SNR.npz\n",
            "Salvato: test_7_SNR.npz\n",
            "Salvato: test_8_SNR.npz\n",
            "Salvato: test_9_SNR.npz\n",
            "Salvato: test_10_SNR.npz\n",
            "Salvato: test_11_SNR.npz\n",
            "Salvato: test_12_SNR.npz\n",
            "Salvato: test_13_SNR.npz\n",
            "Salvato: test_14_SNR.npz\n",
            "Salvato: test_15_SNR.npz\n",
            "Salvato: test_16_SNR.npz\n",
            "Salvato: test_17_SNR.npz\n",
            "Salvato: test_18_SNR.npz\n",
            "Salvato: test_19_SNR.npz\n",
            "Salvato: test_20_SNR.npz\n",
            "--- Generazione Dataset per Canale: Rayleigh ---\n",
            "\n",
            "Inizio generazione Training Set...\n"
          ]
        },
        {
          "output_type": "stream",
          "name": "stderr",
          "text": [
            "Generating Rayleigh Train Dataset: 100%|██████████| 60000/60000 [00:16<00:00, 3644.28it/s]\n"
          ]
        },
        {
          "output_type": "stream",
          "name": "stdout",
          "text": [
            "Training Set generato.\n",
            "\n",
            "Inizio generazione Validation Set...\n"
          ]
        },
        {
          "output_type": "stream",
          "name": "stderr",
          "text": [
            "Generating Rayleigh Validation Dataset: 100%|██████████| 20000/20000 [00:04<00:00, 4766.87it/s]\n"
          ]
        },
        {
          "output_type": "stream",
          "name": "stdout",
          "text": [
            "Validation Set generato.\n",
            "Tutti i file sono stati salvati correttamente.\n"
          ]
        }
      ]
    }
  ]
}